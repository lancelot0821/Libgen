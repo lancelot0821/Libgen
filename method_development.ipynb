{
 "cells": [
  {
   "cell_type": "code",
   "execution_count": 1,
   "metadata": {
    "collapsed": true,
    "pycharm": {
     "name": "#%%\n"
    }
   },
   "outputs": [
    {
     "name": "stdout",
     "output_type": "stream",
     "text": [
      "Compile the cython code is highly recommended!\n",
      "i am ms2 spectra plotter, and I have been sideloaded successfully\n",
      "I have 2 functions, head to tail plot and ms2 plot\n",
      "I am precursor matching!\n",
      "I am mass recalibration, usage: mass_recalibrate(data)\n",
      "the data column must have columns of mix_label, Average_mz, PRECURSORMZ, msms\n",
      "the msms should in a string format, e.g. mass1\tintensity1\n",
      "mass2\tintensity2\n",
      "....\n",
      "the recalibrated column would be msms_recalibrated\n"
     ]
    }
   ],
   "source": [
    "import subprocess\n",
    "import os\n",
    "import shutil\n",
    "import warnings\n",
    "\n",
    "warnings.filterwarnings(\"ignore\")\n",
    "from ast import literal_eval\n",
    "import itertools\n",
    "import matplotlib.pyplot as plt\n",
    "import toolsets.spectra_operations as so\n",
    "import seaborn as sns\n",
    "from tqdm import tqdm\n",
    "\n",
    "import time\n",
    "import numpy as np\n",
    "import sys\n",
    "sys.path.append('yuanyue_code')\n",
    "\n",
    "import re\n",
    "import pandas as pd\n",
    "\n",
    "import spectral_entropy as se\n",
    "\n",
    "import toolsets.denoising_related_functions as de\n",
    "import pandas as pd\n",
    "import toolsets.ms2_spectra_plotter as ms2plotter\n",
    "%load_ext autoreload\n",
    "%autoreload 2\n",
    "import toolsets.mass_to_formula as mtf\n",
    "import toolsets.precursor_matching as pm\n",
    "import toolsets.mass_recalibration as mr\n",
    "# import requests\n",
    "# import numpy as np"
   ]
  },
  {
   "cell_type": "code",
   "execution_count": 2,
   "outputs": [],
   "source": [
    "data=pd.read_csv(\"data/EAD/EAD_lib_denoised.csv\")"
   ],
   "metadata": {
    "collapsed": false,
    "pycharm": {
     "name": "#%%\n"
    }
   }
  },
  {
   "cell_type": "code",
   "execution_count": 5,
   "outputs": [
    {
     "data": {
      "text/plain": "   Unnamed: 0                 NAME                                  key  \\\n0           0  2-METHOXYRESORCINOL    QFYYAIBEHOEZKC-UHFFFAOYSA-N[M+H]+   \n1           1            Arecoline    HJJPJSXJAXAIPN-UHFFFAOYSA-N[M+H]+   \n2           2            Arecoline    HJJPJSXJAXAIPN-UHFFFAOYSA-N[M+H]+   \n3           3  2-METHOXYRESORCINOL   QFYYAIBEHOEZKC-UHFFFAOYSA-N[M+Na]+   \n4           4            Arecoline  HJJPJSXJAXAIPN-UHFFFAOYSA-N[M+NH4]+   \n\n   PRECURSORMZ                     InChIKey   Formula  ExactMass    Adduct  \\\n0   141.054625  QFYYAIBEHOEZKC-UHFFFAOYSA-N    C7H8O3  140.04734    [M+H]+   \n1   156.101910  HJJPJSXJAXAIPN-UHFFFAOYSA-N  C8H13NO2  155.09463    [M+H]+   \n2   156.101910  HJJPJSXJAXAIPN-UHFFFAOYSA-N  C8H13NO2  155.09463    [M+H]+   \n3   163.036565  QFYYAIBEHOEZKC-UHFFFAOYSA-N    C7H8O3  140.04734   [M+Na]+   \n4   173.128450  HJJPJSXJAXAIPN-UHFFFAOYSA-N  C8H13NO2  155.09463  [M+NH4]+   \n\n  Spectrum_type  RETENTIONTIME  Average_mz                        Comment  \\\n0           MS2          0.305   141.05440    1083EAD_PFP intensity 17095   \n1           MS2          2.582   156.10075    1695EAD_PFP intensity 19353   \n2           MS2          0.136   156.10204  1699EAD_PFP intensity 3035366   \n3           MS2          2.276   163.03870  1962EAD_PFP intensity 4983558   \n4           MS2          2.237   173.13094    2537EAD_PFP intensity 43595   \n\n   Alignment_ID  Num_Peaks                                               msms  \\\n0          1083         98  50.0162\\t736\\n51.02511\\t1515\\n52.03068\\t706\\n5...   \n1          1695        125  50.01487\\t66\\n51.02378\\t134\\n51.93963\\t8\\n52.0...   \n2          1699         18  113.05831\\t45\\n115.05235\\t51\\n119.07349\\t11\\n1...   \n3          1962         27  105.03758\\t22\\n115.04616\\t35\\n115.05352\\t167\\n...   \n4          2537         25  113.98629\\t22\\n115.05454\\t858\\n116.06022\\t174\\...   \n\n   count  intensity          mix_label  \\\n0      1      17095  PFPpos_P N 32_EAD   \n1      2      19353  PFPpos_P N 32_EAD   \n2      2    3035366  PFPpos_P N 32_EAD   \n3      1    4983558  PFPpos_P N 32_EAD   \n4      2      43595  PFPpos_P N 32_EAD   \n\n                                       msms_denoised  Num_Peaks_denoised  \n0  50.0162\\t736.0\\n51.02511\\t1515.0\\n52.03068\\t70...                  66  \n1  50.01487\\t66.0\\n51.02378\\t134.0\\n52.02862\\t11....                  93  \n2  113.05831\\t45.0\\n115.05235\\t51.0\\n119.07349\\t1...                  10  \n3  105.03758\\t22.0\\n115.04616\\t35.0\\n115.05352\\t1...                  14  \n4  115.05454\\t858.0\\n116.06022\\t174.0\\n117.06709\\...                  15  ",
      "text/html": "<div>\n<style scoped>\n    .dataframe tbody tr th:only-of-type {\n        vertical-align: middle;\n    }\n\n    .dataframe tbody tr th {\n        vertical-align: top;\n    }\n\n    .dataframe thead th {\n        text-align: right;\n    }\n</style>\n<table border=\"1\" class=\"dataframe\">\n  <thead>\n    <tr style=\"text-align: right;\">\n      <th></th>\n      <th>Unnamed: 0</th>\n      <th>NAME</th>\n      <th>key</th>\n      <th>PRECURSORMZ</th>\n      <th>InChIKey</th>\n      <th>Formula</th>\n      <th>ExactMass</th>\n      <th>Adduct</th>\n      <th>Spectrum_type</th>\n      <th>RETENTIONTIME</th>\n      <th>Average_mz</th>\n      <th>Comment</th>\n      <th>Alignment_ID</th>\n      <th>Num_Peaks</th>\n      <th>msms</th>\n      <th>count</th>\n      <th>intensity</th>\n      <th>mix_label</th>\n      <th>msms_denoised</th>\n      <th>Num_Peaks_denoised</th>\n    </tr>\n  </thead>\n  <tbody>\n    <tr>\n      <th>0</th>\n      <td>0</td>\n      <td>2-METHOXYRESORCINOL</td>\n      <td>QFYYAIBEHOEZKC-UHFFFAOYSA-N[M+H]+</td>\n      <td>141.054625</td>\n      <td>QFYYAIBEHOEZKC-UHFFFAOYSA-N</td>\n      <td>C7H8O3</td>\n      <td>140.04734</td>\n      <td>[M+H]+</td>\n      <td>MS2</td>\n      <td>0.305</td>\n      <td>141.05440</td>\n      <td>1083EAD_PFP intensity 17095</td>\n      <td>1083</td>\n      <td>98</td>\n      <td>50.0162\\t736\\n51.02511\\t1515\\n52.03068\\t706\\n5...</td>\n      <td>1</td>\n      <td>17095</td>\n      <td>PFPpos_P N 32_EAD</td>\n      <td>50.0162\\t736.0\\n51.02511\\t1515.0\\n52.03068\\t70...</td>\n      <td>66</td>\n    </tr>\n    <tr>\n      <th>1</th>\n      <td>1</td>\n      <td>Arecoline</td>\n      <td>HJJPJSXJAXAIPN-UHFFFAOYSA-N[M+H]+</td>\n      <td>156.101910</td>\n      <td>HJJPJSXJAXAIPN-UHFFFAOYSA-N</td>\n      <td>C8H13NO2</td>\n      <td>155.09463</td>\n      <td>[M+H]+</td>\n      <td>MS2</td>\n      <td>2.582</td>\n      <td>156.10075</td>\n      <td>1695EAD_PFP intensity 19353</td>\n      <td>1695</td>\n      <td>125</td>\n      <td>50.01487\\t66\\n51.02378\\t134\\n51.93963\\t8\\n52.0...</td>\n      <td>2</td>\n      <td>19353</td>\n      <td>PFPpos_P N 32_EAD</td>\n      <td>50.01487\\t66.0\\n51.02378\\t134.0\\n52.02862\\t11....</td>\n      <td>93</td>\n    </tr>\n    <tr>\n      <th>2</th>\n      <td>2</td>\n      <td>Arecoline</td>\n      <td>HJJPJSXJAXAIPN-UHFFFAOYSA-N[M+H]+</td>\n      <td>156.101910</td>\n      <td>HJJPJSXJAXAIPN-UHFFFAOYSA-N</td>\n      <td>C8H13NO2</td>\n      <td>155.09463</td>\n      <td>[M+H]+</td>\n      <td>MS2</td>\n      <td>0.136</td>\n      <td>156.10204</td>\n      <td>1699EAD_PFP intensity 3035366</td>\n      <td>1699</td>\n      <td>18</td>\n      <td>113.05831\\t45\\n115.05235\\t51\\n119.07349\\t11\\n1...</td>\n      <td>2</td>\n      <td>3035366</td>\n      <td>PFPpos_P N 32_EAD</td>\n      <td>113.05831\\t45.0\\n115.05235\\t51.0\\n119.07349\\t1...</td>\n      <td>10</td>\n    </tr>\n    <tr>\n      <th>3</th>\n      <td>3</td>\n      <td>2-METHOXYRESORCINOL</td>\n      <td>QFYYAIBEHOEZKC-UHFFFAOYSA-N[M+Na]+</td>\n      <td>163.036565</td>\n      <td>QFYYAIBEHOEZKC-UHFFFAOYSA-N</td>\n      <td>C7H8O3</td>\n      <td>140.04734</td>\n      <td>[M+Na]+</td>\n      <td>MS2</td>\n      <td>2.276</td>\n      <td>163.03870</td>\n      <td>1962EAD_PFP intensity 4983558</td>\n      <td>1962</td>\n      <td>27</td>\n      <td>105.03758\\t22\\n115.04616\\t35\\n115.05352\\t167\\n...</td>\n      <td>1</td>\n      <td>4983558</td>\n      <td>PFPpos_P N 32_EAD</td>\n      <td>105.03758\\t22.0\\n115.04616\\t35.0\\n115.05352\\t1...</td>\n      <td>14</td>\n    </tr>\n    <tr>\n      <th>4</th>\n      <td>4</td>\n      <td>Arecoline</td>\n      <td>HJJPJSXJAXAIPN-UHFFFAOYSA-N[M+NH4]+</td>\n      <td>173.128450</td>\n      <td>HJJPJSXJAXAIPN-UHFFFAOYSA-N</td>\n      <td>C8H13NO2</td>\n      <td>155.09463</td>\n      <td>[M+NH4]+</td>\n      <td>MS2</td>\n      <td>2.237</td>\n      <td>173.13094</td>\n      <td>2537EAD_PFP intensity 43595</td>\n      <td>2537</td>\n      <td>25</td>\n      <td>113.98629\\t22\\n115.05454\\t858\\n116.06022\\t174\\...</td>\n      <td>2</td>\n      <td>43595</td>\n      <td>PFPpos_P N 32_EAD</td>\n      <td>115.05454\\t858.0\\n116.06022\\t174.0\\n117.06709\\...</td>\n      <td>15</td>\n    </tr>\n  </tbody>\n</table>\n</div>"
     },
     "execution_count": 5,
     "metadata": {},
     "output_type": "execute_result"
    }
   ],
   "source": [
    "data.head()"
   ],
   "metadata": {
    "collapsed": false,
    "pycharm": {
     "name": "#%%\n"
    }
   }
  },
  {
   "cell_type": "code",
   "execution_count": null,
   "outputs": [],
   "source": [
    "instance = data.iloc[0]"
   ],
   "metadata": {
    "collapsed": false,
    "pycharm": {
     "name": "#%%\n"
    }
   }
  },
  {
   "cell_type": "code",
   "execution_count": null,
   "outputs": [],
   "source": [
    "def evaluate_spectra(instance, typeofmsms1 = 'msms', typeofmsms2='msms_denoised'):\n",
    "    mass_raw, intensity_raw = break_spectra(instance[typeofmsms1])\n",
    "    mass_dr, intensity_dr = break_spectra(instance[typeofmsms2])\n",
    "    mass_raw_fl = [float(x) for x in mass_raw]\n",
    "    mass_dr_fl = [float(x) for x in mass_dr]\n",
    "    diff_index = [i for i, item in enumerate(mass_raw_fl) if item not in set(mass_dr_fl)]\n",
    "    mass_diff = list(itemgetter(*diff_index)(mass_raw))\n",
    "    intensity_diff = list(itemgetter(*diff_index)(intensity_raw))\n",
    "    rel_intensity_diff = [number / max([float(x) for x in intensity_raw])*100 for number in [float(y) for y in intensity_diff]]\n",
    "    rel_intensity_kept = [number / max([float(x) for x in intensity_raw])*100 for number in [float(y) for y in intensity_dr]]\n",
    "    return(mass_diff,rel_intensity_diff,rel_intensity_kept)"
   ],
   "metadata": {
    "collapsed": false,
    "pycharm": {
     "name": "#%%\n"
    }
   }
  },
  {
   "cell_type": "code",
   "execution_count": null,
   "outputs": [],
   "source": [
    "mass_raw, intensity_raw = break_spectra(instance[typeofmsms1])\n",
    "    mass_dr, intensity_dr = break_spectra(instance[typeofmsms2])\n",
    "    mass_raw_fl = [float(x) for x in mass_raw]\n",
    "    mass_dr_fl = [float(x) for x in mass_dr]\n",
    "    diff_index = [i for i, item in enumerate(mass_raw_fl) if item not in set(mass_dr_fl)]\n",
    "    mass_diff = list(itemgetter(*diff_index)(mass_raw))\n",
    "    intensity_diff = list(itemgetter(*diff_index)(intensity_raw))\n",
    "    rel_intensity_diff = [number / max([float(x) for x in intensity_raw])*100 for number in [float(y) for y in intensity_diff]]\n",
    "    rel_intensity_kept = [number / max([float(x) for x in intensity_raw])*100 for number in [float(y) for y in intensity_dr]]\n",
    "    return(mass_diff,rel_intensity_diff,rel_intensity_kept)"
   ],
   "metadata": {
    "collapsed": false,
    "pycharm": {
     "name": "#%%\n"
    }
   }
  }
 ],
 "metadata": {
  "kernelspec": {
   "display_name": "Python 3",
   "language": "python",
   "name": "python3"
  },
  "language_info": {
   "codemirror_mode": {
    "name": "ipython",
    "version": 2
   },
   "file_extension": ".py",
   "mimetype": "text/x-python",
   "name": "python",
   "nbconvert_exporter": "python",
   "pygments_lexer": "ipython2",
   "version": "2.7.6"
  }
 },
 "nbformat": 4,
 "nbformat_minor": 0
}