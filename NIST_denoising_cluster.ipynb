{
 "cells": [
  {
   "cell_type": "code",
   "execution_count": 2,
   "metadata": {
    "collapsed": true,
    "pycharm": {
     "name": "#%%\n"
    }
   },
   "outputs": [
    {
     "name": "stdout",
     "output_type": "stream",
     "text": [
      "Compile the cython code is highly recommended!\n"
     ]
    }
   ],
   "source": [
    "import os\n",
    "import sys\n",
    "\n",
    "# from multiprocess import Pool\n",
    "import pandas as pd\n",
    "# from multiprocessing import Pool\n",
    "# from ast import literal_eval\n",
    "import itertools\n",
    "import time\n",
    "# import spectral_entropy as se\n",
    "import numpy as np\n",
    "import toolsets.spectra_operations as so\n",
    "from molmass import Formula\n",
    "# import toolsets.tree_denoising as td\n",
    "# import toolsets.msms_search as ms\n",
    "# import toolsets.ms2_spectra_plotter as plotter\n",
    "# import seaborn as sns\n",
    "# import matplotlib.pyplot as plt\n",
    "# import toolsets.adduct_calculator as adduct_calc\n",
    "import yuanyue_code.msp_file as msp_file\n",
    "import toolsets.mass_to_formula as mtf\n",
    "import toolsets.denoising_related_functions as de\n",
    "# %load_ext autoreload\n",
    "# %autoreload 2\n",
    "# from tqdm import tqdm\n",
    "# fi = open(\"hr_msms_nist.MSP\")\n",
    "# fi = open(\"~/Documents/GitHub/data/NIST/hr_msms_nist.MSP\")\n",
    "fi = open(\"yuanyue_code/NIST_demo.msp\")\n",
    "specs = []\n",
    "for spec in msp_file.read_one_spectrum(fi, include_raw=-1):\n",
    "    try:\n",
    "        precursormz = float(spec['PrecursorMZ'])\n",
    "    except ValueError:\n",
    "        continue\n",
    "    mol = mtf.MolecularFormula()\n",
    "    try:\n",
    "        mol.from_string(spec['Formula'])\n",
    "    except:\n",
    "        continue\n",
    "    specs.append(spec)\n",
    "    # if precursormz<=1657.7126:\n",
    "    #\n",
    "\n",
    "fi.close()\n",
    "\n",
    "# import toolsets.test as test\n",
    "import multiprocessing as mp\n",
    "from multiprocessing import Pool\n",
    "# Step 1: Init multiprocessing.Pool()\n",
    "start = time.time()\n",
    "pool = mp.Pool(mp.cpu_count())\n",
    "# fi = open(\"/Users/fanzhoukong/Documents/GitHub/data/NIST/hr_msms_nist.MSP\")\n",
    "# fi = open(\"yuanyue_code/NIST_demo.msp\")\n",
    "result = []\n",
    "\n",
    "for _ in (pool.imap_unordered(de.find_losses_nist, specs)):\n",
    "    result.extend(_)\n",
    "    # result = de.get_unique_list(result)\n",
    "\n",
    "# results = pool.map_async(de.find_losses_nist, [spec for spec in (msp_file.read_one_spectrum(fi, include_raw=1))])\n",
    "fi.close()\n",
    "# pool.close()\n",
    "pool.close()\n",
    "pool.join()\n",
    "end = time.time()\n",
    "print('-fini-')\n",
    "print(end-start)\n",
    "# print(results[:10])\n",
    "result = de.get_unique_list(result)\n",
    "result = pd.Series(result)\n",
    "result.to_csv(\"result.csv\", index = False)"
   ]
  }
 ],
 "metadata": {
  "kernelspec": {
   "name": "tensorflow",
   "language": "python",
   "display_name": "Python 3.9 (tensorflow)"
  },
  "language_info": {
   "codemirror_mode": {
    "name": "ipython",
    "version": 2
   },
   "file_extension": ".py",
   "mimetype": "text/x-python",
   "name": "python",
   "nbconvert_exporter": "python",
   "pygments_lexer": "ipython2",
   "version": "2.7.6"
  }
 },
 "nbformat": 4,
 "nbformat_minor": 0
}