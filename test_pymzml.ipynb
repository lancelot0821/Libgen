{
 "cells": [
  {
   "cell_type": "code",
   "execution_count": 1,
   "metadata": {
    "collapsed": true,
    "pycharm": {
     "name": "#%%\n"
    }
   },
   "outputs": [],
   "source": [
    "import pandas as pd\n",
    "import pymzml\n",
    "%load_ext autoreload\n",
    "%autoreload 2\n",
    "import toolsets.mzml_file as mzml\n",
    "from toolsets.run import Run"
   ]
  },
  {
   "cell_type": "code",
   "execution_count": 4,
   "outputs": [],
   "source": [],
   "metadata": {
    "collapsed": false,
    "pycharm": {
     "name": "#%%\n"
    }
   }
  },
  {
   "cell_type": "code",
   "execution_count": 2,
   "outputs": [],
   "source": [
    "run = Run()"
   ],
   "metadata": {
    "collapsed": false,
    "pycharm": {
     "name": "#%%\n"
    }
   }
  },
  {
   "cell_type": "code",
   "execution_count": 3,
   "outputs": [],
   "source": [
    "for spec in mzml.read_one_spectrum(\"data/A_M10_posPFP_01.mzml\"):\n",
    "    run.add_scan(spec)"
   ],
   "metadata": {
    "collapsed": false,
    "pycharm": {
     "name": "#%%\n"
    }
   }
  },
  {
   "cell_type": "code",
   "execution_count": 11,
   "outputs": [
    {
     "data": {
      "text/plain": "count    4165.000000\nmean      300.526620\nstd       175.931396\nmin         0.386125\n25%       148.227558\n50%       295.766628\n75%       456.456492\nmax       600.027240\ndtype: float64"
     },
     "execution_count": 11,
     "metadata": {},
     "output_type": "execute_result"
    }
   ],
   "source": [
    "pd.Series(run['rt_list_ms1']).describe()"
   ],
   "metadata": {
    "collapsed": false,
    "pycharm": {
     "name": "#%%\n"
    }
   }
  },
  {
   "cell_type": "code",
   "execution_count": 13,
   "outputs": [],
   "source": [
    "for i in range(0, len(run['rt_list_ms1'])):\n",
    "    if(run['scan_list_ms1'][i]['_scan_number']==495):\n",
    "        print(run['scan_list_ms1'][i])"
   ],
   "metadata": {
    "collapsed": false,
    "pycharm": {
     "name": "#%%\n"
    }
   }
  },
  {
   "cell_type": "code",
   "execution_count": 18,
   "outputs": [
    {
     "data": {
      "text/plain": "{'_ms_level': 2,\n '_scan_number': 495,\n 'peaks': array([[6.7533394e+01, 2.3582690e+03],\n        [6.7685555e+01, 2.4978777e+03],\n        [7.6532547e+01, 2.6765999e+03],\n        [7.6626572e+01, 3.3372017e+03],\n        [8.4119804e+01, 2.8017026e+03],\n        [8.8133667e+01, 2.4460503e+03],\n        [9.5880783e+01, 2.3505833e+03],\n        [1.0808429e+02, 2.3975669e+03],\n        [1.2906955e+02, 2.3887264e+04],\n        [1.3104930e+02, 1.8921955e+04],\n        [1.3704868e+02, 4.9172041e+03],\n        [1.3705966e+02, 1.0176715e+05],\n        [1.5305495e+02, 5.5708809e+03],\n        [1.5706436e+02, 3.4958309e+04],\n        [1.6005267e+02, 2.8773406e+03],\n        [1.6307507e+02, 1.5448555e+04],\n        [1.7406741e+02, 6.4932905e+03],\n        [1.7507437e+02, 2.7697701e+04],\n        [1.8707556e+02, 3.0563973e+04],\n        [1.8909067e+02, 2.5800777e+04],\n        [2.6310580e+02, 3.5074668e+03],\n        [2.7910037e+02, 4.0416206e+03],\n        [2.9110034e+02, 6.2646567e+03],\n        [4.6257059e+02, 2.4868721e+03]], dtype=float32),\n 'rt': 67.52959800000001,\n 'precursor_mz': 556.238286495927,\n 'precursor_charge': 1}"
     },
     "execution_count": 18,
     "metadata": {},
     "output_type": "execute_result"
    }
   ],
   "source": [
    "run['scan_list_ms2'][0]"
   ],
   "metadata": {
    "collapsed": false,
    "pycharm": {
     "name": "#%%\n"
    }
   }
  },
  {
   "cell_type": "code",
   "execution_count": 20,
   "outputs": [
    {
     "data": {
      "text/plain": "0.386125404"
     },
     "execution_count": 20,
     "metadata": {},
     "output_type": "execute_result"
    }
   ],
   "source": [
    "run['rt_list_ms1'][0]"
   ],
   "metadata": {
    "collapsed": false,
    "pycharm": {
     "name": "#%%\n"
    }
   }
  }
 ],
 "metadata": {
  "kernelspec": {
   "name": "tensorflow",
   "language": "python",
   "display_name": "Python 3.9 (tensorflow)"
  },
  "language_info": {
   "codemirror_mode": {
    "name": "ipython",
    "version": 2
   },
   "file_extension": ".py",
   "mimetype": "text/x-python",
   "name": "python",
   "nbconvert_exporter": "python",
   "pygments_lexer": "ipython2",
   "version": "2.7.6"
  }
 },
 "nbformat": 4,
 "nbformat_minor": 0
}