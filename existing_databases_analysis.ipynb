{
 "cells": [
  {
   "cell_type": "code",
   "execution_count": 1,
   "outputs": [
    {
     "name": "stdout",
     "output_type": "stream",
     "text": [
      "Compile the cython code is highly recommended!\n",
      "i am msms_search!!!!!\n",
      "i am ms2 spectra plotter, and I have been sideloaded successfully\n",
      "I have 2 functions, head to tail plot and ms2 plot\n"
     ]
    }
   ],
   "source": [
    "import os\n",
    "import sys\n",
    "\n",
    "# from multiprocess import Pool\n",
    "import debugpy.launcher.debuggee\n",
    "import pandas as pd\n",
    "# from multiprocessing import Pool\n",
    "from ast import literal_eval\n",
    "import os\n",
    "import itertools\n",
    "import time\n",
    "import spectral_entropy as se\n",
    "%load_ext autoreload\n",
    "%autoreload 2\n",
    "import toolsets.mass_to_formula as mtf\n",
    "import toolsets.mgf_tools as tools\n",
    "import numpy as np\n",
    "import toolsets.spectra_operations as so\n",
    "import numpy as np\n",
    "import yuanyue_code.msp_file as msp\n",
    "# import scipy.stats\n",
    "# import toolsets.tree_denoising as td\n",
    "import toolsets.msms_search as ms\n",
    "import toolsets.denoising_related_functions as de\n",
    "from molmass import Formula\n",
    "import toolsets.ms2_spectra_plotter as plotter\n",
    "# import setup\n",
    "# import seaborn as sns\n",
    "# import matplotlib.pyplot as plt\n",
    "# import toolsets.adduct_calculator as adduct_calc\n",
    "# setup.set_workspace(\"data/NIST_MONA\")\n",
    "import tqdm"
   ],
   "metadata": {
    "collapsed": false,
    "pycharm": {
     "name": "#%%\n"
    }
   }
  },
  {
   "cell_type": "code",
   "execution_count": null,
   "outputs": [],
   "source": [
    "# # i am reading in NIST positive dataset!\n",
    "# data_nist_pos = pd.read_csv(\"/Users/fanzhoukong/Documents/GitHub/data/NIST/hr_msms_nist.csv\",\n",
    "#                             converters={\"msms\": literal_eval})\n",
    "# # i am reading in NIST positive dataset!\n",
    "# # data_nist_pos = pd.read_csv(\"/Users/fanzhoukong/Documents/Fiehnlab/library_generator/data/data_NIST_Pos_count.csv\",\n",
    "# #                             converters={\"msms\": literal_eval})\n",
    "# # i am reading in MONA pos dataset!!!!\n",
    "# data_mona_pos = pd.read_csv(\"/Users/fanzhoukong/Documents/GitHub/data/NIST/Mona_vf_npl.csv\",\n",
    "#                             converters={\"msms\": literal_eval})\n",
    "# # i am reading in MONA negative dataset!!!!\n",
    "# # data_nist_pos = pd.read_csv(\"/Users/fanzhoukong/Documents/Fiehnlab/library_generator/data/data_MONA_Neg.csv\",\n",
    "# #                             converters={\"msms\": literal_eval})\n",
    "# # # i am reading in replib!\n",
    "# # data_nist_pos = pd.read_csv(\"/Users/fanzhoukong/Documents/Fiehnlab/library_generator/data/replib.csv\",\n",
    "# #                             converters={\"msms\": literal_eval})\n",
    "#\n",
    "#\n",
    "# data_nist_pos = data_nist_pos.dropna(subset=['Collision_energy','msms', 'InChIKey'])\n",
    "# data_mona_pos = data_mona_pos.dropna(subset=['Collision_energy','msms', 'InChIKey'])\n",
    "# data_nist_pos = data_nist_pos.rename({'Key': 'key'}, axis=1)  # new method\n",
    "# data_nist_pos['key_all']=data_nist_pos['Key']+data_nist_pos['Collision_energy']\n",
    "# data_mona_pos['key_all']=data_mona_pos['key']+data_mona_pos['Collision_energy']\n",
    "# data_nist_common = data_nist_pos[data_nist_pos['key'].isin(data_mona_pos['key'])]\n",
    "# data_mona_common = data_mona_pos[data_mona_pos['key'].isin(data_nist_pos['key'])]\n",
    "# len(data_mona_common['key'].unique())\n",
    "# len(data_nist_common['key'].unique())\n",
    "# # data = data_nist_common\n",
    "# data = data_mona_common\n",
    "# data_mona_common['row_num'] = np.arange(len(data_mona_common))\n",
    "# data_nist_common['row_num'] = np.arange(len(data_nist_common))\n",
    "# data_mona_common.head()\n",
    "# data_mona_common.to_csv(\"MONA_common_with_nist.csv\", index = False)\n",
    "# data_nist_common.to_csv(\"NIST_common_with_mona.csv\", index = False)\n",
    "# data_mona_common = pd.read_csv(\"MONA_common_with_nist.csv\")\n",
    "# # data_nist_common = pd.read_csv(\"NIST_common_with_mona_pos.csv\")\n",
    "# msms_temp =[]\n",
    "# for index, row in data_mona_common.iterrows():\n",
    "#     msms_temp.append(so.convert_nist_to_string(row['msms']))\n",
    "# data_mona_common['msms']=msms_temp\n",
    "# data_mona_common.to_csv(\"MONA_common_with_nist.csv\", index = False)"
   ],
   "metadata": {
    "collapsed": false,
    "pycharm": {
     "name": "#%%\n"
    }
   }
  },
  {
   "cell_type": "markdown",
   "source": [
    "# development for dynamic programming for mtf_to_mass"
   ],
   "metadata": {
    "collapsed": false,
    "pycharm": {
     "name": "#%% md\n"
    }
   }
  },
  {
   "cell_type": "markdown",
   "source": [
    "# the fragmentation tree calc has been moved to cluster instead"
   ],
   "metadata": {
    "collapsed": false,
    "pycharm": {
     "name": "#%% md\n"
    }
   }
  },
  {
   "cell_type": "markdown",
   "source": [
    "# start of testing denoising efficiency"
   ],
   "metadata": {
    "collapsed": false,
    "pycharm": {
     "name": "#%% md\n"
    }
   }
  },
  {
   "cell_type": "code",
   "execution_count": 2,
   "outputs": [],
   "source": [
    "# data = pd.read_csv(\"data/NIST_MONA/data_mona_common_new.csv\")\n",
    "library = pd.read_csv(\"data/NIST_MONA/NIST_common_with_mona.csv\")\n",
    "# data['PRECURSORMZ'] = data['PRECURSORMZ'].astype(float)\n",
    "# data['Num_Peaks']=data['Num_Peaks'].astype(int)\n",
    "# data = data.dropna(subset=['msms', 'InChIKey','PRECURSORMZ','Formula','msms_dfrag'])\n",
    "# data =data.drop(['msms_dfrag', 'explained_intensity','source', 'Instrument_type','count','key_all'], axis=1)"
   ],
   "metadata": {
    "collapsed": false,
    "pycharm": {
     "name": "#%%\n"
    }
   }
  },
  {
   "cell_type": "code",
   "execution_count": 3,
   "outputs": [
    {
     "data": {
      "text/plain": "21437"
     },
     "execution_count": 3,
     "metadata": {},
     "output_type": "execute_result"
    }
   ],
   "source": [
    "len(library)"
   ],
   "metadata": {
    "collapsed": false,
    "pycharm": {
     "name": "#%%\n"
    }
   }
  },
  {
   "cell_type": "code",
   "execution_count": 5,
   "outputs": [
    {
     "data": {
      "text/plain": "[M+H]+      9443\n[M-H]-      8507\n[M+Na]+     2410\n[M+NH4]+    1032\n[M+Cl]-       45\nName: Adduct, dtype: int64"
     },
     "execution_count": 5,
     "metadata": {},
     "output_type": "execute_result"
    }
   ],
   "source": [
    "library['Adduct'].value_counts()"
   ],
   "metadata": {
    "collapsed": false,
    "pycharm": {
     "name": "#%%\n"
    }
   }
  },
  {
   "cell_type": "code",
   "execution_count": 6,
   "outputs": [],
   "source": [
    "library_pos = library[library['Adduct'].isin(['[M+H]+', '[M+Na]+', '[M+NH4]+']) ]"
   ],
   "metadata": {
    "collapsed": false,
    "pycharm": {
     "name": "#%%\n"
    }
   }
  },
  {
   "cell_type": "code",
   "execution_count": 10,
   "outputs": [
    {
     "data": {
      "text/plain": "Index(['NAME', 'key', 'PRECURSORMZ', 'InChIKey', 'Formula', 'ExactMass',\n       'Adduct', 'Num_Peaks', 'msms', 'Collision_energy', 'Comment',\n       'Instrument_type', 'source', 'key_all', 'row_num'],\n      dtype='object')"
     },
     "execution_count": 10,
     "metadata": {},
     "output_type": "execute_result"
    }
   ],
   "source": [
    "library_pos.columns"
   ],
   "metadata": {
    "collapsed": false,
    "pycharm": {
     "name": "#%%\n"
    }
   }
  },
  {
   "cell_type": "code",
   "execution_count": 13,
   "outputs": [],
   "source": [
    "library_pos=library_pos.drop(['key','key_all','row_num'], axis=1)"
   ],
   "metadata": {
    "collapsed": false,
    "pycharm": {
     "name": "#%%\n"
    }
   }
  },
  {
   "cell_type": "code",
   "execution_count": 4,
   "outputs": [],
   "source": [
    "# debug usage\n",
    "# instance = data.iloc[0]\n",
    "# typeofmsms = 'msms'\n",
    "# mass, intensity = de.prep_msms(instance['msms'], ifnist=False)\n",
    "# mass, intensity = de.truncate_msms(mass, intensity, pep_mass)\n",
    "#\n",
    "# so.convert_string_to_nist(instance['msms'])\n",
    "# de.denoise_blacklist(instance)\n",
    "# so.convert_string_to_nist(match['msms'])"
   ],
   "metadata": {
    "collapsed": false,
    "pycharm": {
     "name": "#%%\n"
    }
   }
  },
  {
   "cell_type": "code",
   "execution_count": 26,
   "outputs": [
    {
     "data": {
      "text/plain": "             NAME  PRECURSORMZ                     InChIKey   Formula  \\\n0  Hydrocortisone     363.2166  JYGXADMDTFJGBT-VWUMJDOOSA-N  C21H30O5   \n1  Hydrocortisone     363.2166  JYGXADMDTFJGBT-VWUMJDOOSA-N  C21H30O5   \n2  Hydrocortisone     363.2166  JYGXADMDTFJGBT-VWUMJDOOSA-N  C21H30O5   \n3  Hydrocortisone     363.2166  JYGXADMDTFJGBT-VWUMJDOOSA-N  C21H30O5   \n4  Hydrocortisone     363.2166  JYGXADMDTFJGBT-VWUMJDOOSA-N  C21H30O5   \n\n    ExactMass  Adduct  Num_Peaks  \\\n0  362.209324  [M+H]+          6   \n1  362.209324  [M+H]+          6   \n2  362.209324  [M+H]+          7   \n3  362.209324  [M+H]+          9   \n4  362.209324  [M+H]+         17   \n\n                                                msms Collision_energy  \\\n0  121.06\\t16.58\\n309.18\\t16.18\\n327.19\\t25.27\\n3...                3   \n1  121.06\\t23.08\\n309.18\\t16.18\\n327.19\\t26.97\\n3...                4   \n2  121.06\\t29.27\\n267.17\\t10.89\\n309.18\\t20.08\\n3...                5   \n3  121.06\\t48.35\\n267.17\\t19.28\\n269.19\\t11.49\\n2...                7   \n4  97.06\\t22.18\\n109.06\\t10.39\\n121.06\\t101.7\\n12...               10   \n\n                              Comment Instrument_type source  \\\n0  NIST Mass Spectrometry Data Center           Q-TOF   NIST   \n1  NIST Mass Spectrometry Data Center           Q-TOF   NIST   \n2  NIST Mass Spectrometry Data Center           Q-TOF   NIST   \n3  NIST Mass Spectrometry Data Center           Q-TOF   NIST   \n4  NIST Mass Spectrometry Data Center           Q-TOF   NIST   \n\n                                       msms_denoised  Num_Peaks_denoised  \n0  121.06\\t16.58\\n309.18\\t16.18\\n327.19\\t25.27\\n3...                   5  \n1  121.06\\t23.08\\n309.18\\t16.18\\n327.19\\t26.97\\n3...                   5  \n2  121.06\\t29.27\\n267.17\\t10.89\\n309.18\\t20.08\\n3...                   6  \n3  121.06\\t48.35\\n267.17\\t19.28\\n269.19\\t11.49\\n2...                   8  \n4  97.06\\t22.18\\n109.06\\t10.39\\n121.06\\t101.7\\n12...                  16  ",
      "text/html": "<div>\n<style scoped>\n    .dataframe tbody tr th:only-of-type {\n        vertical-align: middle;\n    }\n\n    .dataframe tbody tr th {\n        vertical-align: top;\n    }\n\n    .dataframe thead th {\n        text-align: right;\n    }\n</style>\n<table border=\"1\" class=\"dataframe\">\n  <thead>\n    <tr style=\"text-align: right;\">\n      <th></th>\n      <th>NAME</th>\n      <th>PRECURSORMZ</th>\n      <th>InChIKey</th>\n      <th>Formula</th>\n      <th>ExactMass</th>\n      <th>Adduct</th>\n      <th>Num_Peaks</th>\n      <th>msms</th>\n      <th>Collision_energy</th>\n      <th>Comment</th>\n      <th>Instrument_type</th>\n      <th>source</th>\n      <th>msms_denoised</th>\n      <th>Num_Peaks_denoised</th>\n    </tr>\n  </thead>\n  <tbody>\n    <tr>\n      <th>0</th>\n      <td>Hydrocortisone</td>\n      <td>363.2166</td>\n      <td>JYGXADMDTFJGBT-VWUMJDOOSA-N</td>\n      <td>C21H30O5</td>\n      <td>362.209324</td>\n      <td>[M+H]+</td>\n      <td>6</td>\n      <td>121.06\\t16.58\\n309.18\\t16.18\\n327.19\\t25.27\\n3...</td>\n      <td>3</td>\n      <td>NIST Mass Spectrometry Data Center</td>\n      <td>Q-TOF</td>\n      <td>NIST</td>\n      <td>121.06\\t16.58\\n309.18\\t16.18\\n327.19\\t25.27\\n3...</td>\n      <td>5</td>\n    </tr>\n    <tr>\n      <th>1</th>\n      <td>Hydrocortisone</td>\n      <td>363.2166</td>\n      <td>JYGXADMDTFJGBT-VWUMJDOOSA-N</td>\n      <td>C21H30O5</td>\n      <td>362.209324</td>\n      <td>[M+H]+</td>\n      <td>6</td>\n      <td>121.06\\t23.08\\n309.18\\t16.18\\n327.19\\t26.97\\n3...</td>\n      <td>4</td>\n      <td>NIST Mass Spectrometry Data Center</td>\n      <td>Q-TOF</td>\n      <td>NIST</td>\n      <td>121.06\\t23.08\\n309.18\\t16.18\\n327.19\\t26.97\\n3...</td>\n      <td>5</td>\n    </tr>\n    <tr>\n      <th>2</th>\n      <td>Hydrocortisone</td>\n      <td>363.2166</td>\n      <td>JYGXADMDTFJGBT-VWUMJDOOSA-N</td>\n      <td>C21H30O5</td>\n      <td>362.209324</td>\n      <td>[M+H]+</td>\n      <td>7</td>\n      <td>121.06\\t29.27\\n267.17\\t10.89\\n309.18\\t20.08\\n3...</td>\n      <td>5</td>\n      <td>NIST Mass Spectrometry Data Center</td>\n      <td>Q-TOF</td>\n      <td>NIST</td>\n      <td>121.06\\t29.27\\n267.17\\t10.89\\n309.18\\t20.08\\n3...</td>\n      <td>6</td>\n    </tr>\n    <tr>\n      <th>3</th>\n      <td>Hydrocortisone</td>\n      <td>363.2166</td>\n      <td>JYGXADMDTFJGBT-VWUMJDOOSA-N</td>\n      <td>C21H30O5</td>\n      <td>362.209324</td>\n      <td>[M+H]+</td>\n      <td>9</td>\n      <td>121.06\\t48.35\\n267.17\\t19.28\\n269.19\\t11.49\\n2...</td>\n      <td>7</td>\n      <td>NIST Mass Spectrometry Data Center</td>\n      <td>Q-TOF</td>\n      <td>NIST</td>\n      <td>121.06\\t48.35\\n267.17\\t19.28\\n269.19\\t11.49\\n2...</td>\n      <td>8</td>\n    </tr>\n    <tr>\n      <th>4</th>\n      <td>Hydrocortisone</td>\n      <td>363.2166</td>\n      <td>JYGXADMDTFJGBT-VWUMJDOOSA-N</td>\n      <td>C21H30O5</td>\n      <td>362.209324</td>\n      <td>[M+H]+</td>\n      <td>17</td>\n      <td>97.06\\t22.18\\n109.06\\t10.39\\n121.06\\t101.7\\n12...</td>\n      <td>10</td>\n      <td>NIST Mass Spectrometry Data Center</td>\n      <td>Q-TOF</td>\n      <td>NIST</td>\n      <td>97.06\\t22.18\\n109.06\\t10.39\\n121.06\\t101.7\\n12...</td>\n      <td>16</td>\n    </tr>\n  </tbody>\n</table>\n</div>"
     },
     "execution_count": 26,
     "metadata": {},
     "output_type": "execute_result"
    }
   ],
   "source": [
    "library_pos.head()"
   ],
   "metadata": {
    "collapsed": false,
    "pycharm": {
     "name": "#%%\n"
    }
   }
  },
  {
   "cell_type": "code",
   "execution_count": 14,
   "outputs": [
    {
     "name": "stderr",
     "output_type": "stream",
     "text": [
      "100%|██████████| 12885/12885 [3:15:17<00:00,  1.10it/s]   \n"
     ]
    }
   ],
   "source": [
    "msms_denoised = []\n",
    "for i in tqdm.tqdm(range(0, len(library_pos))):\n",
    "    instance = library_pos.iloc[i]\n",
    "    try:\n",
    "        msms_d = de.denoise_blacklist(instance, threshold=0.01)\n",
    "        msms_denoised.append(msms_d)\n",
    "\n",
    "    except:\n",
    "        msms_denoised.append(np.NAN)\n"
   ],
   "metadata": {
    "collapsed": false,
    "pycharm": {
     "name": "#%%\n"
    }
   }
  },
  {
   "cell_type": "code",
   "execution_count": 15,
   "outputs": [],
   "source": [
    "library_pos['msms_denoised'] =msms_denoised"
   ],
   "metadata": {
    "collapsed": false,
    "pycharm": {
     "name": "#%%\n"
    }
   }
  },
  {
   "cell_type": "code",
   "execution_count": 18,
   "outputs": [
    {
     "data": {
      "text/plain": "5"
     },
     "execution_count": 18,
     "metadata": {},
     "output_type": "execute_result"
    }
   ],
   "source": [
    "so.num_peaks(library_pos.iloc[1]['msms_denoised'])"
   ],
   "metadata": {
    "collapsed": false,
    "pycharm": {
     "name": "#%%\n"
    }
   }
  },
  {
   "cell_type": "code",
   "execution_count": 19,
   "outputs": [
    {
     "name": "stderr",
     "output_type": "stream",
     "text": [
      "100%|██████████| 12885/12885 [00:00<00:00, 19635.09it/s]\n"
     ]
    }
   ],
   "source": [
    "Num_Peaks_denoised = []\n",
    "for i in tqdm.tqdm(range(0, len(library_pos))):\n",
    "    Num_Peaks_denoised.append(so.num_peaks(library_pos.iloc[i]['msms_denoised']))"
   ],
   "metadata": {
    "collapsed": false,
    "pycharm": {
     "name": "#%%\n"
    }
   }
  },
  {
   "cell_type": "code",
   "execution_count": 20,
   "outputs": [],
   "source": [
    "library_pos['Num_Peaks_denoised']=Num_Peaks_denoised"
   ],
   "metadata": {
    "collapsed": false,
    "pycharm": {
     "name": "#%%\n"
    }
   }
  },
  {
   "cell_type": "code",
   "execution_count": 24,
   "outputs": [
    {
     "data": {
      "text/plain": "583057"
     },
     "execution_count": 24,
     "metadata": {},
     "output_type": "execute_result"
    }
   ],
   "source": [
    "library_pos['Num_Peaks'].sum()"
   ],
   "metadata": {
    "collapsed": false,
    "pycharm": {
     "name": "#%%\n"
    }
   }
  },
  {
   "cell_type": "code",
   "execution_count": 23,
   "outputs": [
    {
     "data": {
      "text/plain": "565622"
     },
     "execution_count": 23,
     "metadata": {},
     "output_type": "execute_result"
    }
   ],
   "source": [
    "library_pos['Num_Peaks_denoised'].sum()"
   ],
   "metadata": {
    "collapsed": false,
    "pycharm": {
     "name": "#%%\n"
    }
   }
  },
  {
   "cell_type": "code",
   "execution_count": 25,
   "outputs": [
    {
     "data": {
      "text/plain": "0.9700972632178329"
     },
     "execution_count": 25,
     "metadata": {},
     "output_type": "execute_result"
    }
   ],
   "source": [
    "565622/583057"
   ],
   "metadata": {
    "collapsed": false,
    "pycharm": {
     "name": "#%%\n"
    }
   }
  },
  {
   "cell_type": "code",
   "execution_count": 17,
   "outputs": [
    {
     "data": {
      "text/plain": "             NAME  PRECURSORMZ                     InChIKey   Formula  \\\n0  Hydrocortisone     363.2166  JYGXADMDTFJGBT-VWUMJDOOSA-N  C21H30O5   \n1  Hydrocortisone     363.2166  JYGXADMDTFJGBT-VWUMJDOOSA-N  C21H30O5   \n2  Hydrocortisone     363.2166  JYGXADMDTFJGBT-VWUMJDOOSA-N  C21H30O5   \n3  Hydrocortisone     363.2166  JYGXADMDTFJGBT-VWUMJDOOSA-N  C21H30O5   \n4  Hydrocortisone     363.2166  JYGXADMDTFJGBT-VWUMJDOOSA-N  C21H30O5   \n\n    ExactMass  Adduct  Num_Peaks  \\\n0  362.209324  [M+H]+          6   \n1  362.209324  [M+H]+          6   \n2  362.209324  [M+H]+          7   \n3  362.209324  [M+H]+          9   \n4  362.209324  [M+H]+         17   \n\n                                                msms Collision_energy  \\\n0  121.06\\t16.58\\n309.18\\t16.18\\n327.19\\t25.27\\n3...                3   \n1  121.06\\t23.08\\n309.18\\t16.18\\n327.19\\t26.97\\n3...                4   \n2  121.06\\t29.27\\n267.17\\t10.89\\n309.18\\t20.08\\n3...                5   \n3  121.06\\t48.35\\n267.17\\t19.28\\n269.19\\t11.49\\n2...                7   \n4  97.06\\t22.18\\n109.06\\t10.39\\n121.06\\t101.7\\n12...               10   \n\n                              Comment Instrument_type source  \\\n0  NIST Mass Spectrometry Data Center           Q-TOF   NIST   \n1  NIST Mass Spectrometry Data Center           Q-TOF   NIST   \n2  NIST Mass Spectrometry Data Center           Q-TOF   NIST   \n3  NIST Mass Spectrometry Data Center           Q-TOF   NIST   \n4  NIST Mass Spectrometry Data Center           Q-TOF   NIST   \n\n                                       msms_denoised  \n0  121.06\\t16.58\\n309.18\\t16.18\\n327.19\\t25.27\\n3...  \n1  121.06\\t23.08\\n309.18\\t16.18\\n327.19\\t26.97\\n3...  \n2  121.06\\t29.27\\n267.17\\t10.89\\n309.18\\t20.08\\n3...  \n3  121.06\\t48.35\\n267.17\\t19.28\\n269.19\\t11.49\\n2...  \n4  97.06\\t22.18\\n109.06\\t10.39\\n121.06\\t101.7\\n12...  ",
      "text/html": "<div>\n<style scoped>\n    .dataframe tbody tr th:only-of-type {\n        vertical-align: middle;\n    }\n\n    .dataframe tbody tr th {\n        vertical-align: top;\n    }\n\n    .dataframe thead th {\n        text-align: right;\n    }\n</style>\n<table border=\"1\" class=\"dataframe\">\n  <thead>\n    <tr style=\"text-align: right;\">\n      <th></th>\n      <th>NAME</th>\n      <th>PRECURSORMZ</th>\n      <th>InChIKey</th>\n      <th>Formula</th>\n      <th>ExactMass</th>\n      <th>Adduct</th>\n      <th>Num_Peaks</th>\n      <th>msms</th>\n      <th>Collision_energy</th>\n      <th>Comment</th>\n      <th>Instrument_type</th>\n      <th>source</th>\n      <th>msms_denoised</th>\n    </tr>\n  </thead>\n  <tbody>\n    <tr>\n      <th>0</th>\n      <td>Hydrocortisone</td>\n      <td>363.2166</td>\n      <td>JYGXADMDTFJGBT-VWUMJDOOSA-N</td>\n      <td>C21H30O5</td>\n      <td>362.209324</td>\n      <td>[M+H]+</td>\n      <td>6</td>\n      <td>121.06\\t16.58\\n309.18\\t16.18\\n327.19\\t25.27\\n3...</td>\n      <td>3</td>\n      <td>NIST Mass Spectrometry Data Center</td>\n      <td>Q-TOF</td>\n      <td>NIST</td>\n      <td>121.06\\t16.58\\n309.18\\t16.18\\n327.19\\t25.27\\n3...</td>\n    </tr>\n    <tr>\n      <th>1</th>\n      <td>Hydrocortisone</td>\n      <td>363.2166</td>\n      <td>JYGXADMDTFJGBT-VWUMJDOOSA-N</td>\n      <td>C21H30O5</td>\n      <td>362.209324</td>\n      <td>[M+H]+</td>\n      <td>6</td>\n      <td>121.06\\t23.08\\n309.18\\t16.18\\n327.19\\t26.97\\n3...</td>\n      <td>4</td>\n      <td>NIST Mass Spectrometry Data Center</td>\n      <td>Q-TOF</td>\n      <td>NIST</td>\n      <td>121.06\\t23.08\\n309.18\\t16.18\\n327.19\\t26.97\\n3...</td>\n    </tr>\n    <tr>\n      <th>2</th>\n      <td>Hydrocortisone</td>\n      <td>363.2166</td>\n      <td>JYGXADMDTFJGBT-VWUMJDOOSA-N</td>\n      <td>C21H30O5</td>\n      <td>362.209324</td>\n      <td>[M+H]+</td>\n      <td>7</td>\n      <td>121.06\\t29.27\\n267.17\\t10.89\\n309.18\\t20.08\\n3...</td>\n      <td>5</td>\n      <td>NIST Mass Spectrometry Data Center</td>\n      <td>Q-TOF</td>\n      <td>NIST</td>\n      <td>121.06\\t29.27\\n267.17\\t10.89\\n309.18\\t20.08\\n3...</td>\n    </tr>\n    <tr>\n      <th>3</th>\n      <td>Hydrocortisone</td>\n      <td>363.2166</td>\n      <td>JYGXADMDTFJGBT-VWUMJDOOSA-N</td>\n      <td>C21H30O5</td>\n      <td>362.209324</td>\n      <td>[M+H]+</td>\n      <td>9</td>\n      <td>121.06\\t48.35\\n267.17\\t19.28\\n269.19\\t11.49\\n2...</td>\n      <td>7</td>\n      <td>NIST Mass Spectrometry Data Center</td>\n      <td>Q-TOF</td>\n      <td>NIST</td>\n      <td>121.06\\t48.35\\n267.17\\t19.28\\n269.19\\t11.49\\n2...</td>\n    </tr>\n    <tr>\n      <th>4</th>\n      <td>Hydrocortisone</td>\n      <td>363.2166</td>\n      <td>JYGXADMDTFJGBT-VWUMJDOOSA-N</td>\n      <td>C21H30O5</td>\n      <td>362.209324</td>\n      <td>[M+H]+</td>\n      <td>17</td>\n      <td>97.06\\t22.18\\n109.06\\t10.39\\n121.06\\t101.7\\n12...</td>\n      <td>10</td>\n      <td>NIST Mass Spectrometry Data Center</td>\n      <td>Q-TOF</td>\n      <td>NIST</td>\n      <td>97.06\\t22.18\\n109.06\\t10.39\\n121.06\\t101.7\\n12...</td>\n    </tr>\n  </tbody>\n</table>\n</div>"
     },
     "execution_count": 17,
     "metadata": {},
     "output_type": "execute_result"
    }
   ],
   "source": [
    "library_pos.head()"
   ],
   "metadata": {
    "collapsed": false,
    "pycharm": {
     "name": "#%%\n"
    }
   }
  },
  {
   "cell_type": "code",
   "execution_count": 95,
   "outputs": [
    {
     "name": "stderr",
     "output_type": "stream",
     "text": [
      "100%|██████████| 5303/5303 [1:02:08<00:00,  1.42it/s] \n"
     ]
    }
   ],
   "source": [
    "# entropy_similarity_raw = []\n",
    "# matched_inchi_raw =[]\n",
    "# evaluation_raw = []\n",
    "# msms_denoised = []\n",
    "# entropy_similarity_denoised = []\n",
    "# matched_inchi_denoised =[]\n",
    "# evaluation_denoised = []\n",
    "# for i in tqdm.tqdm(range(0, len(data))):\n",
    "#     instance = data.iloc[i]\n",
    "#     try:\n",
    "#         msms_d = de.denoise_blacklist(instance, threshold=0.01)\n",
    "#         msms_denoised.append(msms_d)\n",
    "#         entropy_d, match_d = ms.entropy_search_fast(msms_d, instance['PRECURSORMZ'], library)\n",
    "#         entropy_similarity_denoised.append(entropy_d)\n",
    "#         matched_inchi_denoised.append(match_d['InChIKey'])\n",
    "#         if match_d['InChIKey'] == instance['InChIKey']:\n",
    "#             evaluation_denoised.append(True)\n",
    "#         else:\n",
    "#             evaluation_denoised.append(False)\n",
    "#     except:\n",
    "#         msms_denoised.append(np.NAN)\n",
    "#         entropy_similarity_denoised.append(np.NAN)\n",
    "#         matched_inchi_denoised.append(np.NAN)\n",
    "#         evaluation_denoised.append(np.NAN)\n",
    "#     entropy, match = ms.entropy_search_fast(instance['msms'], instance['PRECURSORMZ'], library)\n",
    "#     entropy_similarity_raw.append(entropy)\n",
    "#     matched_inchi_raw.append(match['InChIKey'])\n",
    "#     if match['InChIKey'] == instance['InChIKey']:\n",
    "#         evaluation_raw.append(True)\n",
    "#     else:\n",
    "#         evaluation_raw.append(False)"
   ],
   "metadata": {
    "collapsed": false,
    "pycharm": {
     "name": "#%%\n"
    }
   }
  },
  {
   "cell_type": "code",
   "execution_count": 96,
   "outputs": [
    {
     "name": "stdout",
     "output_type": "stream",
     "text": [
      "this is evaluation raw\n"
     ]
    },
    {
     "data": {
      "text/plain": "True     4786\nFalse     517\nName: evaluation_raw, dtype: int64"
     },
     "metadata": {},
     "output_type": "display_data"
    },
    {
     "name": "stdout",
     "output_type": "stream",
     "text": [
      "this is evaluation denoised\n"
     ]
    },
    {
     "data": {
      "text/plain": "True     4782\nFalse     511\nName: evaluation_denoised, dtype: int64"
     },
     "metadata": {},
     "output_type": "display_data"
    }
   ],
   "source": [
    "data['entropy_similarity_raw']=entropy_similarity_raw\n",
    "data['matched_inchi_raw']=matched_inchi_raw\n",
    "data['evaluation_raw']=evaluation_raw\n",
    "data['msms_denoised']=msms_denoised\n",
    "data['entropy_similarity_denoised']=entropy_similarity_denoised\n",
    "data['matched_inchi_denoised']=matched_inchi_denoised\n",
    "data['evaluation_denoised']=evaluation_denoised\n",
    "\n",
    "print(\"this is evaluation raw\")\n",
    "display(data['evaluation_raw'].value_counts())\n",
    "print(\"this is evaluation denoised\")\n",
    "display(data['evaluation_denoised'].value_counts())"
   ],
   "metadata": {
    "collapsed": false,
    "pycharm": {
     "name": "#%%\n"
    }
   }
  },
  {
   "cell_type": "code",
   "execution_count": 97,
   "outputs": [
    {
     "data": {
      "text/plain": "count    5303.000000\nmean        0.711270\nstd         0.228336\nmin         0.000000\n25%         0.589471\n50%         0.772023\n75%         0.889887\nmax         1.000000\nName: entropy_similarity_raw, dtype: float64"
     },
     "execution_count": 97,
     "metadata": {},
     "output_type": "execute_result"
    }
   ],
   "source": [
    "data['entropy_similarity_raw'].describe()"
   ],
   "metadata": {
    "collapsed": false,
    "pycharm": {
     "name": "#%%\n"
    }
   }
  },
  {
   "cell_type": "code",
   "execution_count": 98,
   "outputs": [
    {
     "data": {
      "text/plain": "count    5293.000000\nmean        0.741378\nstd         0.218217\nmin         0.000000\n25%         0.638116\n50%         0.802745\n75%         0.906263\nmax         1.000000\nName: entropy_similarity_denoised, dtype: float64"
     },
     "execution_count": 98,
     "metadata": {},
     "output_type": "execute_result"
    }
   ],
   "source": [
    "data['entropy_similarity_denoised'].describe()"
   ],
   "metadata": {
    "collapsed": false,
    "pycharm": {
     "name": "#%%\n"
    }
   }
  },
  {
   "cell_type": "code",
   "execution_count": 94,
   "outputs": [],
   "source": [
    "data.to_csv(\"data/NIST_MONA/vaniya_fiehn_result_raw_t005.csv\", index = False)"
   ],
   "metadata": {
    "collapsed": false,
    "pycharm": {
     "name": "#%%\n"
    }
   }
  },
  {
   "cell_type": "code",
   "execution_count": 402,
   "outputs": [],
   "source": [
    "# data.to_csv(\"data/NIST_MONA/vaniya_fiehn_result_raw_t002.csv\", index = False)"
   ],
   "metadata": {
    "collapsed": false,
    "pycharm": {
     "name": "#%%\n"
    }
   }
  },
  {
   "cell_type": "code",
   "execution_count": 366,
   "outputs": [
    {
     "data": {
      "text/plain": "207.0663"
     },
     "execution_count": 366,
     "metadata": {},
     "output_type": "execute_result"
    }
   ],
   "source": [
    "data.iloc[4030]['PRECURSORMZ']"
   ],
   "metadata": {
    "collapsed": false,
    "pycharm": {
     "name": "#%%\n"
    }
   }
  },
  {
   "cell_type": "code",
   "execution_count": 365,
   "outputs": [
    {
     "data": {
      "text/plain": "'100.1853\\t8.099099\\n113.3491\\t23.199199\\n114.1203\\t9.520521\\n114.8073\\t100.0\\n116.5426\\t9.876877\\n121.5011\\t34.371371\\n136.7403\\t13.191191\\n137.6943\\t20.543544\\n140.9513\\t48.987988\\n141.4556\\t20.8999\\n143.6319\\t14.261261\\n144.1474\\t14.42042\\n159.1195\\t34.765766\\n170.2519\\t6.387387\\n172.1795\\t15.933934\\n172.7641\\t28.523524\\n173.4999\\t14.42042\\n192.637\\t33.580581\\n206.1697\\t14.354354'"
     },
     "execution_count": 365,
     "metadata": {},
     "output_type": "execute_result"
    }
   ],
   "source": [
    "data.iloc[4030]['msms']"
   ],
   "metadata": {
    "collapsed": false,
    "pycharm": {
     "name": "#%%\n"
    }
   }
  },
  {
   "cell_type": "code",
   "execution_count": 426,
   "outputs": [
    {
     "data": {
      "text/plain": "                                     NAME                                key  \\\n0  (+)-3''-Dimethylallyl-butyrolactone II  NGOLMNWQNHWEKU-XMMPIXPASA-N[M-H]-   \n1  (+)-3''-Dimethylallyl-butyrolactone II  NGOLMNWQNHWEKU-XMMPIXPASA-N[M-H]-   \n2  (+)-3''-Dimethylallyl-butyrolactone II  NGOLMNWQNHWEKU-XMMPIXPASA-N[M-H]-   \n3  (+)-3''-Dimethylallyl-butyrolactone II  NGOLMNWQNHWEKU-XMMPIXPASA-N[M+H]+   \n4  (+)-3''-Dimethylallyl-butyrolactone II  NGOLMNWQNHWEKU-XMMPIXPASA-N[M+H]+   \n\n   PRECURSORMZ                     InChIKey   Formula   ExactMass  Adduct  \\\n0     423.1449  NGOLMNWQNHWEKU-XMMPIXPASA-N  C24H24O7  424.152203  [M-H]-   \n1     423.1449  NGOLMNWQNHWEKU-XMMPIXPASA-N  C24H24O7  424.152203  [M-H]-   \n2     423.1449  NGOLMNWQNHWEKU-XMMPIXPASA-N  C24H24O7  424.152203  [M-H]-   \n3     425.1595  NGOLMNWQNHWEKU-XMMPIXPASA-N  C24H24O7  424.152203  [M+H]+   \n4     425.1595  NGOLMNWQNHWEKU-XMMPIXPASA-N  C24H24O7  424.152203  [M+H]+   \n\n   Num_Peaks                                               msms  \\\n0         12  204.0415\\t5.414414\\n205.0495\\t4.295295\\n249.03...   \n1         20  117.032\\t1.085085\\n133.0268\\t1.740741\\n145.029...   \n2        109  43.0136\\t1.019019\\n93.0311\\t3.293293\\n93.0356\\...   \n3         57  157.0939\\t1.014014\\n175.1108\\t100.0\\n175.17\\t1...   \n4         51  69.0679\\t2.184184\\n69.0714\\t2.207207\\n121.027\\...   \n\n  Collision_energy  row_num  entropy_similarity_raw  \\\n0             10 V        0                0.866862   \n1             20 V        1                0.874165   \n2             40 V        2                0.898660   \n3             10 V        3                0.821679   \n4             20 V        4                0.800984   \n\n             matched_inchi_raw  evaluation_raw  \\\n0  NGOLMNWQNHWEKU-XMMPIXPASA-N            True   \n1  NGOLMNWQNHWEKU-XMMPIXPASA-N            True   \n2  NGOLMNWQNHWEKU-XMMPIXPASA-N            True   \n3  NGOLMNWQNHWEKU-XMMPIXPASA-N            True   \n4  NGOLMNWQNHWEKU-XMMPIXPASA-N            True   \n\n                                       msms_denoised  \\\n0  204.0415\\t5.414414\\n205.0495\\t4.295295\\n249.03...   \n1  117.032\\t1.085085\\n133.0268\\t1.740741\\n145.029...   \n2  43.0136\\t1.019019\\n93.0311\\t3.293293\\n93.0356\\...   \n3  157.0939\\t1.014014\\n175.1108\\t100.0\\n175.17\\t1...   \n4  69.0679\\t2.184184\\n69.0714\\t2.207207\\n121.027\\...   \n\n   entropy_similarity_denoised       matched_inchi_denoised  \\\n0                     0.910023  NGOLMNWQNHWEKU-XMMPIXPASA-N   \n1                     0.916085  NGOLMNWQNHWEKU-XMMPIXPASA-N   \n2                     0.906796  NGOLMNWQNHWEKU-XMMPIXPASA-N   \n3                     0.840496  NGOLMNWQNHWEKU-XMMPIXPASA-N   \n4                     0.805232  NGOLMNWQNHWEKU-XMMPIXPASA-N   \n\n  evaluation_denoised  \n0                True  \n1                True  \n2                True  \n3                True  \n4                True  ",
      "text/html": "<div>\n<style scoped>\n    .dataframe tbody tr th:only-of-type {\n        vertical-align: middle;\n    }\n\n    .dataframe tbody tr th {\n        vertical-align: top;\n    }\n\n    .dataframe thead th {\n        text-align: right;\n    }\n</style>\n<table border=\"1\" class=\"dataframe\">\n  <thead>\n    <tr style=\"text-align: right;\">\n      <th></th>\n      <th>NAME</th>\n      <th>key</th>\n      <th>PRECURSORMZ</th>\n      <th>InChIKey</th>\n      <th>Formula</th>\n      <th>ExactMass</th>\n      <th>Adduct</th>\n      <th>Num_Peaks</th>\n      <th>msms</th>\n      <th>Collision_energy</th>\n      <th>row_num</th>\n      <th>entropy_similarity_raw</th>\n      <th>matched_inchi_raw</th>\n      <th>evaluation_raw</th>\n      <th>msms_denoised</th>\n      <th>entropy_similarity_denoised</th>\n      <th>matched_inchi_denoised</th>\n      <th>evaluation_denoised</th>\n    </tr>\n  </thead>\n  <tbody>\n    <tr>\n      <th>0</th>\n      <td>(+)-3''-Dimethylallyl-butyrolactone II</td>\n      <td>NGOLMNWQNHWEKU-XMMPIXPASA-N[M-H]-</td>\n      <td>423.1449</td>\n      <td>NGOLMNWQNHWEKU-XMMPIXPASA-N</td>\n      <td>C24H24O7</td>\n      <td>424.152203</td>\n      <td>[M-H]-</td>\n      <td>12</td>\n      <td>204.0415\\t5.414414\\n205.0495\\t4.295295\\n249.03...</td>\n      <td>10 V</td>\n      <td>0</td>\n      <td>0.866862</td>\n      <td>NGOLMNWQNHWEKU-XMMPIXPASA-N</td>\n      <td>True</td>\n      <td>204.0415\\t5.414414\\n205.0495\\t4.295295\\n249.03...</td>\n      <td>0.910023</td>\n      <td>NGOLMNWQNHWEKU-XMMPIXPASA-N</td>\n      <td>True</td>\n    </tr>\n    <tr>\n      <th>1</th>\n      <td>(+)-3''-Dimethylallyl-butyrolactone II</td>\n      <td>NGOLMNWQNHWEKU-XMMPIXPASA-N[M-H]-</td>\n      <td>423.1449</td>\n      <td>NGOLMNWQNHWEKU-XMMPIXPASA-N</td>\n      <td>C24H24O7</td>\n      <td>424.152203</td>\n      <td>[M-H]-</td>\n      <td>20</td>\n      <td>117.032\\t1.085085\\n133.0268\\t1.740741\\n145.029...</td>\n      <td>20 V</td>\n      <td>1</td>\n      <td>0.874165</td>\n      <td>NGOLMNWQNHWEKU-XMMPIXPASA-N</td>\n      <td>True</td>\n      <td>117.032\\t1.085085\\n133.0268\\t1.740741\\n145.029...</td>\n      <td>0.916085</td>\n      <td>NGOLMNWQNHWEKU-XMMPIXPASA-N</td>\n      <td>True</td>\n    </tr>\n    <tr>\n      <th>2</th>\n      <td>(+)-3''-Dimethylallyl-butyrolactone II</td>\n      <td>NGOLMNWQNHWEKU-XMMPIXPASA-N[M-H]-</td>\n      <td>423.1449</td>\n      <td>NGOLMNWQNHWEKU-XMMPIXPASA-N</td>\n      <td>C24H24O7</td>\n      <td>424.152203</td>\n      <td>[M-H]-</td>\n      <td>109</td>\n      <td>43.0136\\t1.019019\\n93.0311\\t3.293293\\n93.0356\\...</td>\n      <td>40 V</td>\n      <td>2</td>\n      <td>0.898660</td>\n      <td>NGOLMNWQNHWEKU-XMMPIXPASA-N</td>\n      <td>True</td>\n      <td>43.0136\\t1.019019\\n93.0311\\t3.293293\\n93.0356\\...</td>\n      <td>0.906796</td>\n      <td>NGOLMNWQNHWEKU-XMMPIXPASA-N</td>\n      <td>True</td>\n    </tr>\n    <tr>\n      <th>3</th>\n      <td>(+)-3''-Dimethylallyl-butyrolactone II</td>\n      <td>NGOLMNWQNHWEKU-XMMPIXPASA-N[M+H]+</td>\n      <td>425.1595</td>\n      <td>NGOLMNWQNHWEKU-XMMPIXPASA-N</td>\n      <td>C24H24O7</td>\n      <td>424.152203</td>\n      <td>[M+H]+</td>\n      <td>57</td>\n      <td>157.0939\\t1.014014\\n175.1108\\t100.0\\n175.17\\t1...</td>\n      <td>10 V</td>\n      <td>3</td>\n      <td>0.821679</td>\n      <td>NGOLMNWQNHWEKU-XMMPIXPASA-N</td>\n      <td>True</td>\n      <td>157.0939\\t1.014014\\n175.1108\\t100.0\\n175.17\\t1...</td>\n      <td>0.840496</td>\n      <td>NGOLMNWQNHWEKU-XMMPIXPASA-N</td>\n      <td>True</td>\n    </tr>\n    <tr>\n      <th>4</th>\n      <td>(+)-3''-Dimethylallyl-butyrolactone II</td>\n      <td>NGOLMNWQNHWEKU-XMMPIXPASA-N[M+H]+</td>\n      <td>425.1595</td>\n      <td>NGOLMNWQNHWEKU-XMMPIXPASA-N</td>\n      <td>C24H24O7</td>\n      <td>424.152203</td>\n      <td>[M+H]+</td>\n      <td>51</td>\n      <td>69.0679\\t2.184184\\n69.0714\\t2.207207\\n121.027\\...</td>\n      <td>20 V</td>\n      <td>4</td>\n      <td>0.800984</td>\n      <td>NGOLMNWQNHWEKU-XMMPIXPASA-N</td>\n      <td>True</td>\n      <td>69.0679\\t2.184184\\n69.0714\\t2.207207\\n121.027\\...</td>\n      <td>0.805232</td>\n      <td>NGOLMNWQNHWEKU-XMMPIXPASA-N</td>\n      <td>True</td>\n    </tr>\n  </tbody>\n</table>\n</div>"
     },
     "execution_count": 426,
     "metadata": {},
     "output_type": "execute_result"
    }
   ],
   "source": [
    "data.head()"
   ],
   "metadata": {
    "collapsed": false,
    "pycharm": {
     "name": "#%%\n"
    }
   }
  },
  {
   "cell_type": "code",
   "execution_count": 429,
   "outputs": [],
   "source": [
    "diff_result_raw_false = data[(data['evaluation_raw'] ==False) & (data['evaluation_denoised']==True) ]"
   ],
   "metadata": {
    "collapsed": false,
    "pycharm": {
     "name": "#%%\n"
    }
   }
  },
  {
   "cell_type": "code",
   "execution_count": 430,
   "outputs": [],
   "source": [
    "diff_result_raw_true = data[(data['evaluation_raw'] ==True) & (data['evaluation_denoised']==False) ]"
   ],
   "metadata": {
    "collapsed": false,
    "pycharm": {
     "name": "#%%\n"
    }
   }
  },
  {
   "cell_type": "code",
   "execution_count": 432,
   "outputs": [
    {
     "data": {
      "text/plain": "                                                   NAME  \\\n150   (1S,4aR,5S)-5-[(E)-5-methoxy-3-methyl-5-oxopen...   \n742   (2S,3S,9R,12R,13R,14S,15R,16R,17S)-3,12,13,15,...   \n1372  2,3-bis[(4-hydroxy-3-methoxyphenyl)methyl]buta...   \n1456  2-(3,4-dihydroxyphenyl)-5-hydroxy-3,7-bis[[(2S...   \n1547  2-[(2S,4aR,8aS)-2-hydroxy-4a-methyl-8-methylid...   \n2161  4-(3,4-dihydroxyphenyl)-7-hydroxy-5-[(2S,3R,4S...   \n2353  5,7-dihydroxy-2-(4-hydroxyphenyl)-6-[(2S,3R,4R...   \n3595                                           ALIZARIN   \n3659                                          apigetrin   \n4114                                       Ferulic Acid   \n4135                                     forsythoside B   \n4194                                           genistin   \n4239                                       Haematoxylin   \n4358                                     isotaxiresinol   \n\n                                     key  PRECURSORMZ  \\\n150    AKIRMBMADXTLAC-BMXXHOQXSA-N[M-H]-     347.2228   \n742   NWNMAVFXIRDAPM-BTFXEFBNSA-N[M+Na]+     419.1676   \n1372   PUETUDUXMCLALY-UHFFFAOYSA-N[M-H]-     361.1657   \n1456  GXLQUHPXGLZNGE-BJBZVNFPSA-N[M+Na]+     617.1477   \n1547   WQMBCGHXXVLQTE-CFVMTHIKSA-N[M-H]-     249.1496   \n2161   VAPVFWUBNBLVMB-CMWLGVBASA-N[M-H]-     447.0933   \n2353  MVOUGOXRXQDXDC-RSPRXDBDSA-N[M+Na]+     601.1528   \n3595   RGCKGOZRHPZPFP-UHFFFAOYSA-N[M+H]+     241.0495   \n3659   KMOUJOKENFFTPU-QNDFHXLGSA-N[M+H]+     433.1129   \n4114   KSEBMYQBYZTDHS-HWKANZROSA-N[M-H]-     193.0506   \n4135  JMBINOWGIHWPJI-UNSOMVRXSA-N[M+Na]+     779.2369   \n4194   ZCOLJUOHXJRHDI-CMWLGVBASA-N[M+H]+     433.1129   \n4239   WZUVPPKBWHMQCE-UHFFFAOYSA-N[M-H]-     301.0718   \n4358   GQLVRVYXAHDDLB-PJFSTRORSA-N[M-H]-     345.1344   \n\n                         InChIKey    Formula   ExactMass   Adduct  Num_Peaks  \\\n150   AKIRMBMADXTLAC-BMXXHOQXSA-N   C21H32O4  348.230059   [M-H]-         11   \n742   NWNMAVFXIRDAPM-BTFXEFBNSA-N   C20H28O8  396.178418  [M+Na]+         38   \n1372  PUETUDUXMCLALY-UHFFFAOYSA-N   C20H26O6  362.172939   [M-H]-         23   \n1456  GXLQUHPXGLZNGE-BJBZVNFPSA-N  C27H30O15  594.158470  [M+Na]+         58   \n1547  WQMBCGHXXVLQTE-CFVMTHIKSA-N   C15H22O3  250.156895   [M-H]-          3   \n2161  VAPVFWUBNBLVMB-CMWLGVBASA-N  C21H20O11  448.100562   [M-H]-         21   \n2353  MVOUGOXRXQDXDC-RSPRXDBDSA-N  C27H30O14  578.163556  [M+Na]+         52   \n3595  RGCKGOZRHPZPFP-UHFFFAOYSA-N    C14H8O4  240.042259   [M+H]+         33   \n3659  KMOUJOKENFFTPU-QNDFHXLGSA-N  C21H20O10  432.105647   [M+H]+          4   \n4114  KSEBMYQBYZTDHS-HWKANZROSA-N   C10H10O4  194.057909   [M-H]-         16   \n4135  JMBINOWGIHWPJI-UNSOMVRXSA-N  C34H44O19  756.247679  [M+Na]+         59   \n4194  ZCOLJUOHXJRHDI-CMWLGVBASA-N  C21H20O10  432.105647   [M+H]+          4   \n4239  WZUVPPKBWHMQCE-UHFFFAOYSA-N   C16H14O6  302.079038   [M-H]-         35   \n4358  GQLVRVYXAHDDLB-PJFSTRORSA-N   C19H22O6  346.141638   [M-H]-         16   \n\n                                                   msms Collision_energy  \\\n150   136.8865\\t1.88989\\n217.242\\t1.034034\\n240.776\\...             20 V   \n742   139.5\\t1.268268\\n147.0565\\t1.536537\\n150.0991\\...             10 V   \n1372  114.6144\\t7.731732\\n131.9463\\t1.318318\\n137.26...             10 V   \n1456  102.6567\\t5.948949\\n103.0286\\t3.670671\\n103.79...             20 V   \n1547  205.1592\\t5.284284\\n248.9741\\t7.148148\\n249.14...             10 V   \n2161  114.0463\\t3.372372\\n128.4784\\t2.971972\\n164.55...             10 V   \n2353  102.0893\\t1.38038\\n118.0435\\t1.47047\\n122.09\\t...             20 V   \n3595  101.7507\\t3.824825\\n118.9765\\t10.697698\\n123.0...             20 V   \n3659  271.061\\t100.0\\n271.2029\\t1.904905\\n272.0651\\t...             10 V   \n4114  102.9327\\t1.004004\\n117.0339\\t2.993994\\n126.94...             10 V   \n4135  105.16\\t1.696697\\n109.0176\\t1.364364\\n118.6942...             10 V   \n4194  271.0608\\t100.0\\n271.2031\\t1.850851\\n271.2533\\...             10 V   \n4239  121.0223\\t1.547548\\n130.9619\\t1.681682\\n144.89...             10 V   \n4358  110.4611\\t2.607608\\n133.8168\\t1.763764\\n156.90...             10 V   \n\n      row_num  entropy_similarity_raw            matched_inchi_raw  \\\n150       157            4.731771e-01  QVSFEOQJKPOOHP-UHFFFAOYSA-N   \n742       780            4.426867e-01  XRWVZSPWRNDJNS-UHFFFAOYSA-N   \n1372     1421            4.291085e-01  QPRODDKTRBCFPV-DHZHZOJOSA-N   \n1456     1505            4.456467e-01  JYXSWDCPHRTYGU-RVCYDTIBSA-N   \n1547     1596            8.772656e-01  QTSQCCVLTMKKDP-SFDCQRBFSA-N   \n2161     2233            6.875582e-01  UHNXUSWGOJMEFO-QNDFHXLGSA-N   \n2353     2425            4.395371e-01  LYGPBZVKGHHTIE-HUBYJIGHSA-N   \n3595     3743            6.181108e-01  GUEIZVNYDFNHJU-UHFFFAOYSA-N   \n3659     3807            9.038229e-01  ZCOLJUOHXJRHDI-CMWLGVBASA-N   \n4114     4271            8.078930e-01  QURCVMIEKCOAJU-HWKANZROSA-N   \n4135     4292            1.443290e-15  HZUURLOSYMEMET-QPJJXVBHSA-N   \n4194     4354            8.746915e-01  KMOUJOKENFFTPU-QNDFHXLGSA-N   \n4239     4399            5.028396e-01  DSAJORLEPQBKDA-UHFFFAOYSA-N   \n4358     4519            4.553510e-01  NOFGKTVEZONBCG-UHFFFAOYSA-N   \n\n      evaluation_raw                                      msms_denoised  \\\n150            False  217.242\\t1.034034\\n251.1374\\t1.182182\\n273.185...   \n742            False  147.0565\\t1.536537\\n150.0991\\t2.965966\\n214.97...   \n1372           False  131.9463\\t1.318318\\n178.9976\\t2.131131\\n230.05...   \n1456           False  103.0286\\t3.670671\\n125.1774\\t6.626627\\n144.11...   \n1547           False                205.1592\\t5.284284\\n249.1499\\t100.0   \n2161           False  114.0463\\t3.372372\\n285.0407\\t100.0\\n285.9483\\...   \n2353           False  102.0893\\t1.38038\\n118.0435\\t1.47047\\n122.09\\t...   \n3595           False  118.9765\\t10.697698\\n123.0753\\t8.494494\\n126.0...   \n3659           False  271.061\\t100.0\\n272.0651\\t1.117117\\n433.1142\\t...   \n4114           False  102.9327\\t1.004004\\n117.0339\\t2.993994\\n126.94...   \n4135           False  105.16\\t1.696697\\n109.0176\\t1.364364\\n122.1086...   \n4194           False               271.0608\\t100.0\\n433.1144\\t12.772773   \n4239           False  121.0223\\t1.547548\\n130.9619\\t1.681682\\n152.98...   \n4358           False  169.9524\\t2.206206\\n191.0706\\t1.055055\\n253.04...   \n\n      entropy_similarity_denoised       matched_inchi_denoised  \\\n150                  4.627553e-01  AKIRMBMADXTLAC-BMXXHOQXSA-N   \n742                  4.273763e-01  NWNMAVFXIRDAPM-BTFXEFBNSA-N   \n1372                 4.885870e-01  PUETUDUXMCLALY-UHFFFAOYSA-N   \n1456                 5.191222e-01  GXLQUHPXGLZNGE-BJBZVNFPSA-N   \n1547                 9.999017e-01  WQMBCGHXXVLQTE-CFVMTHIKSA-N   \n2161                 8.495080e-01  VAPVFWUBNBLVMB-CMWLGVBASA-N   \n2353                 4.544820e-01  MVOUGOXRXQDXDC-RSPRXDBDSA-N   \n3595                 7.101761e-01  RGCKGOZRHPZPFP-UHFFFAOYSA-N   \n3659                 9.511289e-01  KMOUJOKENFFTPU-QNDFHXLGSA-N   \n4114                 8.648807e-01  KSEBMYQBYZTDHS-HWKANZROSA-N   \n4135                 4.440892e-16  JMBINOWGIHWPJI-UNSOMVRXSA-N   \n4194                 9.999439e-01  ZCOLJUOHXJRHDI-CMWLGVBASA-N   \n4239                 5.350030e-01  WZUVPPKBWHMQCE-UHFFFAOYSA-N   \n4358                 5.666763e-01  GQLVRVYXAHDDLB-PJFSTRORSA-N   \n\n     evaluation_denoised  \n150                 True  \n742                 True  \n1372                True  \n1456                True  \n1547                True  \n2161                True  \n2353                True  \n3595                True  \n3659                True  \n4114                True  \n4135                True  \n4194                True  \n4239                True  \n4358                True  ",
      "text/html": "<div>\n<style scoped>\n    .dataframe tbody tr th:only-of-type {\n        vertical-align: middle;\n    }\n\n    .dataframe tbody tr th {\n        vertical-align: top;\n    }\n\n    .dataframe thead th {\n        text-align: right;\n    }\n</style>\n<table border=\"1\" class=\"dataframe\">\n  <thead>\n    <tr style=\"text-align: right;\">\n      <th></th>\n      <th>NAME</th>\n      <th>key</th>\n      <th>PRECURSORMZ</th>\n      <th>InChIKey</th>\n      <th>Formula</th>\n      <th>ExactMass</th>\n      <th>Adduct</th>\n      <th>Num_Peaks</th>\n      <th>msms</th>\n      <th>Collision_energy</th>\n      <th>row_num</th>\n      <th>entropy_similarity_raw</th>\n      <th>matched_inchi_raw</th>\n      <th>evaluation_raw</th>\n      <th>msms_denoised</th>\n      <th>entropy_similarity_denoised</th>\n      <th>matched_inchi_denoised</th>\n      <th>evaluation_denoised</th>\n    </tr>\n  </thead>\n  <tbody>\n    <tr>\n      <th>150</th>\n      <td>(1S,4aR,5S)-5-[(E)-5-methoxy-3-methyl-5-oxopen...</td>\n      <td>AKIRMBMADXTLAC-BMXXHOQXSA-N[M-H]-</td>\n      <td>347.2228</td>\n      <td>AKIRMBMADXTLAC-BMXXHOQXSA-N</td>\n      <td>C21H32O4</td>\n      <td>348.230059</td>\n      <td>[M-H]-</td>\n      <td>11</td>\n      <td>136.8865\\t1.88989\\n217.242\\t1.034034\\n240.776\\...</td>\n      <td>20 V</td>\n      <td>157</td>\n      <td>4.731771e-01</td>\n      <td>QVSFEOQJKPOOHP-UHFFFAOYSA-N</td>\n      <td>False</td>\n      <td>217.242\\t1.034034\\n251.1374\\t1.182182\\n273.185...</td>\n      <td>4.627553e-01</td>\n      <td>AKIRMBMADXTLAC-BMXXHOQXSA-N</td>\n      <td>True</td>\n    </tr>\n    <tr>\n      <th>742</th>\n      <td>(2S,3S,9R,12R,13R,14S,15R,16R,17S)-3,12,13,15,...</td>\n      <td>NWNMAVFXIRDAPM-BTFXEFBNSA-N[M+Na]+</td>\n      <td>419.1676</td>\n      <td>NWNMAVFXIRDAPM-BTFXEFBNSA-N</td>\n      <td>C20H28O8</td>\n      <td>396.178418</td>\n      <td>[M+Na]+</td>\n      <td>38</td>\n      <td>139.5\\t1.268268\\n147.0565\\t1.536537\\n150.0991\\...</td>\n      <td>10 V</td>\n      <td>780</td>\n      <td>4.426867e-01</td>\n      <td>XRWVZSPWRNDJNS-UHFFFAOYSA-N</td>\n      <td>False</td>\n      <td>147.0565\\t1.536537\\n150.0991\\t2.965966\\n214.97...</td>\n      <td>4.273763e-01</td>\n      <td>NWNMAVFXIRDAPM-BTFXEFBNSA-N</td>\n      <td>True</td>\n    </tr>\n    <tr>\n      <th>1372</th>\n      <td>2,3-bis[(4-hydroxy-3-methoxyphenyl)methyl]buta...</td>\n      <td>PUETUDUXMCLALY-UHFFFAOYSA-N[M-H]-</td>\n      <td>361.1657</td>\n      <td>PUETUDUXMCLALY-UHFFFAOYSA-N</td>\n      <td>C20H26O6</td>\n      <td>362.172939</td>\n      <td>[M-H]-</td>\n      <td>23</td>\n      <td>114.6144\\t7.731732\\n131.9463\\t1.318318\\n137.26...</td>\n      <td>10 V</td>\n      <td>1421</td>\n      <td>4.291085e-01</td>\n      <td>QPRODDKTRBCFPV-DHZHZOJOSA-N</td>\n      <td>False</td>\n      <td>131.9463\\t1.318318\\n178.9976\\t2.131131\\n230.05...</td>\n      <td>4.885870e-01</td>\n      <td>PUETUDUXMCLALY-UHFFFAOYSA-N</td>\n      <td>True</td>\n    </tr>\n    <tr>\n      <th>1456</th>\n      <td>2-(3,4-dihydroxyphenyl)-5-hydroxy-3,7-bis[[(2S...</td>\n      <td>GXLQUHPXGLZNGE-BJBZVNFPSA-N[M+Na]+</td>\n      <td>617.1477</td>\n      <td>GXLQUHPXGLZNGE-BJBZVNFPSA-N</td>\n      <td>C27H30O15</td>\n      <td>594.158470</td>\n      <td>[M+Na]+</td>\n      <td>58</td>\n      <td>102.6567\\t5.948949\\n103.0286\\t3.670671\\n103.79...</td>\n      <td>20 V</td>\n      <td>1505</td>\n      <td>4.456467e-01</td>\n      <td>JYXSWDCPHRTYGU-RVCYDTIBSA-N</td>\n      <td>False</td>\n      <td>103.0286\\t3.670671\\n125.1774\\t6.626627\\n144.11...</td>\n      <td>5.191222e-01</td>\n      <td>GXLQUHPXGLZNGE-BJBZVNFPSA-N</td>\n      <td>True</td>\n    </tr>\n    <tr>\n      <th>1547</th>\n      <td>2-[(2S,4aR,8aS)-2-hydroxy-4a-methyl-8-methylid...</td>\n      <td>WQMBCGHXXVLQTE-CFVMTHIKSA-N[M-H]-</td>\n      <td>249.1496</td>\n      <td>WQMBCGHXXVLQTE-CFVMTHIKSA-N</td>\n      <td>C15H22O3</td>\n      <td>250.156895</td>\n      <td>[M-H]-</td>\n      <td>3</td>\n      <td>205.1592\\t5.284284\\n248.9741\\t7.148148\\n249.14...</td>\n      <td>10 V</td>\n      <td>1596</td>\n      <td>8.772656e-01</td>\n      <td>QTSQCCVLTMKKDP-SFDCQRBFSA-N</td>\n      <td>False</td>\n      <td>205.1592\\t5.284284\\n249.1499\\t100.0</td>\n      <td>9.999017e-01</td>\n      <td>WQMBCGHXXVLQTE-CFVMTHIKSA-N</td>\n      <td>True</td>\n    </tr>\n    <tr>\n      <th>2161</th>\n      <td>4-(3,4-dihydroxyphenyl)-7-hydroxy-5-[(2S,3R,4S...</td>\n      <td>VAPVFWUBNBLVMB-CMWLGVBASA-N[M-H]-</td>\n      <td>447.0933</td>\n      <td>VAPVFWUBNBLVMB-CMWLGVBASA-N</td>\n      <td>C21H20O11</td>\n      <td>448.100562</td>\n      <td>[M-H]-</td>\n      <td>21</td>\n      <td>114.0463\\t3.372372\\n128.4784\\t2.971972\\n164.55...</td>\n      <td>10 V</td>\n      <td>2233</td>\n      <td>6.875582e-01</td>\n      <td>UHNXUSWGOJMEFO-QNDFHXLGSA-N</td>\n      <td>False</td>\n      <td>114.0463\\t3.372372\\n285.0407\\t100.0\\n285.9483\\...</td>\n      <td>8.495080e-01</td>\n      <td>VAPVFWUBNBLVMB-CMWLGVBASA-N</td>\n      <td>True</td>\n    </tr>\n    <tr>\n      <th>2353</th>\n      <td>5,7-dihydroxy-2-(4-hydroxyphenyl)-6-[(2S,3R,4R...</td>\n      <td>MVOUGOXRXQDXDC-RSPRXDBDSA-N[M+Na]+</td>\n      <td>601.1528</td>\n      <td>MVOUGOXRXQDXDC-RSPRXDBDSA-N</td>\n      <td>C27H30O14</td>\n      <td>578.163556</td>\n      <td>[M+Na]+</td>\n      <td>52</td>\n      <td>102.0893\\t1.38038\\n118.0435\\t1.47047\\n122.09\\t...</td>\n      <td>20 V</td>\n      <td>2425</td>\n      <td>4.395371e-01</td>\n      <td>LYGPBZVKGHHTIE-HUBYJIGHSA-N</td>\n      <td>False</td>\n      <td>102.0893\\t1.38038\\n118.0435\\t1.47047\\n122.09\\t...</td>\n      <td>4.544820e-01</td>\n      <td>MVOUGOXRXQDXDC-RSPRXDBDSA-N</td>\n      <td>True</td>\n    </tr>\n    <tr>\n      <th>3595</th>\n      <td>ALIZARIN</td>\n      <td>RGCKGOZRHPZPFP-UHFFFAOYSA-N[M+H]+</td>\n      <td>241.0495</td>\n      <td>RGCKGOZRHPZPFP-UHFFFAOYSA-N</td>\n      <td>C14H8O4</td>\n      <td>240.042259</td>\n      <td>[M+H]+</td>\n      <td>33</td>\n      <td>101.7507\\t3.824825\\n118.9765\\t10.697698\\n123.0...</td>\n      <td>20 V</td>\n      <td>3743</td>\n      <td>6.181108e-01</td>\n      <td>GUEIZVNYDFNHJU-UHFFFAOYSA-N</td>\n      <td>False</td>\n      <td>118.9765\\t10.697698\\n123.0753\\t8.494494\\n126.0...</td>\n      <td>7.101761e-01</td>\n      <td>RGCKGOZRHPZPFP-UHFFFAOYSA-N</td>\n      <td>True</td>\n    </tr>\n    <tr>\n      <th>3659</th>\n      <td>apigetrin</td>\n      <td>KMOUJOKENFFTPU-QNDFHXLGSA-N[M+H]+</td>\n      <td>433.1129</td>\n      <td>KMOUJOKENFFTPU-QNDFHXLGSA-N</td>\n      <td>C21H20O10</td>\n      <td>432.105647</td>\n      <td>[M+H]+</td>\n      <td>4</td>\n      <td>271.061\\t100.0\\n271.2029\\t1.904905\\n272.0651\\t...</td>\n      <td>10 V</td>\n      <td>3807</td>\n      <td>9.038229e-01</td>\n      <td>ZCOLJUOHXJRHDI-CMWLGVBASA-N</td>\n      <td>False</td>\n      <td>271.061\\t100.0\\n272.0651\\t1.117117\\n433.1142\\t...</td>\n      <td>9.511289e-01</td>\n      <td>KMOUJOKENFFTPU-QNDFHXLGSA-N</td>\n      <td>True</td>\n    </tr>\n    <tr>\n      <th>4114</th>\n      <td>Ferulic Acid</td>\n      <td>KSEBMYQBYZTDHS-HWKANZROSA-N[M-H]-</td>\n      <td>193.0506</td>\n      <td>KSEBMYQBYZTDHS-HWKANZROSA-N</td>\n      <td>C10H10O4</td>\n      <td>194.057909</td>\n      <td>[M-H]-</td>\n      <td>16</td>\n      <td>102.9327\\t1.004004\\n117.0339\\t2.993994\\n126.94...</td>\n      <td>10 V</td>\n      <td>4271</td>\n      <td>8.078930e-01</td>\n      <td>QURCVMIEKCOAJU-HWKANZROSA-N</td>\n      <td>False</td>\n      <td>102.9327\\t1.004004\\n117.0339\\t2.993994\\n126.94...</td>\n      <td>8.648807e-01</td>\n      <td>KSEBMYQBYZTDHS-HWKANZROSA-N</td>\n      <td>True</td>\n    </tr>\n    <tr>\n      <th>4135</th>\n      <td>forsythoside B</td>\n      <td>JMBINOWGIHWPJI-UNSOMVRXSA-N[M+Na]+</td>\n      <td>779.2369</td>\n      <td>JMBINOWGIHWPJI-UNSOMVRXSA-N</td>\n      <td>C34H44O19</td>\n      <td>756.247679</td>\n      <td>[M+Na]+</td>\n      <td>59</td>\n      <td>105.16\\t1.696697\\n109.0176\\t1.364364\\n118.6942...</td>\n      <td>10 V</td>\n      <td>4292</td>\n      <td>1.443290e-15</td>\n      <td>HZUURLOSYMEMET-QPJJXVBHSA-N</td>\n      <td>False</td>\n      <td>105.16\\t1.696697\\n109.0176\\t1.364364\\n122.1086...</td>\n      <td>4.440892e-16</td>\n      <td>JMBINOWGIHWPJI-UNSOMVRXSA-N</td>\n      <td>True</td>\n    </tr>\n    <tr>\n      <th>4194</th>\n      <td>genistin</td>\n      <td>ZCOLJUOHXJRHDI-CMWLGVBASA-N[M+H]+</td>\n      <td>433.1129</td>\n      <td>ZCOLJUOHXJRHDI-CMWLGVBASA-N</td>\n      <td>C21H20O10</td>\n      <td>432.105647</td>\n      <td>[M+H]+</td>\n      <td>4</td>\n      <td>271.0608\\t100.0\\n271.2031\\t1.850851\\n271.2533\\...</td>\n      <td>10 V</td>\n      <td>4354</td>\n      <td>8.746915e-01</td>\n      <td>KMOUJOKENFFTPU-QNDFHXLGSA-N</td>\n      <td>False</td>\n      <td>271.0608\\t100.0\\n433.1144\\t12.772773</td>\n      <td>9.999439e-01</td>\n      <td>ZCOLJUOHXJRHDI-CMWLGVBASA-N</td>\n      <td>True</td>\n    </tr>\n    <tr>\n      <th>4239</th>\n      <td>Haematoxylin</td>\n      <td>WZUVPPKBWHMQCE-UHFFFAOYSA-N[M-H]-</td>\n      <td>301.0718</td>\n      <td>WZUVPPKBWHMQCE-UHFFFAOYSA-N</td>\n      <td>C16H14O6</td>\n      <td>302.079038</td>\n      <td>[M-H]-</td>\n      <td>35</td>\n      <td>121.0223\\t1.547548\\n130.9619\\t1.681682\\n144.89...</td>\n      <td>10 V</td>\n      <td>4399</td>\n      <td>5.028396e-01</td>\n      <td>DSAJORLEPQBKDA-UHFFFAOYSA-N</td>\n      <td>False</td>\n      <td>121.0223\\t1.547548\\n130.9619\\t1.681682\\n152.98...</td>\n      <td>5.350030e-01</td>\n      <td>WZUVPPKBWHMQCE-UHFFFAOYSA-N</td>\n      <td>True</td>\n    </tr>\n    <tr>\n      <th>4358</th>\n      <td>isotaxiresinol</td>\n      <td>GQLVRVYXAHDDLB-PJFSTRORSA-N[M-H]-</td>\n      <td>345.1344</td>\n      <td>GQLVRVYXAHDDLB-PJFSTRORSA-N</td>\n      <td>C19H22O6</td>\n      <td>346.141638</td>\n      <td>[M-H]-</td>\n      <td>16</td>\n      <td>110.4611\\t2.607608\\n133.8168\\t1.763764\\n156.90...</td>\n      <td>10 V</td>\n      <td>4519</td>\n      <td>4.553510e-01</td>\n      <td>NOFGKTVEZONBCG-UHFFFAOYSA-N</td>\n      <td>False</td>\n      <td>169.9524\\t2.206206\\n191.0706\\t1.055055\\n253.04...</td>\n      <td>5.666763e-01</td>\n      <td>GQLVRVYXAHDDLB-PJFSTRORSA-N</td>\n      <td>True</td>\n    </tr>\n  </tbody>\n</table>\n</div>"
     },
     "execution_count": 432,
     "metadata": {},
     "output_type": "execute_result"
    }
   ],
   "source": [
    "diff_result_raw_false"
   ],
   "metadata": {
    "collapsed": false,
    "pycharm": {
     "name": "#%%\n"
    }
   }
  },
  {
   "cell_type": "code",
   "execution_count": null,
   "outputs": [],
   "source": [
    "plot"
   ],
   "metadata": {
    "collapsed": false,
    "pycharm": {
     "name": "#%%\n"
    }
   }
  },
  {
   "cell_type": "code",
   "execution_count": 413,
   "outputs": [],
   "source": [
    "diff = agree_result['entropy_similarity_denoised']-agree_result['entropy_similarity_raw']"
   ],
   "metadata": {
    "collapsed": false,
    "pycharm": {
     "name": "#%%\n"
    }
   }
  },
  {
   "cell_type": "code",
   "execution_count": 420,
   "outputs": [],
   "source": [
    "nor_entropy_raw = []\n",
    "nor_entropy_de = []\n",
    "for index, row in agree_result.iterrows():\n",
    "    nor_entropy_raw.append(so.normalized_entropy(row['msms']))\n",
    "    nor_entropy_de.append(so.normalized_entropy(row['msms_denoised']))"
   ],
   "metadata": {
    "collapsed": false,
    "pycharm": {
     "name": "#%%\n"
    }
   }
  },
  {
   "cell_type": "code",
   "execution_count": 423,
   "outputs": [],
   "source": [
    "agree_result['nor_entropy_raw']=nor_entropy_raw\n",
    "agree_result['nor_entropy_de']=nor_entropy_de"
   ],
   "metadata": {
    "collapsed": false,
    "pycharm": {
     "name": "#%%\n"
    }
   }
  },
  {
   "cell_type": "code",
   "execution_count": 424,
   "outputs": [
    {
     "data": {
      "text/plain": "<AxesSubplot:ylabel='Density'>"
     },
     "execution_count": 424,
     "metadata": {},
     "output_type": "execute_result"
    },
    {
     "data": {
      "text/plain": "<Figure size 432x288 with 1 Axes>",
      "image/png": "[encoded data removed]"
     },
     "metadata": {},
     "output_type": "display_data"
    }
   ],
   "source": [
    "sns.distplot(agree_result[['nor_entropy_raw']], hist=False, rug=True)\n",
    "sns.distplot(agree_result[['nor_entropy_de']], hist=False, rug=True)"
   ],
   "metadata": {
    "collapsed": false,
    "pycharm": {
     "name": "#%%\n"
    }
   }
  },
  {
   "cell_type": "code",
   "execution_count": 419,
   "outputs": [
    {
     "data": {
      "text/plain": "1.1939127"
     },
     "execution_count": 419,
     "metadata": {},
     "output_type": "execute_result"
    }
   ],
   "source": [
    "so.normalized_entropy(agree_result.iloc[0]['msms'])"
   ],
   "metadata": {
    "collapsed": false,
    "pycharm": {
     "name": "#%%\n"
    }
   }
  },
  {
   "cell_type": "code",
   "execution_count": 435,
   "outputs": [
    {
     "data": {
      "text/plain": "423.1449"
     },
     "execution_count": 435,
     "metadata": {},
     "output_type": "execute_result"
    }
   ],
   "source": [
    "data.iloc[0]['PRECURSORMZ']"
   ],
   "metadata": {
    "collapsed": false,
    "pycharm": {
     "name": "#%%\n"
    }
   }
  },
  {
   "cell_type": "code",
   "execution_count": 437,
   "outputs": [],
   "source": [
    "mass, intensity = so.break_spectra(data.iloc[0]['msms'])"
   ],
   "metadata": {
    "collapsed": false,
    "pycharm": {
     "name": "#%%\n"
    }
   }
  },
  {
   "cell_type": "code",
   "execution_count": 450,
   "outputs": [
    {
     "data": {
      "text/plain": "12"
     },
     "execution_count": 450,
     "metadata": {},
     "output_type": "execute_result"
    }
   ],
   "source": [
    "len(so.break_spectra(data.iloc[0]['msms'])[0])"
   ],
   "metadata": {
    "collapsed": false,
    "pycharm": {
     "name": "#%%\n"
    }
   }
  },
  {
   "cell_type": "code",
   "execution_count": 452,
   "outputs": [
    {
     "data": {
      "text/plain": "[5.414414,\n 4.295295,\n 15.904905,\n 1.871872,\n 1.253253,\n 100.0,\n 1.934935,\n 1.148148,\n 1.173173,\n 3.688689,\n 1.908909,\n 3.035035]"
     },
     "execution_count": 452,
     "metadata": {},
     "output_type": "execute_result"
    }
   ],
   "source": [
    "so.break_spectra(data.iloc[0]['msms'])[1]"
   ],
   "metadata": {
    "collapsed": false,
    "pycharm": {
     "name": "#%%\n"
    }
   }
  },
  {
   "cell_type": "code",
   "execution_count": 445,
   "outputs": [
    {
     "name": "stdout",
     "output_type": "stream",
     "text": [
      "['H15C9O6', 'H15C13O3', 'H15C17']\n",
      "['H14C9O6', 'H14C13O3', 'H14C17']\n",
      "['H14C8O4', 'H14C12O', 'H18C5O6']\n",
      "['H4C3O4', 'H4C7O', 'H8O6']\n",
      "['C2O3', 'C6']\n",
      "['H3C2O2']\n",
      "[]\n",
      "[]\n",
      "[]\n",
      "['H2C2O2']\n",
      "['CO2']\n",
      "['']\n"
     ]
    }
   ],
   "source": [
    "for mas in mass:\n",
    "    print(mtf.nl_to_formula(423.1429-mas, 0.02, data.iloc[0]['Formula']))"
   ],
   "metadata": {
    "collapsed": false,
    "pycharm": {
     "name": "#%%\n"
    }
   }
  },
  {
   "cell_type": "code",
   "execution_count": 444,
   "outputs": [
    {
     "data": {
      "text/plain": "([204.0415,\n  205.0495,\n  249.0383,\n  319.1308,\n  351.1563,\n  364.1304,\n  365.1334,\n  379.1494,\n  423.1429],\n [5.414414,\n  4.295295,\n  15.904905,\n  1.871872,\n  1.253253,\n  100.0,\n  3.688689,\n  1.908909,\n  3.035035])"
     },
     "execution_count": 444,
     "metadata": {},
     "output_type": "execute_result"
    }
   ],
   "source": [
    "so.break_spectra(data.iloc[0]['msms_denoised'])"
   ],
   "metadata": {
    "collapsed": false,
    "pycharm": {
     "name": "#%%\n"
    }
   }
  },
  {
   "cell_type": "code",
   "execution_count": 385,
   "outputs": [
    {
     "data": {
      "text/plain": "'C27H30O16'"
     },
     "execution_count": 385,
     "metadata": {},
     "output_type": "execute_result"
    }
   ],
   "source": [
    "agree_result.loc[2012]['Formula']"
   ],
   "metadata": {
    "collapsed": false,
    "pycharm": {
     "name": "#%%\n"
    }
   }
  },
  {
   "cell_type": "code",
   "execution_count": 387,
   "outputs": [],
   "source": [
    "mass, intensity = so.break_spectra(agree_result.loc[2012]['msms'])"
   ],
   "metadata": {
    "collapsed": false,
    "pycharm": {
     "name": "#%%\n"
    }
   }
  },
  {
   "cell_type": "code",
   "execution_count": 390,
   "outputs": [],
   "source": [
    "pep_mass, pep_intensity = de.get_parentpeak(mass, intensity, agree_result.loc[2012]['PRECURSORMZ'])"
   ],
   "metadata": {
    "collapsed": false,
    "pycharm": {
     "name": "#%%\n"
    }
   }
  },
  {
   "cell_type": "code",
   "execution_count": 397,
   "outputs": [
    {
     "data": {
      "text/plain": "645.1228"
     },
     "execution_count": 397,
     "metadata": {},
     "output_type": "execute_result"
    }
   ],
   "source": [
    "agree_result.loc[2012]['PRECURSORMZ']"
   ],
   "metadata": {
    "collapsed": false,
    "pycharm": {
     "name": "#%%\n"
    }
   }
  },
  {
   "cell_type": "code",
   "execution_count": 398,
   "outputs": [
    {
     "data": {
      "text/plain": "0.0025000000000545697"
     },
     "execution_count": 398,
     "metadata": {},
     "output_type": "execute_result"
    }
   ],
   "source": [
    "pep_mass-645.1228"
   ],
   "metadata": {
    "collapsed": false,
    "pycharm": {
     "name": "#%%\n"
    }
   }
  },
  {
   "cell_type": "code",
   "execution_count": 384,
   "outputs": [
    {
     "data": {
      "text/plain": "([612.0467, 645.1253], [1.226226, 9.580581])"
     },
     "execution_count": 384,
     "metadata": {},
     "output_type": "execute_result"
    }
   ],
   "source": [
    "so.break_spectra(agree_result.loc[2012]['msms_denoised'])"
   ],
   "metadata": {
    "collapsed": false,
    "pycharm": {
     "name": "#%%\n"
    }
   }
  },
  {
   "cell_type": "code",
   "execution_count": 394,
   "outputs": [
    {
     "data": {
      "text/plain": "'C27H30O16'"
     },
     "execution_count": 394,
     "metadata": {},
     "output_type": "execute_result"
    }
   ],
   "source": [
    "agree_result.loc[2012]['Formula']"
   ],
   "metadata": {
    "collapsed": false,
    "pycharm": {
     "name": "#%%\n"
    }
   }
  },
  {
   "cell_type": "code",
   "execution_count": 401,
   "outputs": [
    {
     "data": {
      "text/plain": "['C3']"
     },
     "execution_count": 401,
     "metadata": {},
     "output_type": "execute_result"
    }
   ],
   "source": [
    "mtf.nl_to_formula(pep_mass-mass[0], 0.03,agree_result.loc[2012]['Formula'])"
   ],
   "metadata": {
    "collapsed": false,
    "pycharm": {
     "name": "#%%\n"
    }
   }
  },
  {
   "cell_type": "code",
   "execution_count": 336,
   "outputs": [
    {
     "data": {
      "text/plain": "count    4786.000000\nmean        0.715764\nstd         0.226421\nmin         0.000000\n25%         0.595591\n50%         0.777689\n75%         0.892658\nmax         1.000000\nName: entropy_similarity_raw, dtype: float64"
     },
     "execution_count": 336,
     "metadata": {},
     "output_type": "execute_result"
    }
   ],
   "source": [
    "right_raw['entropy_similarity_raw'].describe()"
   ],
   "metadata": {
    "collapsed": false,
    "pycharm": {
     "name": "#%%\n"
    }
   }
  },
  {
   "cell_type": "code",
   "execution_count": 416,
   "outputs": [
    {
     "data": {
      "text/plain": "<AxesSubplot:ylabel='Density'>"
     },
     "execution_count": 416,
     "metadata": {},
     "output_type": "execute_result"
    },
    {
     "data": {
      "text/plain": "<Figure size 432x288 with 1 Axes>",
      "image/png": "[encoded data removed]"
     },
     "metadata": {},
     "output_type": "display_data"
    }
   ],
   "source": [
    "sns.distplot(data[['entropy_similarity_raw']], hist=False, rug=True)\n",
    "sns.distplot(data[['entropy_similarity_denoised']], hist=False, rug=True)\n",
    "# sns.distplot(target_2[['sepal length (cm)']], hist=False, rug=True)"
   ],
   "metadata": {
    "collapsed": false,
    "pycharm": {
     "name": "#%%\n"
    }
   }
  },
  {
   "cell_type": "code",
   "execution_count": 324,
   "outputs": [
    {
     "data": {
      "text/plain": "True     4786\nFalse     517\ndtype: int64"
     },
     "execution_count": 324,
     "metadata": {},
     "output_type": "execute_result"
    }
   ],
   "source": [
    "pd.Series(evaluation_raw).value_counts()\n"
   ],
   "metadata": {
    "collapsed": false,
    "pycharm": {
     "name": "#%%\n"
    }
   }
  },
  {
   "cell_type": "code",
   "execution_count": 326,
   "outputs": [
    {
     "data": {
      "text/plain": "count    5303.000000\nmean        0.711270\nstd         0.228336\nmin         0.000000\n25%         0.589471\n50%         0.772023\n75%         0.889887\nmax         1.000000\ndtype: float64"
     },
     "execution_count": 326,
     "metadata": {},
     "output_type": "execute_result"
    }
   ],
   "source": [
    "pd.Series(entropy_similarity_raw).describe()"
   ],
   "metadata": {
    "collapsed": false,
    "pycharm": {
     "name": "#%%\n"
    }
   }
  },
  {
   "cell_type": "code",
   "execution_count": 325,
   "outputs": [
    {
     "data": {
      "text/plain": "True     4790\nFalse     508\ndtype: int64"
     },
     "execution_count": 325,
     "metadata": {},
     "output_type": "execute_result"
    }
   ],
   "source": [
    "pd.Series(evaluation_denoised).value_counts()"
   ],
   "metadata": {
    "collapsed": false,
    "pycharm": {
     "name": "#%%\n"
    }
   }
  },
  {
   "cell_type": "code",
   "execution_count": 327,
   "outputs": [
    {
     "data": {
      "text/plain": "count    5298.000000\nmean        0.740725\nstd         0.218813\nmin         0.000000\n25%         0.640156\n50%         0.801166\n75%         0.905397\nmax         1.000000\ndtype: float64"
     },
     "execution_count": 327,
     "metadata": {},
     "output_type": "execute_result"
    }
   ],
   "source": [
    "pd.Series(entropy_similarity_denoised).describe()"
   ],
   "metadata": {
    "collapsed": false,
    "pycharm": {
     "name": "#%%\n"
    }
   }
  },
  {
   "cell_type": "code",
   "execution_count": 278,
   "outputs": [],
   "source": [
    "import seaborn as sns\n",
    "import matplotlib.pyplot as plt"
   ],
   "metadata": {
    "collapsed": false,
    "pycharm": {
     "name": "#%%\n"
    }
   }
  },
  {
   "cell_type": "code",
   "execution_count": 454,
   "outputs": [],
   "source": [
    "data.to_csv(\"data/NIST_MONA/vaniya_fiehn_result_050.csv\")"
   ],
   "metadata": {
    "collapsed": false,
    "pycharm": {
     "name": "#%%\n"
    }
   }
  },
  {
   "cell_type": "code",
   "execution_count": 263,
   "outputs": [
    {
     "data": {
      "text/plain": "NAME                2-[4a-Methyl-8-methylidene-4-(3-methylpentanoy...\nkey                                 QVSFEOQJKPOOHP-UHFFFAOYSA-N[M-H]-\nPRECURSORMZ                                                  347.2228\nInChIKey                                  QVSFEOQJKPOOHP-UHFFFAOYSA-N\nFormula                                                      C21H32O4\nExactMass                                                  348.230059\nAdduct                                                         [M-H]-\nNum_Peaks                                                          33\nmsms                57.0341\\t1.2\\n81.0343\\t8.99\\n83.0497\\t1.4\\n95....\nCollision_energy                                              NCE=44%\nComment                            NIST Mass Spectrometry Data Center\nInstrument_type                                                   HCD\nsource                                                           NIST\nkey_all                      QVSFEOQJKPOOHP-UHFFFAOYSA-N[M-H]-NCE=44%\nrow_num                                                         21158\nName: 21158, dtype: object"
     },
     "execution_count": 263,
     "metadata": {},
     "output_type": "execute_result"
    }
   ],
   "source": [
    "match_d"
   ],
   "metadata": {
    "collapsed": false,
    "pycharm": {
     "name": "#%%\n"
    }
   }
  },
  {
   "cell_type": "code",
   "execution_count": 262,
   "outputs": [
    {
     "data": {
      "text/plain": "NAME                2-[4a-Methyl-8-methylidene-4-(3-methylpentanoy...\nkey                                 QVSFEOQJKPOOHP-UHFFFAOYSA-N[M-H]-\nPRECURSORMZ                                                  347.2228\nInChIKey                                  QVSFEOQJKPOOHP-UHFFFAOYSA-N\nFormula                                                      C21H32O4\nExactMass                                                  348.230059\nAdduct                                                         [M-H]-\nNum_Peaks                                                          19\nmsms                53.0392\\t4.6\\n55.0184\\t2.0\\n57.034\\t14.09\\n65....\nCollision_energy                                             NCE=100%\nComment                            NIST Mass Spectrometry Data Center\nInstrument_type                                                   HCD\nsource                                                           NIST\nkey_all                     QVSFEOQJKPOOHP-UHFFFAOYSA-N[M-H]-NCE=100%\nrow_num                                                         21163\nName: 21163, dtype: object"
     },
     "execution_count": 262,
     "metadata": {},
     "output_type": "execute_result"
    }
   ],
   "source": [
    "match"
   ],
   "metadata": {
    "collapsed": false,
    "pycharm": {
     "name": "#%%\n"
    }
   }
  },
  {
   "cell_type": "code",
   "execution_count": 259,
   "outputs": [
    {
     "data": {
      "text/plain": "6.661338147750939e-16"
     },
     "execution_count": 259,
     "metadata": {},
     "output_type": "execute_result"
    }
   ],
   "source": [
    "entropy_d"
   ],
   "metadata": {
    "collapsed": false,
    "pycharm": {
     "name": "#%%\n"
    }
   }
  },
  {
   "cell_type": "code",
   "execution_count": 257,
   "outputs": [],
   "source": [
    "\n"
   ],
   "metadata": {
    "collapsed": false,
    "pycharm": {
     "name": "#%%\n"
    }
   }
  },
  {
   "cell_type": "code",
   "execution_count": 218,
   "outputs": [
    {
     "name": "stdout",
     "output_type": "stream",
     "text": [
      "0.9160849750969724 NGOLMNWQNHWEKU-XMMPIXPASA-N\n",
      "0.8741653870528445 NGOLMNWQNHWEKU-XMMPIXPASA-N\n"
     ]
    }
   ],
   "source": [
    "# entropy_d, matched = ms.entropy_search_fast(de.denoise_blacklist(instance, threshold=0.01), instance['PRECURSORMZ'], library)\n",
    "# print(entropy_d, matched['InChIKey'])\n",
    "# entropy, match = ms.entropy_search_fast(instance['msms'], instance['PRECURSORMZ'], library)\n",
    "# print(entropy, match['InChIKey'])"
   ],
   "metadata": {
    "collapsed": false,
    "pycharm": {
     "name": "#%%\n"
    }
   }
  },
  {
   "cell_type": "code",
   "execution_count": 186,
   "outputs": [
    {
     "data": {
      "text/plain": "225.1132"
     },
     "execution_count": 186,
     "metadata": {},
     "output_type": "execute_result"
    }
   ],
   "source": [
    "match['PRECURSORMZ']"
   ],
   "metadata": {
    "collapsed": false,
    "pycharm": {
     "name": "#%%\n"
    }
   }
  },
  {
   "cell_type": "code",
   "execution_count": 132,
   "outputs": [
    {
     "data": {
      "text/plain": "'NGOLMNWQNHWEKU-XMMPIXPASA-N[M-H]-'"
     },
     "execution_count": 132,
     "metadata": {},
     "output_type": "execute_result"
    }
   ],
   "source": [
    "match['key']"
   ],
   "metadata": {
    "collapsed": false,
    "pycharm": {
     "name": "#%%\n"
    }
   }
  },
  {
   "cell_type": "code",
   "execution_count": 128,
   "outputs": [
    {
     "data": {
      "text/plain": "0.8986601047993235"
     },
     "execution_count": 128,
     "metadata": {},
     "output_type": "execute_result"
    }
   ],
   "source": [
    "entropy"
   ],
   "metadata": {
    "collapsed": false,
    "pycharm": {
     "name": "#%%\n"
    }
   }
  },
  {
   "cell_type": "code",
   "execution_count": 113,
   "outputs": [],
   "source": [
    "mass_d.append(pep_mass)\n",
    "intensity_d.append(pep_intensity)"
   ],
   "metadata": {
    "collapsed": false,
    "pycharm": {
     "name": "#%%\n"
    }
   }
  },
  {
   "cell_type": "code",
   "execution_count": 114,
   "outputs": [],
   "source": [
    "msms_d = so.pack_spectra(mass_d, intensity_d)"
   ],
   "metadata": {
    "collapsed": false,
    "pycharm": {
     "name": "#%%\n"
    }
   }
  },
  {
   "cell_type": "code",
   "execution_count": 118,
   "outputs": [
    {
     "data": {
      "text/plain": "0.9100225443277993"
     },
     "execution_count": 118,
     "metadata": {},
     "output_type": "execute_result"
    }
   ],
   "source": [
    "so.entropy_similarity_default(msms_d, library.iloc[5360]['msms'])"
   ],
   "metadata": {
    "collapsed": false,
    "pycharm": {
     "name": "#%%\n"
    }
   }
  },
  {
   "cell_type": "code",
   "execution_count": 116,
   "outputs": [
    {
     "data": {
      "text/plain": "0.8592600632462739"
     },
     "execution_count": 116,
     "metadata": {},
     "output_type": "execute_result"
    }
   ],
   "source": [
    "so.entropy_similarity_default(instance['msms'], library.iloc[5360]['msms'])"
   ],
   "metadata": {
    "collapsed": false,
    "pycharm": {
     "name": "#%%\n"
    }
   }
  },
  {
   "cell_type": "code",
   "execution_count": 110,
   "outputs": [
    {
     "data": {
      "text/plain": "'204.043\\t39.16\\n205.0508\\t53.55\\n248.0327\\t2.1\\n249.0407\\t158.54\\n319.134\\t5.09\\n351.1602\\t15.08\\n362.1164\\t2.7\\n363.124\\t10.49\\n364.1317\\t999.0\\n379.155\\t56.94\\n423.1449\\t101.9'"
     },
     "execution_count": 110,
     "metadata": {},
     "output_type": "execute_result"
    }
   ],
   "source": [
    "library.iloc[5360]['msms']"
   ],
   "metadata": {
    "collapsed": false,
    "pycharm": {
     "name": "#%%\n"
    }
   }
  },
  {
   "cell_type": "code",
   "execution_count": 101,
   "outputs": [],
   "source": [
    "nl_candidates = mtf.nl_to_formula(pep_mass - 423.1429, 10, instance['Formula'])"
   ],
   "metadata": {
    "collapsed": false,
    "pycharm": {
     "name": "#%%\n"
    }
   }
  },
  {
   "cell_type": "code",
   "execution_count": 103,
   "outputs": [
    {
     "data": {
      "text/plain": "['']"
     },
     "execution_count": 103,
     "metadata": {},
     "output_type": "execute_result"
    }
   ],
   "source": [
    "nl_candidates"
   ],
   "metadata": {
    "collapsed": false,
    "pycharm": {
     "name": "#%%\n"
    }
   }
  },
  {
   "cell_type": "code",
   "execution_count": 102,
   "outputs": [
    {
     "data": {
      "text/plain": "False"
     },
     "execution_count": 102,
     "metadata": {},
     "output_type": "execute_result"
    }
   ],
   "source": [
    "nl_candidates ==[]"
   ],
   "metadata": {
    "collapsed": false,
    "pycharm": {
     "name": "#%%\n"
    }
   }
  },
  {
   "cell_type": "code",
   "execution_count": 96,
   "outputs": [
    {
     "data": {
      "text/plain": "[204.0415,\n 205.0495,\n 249.0383,\n 319.1308,\n 351.1563,\n 364.1304,\n 365.1334,\n 379.1494]"
     },
     "execution_count": 96,
     "metadata": {},
     "output_type": "execute_result"
    }
   ],
   "source": [
    "mass_d"
   ],
   "metadata": {
    "collapsed": false,
    "pycharm": {
     "name": "#%%\n"
    }
   }
  },
  {
   "cell_type": "code",
   "execution_count": 94,
   "outputs": [
    {
     "data": {
      "text/plain": "[204.0415,\n 205.0495,\n 249.0383,\n 319.1308,\n 351.1563,\n 364.1304,\n 364.2963,\n 364.3504,\n 364.3783,\n 365.1334,\n 379.1494,\n 423.1429]"
     },
     "execution_count": 94,
     "metadata": {},
     "output_type": "execute_result"
    }
   ],
   "source": [
    "mass"
   ],
   "metadata": {
    "collapsed": false,
    "pycharm": {
     "name": "#%%\n"
    }
   }
  },
  {
   "cell_type": "code",
   "execution_count": 82,
   "outputs": [
    {
     "name": "stdout",
     "output_type": "stream",
     "text": [
      "H15C13O3\n"
     ]
    }
   ],
   "source": [
    "for nl in nl_candidates:\n",
    "    print(nl)"
   ],
   "metadata": {
    "collapsed": false,
    "pycharm": {
     "name": "#%%\n"
    }
   }
  },
  {
   "cell_type": "code",
   "execution_count": null,
   "outputs": [],
   "source": [
    "\n",
    "def denoise_blacklist(instance, typeofmsms):\n"
   ],
   "metadata": {
    "collapsed": false,
    "pycharm": {
     "name": "#%%\n"
    }
   }
  },
  {
   "cell_type": "code",
   "execution_count": 29,
   "outputs": [],
   "source": [
    "# data = pd.read_csv(\"data/NIST_MONA/MONA_common_with_nist.csv\")\n",
    "# data = data.dropna(subset=['msms', 'InChIKey','PRECURSORMZ','Formula'])\n",
    "# data['PRECURSORMZ'] = data['PRECURSORMZ'].astype(float)\n",
    "# # data.to_csv(\"data/NIST_MONA/MONA_common_with_nist.csv\", index = False)\n",
    "# precursormz = []\n",
    "# for index, row in data.iterrows():\n",
    "#     precursormz.append(adduct_calc.calculate_precursormz(row['Formula'], row['Adduct']))\n",
    "# data['PRECURSORMZ']=precursormz\n",
    "# # data.to_csv(\"data/NIST_MONA/data_mona_common_updated.csv\", index = False)\n"
   ],
   "metadata": {
    "collapsed": false,
    "pycharm": {
     "name": "#%%\n"
    }
   }
  },
  {
   "cell_type": "code",
   "execution_count": 18,
   "outputs": [],
   "source": [
    "typeofmsms = 'msms'"
   ],
   "metadata": {
    "collapsed": false,
    "pycharm": {
     "name": "#%%\n"
    }
   }
  },
  {
   "cell_type": "code",
   "execution_count": 23,
   "outputs": [],
   "source": [
    "globals()[\"entropy_\"+(typeofmsms)]=[]\n",
    "globals()[\"inchi_\"+(typeofmsms)]=[]\n",
    "globals()[\"evaluation\"+(typeofmsms)]=[]\n",
    "globals()['matched_msms'+(typeofmsms)]=[]"
   ],
   "metadata": {
    "collapsed": false,
    "pycharm": {
     "name": "#%%\n"
    }
   }
  },
  {
   "cell_type": "markdown",
   "source": [],
   "metadata": {
    "collapsed": false,
    "pycharm": {
     "name": "#%% md\n"
    }
   }
  },
  {
   "cell_type": "code",
   "execution_count": 24,
   "outputs": [],
   "source": [
    "\n",
    "\n",
    "for index, row in data.iterrows():\n",
    "    entropy_temp, matched = ms.entropy_search_fast(row[typeofmsms], row['PRECURSORMZ'], library, 0.01)\n",
    "    globals()[\"entropy_\"+(typeofmsms)].append(entropy_temp)\n",
    "    globals()[\"inchi_\"+(typeofmsms)].append(matched['InChIKey'])\n",
    "    globals()['matched_msms'+(typeofmsms)].append(matched['msms'])\n",
    "    if matched['InChIKey'] == row['InChIKey']:\n",
    "        globals()[\"evaluation\"+(typeofmsms)].append(True)\n",
    "    else:\n",
    "        globals()[\"evaluation\"+(typeofmsms)].append(False)\n"
   ],
   "metadata": {
    "collapsed": false,
    "pycharm": {
     "name": "#%%\n"
    }
   }
  },
  {
   "cell_type": "code",
   "execution_count": 33,
   "outputs": [],
   "source": [
    "data_resulted = data.copy()"
   ],
   "metadata": {
    "collapsed": false,
    "pycharm": {
     "name": "#%%\n"
    }
   }
  },
  {
   "cell_type": "code",
   "execution_count": 34,
   "outputs": [],
   "source": [
    "data_resulted['matched_entropy']=globals()[\"entropy_\"+(typeofmsms)]\n",
    "data_resulted['matched_inchikey']=globals()[\"inchi_\"+(typeofmsms)]\n",
    "data_resulted['matched_msms']=globals()['matched_msms'+(typeofmsms)]\n",
    "data_resulted['matched_evaluation']=globals()[\"evaluation\"+(typeofmsms)]"
   ],
   "metadata": {
    "collapsed": false,
    "pycharm": {
     "name": "#%%\n"
    }
   }
  },
  {
   "cell_type": "code",
   "execution_count": 54,
   "outputs": [],
   "source": [
    "data_resulted_false = data_resulted.loc[data_resulted['matched_evaluation']==False]\n",
    "data_resulted_false=data_resulted_false.reset_index()\n",
    "data_resulted_true = data_resulted.loc[data_resulted['matched_evaluation']==True]\n",
    "data_resulted_true=data_resulted_true.reset_index()"
   ],
   "metadata": {
    "collapsed": false,
    "pycharm": {
     "name": "#%%\n"
    }
   }
  },
  {
   "cell_type": "code",
   "execution_count": 212,
   "outputs": [],
   "source": [
    "import toolsets.msms_search as ms"
   ],
   "metadata": {
    "collapsed": false,
    "pycharm": {
     "name": "#%%\n"
    }
   }
  },
  {
   "cell_type": "code",
   "execution_count": 218,
   "outputs": [],
   "source": [
    "entropy_temp, exact_msms_temp = ms.exact_lookup(data_resulted_false.iloc[182], library, 'msms')"
   ],
   "metadata": {
    "collapsed": false,
    "pycharm": {
     "name": "#%%\n"
    }
   }
  },
  {
   "cell_type": "code",
   "execution_count": 225,
   "outputs": [
    {
     "data": {
      "text/plain": "0.12176073694827472"
     },
     "execution_count": 225,
     "metadata": {},
     "output_type": "execute_result"
    }
   ],
   "source": [
    "so.entropy_similarity_default(data_resulted_false.iloc[182]['msms'], msms_temp)"
   ],
   "metadata": {
    "collapsed": false,
    "pycharm": {
     "name": "#%%\n"
    }
   }
  },
  {
   "cell_type": "code",
   "execution_count": 222,
   "outputs": [],
   "source": [
    "entropy_temp, msms_temp = ms.exact_lookup(data_resulted_false.iloc[182], library, threshold=0.01)"
   ],
   "metadata": {
    "collapsed": false,
    "pycharm": {
     "name": "#%%\n"
    }
   }
  },
  {
   "cell_type": "code",
   "execution_count": 223,
   "outputs": [
    {
     "data": {
      "text/plain": "0.418460493346692"
     },
     "execution_count": 223,
     "metadata": {},
     "output_type": "execute_result"
    }
   ],
   "source": [
    "entropy_temp"
   ],
   "metadata": {
    "collapsed": false,
    "pycharm": {
     "name": "#%%\n"
    }
   }
  },
  {
   "cell_type": "code",
   "execution_count": 226,
   "outputs": [
    {
     "name": "stdout",
     "output_type": "stream",
     "text": [
      "i am spectra operation\n"
     ]
    }
   ],
   "source": [
    "instance = data_resulted_false.iloc[182]\n",
    "threshold = 0.01\n",
    "entropy = []\n",
    "library_subset = library.loc[library['key']==instance['key']]\n",
    "for i in range(0, len(library_subset)):\n",
    "    entropy.append(se.similarity(so.convert_string_to_nist(instance[typeofmsms]), so.convert_string_to_nist(library.iloc[i]['msms']), 'entropy',ms2_da = threshold, need_clean_spectra = True, need_normalize_result = True))"
   ],
   "metadata": {
    "collapsed": false,
    "pycharm": {
     "name": "#%%\n"
    }
   }
  },
  {
   "cell_type": "code",
   "execution_count": 231,
   "outputs": [
    {
     "name": "stdout",
     "output_type": "stream",
     "text": [
      "i am msms_search!!!!!\n"
     ]
    }
   ],
   "source": [
    "entropy_exact = []\n",
    "msms_exact = []\n",
    "for index, row in data_resulted_false.iterrows():\n",
    "    entropy_temp, msms_temp = ms.exact_lookup(row, library, threshold=0.01)\n",
    "    entropy_exact.append(entropy_temp)\n",
    "    msms_exact.append(msms_temp)\n",
    "data_resulted_false['exact_entropy']=entropy_exact\n",
    "data_resulted_false['exact_msms']=msms_exact"
   ],
   "metadata": {
    "collapsed": false,
    "pycharm": {
     "name": "#%%\n"
    }
   }
  },
  {
   "cell_type": "code",
   "execution_count": 304,
   "outputs": [
    {
     "data": {
      "text/plain": "index                                                                27\nNAME                  (10E,15Z)-9,12,13-trihydroxyoctadeca-10,15-die...\nkey                                  MKYUCBXUUSZMQB-MKZMYESJSA-N[M+Na]+\nPRECURSORMZ                                                    351.2142\nInChIKey                                    MKYUCBXUUSZMQB-MKZMYESJSA-N\nFormula                                                        C18H32O5\nExactMass                                                    328.224974\nAdduct                                                          [M+Na]+\nNum_Peaks                                                            12\nmsms                  149.0918\\t1.055055\\n153.0835\\t2.348348\\n217.13...\nCollision_energy                                                   10 V\nrow_num                                                              27\nmatched_entropy                                                0.626588\nmatched_inchikey                            XKXZAYIPFRBKHT-UHFFFAOYSA-N\nmatched_msms          287.2011\\t5.39\\n305.212\\t2.3\\n315.1959\\t7.19\\n...\nmatched_evaluation                                                False\nexact_entropy                                                  0.131295\nexact_msms            167.0673\\t12.79\\n195.0988\\t49.35\\n235.1186\\t17...\nName: 0, dtype: object"
     },
     "execution_count": 304,
     "metadata": {},
     "output_type": "execute_result"
    }
   ],
   "source": [
    "data_resulted_false.iloc[0]"
   ],
   "metadata": {
    "collapsed": false,
    "pycharm": {
     "name": "#%%\n"
    }
   }
  },
  {
   "cell_type": "code",
   "execution_count": 306,
   "outputs": [
    {
     "data": {
      "text/plain": "index                                                                27\nNAME                  (10E,15Z)-9,12,13-trihydroxyoctadeca-10,15-die...\nkey                                  MKYUCBXUUSZMQB-MKZMYESJSA-N[M+Na]+\nPRECURSORMZ                                                    351.2142\nInChIKey                                    MKYUCBXUUSZMQB-MKZMYESJSA-N\nFormula                                                        C18H32O5\nExactMass                                                    328.224974\nAdduct                                                          [M+Na]+\nNum_Peaks                                                            12\nmsms                  149.0918\\t1.055055\\n153.0835\\t2.348348\\n217.13...\nCollision_energy                                                   10 V\nrow_num                                                              27\nmatched_entropy                                                0.626588\nmatched_inchikey                            XKXZAYIPFRBKHT-UHFFFAOYSA-N\nmatched_msms          287.2011\\t5.39\\n305.212\\t2.3\\n315.1959\\t7.19\\n...\nmatched_evaluation                                                False\nexact_entropy                                                  0.131295\nexact_msms            167.0673\\t12.79\\n195.0988\\t49.35\\n235.1186\\t17...\nName: 0, dtype: object"
     },
     "execution_count": 306,
     "metadata": {},
     "output_type": "execute_result"
    }
   ],
   "source": [
    "data_resulted_false.iloc[0]"
   ],
   "metadata": {
    "collapsed": false,
    "pycharm": {
     "name": "#%%\n"
    }
   }
  },
  {
   "cell_type": "code",
   "execution_count": 310,
   "outputs": [],
   "source": [
    "library_subset = library.loc[library['key']=='MKYUCBXUUSZMQB-MKZMYESJSA-N[M+Na]+']"
   ],
   "metadata": {
    "collapsed": false,
    "pycharm": {
     "name": "#%%\n"
    }
   }
  },
  {
   "cell_type": "code",
   "execution_count": 311,
   "outputs": [
    {
     "data": {
      "text/plain": "                                                   NAME  \\\n6487  (10E,15Z)-9,12,13-Trihydroxyoctadeca-10,15-die...   \n\n                                     key  PRECURSORMZ  \\\n6487  MKYUCBXUUSZMQB-MKZMYESJSA-N[M+Na]+     351.2142   \n\n                         InChIKey   Formula   ExactMass   Adduct  Num_Peaks  \\\n6487  MKYUCBXUUSZMQB-MKZMYESJSA-N  C18H32O5  328.224974  [M+Na]+         29   \n\n                                                   msms Collision_energy  \\\n6487  167.0673\\t12.79\\n195.0988\\t49.35\\n235.1186\\t17...          NCE=35%   \n\n                                 Comment           Instrument_type source  \\\n6487  NIST Mass Spectrometry Data Center  IT-FT/ion trap with FTMS   NIST   \n\n                                        key_all  row_num  \n6487  MKYUCBXUUSZMQB-MKZMYESJSA-N[M+Na]+NCE=35%     6487  ",
      "text/html": "<div>\n<style scoped>\n    .dataframe tbody tr th:only-of-type {\n        vertical-align: middle;\n    }\n\n    .dataframe tbody tr th {\n        vertical-align: top;\n    }\n\n    .dataframe thead th {\n        text-align: right;\n    }\n</style>\n<table border=\"1\" class=\"dataframe\">\n  <thead>\n    <tr style=\"text-align: right;\">\n      <th></th>\n      <th>NAME</th>\n      <th>key</th>\n      <th>PRECURSORMZ</th>\n      <th>InChIKey</th>\n      <th>Formula</th>\n      <th>ExactMass</th>\n      <th>Adduct</th>\n      <th>Num_Peaks</th>\n      <th>msms</th>\n      <th>Collision_energy</th>\n      <th>Comment</th>\n      <th>Instrument_type</th>\n      <th>source</th>\n      <th>key_all</th>\n      <th>row_num</th>\n    </tr>\n  </thead>\n  <tbody>\n    <tr>\n      <th>6487</th>\n      <td>(10E,15Z)-9,12,13-Trihydroxyoctadeca-10,15-die...</td>\n      <td>MKYUCBXUUSZMQB-MKZMYESJSA-N[M+Na]+</td>\n      <td>351.2142</td>\n      <td>MKYUCBXUUSZMQB-MKZMYESJSA-N</td>\n      <td>C18H32O5</td>\n      <td>328.224974</td>\n      <td>[M+Na]+</td>\n      <td>29</td>\n      <td>167.0673\\t12.79\\n195.0988\\t49.35\\n235.1186\\t17...</td>\n      <td>NCE=35%</td>\n      <td>NIST Mass Spectrometry Data Center</td>\n      <td>IT-FT/ion trap with FTMS</td>\n      <td>NIST</td>\n      <td>MKYUCBXUUSZMQB-MKZMYESJSA-N[M+Na]+NCE=35%</td>\n      <td>6487</td>\n    </tr>\n  </tbody>\n</table>\n</div>"
     },
     "execution_count": 311,
     "metadata": {},
     "output_type": "execute_result"
    }
   ],
   "source": [
    "library_subset"
   ],
   "metadata": {
    "collapsed": false,
    "pycharm": {
     "name": "#%%\n"
    }
   }
  },
  {
   "cell_type": "code",
   "execution_count": 305,
   "outputs": [
    {
     "data": {
      "text/plain": "array([[167.0673,  12.79  ],\n       [195.0988,  49.35  ],\n       [235.1186,  17.48  ],\n       [235.1301, 346.65  ],\n       [236.1335,  32.87  ],\n       [253.1276,  20.78  ],\n       [253.1407, 118.18  ],\n       [254.144 ,   6.59  ],\n       [262.1494,   3.1   ],\n       [263.1247,   8.69  ],\n       [264.1328,   5.19  ],\n       [271.1397,   4.3   ],\n       [275.1618,   8.29  ],\n       [275.1999,   8.19  ],\n       [281.1355, 457.14  ],\n       [282.1391,  47.75  ],\n       [293.1729,   5.79  ],\n       [315.1944,  58.14  ],\n       [315.2317,  17.18  ],\n       [332.1612,  38.26  ],\n       [332.188 ,   5.39  ],\n       [332.2224,   4.4   ],\n       [333.2035, 999.    ],\n       [334.2072, 115.98  ],\n       [334.2388,   3.8   ],\n       [350.1718,  11.29  ],\n       [351.2007,  64.54  ],\n       [352.2264,  19.18  ],\n       [353.2514,   2.8   ]], dtype=float32)"
     },
     "execution_count": 305,
     "metadata": {},
     "output_type": "execute_result"
    }
   ],
   "source": [
    "so.convert_string_to_nist(data_resulted_false.iloc[0]['exact_msms'])"
   ],
   "metadata": {
    "collapsed": false,
    "pycharm": {
     "name": "#%%\n"
    }
   }
  },
  {
   "cell_type": "code",
   "execution_count": 303,
   "outputs": [
    {
     "data": {
      "text/plain": "array([[149.0918  ,   1.055055],\n       [153.0835  ,   2.348348],\n       [217.1374  ,   1.487487],\n       [225.0086  ,   1.462462],\n       [269.187   ,   1.121121],\n       [271.2096  ,   1.278278],\n       [283.1692  ,   1.514515],\n       [297.1763  ,   1.962963],\n       [322.0741  ,   1.076076],\n       [333.2081  ,   2.647648],\n       [342.1475  ,   2.039039],\n       [351.2117  , 100.      ]], dtype=float32)"
     },
     "execution_count": 303,
     "metadata": {},
     "output_type": "execute_result"
    }
   ],
   "source": [
    "so.convert_string_to_nist(data_resulted_false.iloc[0]['msms'])"
   ],
   "metadata": {
    "collapsed": false,
    "pycharm": {
     "name": "#%%\n"
    }
   }
  },
  {
   "cell_type": "code",
   "execution_count": 294,
   "outputs": [],
   "source": [
    "mol = Formula('H2O')"
   ],
   "metadata": {
    "collapsed": false,
    "pycharm": {
     "name": "#%%\n"
    }
   }
  },
  {
   "cell_type": "code",
   "execution_count": 295,
   "outputs": [
    {
     "data": {
      "text/plain": "Isotope(18.01056468403, 0.9973405720928632, 18)"
     },
     "execution_count": 295,
     "metadata": {},
     "output_type": "execute_result"
    }
   ],
   "source": [
    "mol.isotope"
   ],
   "metadata": {
    "collapsed": false,
    "pycharm": {
     "name": "#%%\n"
    }
   }
  },
  {
   "cell_type": "code",
   "execution_count": 297,
   "outputs": [
    {
     "data": {
      "text/plain": "0.9833980000000224"
     },
     "execution_count": 297,
     "metadata": {},
     "output_type": "execute_result"
    }
   ],
   "source": [
    "351.217102-350.233704"
   ],
   "metadata": {
    "collapsed": false,
    "pycharm": {
     "name": "#%%\n"
    }
   }
  },
  {
   "cell_type": "code",
   "execution_count": 315,
   "outputs": [],
   "source": [
    "mtf.nl_to_formula(351.2142-350.171814, 0.01, 'C30H48O6')"
   ],
   "metadata": {
    "collapsed": false,
    "pycharm": {
     "name": "#%%\n"
    }
   }
  },
  {
   "cell_type": "code",
   "execution_count": 284,
   "outputs": [
    {
     "data": {
      "text/plain": "[('H', '2')]"
     },
     "execution_count": 284,
     "metadata": {},
     "output_type": "execute_result"
    }
   ],
   "source": [
    "# all_atom_nums = re.findall('([a-zA-Z]+)([0-9]+)', 'H2O')\n",
    "# all_atom_nums"
   ],
   "metadata": {
    "collapsed": false,
    "pycharm": {
     "name": "#%%\n"
    }
   }
  },
  {
   "cell_type": "markdown",
   "source": [
    "# lets use row 7 as example"
   ],
   "metadata": {
    "collapsed": false,
    "pycharm": {
     "name": "#%% md\n"
    }
   }
  },
  {
   "cell_type": "code",
   "execution_count": 241,
   "outputs": [
    {
     "name": "stdout",
     "output_type": "stream",
     "text": [
      "i am spectra operation\n",
      "i am msms_search!!!!!\n"
     ]
    },
    {
     "ename": "NameError",
     "evalue": "name 'Formula' is not defined",
     "output_type": "error",
     "traceback": [
      "\u001B[0;31m---------------------------------------------------------------------------\u001B[0m",
      "\u001B[0;31mNameError\u001B[0m                                 Traceback (most recent call last)",
      "Input \u001B[0;32mIn [241]\u001B[0m, in \u001B[0;36m<cell line: 2>\u001B[0;34m()\u001B[0m\n\u001B[1;32m      1\u001B[0m i \u001B[38;5;241m=\u001B[39m \u001B[38;5;241m7\u001B[39m\n\u001B[0;32m----> 2\u001B[0m f \u001B[38;5;241m=\u001B[39m \u001B[43mFormula\u001B[49m(\u001B[38;5;124m'\u001B[39m\u001B[38;5;124mH2O\u001B[39m\u001B[38;5;124m'\u001B[39m)\n\u001B[1;32m      3\u001B[0m f\u001B[38;5;241m.\u001B[39mformula\n",
      "\u001B[0;31mNameError\u001B[0m: name 'Formula' is not defined"
     ]
    }
   ],
   "source": [
    "i = 7\n"
   ],
   "metadata": {
    "collapsed": false,
    "pycharm": {
     "name": "#%%\n"
    }
   }
  },
  {
   "cell_type": "code",
   "execution_count": 236,
   "outputs": [],
   "source": [],
   "metadata": {
    "collapsed": false,
    "pycharm": {
     "name": "#%%\n"
    }
   }
  },
  {
   "cell_type": "code",
   "execution_count": 239,
   "outputs": [
    {
     "data": {
      "text/plain": "0.918546635836397"
     },
     "execution_count": 239,
     "metadata": {},
     "output_type": "execute_result"
    }
   ],
   "source": [
    "so.entropy_similarity_default(updated_mass, data_resulted_false.iloc[i]['matched_msms'])"
   ],
   "metadata": {
    "collapsed": false,
    "pycharm": {
     "name": "#%%\n"
    }
   }
  },
  {
   "cell_type": "code",
   "execution_count": 240,
   "outputs": [
    {
     "data": {
      "text/plain": "0.866417029137307"
     },
     "execution_count": 240,
     "metadata": {},
     "output_type": "execute_result"
    }
   ],
   "source": [
    "so.entropy_similarity_default(updated_mass, data_resulted_false.iloc[i]['exact_msms'])"
   ],
   "metadata": {
    "collapsed": false,
    "pycharm": {
     "name": "#%%\n"
    }
   }
  },
  {
   "cell_type": "code",
   "execution_count": 62,
   "outputs": [
    {
     "data": {
      "text/plain": "<module 'matplotlib.pyplot' from '/opt/homebrew/Caskroom/miniforge/base/envs/tensorflow/lib/python3.9/site-packages/matplotlib/pyplot.py'>"
     },
     "execution_count": 62,
     "metadata": {},
     "output_type": "execute_result"
    },
    {
     "data": {
      "text/plain": "<Figure size 504x360 with 1 Axes>",
      "image/png": "[encoded data removed]"
     },
     "metadata": {},
     "output_type": "display_data"
    }
   ],
   "source": [
    "plotter.head_to_tail_plot(data_resulted_false.iloc[i]['msms'], data_resulted_false.iloc[i]['exact_msms'])"
   ],
   "metadata": {
    "collapsed": false,
    "pycharm": {
     "name": "#%%\n"
    }
   }
  },
  {
   "cell_type": "code",
   "execution_count": null,
   "outputs": [],
   "source": [],
   "metadata": {
    "collapsed": false,
    "pycharm": {
     "name": "#%%\n"
    }
   }
  },
  {
   "cell_type": "code",
   "execution_count": 65,
   "outputs": [
    {
     "data": {
      "text/plain": "<module 'matplotlib.pyplot' from '/opt/homebrew/Caskroom/miniforge/base/envs/tensorflow/lib/python3.9/site-packages/matplotlib/pyplot.py'>"
     },
     "execution_count": 65,
     "metadata": {},
     "output_type": "execute_result"
    },
    {
     "data": {
      "text/plain": "<Figure size 504x360 with 1 Axes>",
      "image/png": "[encoded data removed]"
     },
     "metadata": {},
     "output_type": "display_data"
    }
   ],
   "source": [
    "plotter.head_to_tail_plot(data_resulted_false.iloc[i]['exact_msms'], data_resulted_false.iloc[i]['matched_msms'])"
   ],
   "metadata": {
    "collapsed": false,
    "pycharm": {
     "name": "#%%\n"
    }
   }
  },
  {
   "cell_type": "code",
   "execution_count": 64,
   "outputs": [
    {
     "data": {
      "text/plain": "<module 'matplotlib.pyplot' from '/opt/homebrew/Caskroom/miniforge/base/envs/tensorflow/lib/python3.9/site-packages/matplotlib/pyplot.py'>"
     },
     "execution_count": 64,
     "metadata": {},
     "output_type": "execute_result"
    },
    {
     "data": {
      "text/plain": "<Figure size 504x360 with 1 Axes>",
      "image/png": "[encoded data removed]"
     },
     "metadata": {},
     "output_type": "display_data"
    }
   ],
   "source": [
    "plotter.head_to_tail_plot(data_resulted_false.iloc[i]['msms'], data_resulted_false.iloc[i]['matched_msms'])"
   ],
   "metadata": {
    "collapsed": false,
    "pycharm": {
     "name": "#%%\n"
    }
   }
  },
  {
   "cell_type": "code",
   "execution_count": 108,
   "outputs": [
    {
     "data": {
      "text/plain": "index                                                              2089\nNAME                                                  3-Hydroxytyramine\nkey                                   VYFYYTLLBUKUHU-UHFFFAOYSA-N[M+H]+\nPRECURSORMZ                                                    154.0863\nInChIKey                                    VYFYYTLLBUKUHU-UHFFFAOYSA-N\nFormula                                                        C8H11NO2\nExactMass                                                    153.078979\nAdduct                                                           [M+H]+\nNum_Peaks                                                            21\nmsms                  101.0386\\t8.237237\\n102.5245\\t9.977978\\n104.32...\nCollision_energy                                                   40 V\nrow_num                                                            2161\nmatched_entropy                                                 0.41846\nmatched_inchikey                            QHGUCRYDKWKLMG-UHFFFAOYSA-N\nmatched_msms          65.04\\t56.24\\n77.04\\t14.49\\n91.05\\t999.0\\n107....\nmatched_evaluation                                                False\nexact_entropy                                                   0.41846\nexact_msms            65.0386\\t78.32\\n79.0544\\t6.59\\n81.0699\\t15.98\\...\nName: 182, dtype: object"
     },
     "execution_count": 108,
     "metadata": {},
     "output_type": "execute_result"
    }
   ],
   "source": [
    "data_resulted_false.iloc[i]"
   ],
   "metadata": {
    "collapsed": false,
    "pycharm": {
     "name": "#%%\n"
    }
   }
  },
  {
   "cell_type": "code",
   "execution_count": 66,
   "outputs": [
    {
     "data": {
      "text/plain": "array([[101.0386  ,   8.237237],\n       [102.5245  ,   9.977978],\n       [104.3262  ,   8.156156],\n       [104.9912  ,  12.602603],\n       [105.9627  ,  10.025025],\n       [106.865   ,   9.167167],\n       [107.049   , 100.      ],\n       [109.0644  ,   7.962963],\n       [110.0314  ,   9.660661],\n       [115.7723  ,   6.673674],\n       [117.0557  ,  35.932934],\n       [117.9167  ,   9.761762],\n       [118.0615  ,  31.492493],\n       [118.4126  ,   7.207207],\n       [119.0447  ,  15.266266],\n       [127.5042  ,  16.02002 ],\n       [130.1401  ,   9.628629],\n       [139.1635  ,   8.856857],\n       [141.7973  ,  11.132132],\n       [151.3006  ,   6.371371],\n       [152.6586  ,   8.800801]], dtype=float32)"
     },
     "execution_count": 66,
     "metadata": {},
     "output_type": "execute_result"
    }
   ],
   "source": [
    "so.convert_string_to_nist(data_resulted_false.iloc[i]['msms'])"
   ],
   "metadata": {
    "collapsed": false,
    "pycharm": {
     "name": "#%%\n"
    }
   }
  },
  {
   "cell_type": "code",
   "execution_count": 173,
   "outputs": [],
   "source": [
    "\n"
   ],
   "metadata": {
    "collapsed": false,
    "pycharm": {
     "name": "#%%\n"
    }
   }
  },
  {
   "cell_type": "code",
   "execution_count": 174,
   "outputs": [],
   "source": [
    "updated_msms = so.pack_spectra(updated_mass, updated_intensity)"
   ],
   "metadata": {
    "collapsed": false,
    "pycharm": {
     "name": "#%%\n"
    }
   }
  },
  {
   "cell_type": "code",
   "execution_count": null,
   "outputs": [],
   "source": [
    "so.entropy_similarity_default(updated_msms, data_resulted_false.iloc[182]['exact_msms'])"
   ],
   "metadata": {
    "collapsed": false,
    "pycharm": {
     "name": "#%%\n"
    }
   }
  },
  {
   "cell_type": "code",
   "execution_count": 179,
   "outputs": [
    {
     "data": {
      "text/plain": "0.18780867771956056"
     },
     "execution_count": 179,
     "metadata": {},
     "output_type": "execute_result"
    }
   ],
   "source": [
    "so.entropy_similarity_default(updated_msms, data_resulted_false.iloc[182]['exact_msms'])"
   ],
   "metadata": {
    "collapsed": false,
    "pycharm": {
     "name": "#%%\n"
    }
   }
  },
  {
   "cell_type": "code",
   "execution_count": 188,
   "outputs": [
    {
     "data": {
      "text/plain": "0.12176073694827472"
     },
     "execution_count": 188,
     "metadata": {},
     "output_type": "execute_result"
    }
   ],
   "source": [
    "so.entropy_similarity_default(data_resulted_false.iloc[182]['msms'], data_resulted_false.iloc[182]['exact_msms'])"
   ],
   "metadata": {
    "collapsed": false,
    "pycharm": {
     "name": "#%%\n"
    }
   }
  },
  {
   "cell_type": "code",
   "execution_count": 190,
   "outputs": [
    {
     "data": {
      "text/plain": "0.418460493346692"
     },
     "execution_count": 190,
     "metadata": {},
     "output_type": "execute_result"
    }
   ],
   "source": [
    "so.entropy_similarity_default(data_resulted_false.iloc[182]['msms'], data_resulted_false.iloc[182]['matched_msms'])"
   ],
   "metadata": {
    "collapsed": false,
    "pycharm": {
     "name": "#%%\n"
    }
   }
  },
  {
   "cell_type": "code",
   "execution_count": 200,
   "outputs": [
    {
     "data": {
      "text/plain": "0.418460493346692"
     },
     "execution_count": 200,
     "metadata": {},
     "output_type": "execute_result"
    }
   ],
   "source": [
    "0.418460493346692"
   ],
   "metadata": {
    "collapsed": false,
    "pycharm": {
     "name": "#%%\n"
    }
   }
  },
  {
   "cell_type": "code",
   "execution_count": 186,
   "outputs": [
    {
     "data": {
      "text/plain": "'65.0386\\t78.32\\n79.0544\\t6.59\\n81.0699\\t15.98\\n91.0544\\t999.0\\n109.065\\t13.79\\n119.0461\\t2.0\\n119.0495\\t199.8\\n137.0602\\t89.81'"
     },
     "execution_count": 186,
     "metadata": {},
     "output_type": "execute_result"
    }
   ],
   "source": [
    "data_resulted_false.iloc[182]['exact_msms']"
   ],
   "metadata": {
    "collapsed": false,
    "pycharm": {
     "name": "#%%\n"
    }
   }
  },
  {
   "cell_type": "code",
   "execution_count": 187,
   "outputs": [
    {
     "data": {
      "text/plain": "'101.0386\\t8.237237\\n104.9912\\t12.602603\\n107.049\\t100.0\\n109.0644\\t7.962963\\n110.0314\\t9.660661\\n117.0557\\t35.932933\\n118.0615\\t31.492492\\n119.0447\\t15.266266'"
     },
     "execution_count": 187,
     "metadata": {},
     "output_type": "execute_result"
    }
   ],
   "source": [
    "updated_msms"
   ],
   "metadata": {
    "collapsed": false,
    "pycharm": {
     "name": "#%%\n"
    }
   }
  },
  {
   "cell_type": "code",
   "execution_count": 191,
   "outputs": [
    {
     "name": "stdout",
     "output_type": "stream",
     "text": [
      "i am msms_search!!!!!\n"
     ]
    }
   ],
   "source": [
    "instance = data_resulted_false.iloc[182]"
   ],
   "metadata": {
    "collapsed": false,
    "pycharm": {
     "name": "#%%\n"
    }
   }
  },
  {
   "cell_type": "code",
   "execution_count": 192,
   "outputs": [],
   "source": [
    "entropy = []\n",
    "library_subset = library.loc[library['key']==instance['key']]\n",
    "\n",
    "\n",
    "    # return(entropy[index_max], library_subset.loc[index_max]['msms'])"
   ],
   "metadata": {
    "collapsed": false,
    "pycharm": {
     "name": "#%%\n"
    }
   }
  },
  {
   "cell_type": "code",
   "execution_count": 194,
   "outputs": [
    {
     "data": {
      "text/plain": "          NAME                                key  PRECURSORMZ  \\\n343   Dopamine  VYFYYTLLBUKUHU-UHFFFAOYSA-N[M+H]+     154.0863   \n344   Dopamine  VYFYYTLLBUKUHU-UHFFFAOYSA-N[M+H]+     154.0863   \n345   Dopamine  VYFYYTLLBUKUHU-UHFFFAOYSA-N[M+H]+     154.0863   \n346   Dopamine  VYFYYTLLBUKUHU-UHFFFAOYSA-N[M+H]+     154.0863   \n347   Dopamine  VYFYYTLLBUKUHU-UHFFFAOYSA-N[M+H]+     154.0863   \n348   Dopamine  VYFYYTLLBUKUHU-UHFFFAOYSA-N[M+H]+     154.0863   \n349   Dopamine  VYFYYTLLBUKUHU-UHFFFAOYSA-N[M+H]+     154.0863   \n350   Dopamine  VYFYYTLLBUKUHU-UHFFFAOYSA-N[M+H]+     154.0863   \n351   Dopamine  VYFYYTLLBUKUHU-UHFFFAOYSA-N[M+H]+     154.0863   \n352   Dopamine  VYFYYTLLBUKUHU-UHFFFAOYSA-N[M+H]+     154.0863   \n353   Dopamine  VYFYYTLLBUKUHU-UHFFFAOYSA-N[M+H]+     154.0863   \n2678  Dopamine  VYFYYTLLBUKUHU-UHFFFAOYSA-N[M+H]+     154.0863   \n2679  Dopamine  VYFYYTLLBUKUHU-UHFFFAOYSA-N[M+H]+     154.0863   \n2680  Dopamine  VYFYYTLLBUKUHU-UHFFFAOYSA-N[M+H]+     154.0863   \n2681  Dopamine  VYFYYTLLBUKUHU-UHFFFAOYSA-N[M+H]+     154.0863   \n2682  Dopamine  VYFYYTLLBUKUHU-UHFFFAOYSA-N[M+H]+     154.0863   \n2683  Dopamine  VYFYYTLLBUKUHU-UHFFFAOYSA-N[M+H]+     154.0863   \n2684  Dopamine  VYFYYTLLBUKUHU-UHFFFAOYSA-N[M+H]+     154.0863   \n2685  Dopamine  VYFYYTLLBUKUHU-UHFFFAOYSA-N[M+H]+     154.0863   \n2686  Dopamine  VYFYYTLLBUKUHU-UHFFFAOYSA-N[M+H]+     154.0863   \n2687  Dopamine  VYFYYTLLBUKUHU-UHFFFAOYSA-N[M+H]+     154.0863   \n2688  Dopamine  VYFYYTLLBUKUHU-UHFFFAOYSA-N[M+H]+     154.0863   \n2689  Dopamine  VYFYYTLLBUKUHU-UHFFFAOYSA-N[M+H]+     154.0863   \n2690  Dopamine  VYFYYTLLBUKUHU-UHFFFAOYSA-N[M+H]+     154.0863   \n2691  Dopamine  VYFYYTLLBUKUHU-UHFFFAOYSA-N[M+H]+     154.0863   \n2692  Dopamine  VYFYYTLLBUKUHU-UHFFFAOYSA-N[M+H]+     154.0863   \n2693  Dopamine  VYFYYTLLBUKUHU-UHFFFAOYSA-N[M+H]+     154.0863   \n2694  Dopamine  VYFYYTLLBUKUHU-UHFFFAOYSA-N[M+H]+     154.0863   \n2695  Dopamine  VYFYYTLLBUKUHU-UHFFFAOYSA-N[M+H]+     154.0863   \n\n                         InChIKey   Formula   ExactMass  Adduct  Num_Peaks  \\\n343   VYFYYTLLBUKUHU-UHFFFAOYSA-N  C8H11NO2  153.078979  [M+H]+          5   \n344   VYFYYTLLBUKUHU-UHFFFAOYSA-N  C8H11NO2  153.078979  [M+H]+          4   \n345   VYFYYTLLBUKUHU-UHFFFAOYSA-N  C8H11NO2  153.078979  [M+H]+          4   \n346   VYFYYTLLBUKUHU-UHFFFAOYSA-N  C8H11NO2  153.078979  [M+H]+          4   \n347   VYFYYTLLBUKUHU-UHFFFAOYSA-N  C8H11NO2  153.078979  [M+H]+          6   \n348   VYFYYTLLBUKUHU-UHFFFAOYSA-N  C8H11NO2  153.078979  [M+H]+          7   \n349   VYFYYTLLBUKUHU-UHFFFAOYSA-N  C8H11NO2  153.078979  [M+H]+          7   \n350   VYFYYTLLBUKUHU-UHFFFAOYSA-N  C8H11NO2  153.078979  [M+H]+          7   \n351   VYFYYTLLBUKUHU-UHFFFAOYSA-N  C8H11NO2  153.078979  [M+H]+          7   \n352   VYFYYTLLBUKUHU-UHFFFAOYSA-N  C8H11NO2  153.078979  [M+H]+          8   \n353   VYFYYTLLBUKUHU-UHFFFAOYSA-N  C8H11NO2  153.078979  [M+H]+         12   \n2678  VYFYYTLLBUKUHU-UHFFFAOYSA-N  C8H11NO2  153.078979  [M+H]+          2   \n2679  VYFYYTLLBUKUHU-UHFFFAOYSA-N  C8H11NO2  153.078979  [M+H]+          3   \n2680  VYFYYTLLBUKUHU-UHFFFAOYSA-N  C8H11NO2  153.078979  [M+H]+          3   \n2681  VYFYYTLLBUKUHU-UHFFFAOYSA-N  C8H11NO2  153.078979  [M+H]+          2   \n2682  VYFYYTLLBUKUHU-UHFFFAOYSA-N  C8H11NO2  153.078979  [M+H]+          2   \n2683  VYFYYTLLBUKUHU-UHFFFAOYSA-N  C8H11NO2  153.078979  [M+H]+          3   \n2684  VYFYYTLLBUKUHU-UHFFFAOYSA-N  C8H11NO2  153.078979  [M+H]+          4   \n2685  VYFYYTLLBUKUHU-UHFFFAOYSA-N  C8H11NO2  153.078979  [M+H]+          4   \n2686  VYFYYTLLBUKUHU-UHFFFAOYSA-N  C8H11NO2  153.078979  [M+H]+          4   \n2687  VYFYYTLLBUKUHU-UHFFFAOYSA-N  C8H11NO2  153.078979  [M+H]+          5   \n2688  VYFYYTLLBUKUHU-UHFFFAOYSA-N  C8H11NO2  153.078979  [M+H]+          4   \n2689  VYFYYTLLBUKUHU-UHFFFAOYSA-N  C8H11NO2  153.078979  [M+H]+          5   \n2690  VYFYYTLLBUKUHU-UHFFFAOYSA-N  C8H11NO2  153.078979  [M+H]+          7   \n2691  VYFYYTLLBUKUHU-UHFFFAOYSA-N  C8H11NO2  153.078979  [M+H]+          8   \n2692  VYFYYTLLBUKUHU-UHFFFAOYSA-N  C8H11NO2  153.078979  [M+H]+          8   \n2693  VYFYYTLLBUKUHU-UHFFFAOYSA-N  C8H11NO2  153.078979  [M+H]+          6   \n2694  VYFYYTLLBUKUHU-UHFFFAOYSA-N  C8H11NO2  153.078979  [M+H]+          8   \n2695  VYFYYTLLBUKUHU-UHFFFAOYSA-N  C8H11NO2  153.078979  [M+H]+          2   \n\n                                                   msms Collision_energy  \\\n343   91.05\\t33.17\\n119.05\\t17.78\\n137.06\\t999.0\\n15...                2   \n344   91.05\\t33.37\\n119.05\\t20.68\\n137.05\\t999.0\\n15...                4   \n345   91.05\\t37.86\\n119.04\\t29.87\\n137.05\\t999.0\\n15...                6   \n346   91.05\\t57.84\\n119.04\\t45.55\\n137.05\\t999.0\\n15...                8   \n347   65.04\\t44.36\\n81.07\\t26.77\\n91.05\\t999.0\\n109....               18   \n348   65.04\\t55.84\\n79.05\\t13.29\\n81.07\\t21.98\\n91.0...               20   \n349   65.04\\t97.3\\n79.05\\t13.39\\n81.07\\t24.48\\n91.05...               23   \n350   65.04\\t122.38\\n79.05\\t18.48\\n81.07\\t20.08\\n91....               25   \n351   65.04\\t209.49\\n79.05\\t13.09\\n81.07\\t16.48\\n91....               27   \n352   39.02\\t10.59\\n41.04\\t19.98\\n65.04\\t318.48\\n79....               30   \n353   39.02\\t37.16\\n41.04\\t38.96\\n51.02\\t14.59\\n53.0...               35   \n2678                  137.0603\\t139.46\\n154.0869\\t999.0       NCE=2% 0eV   \n2679   119.0455\\t3.2\\n137.0602\\t239.86\\n154.0869\\t999.0       NCE=2% 1eV   \n2680   119.0457\\t3.2\\n137.0603\\t553.65\\n154.0868\\t999.0      NCE=10% 3eV   \n2681                   137.0602\\t999.0\\n154.0868\\t803.2      NCE=15% 4eV   \n2682                  137.0602\\t999.0\\n154.0868\\t371.03      NCE=20% 6eV   \n2683   119.0445\\t2.2\\n137.0603\\t999.0\\n154.0869\\t172.93      NCE=25% 7eV   \n2684  91.0544\\t3.4\\n119.0494\\t4.7\\n137.0602\\t999.0\\n...      NCE=30% 9eV   \n2685  91.0544\\t10.29\\n119.0495\\t12.39\\n137.0602\\t999...     NCE=30% 10eV   \n2686  91.0544\\t26.47\\n119.0496\\t31.47\\n137.0602\\t999...     NCE=40% 12eV   \n2687  91.0544\\t54.25\\n109.0649\\t6.09\\n119.0496\\t66.1...     NCE=40% 13eV   \n2688  91.0544\\t112.19\\n109.0652\\t10.39\\n119.0496\\t12...     NCE=50% 15eV   \n2689  81.07\\t6.19\\n91.0544\\t396.0\\n109.0652\\t26.77\\n...     NCE=60% 18eV   \n2690  65.0386\\t22.68\\n79.0543\\t3.7\\n81.07\\t24.08\\n91...     NCE=75% 23eV   \n2691  65.0386\\t78.32\\n79.0544\\t6.59\\n81.0699\\t15.98\\...     NCE=90% 27eV   \n2692  63.0229\\t3.4\\n65.0386\\t293.21\\n79.0543\\t8.09\\n...    NCE=105% 33eV   \n2693  63.023\\t29.27\\n65.0386\\t791.21\\n79.0543\\t10.29...    NCE=130% 40eV   \n2694  50.0151\\t8.49\\n51.023\\t15.98\\n62.0152\\t4.8\\n63...    NCE=160% 49eV   \n2695                      119.045\\t3.6\\n137.0603\\t999.0          NCE=35%   \n\n                                 Comment           Instrument_type source  \\\n343   NIST Mass Spectrometry Data Center                     Q-TOF   NIST   \n344   NIST Mass Spectrometry Data Center                     Q-TOF   NIST   \n345   NIST Mass Spectrometry Data Center                     Q-TOF   NIST   \n346   NIST Mass Spectrometry Data Center                     Q-TOF   NIST   \n347   NIST Mass Spectrometry Data Center                     Q-TOF   NIST   \n348   NIST Mass Spectrometry Data Center                     Q-TOF   NIST   \n349   NIST Mass Spectrometry Data Center                     Q-TOF   NIST   \n350   NIST Mass Spectrometry Data Center                     Q-TOF   NIST   \n351   NIST Mass Spectrometry Data Center                     Q-TOF   NIST   \n352   NIST Mass Spectrometry Data Center                     Q-TOF   NIST   \n353   NIST Mass Spectrometry Data Center                     Q-TOF   NIST   \n2678  NIST Mass Spectrometry Data Center                       HCD   NIST   \n2679  NIST Mass Spectrometry Data Center                       HCD   NIST   \n2680  NIST Mass Spectrometry Data Center                       HCD   NIST   \n2681  NIST Mass Spectrometry Data Center                       HCD   NIST   \n2682  NIST Mass Spectrometry Data Center                       HCD   NIST   \n2683  NIST Mass Spectrometry Data Center                       HCD   NIST   \n2684  NIST Mass Spectrometry Data Center                       HCD   NIST   \n2685  NIST Mass Spectrometry Data Center                       HCD   NIST   \n2686  NIST Mass Spectrometry Data Center                       HCD   NIST   \n2687  NIST Mass Spectrometry Data Center                       HCD   NIST   \n2688  NIST Mass Spectrometry Data Center                       HCD   NIST   \n2689  NIST Mass Spectrometry Data Center                       HCD   NIST   \n2690  NIST Mass Spectrometry Data Center                       HCD   NIST   \n2691  NIST Mass Spectrometry Data Center                       HCD   NIST   \n2692  NIST Mass Spectrometry Data Center                       HCD   NIST   \n2693  NIST Mass Spectrometry Data Center                       HCD   NIST   \n2694  NIST Mass Spectrometry Data Center                       HCD   NIST   \n2695  NIST Mass Spectrometry Data Center  IT-FT/ion trap with FTMS   NIST   \n\n                                             key_all  row_num  \n343               VYFYYTLLBUKUHU-UHFFFAOYSA-N[M+H]+2      343  \n344               VYFYYTLLBUKUHU-UHFFFAOYSA-N[M+H]+4      344  \n345               VYFYYTLLBUKUHU-UHFFFAOYSA-N[M+H]+6      345  \n346               VYFYYTLLBUKUHU-UHFFFAOYSA-N[M+H]+8      346  \n347              VYFYYTLLBUKUHU-UHFFFAOYSA-N[M+H]+18      347  \n348              VYFYYTLLBUKUHU-UHFFFAOYSA-N[M+H]+20      348  \n349              VYFYYTLLBUKUHU-UHFFFAOYSA-N[M+H]+23      349  \n350              VYFYYTLLBUKUHU-UHFFFAOYSA-N[M+H]+25      350  \n351              VYFYYTLLBUKUHU-UHFFFAOYSA-N[M+H]+27      351  \n352              VYFYYTLLBUKUHU-UHFFFAOYSA-N[M+H]+30      352  \n353              VYFYYTLLBUKUHU-UHFFFAOYSA-N[M+H]+35      353  \n2678     VYFYYTLLBUKUHU-UHFFFAOYSA-N[M+H]+NCE=2% 0eV     2678  \n2679     VYFYYTLLBUKUHU-UHFFFAOYSA-N[M+H]+NCE=2% 1eV     2679  \n2680    VYFYYTLLBUKUHU-UHFFFAOYSA-N[M+H]+NCE=10% 3eV     2680  \n2681    VYFYYTLLBUKUHU-UHFFFAOYSA-N[M+H]+NCE=15% 4eV     2681  \n2682    VYFYYTLLBUKUHU-UHFFFAOYSA-N[M+H]+NCE=20% 6eV     2682  \n2683    VYFYYTLLBUKUHU-UHFFFAOYSA-N[M+H]+NCE=25% 7eV     2683  \n2684    VYFYYTLLBUKUHU-UHFFFAOYSA-N[M+H]+NCE=30% 9eV     2684  \n2685   VYFYYTLLBUKUHU-UHFFFAOYSA-N[M+H]+NCE=30% 10eV     2685  \n2686   VYFYYTLLBUKUHU-UHFFFAOYSA-N[M+H]+NCE=40% 12eV     2686  \n2687   VYFYYTLLBUKUHU-UHFFFAOYSA-N[M+H]+NCE=40% 13eV     2687  \n2688   VYFYYTLLBUKUHU-UHFFFAOYSA-N[M+H]+NCE=50% 15eV     2688  \n2689   VYFYYTLLBUKUHU-UHFFFAOYSA-N[M+H]+NCE=60% 18eV     2689  \n2690   VYFYYTLLBUKUHU-UHFFFAOYSA-N[M+H]+NCE=75% 23eV     2690  \n2691   VYFYYTLLBUKUHU-UHFFFAOYSA-N[M+H]+NCE=90% 27eV     2691  \n2692  VYFYYTLLBUKUHU-UHFFFAOYSA-N[M+H]+NCE=105% 33eV     2692  \n2693  VYFYYTLLBUKUHU-UHFFFAOYSA-N[M+H]+NCE=130% 40eV     2693  \n2694  VYFYYTLLBUKUHU-UHFFFAOYSA-N[M+H]+NCE=160% 49eV     2694  \n2695        VYFYYTLLBUKUHU-UHFFFAOYSA-N[M+H]+NCE=35%     2695  ",
      "text/html": "<div>\n<style scoped>\n    .dataframe tbody tr th:only-of-type {\n        vertical-align: middle;\n    }\n\n    .dataframe tbody tr th {\n        vertical-align: top;\n    }\n\n    .dataframe thead th {\n        text-align: right;\n    }\n</style>\n<table border=\"1\" class=\"dataframe\">\n  <thead>\n    <tr style=\"text-align: right;\">\n      <th></th>\n      <th>NAME</th>\n      <th>key</th>\n      <th>PRECURSORMZ</th>\n      <th>InChIKey</th>\n      <th>Formula</th>\n      <th>ExactMass</th>\n      <th>Adduct</th>\n      <th>Num_Peaks</th>\n      <th>msms</th>\n      <th>Collision_energy</th>\n      <th>Comment</th>\n      <th>Instrument_type</th>\n      <th>source</th>\n      <th>key_all</th>\n      <th>row_num</th>\n    </tr>\n  </thead>\n  <tbody>\n    <tr>\n      <th>343</th>\n      <td>Dopamine</td>\n      <td>VYFYYTLLBUKUHU-UHFFFAOYSA-N[M+H]+</td>\n      <td>154.0863</td>\n      <td>VYFYYTLLBUKUHU-UHFFFAOYSA-N</td>\n      <td>C8H11NO2</td>\n      <td>153.078979</td>\n      <td>[M+H]+</td>\n      <td>5</td>\n      <td>91.05\\t33.17\\n119.05\\t17.78\\n137.06\\t999.0\\n15...</td>\n      <td>2</td>\n      <td>NIST Mass Spectrometry Data Center</td>\n      <td>Q-TOF</td>\n      <td>NIST</td>\n      <td>VYFYYTLLBUKUHU-UHFFFAOYSA-N[M+H]+2</td>\n      <td>343</td>\n    </tr>\n    <tr>\n      <th>344</th>\n      <td>Dopamine</td>\n      <td>VYFYYTLLBUKUHU-UHFFFAOYSA-N[M+H]+</td>\n      <td>154.0863</td>\n      <td>VYFYYTLLBUKUHU-UHFFFAOYSA-N</td>\n      <td>C8H11NO2</td>\n      <td>153.078979</td>\n      <td>[M+H]+</td>\n      <td>4</td>\n      <td>91.05\\t33.37\\n119.05\\t20.68\\n137.05\\t999.0\\n15...</td>\n      <td>4</td>\n      <td>NIST Mass Spectrometry Data Center</td>\n      <td>Q-TOF</td>\n      <td>NIST</td>\n      <td>VYFYYTLLBUKUHU-UHFFFAOYSA-N[M+H]+4</td>\n      <td>344</td>\n    </tr>\n    <tr>\n      <th>345</th>\n      <td>Dopamine</td>\n      <td>VYFYYTLLBUKUHU-UHFFFAOYSA-N[M+H]+</td>\n      <td>154.0863</td>\n      <td>VYFYYTLLBUKUHU-UHFFFAOYSA-N</td>\n      <td>C8H11NO2</td>\n      <td>153.078979</td>\n      <td>[M+H]+</td>\n      <td>4</td>\n      <td>91.05\\t37.86\\n119.04\\t29.87\\n137.05\\t999.0\\n15...</td>\n      <td>6</td>\n      <td>NIST Mass Spectrometry Data Center</td>\n      <td>Q-TOF</td>\n      <td>NIST</td>\n      <td>VYFYYTLLBUKUHU-UHFFFAOYSA-N[M+H]+6</td>\n      <td>345</td>\n    </tr>\n    <tr>\n      <th>346</th>\n      <td>Dopamine</td>\n      <td>VYFYYTLLBUKUHU-UHFFFAOYSA-N[M+H]+</td>\n      <td>154.0863</td>\n      <td>VYFYYTLLBUKUHU-UHFFFAOYSA-N</td>\n      <td>C8H11NO2</td>\n      <td>153.078979</td>\n      <td>[M+H]+</td>\n      <td>4</td>\n      <td>91.05\\t57.84\\n119.04\\t45.55\\n137.05\\t999.0\\n15...</td>\n      <td>8</td>\n      <td>NIST Mass Spectrometry Data Center</td>\n      <td>Q-TOF</td>\n      <td>NIST</td>\n      <td>VYFYYTLLBUKUHU-UHFFFAOYSA-N[M+H]+8</td>\n      <td>346</td>\n    </tr>\n    <tr>\n      <th>347</th>\n      <td>Dopamine</td>\n      <td>VYFYYTLLBUKUHU-UHFFFAOYSA-N[M+H]+</td>\n      <td>154.0863</td>\n      <td>VYFYYTLLBUKUHU-UHFFFAOYSA-N</td>\n      <td>C8H11NO2</td>\n      <td>153.078979</td>\n      <td>[M+H]+</td>\n      <td>6</td>\n      <td>65.04\\t44.36\\n81.07\\t26.77\\n91.05\\t999.0\\n109....</td>\n      <td>18</td>\n      <td>NIST Mass Spectrometry Data Center</td>\n      <td>Q-TOF</td>\n      <td>NIST</td>\n      <td>VYFYYTLLBUKUHU-UHFFFAOYSA-N[M+H]+18</td>\n      <td>347</td>\n    </tr>\n    <tr>\n      <th>348</th>\n      <td>Dopamine</td>\n      <td>VYFYYTLLBUKUHU-UHFFFAOYSA-N[M+H]+</td>\n      <td>154.0863</td>\n      <td>VYFYYTLLBUKUHU-UHFFFAOYSA-N</td>\n      <td>C8H11NO2</td>\n      <td>153.078979</td>\n      <td>[M+H]+</td>\n      <td>7</td>\n      <td>65.04\\t55.84\\n79.05\\t13.29\\n81.07\\t21.98\\n91.0...</td>\n      <td>20</td>\n      <td>NIST Mass Spectrometry Data Center</td>\n      <td>Q-TOF</td>\n      <td>NIST</td>\n      <td>VYFYYTLLBUKUHU-UHFFFAOYSA-N[M+H]+20</td>\n      <td>348</td>\n    </tr>\n    <tr>\n      <th>349</th>\n      <td>Dopamine</td>\n      <td>VYFYYTLLBUKUHU-UHFFFAOYSA-N[M+H]+</td>\n      <td>154.0863</td>\n      <td>VYFYYTLLBUKUHU-UHFFFAOYSA-N</td>\n      <td>C8H11NO2</td>\n      <td>153.078979</td>\n      <td>[M+H]+</td>\n      <td>7</td>\n      <td>65.04\\t97.3\\n79.05\\t13.39\\n81.07\\t24.48\\n91.05...</td>\n      <td>23</td>\n      <td>NIST Mass Spectrometry Data Center</td>\n      <td>Q-TOF</td>\n      <td>NIST</td>\n      <td>VYFYYTLLBUKUHU-UHFFFAOYSA-N[M+H]+23</td>\n      <td>349</td>\n    </tr>\n    <tr>\n      <th>350</th>\n      <td>Dopamine</td>\n      <td>VYFYYTLLBUKUHU-UHFFFAOYSA-N[M+H]+</td>\n      <td>154.0863</td>\n      <td>VYFYYTLLBUKUHU-UHFFFAOYSA-N</td>\n      <td>C8H11NO2</td>\n      <td>153.078979</td>\n      <td>[M+H]+</td>\n      <td>7</td>\n      <td>65.04\\t122.38\\n79.05\\t18.48\\n81.07\\t20.08\\n91....</td>\n      <td>25</td>\n      <td>NIST Mass Spectrometry Data Center</td>\n      <td>Q-TOF</td>\n      <td>NIST</td>\n      <td>VYFYYTLLBUKUHU-UHFFFAOYSA-N[M+H]+25</td>\n      <td>350</td>\n    </tr>\n    <tr>\n      <th>351</th>\n      <td>Dopamine</td>\n      <td>VYFYYTLLBUKUHU-UHFFFAOYSA-N[M+H]+</td>\n      <td>154.0863</td>\n      <td>VYFYYTLLBUKUHU-UHFFFAOYSA-N</td>\n      <td>C8H11NO2</td>\n      <td>153.078979</td>\n      <td>[M+H]+</td>\n      <td>7</td>\n      <td>65.04\\t209.49\\n79.05\\t13.09\\n81.07\\t16.48\\n91....</td>\n      <td>27</td>\n      <td>NIST Mass Spectrometry Data Center</td>\n      <td>Q-TOF</td>\n      <td>NIST</td>\n      <td>VYFYYTLLBUKUHU-UHFFFAOYSA-N[M+H]+27</td>\n      <td>351</td>\n    </tr>\n    <tr>\n      <th>352</th>\n      <td>Dopamine</td>\n      <td>VYFYYTLLBUKUHU-UHFFFAOYSA-N[M+H]+</td>\n      <td>154.0863</td>\n      <td>VYFYYTLLBUKUHU-UHFFFAOYSA-N</td>\n      <td>C8H11NO2</td>\n      <td>153.078979</td>\n      <td>[M+H]+</td>\n      <td>8</td>\n      <td>39.02\\t10.59\\n41.04\\t19.98\\n65.04\\t318.48\\n79....</td>\n      <td>30</td>\n      <td>NIST Mass Spectrometry Data Center</td>\n      <td>Q-TOF</td>\n      <td>NIST</td>\n      <td>VYFYYTLLBUKUHU-UHFFFAOYSA-N[M+H]+30</td>\n      <td>352</td>\n    </tr>\n    <tr>\n      <th>353</th>\n      <td>Dopamine</td>\n      <td>VYFYYTLLBUKUHU-UHFFFAOYSA-N[M+H]+</td>\n      <td>154.0863</td>\n      <td>VYFYYTLLBUKUHU-UHFFFAOYSA-N</td>\n      <td>C8H11NO2</td>\n      <td>153.078979</td>\n      <td>[M+H]+</td>\n      <td>12</td>\n      <td>39.02\\t37.16\\n41.04\\t38.96\\n51.02\\t14.59\\n53.0...</td>\n      <td>35</td>\n      <td>NIST Mass Spectrometry Data Center</td>\n      <td>Q-TOF</td>\n      <td>NIST</td>\n      <td>VYFYYTLLBUKUHU-UHFFFAOYSA-N[M+H]+35</td>\n      <td>353</td>\n    </tr>\n    <tr>\n      <th>2678</th>\n      <td>Dopamine</td>\n      <td>VYFYYTLLBUKUHU-UHFFFAOYSA-N[M+H]+</td>\n      <td>154.0863</td>\n      <td>VYFYYTLLBUKUHU-UHFFFAOYSA-N</td>\n      <td>C8H11NO2</td>\n      <td>153.078979</td>\n      <td>[M+H]+</td>\n      <td>2</td>\n      <td>137.0603\\t139.46\\n154.0869\\t999.0</td>\n      <td>NCE=2% 0eV</td>\n      <td>NIST Mass Spectrometry Data Center</td>\n      <td>HCD</td>\n      <td>NIST</td>\n      <td>VYFYYTLLBUKUHU-UHFFFAOYSA-N[M+H]+NCE=2% 0eV</td>\n      <td>2678</td>\n    </tr>\n    <tr>\n      <th>2679</th>\n      <td>Dopamine</td>\n      <td>VYFYYTLLBUKUHU-UHFFFAOYSA-N[M+H]+</td>\n      <td>154.0863</td>\n      <td>VYFYYTLLBUKUHU-UHFFFAOYSA-N</td>\n      <td>C8H11NO2</td>\n      <td>153.078979</td>\n      <td>[M+H]+</td>\n      <td>3</td>\n      <td>119.0455\\t3.2\\n137.0602\\t239.86\\n154.0869\\t999.0</td>\n      <td>NCE=2% 1eV</td>\n      <td>NIST Mass Spectrometry Data Center</td>\n      <td>HCD</td>\n      <td>NIST</td>\n      <td>VYFYYTLLBUKUHU-UHFFFAOYSA-N[M+H]+NCE=2% 1eV</td>\n      <td>2679</td>\n    </tr>\n    <tr>\n      <th>2680</th>\n      <td>Dopamine</td>\n      <td>VYFYYTLLBUKUHU-UHFFFAOYSA-N[M+H]+</td>\n      <td>154.0863</td>\n      <td>VYFYYTLLBUKUHU-UHFFFAOYSA-N</td>\n      <td>C8H11NO2</td>\n      <td>153.078979</td>\n      <td>[M+H]+</td>\n      <td>3</td>\n      <td>119.0457\\t3.2\\n137.0603\\t553.65\\n154.0868\\t999.0</td>\n      <td>NCE=10% 3eV</td>\n      <td>NIST Mass Spectrometry Data Center</td>\n      <td>HCD</td>\n      <td>NIST</td>\n      <td>VYFYYTLLBUKUHU-UHFFFAOYSA-N[M+H]+NCE=10% 3eV</td>\n      <td>2680</td>\n    </tr>\n    <tr>\n      <th>2681</th>\n      <td>Dopamine</td>\n      <td>VYFYYTLLBUKUHU-UHFFFAOYSA-N[M+H]+</td>\n      <td>154.0863</td>\n      <td>VYFYYTLLBUKUHU-UHFFFAOYSA-N</td>\n      <td>C8H11NO2</td>\n      <td>153.078979</td>\n      <td>[M+H]+</td>\n      <td>2</td>\n      <td>137.0602\\t999.0\\n154.0868\\t803.2</td>\n      <td>NCE=15% 4eV</td>\n      <td>NIST Mass Spectrometry Data Center</td>\n      <td>HCD</td>\n      <td>NIST</td>\n      <td>VYFYYTLLBUKUHU-UHFFFAOYSA-N[M+H]+NCE=15% 4eV</td>\n      <td>2681</td>\n    </tr>\n    <tr>\n      <th>2682</th>\n      <td>Dopamine</td>\n      <td>VYFYYTLLBUKUHU-UHFFFAOYSA-N[M+H]+</td>\n      <td>154.0863</td>\n      <td>VYFYYTLLBUKUHU-UHFFFAOYSA-N</td>\n      <td>C8H11NO2</td>\n      <td>153.078979</td>\n      <td>[M+H]+</td>\n      <td>2</td>\n      <td>137.0602\\t999.0\\n154.0868\\t371.03</td>\n      <td>NCE=20% 6eV</td>\n      <td>NIST Mass Spectrometry Data Center</td>\n      <td>HCD</td>\n      <td>NIST</td>\n      <td>VYFYYTLLBUKUHU-UHFFFAOYSA-N[M+H]+NCE=20% 6eV</td>\n      <td>2682</td>\n    </tr>\n    <tr>\n      <th>2683</th>\n      <td>Dopamine</td>\n      <td>VYFYYTLLBUKUHU-UHFFFAOYSA-N[M+H]+</td>\n      <td>154.0863</td>\n      <td>VYFYYTLLBUKUHU-UHFFFAOYSA-N</td>\n      <td>C8H11NO2</td>\n      <td>153.078979</td>\n      <td>[M+H]+</td>\n      <td>3</td>\n      <td>119.0445\\t2.2\\n137.0603\\t999.0\\n154.0869\\t172.93</td>\n      <td>NCE=25% 7eV</td>\n      <td>NIST Mass Spectrometry Data Center</td>\n      <td>HCD</td>\n      <td>NIST</td>\n      <td>VYFYYTLLBUKUHU-UHFFFAOYSA-N[M+H]+NCE=25% 7eV</td>\n      <td>2683</td>\n    </tr>\n    <tr>\n      <th>2684</th>\n      <td>Dopamine</td>\n      <td>VYFYYTLLBUKUHU-UHFFFAOYSA-N[M+H]+</td>\n      <td>154.0863</td>\n      <td>VYFYYTLLBUKUHU-UHFFFAOYSA-N</td>\n      <td>C8H11NO2</td>\n      <td>153.078979</td>\n      <td>[M+H]+</td>\n      <td>4</td>\n      <td>91.0544\\t3.4\\n119.0494\\t4.7\\n137.0602\\t999.0\\n...</td>\n      <td>NCE=30% 9eV</td>\n      <td>NIST Mass Spectrometry Data Center</td>\n      <td>HCD</td>\n      <td>NIST</td>\n      <td>VYFYYTLLBUKUHU-UHFFFAOYSA-N[M+H]+NCE=30% 9eV</td>\n      <td>2684</td>\n    </tr>\n    <tr>\n      <th>2685</th>\n      <td>Dopamine</td>\n      <td>VYFYYTLLBUKUHU-UHFFFAOYSA-N[M+H]+</td>\n      <td>154.0863</td>\n      <td>VYFYYTLLBUKUHU-UHFFFAOYSA-N</td>\n      <td>C8H11NO2</td>\n      <td>153.078979</td>\n      <td>[M+H]+</td>\n      <td>4</td>\n      <td>91.0544\\t10.29\\n119.0495\\t12.39\\n137.0602\\t999...</td>\n      <td>NCE=30% 10eV</td>\n      <td>NIST Mass Spectrometry Data Center</td>\n      <td>HCD</td>\n      <td>NIST</td>\n      <td>VYFYYTLLBUKUHU-UHFFFAOYSA-N[M+H]+NCE=30% 10eV</td>\n      <td>2685</td>\n    </tr>\n    <tr>\n      <th>2686</th>\n      <td>Dopamine</td>\n      <td>VYFYYTLLBUKUHU-UHFFFAOYSA-N[M+H]+</td>\n      <td>154.0863</td>\n      <td>VYFYYTLLBUKUHU-UHFFFAOYSA-N</td>\n      <td>C8H11NO2</td>\n      <td>153.078979</td>\n      <td>[M+H]+</td>\n      <td>4</td>\n      <td>91.0544\\t26.47\\n119.0496\\t31.47\\n137.0602\\t999...</td>\n      <td>NCE=40% 12eV</td>\n      <td>NIST Mass Spectrometry Data Center</td>\n      <td>HCD</td>\n      <td>NIST</td>\n      <td>VYFYYTLLBUKUHU-UHFFFAOYSA-N[M+H]+NCE=40% 12eV</td>\n      <td>2686</td>\n    </tr>\n    <tr>\n      <th>2687</th>\n      <td>Dopamine</td>\n      <td>VYFYYTLLBUKUHU-UHFFFAOYSA-N[M+H]+</td>\n      <td>154.0863</td>\n      <td>VYFYYTLLBUKUHU-UHFFFAOYSA-N</td>\n      <td>C8H11NO2</td>\n      <td>153.078979</td>\n      <td>[M+H]+</td>\n      <td>5</td>\n      <td>91.0544\\t54.25\\n109.0649\\t6.09\\n119.0496\\t66.1...</td>\n      <td>NCE=40% 13eV</td>\n      <td>NIST Mass Spectrometry Data Center</td>\n      <td>HCD</td>\n      <td>NIST</td>\n      <td>VYFYYTLLBUKUHU-UHFFFAOYSA-N[M+H]+NCE=40% 13eV</td>\n      <td>2687</td>\n    </tr>\n    <tr>\n      <th>2688</th>\n      <td>Dopamine</td>\n      <td>VYFYYTLLBUKUHU-UHFFFAOYSA-N[M+H]+</td>\n      <td>154.0863</td>\n      <td>VYFYYTLLBUKUHU-UHFFFAOYSA-N</td>\n      <td>C8H11NO2</td>\n      <td>153.078979</td>\n      <td>[M+H]+</td>\n      <td>4</td>\n      <td>91.0544\\t112.19\\n109.0652\\t10.39\\n119.0496\\t12...</td>\n      <td>NCE=50% 15eV</td>\n      <td>NIST Mass Spectrometry Data Center</td>\n      <td>HCD</td>\n      <td>NIST</td>\n      <td>VYFYYTLLBUKUHU-UHFFFAOYSA-N[M+H]+NCE=50% 15eV</td>\n      <td>2688</td>\n    </tr>\n    <tr>\n      <th>2689</th>\n      <td>Dopamine</td>\n      <td>VYFYYTLLBUKUHU-UHFFFAOYSA-N[M+H]+</td>\n      <td>154.0863</td>\n      <td>VYFYYTLLBUKUHU-UHFFFAOYSA-N</td>\n      <td>C8H11NO2</td>\n      <td>153.078979</td>\n      <td>[M+H]+</td>\n      <td>5</td>\n      <td>81.07\\t6.19\\n91.0544\\t396.0\\n109.0652\\t26.77\\n...</td>\n      <td>NCE=60% 18eV</td>\n      <td>NIST Mass Spectrometry Data Center</td>\n      <td>HCD</td>\n      <td>NIST</td>\n      <td>VYFYYTLLBUKUHU-UHFFFAOYSA-N[M+H]+NCE=60% 18eV</td>\n      <td>2689</td>\n    </tr>\n    <tr>\n      <th>2690</th>\n      <td>Dopamine</td>\n      <td>VYFYYTLLBUKUHU-UHFFFAOYSA-N[M+H]+</td>\n      <td>154.0863</td>\n      <td>VYFYYTLLBUKUHU-UHFFFAOYSA-N</td>\n      <td>C8H11NO2</td>\n      <td>153.078979</td>\n      <td>[M+H]+</td>\n      <td>7</td>\n      <td>65.0386\\t22.68\\n79.0543\\t3.7\\n81.07\\t24.08\\n91...</td>\n      <td>NCE=75% 23eV</td>\n      <td>NIST Mass Spectrometry Data Center</td>\n      <td>HCD</td>\n      <td>NIST</td>\n      <td>VYFYYTLLBUKUHU-UHFFFAOYSA-N[M+H]+NCE=75% 23eV</td>\n      <td>2690</td>\n    </tr>\n    <tr>\n      <th>2691</th>\n      <td>Dopamine</td>\n      <td>VYFYYTLLBUKUHU-UHFFFAOYSA-N[M+H]+</td>\n      <td>154.0863</td>\n      <td>VYFYYTLLBUKUHU-UHFFFAOYSA-N</td>\n      <td>C8H11NO2</td>\n      <td>153.078979</td>\n      <td>[M+H]+</td>\n      <td>8</td>\n      <td>65.0386\\t78.32\\n79.0544\\t6.59\\n81.0699\\t15.98\\...</td>\n      <td>NCE=90% 27eV</td>\n      <td>NIST Mass Spectrometry Data Center</td>\n      <td>HCD</td>\n      <td>NIST</td>\n      <td>VYFYYTLLBUKUHU-UHFFFAOYSA-N[M+H]+NCE=90% 27eV</td>\n      <td>2691</td>\n    </tr>\n    <tr>\n      <th>2692</th>\n      <td>Dopamine</td>\n      <td>VYFYYTLLBUKUHU-UHFFFAOYSA-N[M+H]+</td>\n      <td>154.0863</td>\n      <td>VYFYYTLLBUKUHU-UHFFFAOYSA-N</td>\n      <td>C8H11NO2</td>\n      <td>153.078979</td>\n      <td>[M+H]+</td>\n      <td>8</td>\n      <td>63.0229\\t3.4\\n65.0386\\t293.21\\n79.0543\\t8.09\\n...</td>\n      <td>NCE=105% 33eV</td>\n      <td>NIST Mass Spectrometry Data Center</td>\n      <td>HCD</td>\n      <td>NIST</td>\n      <td>VYFYYTLLBUKUHU-UHFFFAOYSA-N[M+H]+NCE=105% 33eV</td>\n      <td>2692</td>\n    </tr>\n    <tr>\n      <th>2693</th>\n      <td>Dopamine</td>\n      <td>VYFYYTLLBUKUHU-UHFFFAOYSA-N[M+H]+</td>\n      <td>154.0863</td>\n      <td>VYFYYTLLBUKUHU-UHFFFAOYSA-N</td>\n      <td>C8H11NO2</td>\n      <td>153.078979</td>\n      <td>[M+H]+</td>\n      <td>6</td>\n      <td>63.023\\t29.27\\n65.0386\\t791.21\\n79.0543\\t10.29...</td>\n      <td>NCE=130% 40eV</td>\n      <td>NIST Mass Spectrometry Data Center</td>\n      <td>HCD</td>\n      <td>NIST</td>\n      <td>VYFYYTLLBUKUHU-UHFFFAOYSA-N[M+H]+NCE=130% 40eV</td>\n      <td>2693</td>\n    </tr>\n    <tr>\n      <th>2694</th>\n      <td>Dopamine</td>\n      <td>VYFYYTLLBUKUHU-UHFFFAOYSA-N[M+H]+</td>\n      <td>154.0863</td>\n      <td>VYFYYTLLBUKUHU-UHFFFAOYSA-N</td>\n      <td>C8H11NO2</td>\n      <td>153.078979</td>\n      <td>[M+H]+</td>\n      <td>8</td>\n      <td>50.0151\\t8.49\\n51.023\\t15.98\\n62.0152\\t4.8\\n63...</td>\n      <td>NCE=160% 49eV</td>\n      <td>NIST Mass Spectrometry Data Center</td>\n      <td>HCD</td>\n      <td>NIST</td>\n      <td>VYFYYTLLBUKUHU-UHFFFAOYSA-N[M+H]+NCE=160% 49eV</td>\n      <td>2694</td>\n    </tr>\n    <tr>\n      <th>2695</th>\n      <td>Dopamine</td>\n      <td>VYFYYTLLBUKUHU-UHFFFAOYSA-N[M+H]+</td>\n      <td>154.0863</td>\n      <td>VYFYYTLLBUKUHU-UHFFFAOYSA-N</td>\n      <td>C8H11NO2</td>\n      <td>153.078979</td>\n      <td>[M+H]+</td>\n      <td>2</td>\n      <td>119.045\\t3.6\\n137.0603\\t999.0</td>\n      <td>NCE=35%</td>\n      <td>NIST Mass Spectrometry Data Center</td>\n      <td>IT-FT/ion trap with FTMS</td>\n      <td>NIST</td>\n      <td>VYFYYTLLBUKUHU-UHFFFAOYSA-N[M+H]+NCE=35%</td>\n      <td>2695</td>\n    </tr>\n  </tbody>\n</table>\n</div>"
     },
     "execution_count": 194,
     "metadata": {},
     "output_type": "execute_result"
    }
   ],
   "source": [
    "library_subset"
   ],
   "metadata": {
    "collapsed": false,
    "pycharm": {
     "name": "#%%\n"
    }
   }
  },
  {
   "cell_type": "code",
   "execution_count": 197,
   "outputs": [
    {
     "data": {
      "text/plain": "[0.0,\n 0.0,\n 3.3306690738754696e-16,\n 7.771561172376096e-16,\n 0.02299760742381396,\n 0.016899156368088253,\n 0.018976586631367698,\n 0.03269974887775384,\n 0.0368646652494089,\n 0.024191224841986547,\n 0.025198351432064836,\n 0.026309192233016754,\n 0.026841880212876812,\n 0.027528302026549212,\n 0.026835827002191226,\n 0.029303164067561505,\n 0.0827110830682225,\n 0.08843729356362573,\n 0.08907855999392544,\n 0.09058821575506304,\n 0.2529937104653376,\n 0.30314330427095837,\n 0.32773452204990905,\n 0.3615156741335014,\n 0.418460493346692,\n 0.4147261105263439,\n 0.37964525065633536,\n 0.3598018970675041,\n 0.32334785519823894]"
     },
     "execution_count": 197,
     "metadata": {},
     "output_type": "execute_result"
    }
   ],
   "source": [
    "entropy"
   ],
   "metadata": {
    "collapsed": false,
    "pycharm": {
     "name": "#%%\n"
    }
   }
  },
  {
   "cell_type": "code",
   "execution_count": 198,
   "outputs": [],
   "source": [
    "index_max = np.argmax(entropy)"
   ],
   "metadata": {
    "collapsed": false,
    "pycharm": {
     "name": "#%%\n"
    }
   }
  },
  {
   "cell_type": "code",
   "execution_count": 202,
   "outputs": [
    {
     "data": {
      "text/plain": "24"
     },
     "execution_count": 202,
     "metadata": {},
     "output_type": "execute_result"
    }
   ],
   "source": [
    "index_max"
   ],
   "metadata": {
    "collapsed": false,
    "pycharm": {
     "name": "#%%\n"
    }
   }
  },
  {
   "cell_type": "code",
   "execution_count": 204,
   "outputs": [
    {
     "data": {
      "text/plain": "         NAME                                key  PRECURSORMZ  \\\n343  Dopamine  VYFYYTLLBUKUHU-UHFFFAOYSA-N[M+H]+     154.0863   \n344  Dopamine  VYFYYTLLBUKUHU-UHFFFAOYSA-N[M+H]+     154.0863   \n345  Dopamine  VYFYYTLLBUKUHU-UHFFFAOYSA-N[M+H]+     154.0863   \n346  Dopamine  VYFYYTLLBUKUHU-UHFFFAOYSA-N[M+H]+     154.0863   \n347  Dopamine  VYFYYTLLBUKUHU-UHFFFAOYSA-N[M+H]+     154.0863   \n\n                        InChIKey   Formula   ExactMass  Adduct  Num_Peaks  \\\n343  VYFYYTLLBUKUHU-UHFFFAOYSA-N  C8H11NO2  153.078979  [M+H]+          5   \n344  VYFYYTLLBUKUHU-UHFFFAOYSA-N  C8H11NO2  153.078979  [M+H]+          4   \n345  VYFYYTLLBUKUHU-UHFFFAOYSA-N  C8H11NO2  153.078979  [M+H]+          4   \n346  VYFYYTLLBUKUHU-UHFFFAOYSA-N  C8H11NO2  153.078979  [M+H]+          4   \n347  VYFYYTLLBUKUHU-UHFFFAOYSA-N  C8H11NO2  153.078979  [M+H]+          6   \n\n                                                  msms Collision_energy  \\\n343  91.05\\t33.17\\n119.05\\t17.78\\n137.06\\t999.0\\n15...                2   \n344  91.05\\t33.37\\n119.05\\t20.68\\n137.05\\t999.0\\n15...                4   \n345  91.05\\t37.86\\n119.04\\t29.87\\n137.05\\t999.0\\n15...                6   \n346  91.05\\t57.84\\n119.04\\t45.55\\n137.05\\t999.0\\n15...                8   \n347  65.04\\t44.36\\n81.07\\t26.77\\n91.05\\t999.0\\n109....               18   \n\n                                Comment Instrument_type source  \\\n343  NIST Mass Spectrometry Data Center           Q-TOF   NIST   \n344  NIST Mass Spectrometry Data Center           Q-TOF   NIST   \n345  NIST Mass Spectrometry Data Center           Q-TOF   NIST   \n346  NIST Mass Spectrometry Data Center           Q-TOF   NIST   \n347  NIST Mass Spectrometry Data Center           Q-TOF   NIST   \n\n                                 key_all  row_num  \n343   VYFYYTLLBUKUHU-UHFFFAOYSA-N[M+H]+2      343  \n344   VYFYYTLLBUKUHU-UHFFFAOYSA-N[M+H]+4      344  \n345   VYFYYTLLBUKUHU-UHFFFAOYSA-N[M+H]+6      345  \n346   VYFYYTLLBUKUHU-UHFFFAOYSA-N[M+H]+8      346  \n347  VYFYYTLLBUKUHU-UHFFFAOYSA-N[M+H]+18      347  ",
      "text/html": "<div>\n<style scoped>\n    .dataframe tbody tr th:only-of-type {\n        vertical-align: middle;\n    }\n\n    .dataframe tbody tr th {\n        vertical-align: top;\n    }\n\n    .dataframe thead th {\n        text-align: right;\n    }\n</style>\n<table border=\"1\" class=\"dataframe\">\n  <thead>\n    <tr style=\"text-align: right;\">\n      <th></th>\n      <th>NAME</th>\n      <th>key</th>\n      <th>PRECURSORMZ</th>\n      <th>InChIKey</th>\n      <th>Formula</th>\n      <th>ExactMass</th>\n      <th>Adduct</th>\n      <th>Num_Peaks</th>\n      <th>msms</th>\n      <th>Collision_energy</th>\n      <th>Comment</th>\n      <th>Instrument_type</th>\n      <th>source</th>\n      <th>key_all</th>\n      <th>row_num</th>\n    </tr>\n  </thead>\n  <tbody>\n    <tr>\n      <th>343</th>\n      <td>Dopamine</td>\n      <td>VYFYYTLLBUKUHU-UHFFFAOYSA-N[M+H]+</td>\n      <td>154.0863</td>\n      <td>VYFYYTLLBUKUHU-UHFFFAOYSA-N</td>\n      <td>C8H11NO2</td>\n      <td>153.078979</td>\n      <td>[M+H]+</td>\n      <td>5</td>\n      <td>91.05\\t33.17\\n119.05\\t17.78\\n137.06\\t999.0\\n15...</td>\n      <td>2</td>\n      <td>NIST Mass Spectrometry Data Center</td>\n      <td>Q-TOF</td>\n      <td>NIST</td>\n      <td>VYFYYTLLBUKUHU-UHFFFAOYSA-N[M+H]+2</td>\n      <td>343</td>\n    </tr>\n    <tr>\n      <th>344</th>\n      <td>Dopamine</td>\n      <td>VYFYYTLLBUKUHU-UHFFFAOYSA-N[M+H]+</td>\n      <td>154.0863</td>\n      <td>VYFYYTLLBUKUHU-UHFFFAOYSA-N</td>\n      <td>C8H11NO2</td>\n      <td>153.078979</td>\n      <td>[M+H]+</td>\n      <td>4</td>\n      <td>91.05\\t33.37\\n119.05\\t20.68\\n137.05\\t999.0\\n15...</td>\n      <td>4</td>\n      <td>NIST Mass Spectrometry Data Center</td>\n      <td>Q-TOF</td>\n      <td>NIST</td>\n      <td>VYFYYTLLBUKUHU-UHFFFAOYSA-N[M+H]+4</td>\n      <td>344</td>\n    </tr>\n    <tr>\n      <th>345</th>\n      <td>Dopamine</td>\n      <td>VYFYYTLLBUKUHU-UHFFFAOYSA-N[M+H]+</td>\n      <td>154.0863</td>\n      <td>VYFYYTLLBUKUHU-UHFFFAOYSA-N</td>\n      <td>C8H11NO2</td>\n      <td>153.078979</td>\n      <td>[M+H]+</td>\n      <td>4</td>\n      <td>91.05\\t37.86\\n119.04\\t29.87\\n137.05\\t999.0\\n15...</td>\n      <td>6</td>\n      <td>NIST Mass Spectrometry Data Center</td>\n      <td>Q-TOF</td>\n      <td>NIST</td>\n      <td>VYFYYTLLBUKUHU-UHFFFAOYSA-N[M+H]+6</td>\n      <td>345</td>\n    </tr>\n    <tr>\n      <th>346</th>\n      <td>Dopamine</td>\n      <td>VYFYYTLLBUKUHU-UHFFFAOYSA-N[M+H]+</td>\n      <td>154.0863</td>\n      <td>VYFYYTLLBUKUHU-UHFFFAOYSA-N</td>\n      <td>C8H11NO2</td>\n      <td>153.078979</td>\n      <td>[M+H]+</td>\n      <td>4</td>\n      <td>91.05\\t57.84\\n119.04\\t45.55\\n137.05\\t999.0\\n15...</td>\n      <td>8</td>\n      <td>NIST Mass Spectrometry Data Center</td>\n      <td>Q-TOF</td>\n      <td>NIST</td>\n      <td>VYFYYTLLBUKUHU-UHFFFAOYSA-N[M+H]+8</td>\n      <td>346</td>\n    </tr>\n    <tr>\n      <th>347</th>\n      <td>Dopamine</td>\n      <td>VYFYYTLLBUKUHU-UHFFFAOYSA-N[M+H]+</td>\n      <td>154.0863</td>\n      <td>VYFYYTLLBUKUHU-UHFFFAOYSA-N</td>\n      <td>C8H11NO2</td>\n      <td>153.078979</td>\n      <td>[M+H]+</td>\n      <td>6</td>\n      <td>65.04\\t44.36\\n81.07\\t26.77\\n91.05\\t999.0\\n109....</td>\n      <td>18</td>\n      <td>NIST Mass Spectrometry Data Center</td>\n      <td>Q-TOF</td>\n      <td>NIST</td>\n      <td>VYFYYTLLBUKUHU-UHFFFAOYSA-N[M+H]+18</td>\n      <td>347</td>\n    </tr>\n  </tbody>\n</table>\n</div>"
     },
     "execution_count": 204,
     "metadata": {},
     "output_type": "execute_result"
    }
   ],
   "source": [
    "library_subset.head()"
   ],
   "metadata": {
    "collapsed": false,
    "pycharm": {
     "name": "#%%\n"
    }
   }
  },
  {
   "cell_type": "code",
   "execution_count": 206,
   "outputs": [
    {
     "data": {
      "text/plain": "'65.0386\\t78.32\\n79.0544\\t6.59\\n81.0699\\t15.98\\n91.0544\\t999.0\\n109.065\\t13.79\\n119.0461\\t2.0\\n119.0495\\t199.8\\n137.0602\\t89.81'"
     },
     "execution_count": 206,
     "metadata": {},
     "output_type": "execute_result"
    }
   ],
   "source": [
    "library_subset.iloc[24]['msms']"
   ],
   "metadata": {
    "collapsed": false,
    "pycharm": {
     "name": "#%%\n"
    }
   }
  },
  {
   "cell_type": "code",
   "execution_count": 199,
   "outputs": [
    {
     "data": {
      "text/plain": "0.418460493346692"
     },
     "execution_count": 199,
     "metadata": {},
     "output_type": "execute_result"
    }
   ],
   "source": [
    "entropy[index_max]"
   ],
   "metadata": {
    "collapsed": false,
    "pycharm": {
     "name": "#%%\n"
    }
   }
  },
  {
   "cell_type": "code",
   "execution_count": 207,
   "outputs": [
    {
     "data": {
      "text/plain": "0.12176073694827472"
     },
     "execution_count": 207,
     "metadata": {},
     "output_type": "execute_result"
    }
   ],
   "source": [
    "so.entropy_similarity_default(data_resulted_false.iloc[182]['msms'],library_subset.iloc[24]['msms'])"
   ],
   "metadata": {
    "collapsed": false,
    "pycharm": {
     "name": "#%%\n"
    }
   }
  },
  {
   "cell_type": "markdown",
   "source": [],
   "metadata": {
    "collapsed": false,
    "pycharm": {
     "name": "#%% md\n"
    }
   }
  },
  {
   "cell_type": "code",
   "execution_count": 184,
   "outputs": [
    {
     "data": {
      "text/plain": "array([[101.0386  ,   8.237237],\n       [104.9912  ,  12.602603],\n       [107.049   , 100.      ],\n       [109.0644  ,   7.962963],\n       [110.0314  ,   9.660661],\n       [117.0557  ,  35.932934],\n       [118.0615  ,  31.492493],\n       [119.0447  ,  15.266266]], dtype=float32)"
     },
     "execution_count": 184,
     "metadata": {},
     "output_type": "execute_result"
    }
   ],
   "source": [
    "so.convert_string_to_nist(updated_msms)"
   ],
   "metadata": {
    "collapsed": false,
    "pycharm": {
     "name": "#%%\n"
    }
   }
  },
  {
   "cell_type": "code",
   "execution_count": 182,
   "outputs": [
    {
     "data": {
      "text/plain": "array([[ 65.04,  56.24],\n       [ 77.04,  14.49],\n       [ 91.05, 999.  ],\n       [107.05, 125.47],\n       [109.06,  14.39],\n       [117.05,  11.69],\n       [118.06,  26.07],\n       [119.05, 105.89],\n       [136.07,  34.37]], dtype=float32)"
     },
     "execution_count": 182,
     "metadata": {},
     "output_type": "execute_result"
    }
   ],
   "source": [
    "so.convert_string_to_nist(data_resulted_false.iloc[182]['matched_msms'])"
   ],
   "metadata": {
    "collapsed": false,
    "pycharm": {
     "name": "#%%\n"
    }
   }
  },
  {
   "cell_type": "code",
   "execution_count": 181,
   "outputs": [
    {
     "data": {
      "text/plain": "array([[ 65.0386,  78.32  ],\n       [ 79.0544,   6.59  ],\n       [ 81.0699,  15.98  ],\n       [ 91.0544, 999.    ],\n       [109.065 ,  13.79  ],\n       [119.0461,   2.    ],\n       [119.0495, 199.8   ],\n       [137.0602,  89.81  ]], dtype=float32)"
     },
     "execution_count": 181,
     "metadata": {},
     "output_type": "execute_result"
    }
   ],
   "source": [
    "so.convert_string_to_nist(data_resulted_false.iloc[182]['exact_msms'])"
   ],
   "metadata": {
    "collapsed": false,
    "pycharm": {
     "name": "#%%\n"
    }
   }
  },
  {
   "cell_type": "code",
   "execution_count": 145,
   "outputs": [
    {
     "name": "stdout",
     "output_type": "stream",
     "text": [
      "H11C8NO2\n"
     ]
    }
   ],
   "source": [
    "print(result)"
   ],
   "metadata": {
    "collapsed": false,
    "pycharm": {
     "name": "#%%\n"
    }
   }
  },
  {
   "cell_type": "code",
   "execution_count": 146,
   "outputs": [
    {
     "data": {
      "text/plain": "'H11C8NO2'"
     },
     "execution_count": 146,
     "metadata": {},
     "output_type": "execute_result"
    }
   ],
   "source": [
    "result.__str__()"
   ],
   "metadata": {
    "collapsed": false,
    "pycharm": {
     "name": "#%%\n"
    }
   }
  },
  {
   "cell_type": "code",
   "execution_count": 71,
   "outputs": [
    {
     "data": {
      "text/plain": "array([[ 65.04,  56.24],\n       [ 77.04,  14.49],\n       [ 91.05, 999.  ],\n       [107.05, 125.47],\n       [109.06,  14.39],\n       [117.05,  11.69],\n       [118.06,  26.07],\n       [119.05, 105.89],\n       [136.07,  34.37]], dtype=float32)"
     },
     "execution_count": 71,
     "metadata": {},
     "output_type": "execute_result"
    }
   ],
   "source": [
    "so.convert_string_to_nist(data_resulted_false.iloc[i]['matched_msms'])"
   ],
   "metadata": {
    "collapsed": false,
    "pycharm": {
     "name": "#%%\n"
    }
   }
  },
  {
   "cell_type": "code",
   "execution_count": 82,
   "outputs": [
    {
     "data": {
      "text/plain": "index                                                              2089\nNAME                                                  3-Hydroxytyramine\nkey                                   VYFYYTLLBUKUHU-UHFFFAOYSA-N[M+H]+\nPRECURSORMZ                                                    154.0863\nInChIKey                                    VYFYYTLLBUKUHU-UHFFFAOYSA-N\nFormula                                                        C8H11NO2\nExactMass                                                    153.078979\nAdduct                                                           [M+H]+\nNum_Peaks                                                            21\nmsms                  101.0386\\t8.237237\\n102.5245\\t9.977978\\n104.32...\nCollision_energy                                                   40 V\nrow_num                                                            2161\nmatched_entropy                                                 0.41846\nmatched_inchikey                            QHGUCRYDKWKLMG-UHFFFAOYSA-N\nmatched_msms          65.04\\t56.24\\n77.04\\t14.49\\n91.05\\t999.0\\n107....\nmatched_evaluation                                                False\nexact_entropy                                                   0.41846\nexact_msms            65.0386\\t78.32\\n79.0544\\t6.59\\n81.0699\\t15.98\\...\nName: 182, dtype: object"
     },
     "execution_count": 82,
     "metadata": {},
     "output_type": "execute_result"
    }
   ],
   "source": [
    "data_resulted_false.iloc[i]"
   ],
   "metadata": {
    "collapsed": false,
    "pycharm": {
     "name": "#%%\n"
    }
   }
  },
  {
   "cell_type": "code",
   "execution_count": 81,
   "outputs": [
    {
     "data": {
      "text/plain": "     index                                               NAME  \\\n0       27  (10E,15Z)-9,12,13-trihydroxyoctadeca-10,15-die...   \n1       28  (10E,15Z)-9,12,13-trihydroxyoctadeca-10,15-die...   \n2       29  (10E,15Z)-9,12,13-trihydroxyoctadeca-10,15-die...   \n3       53  (1R,2R,4aS,6aS,6bR,9R,10R,11R,12aR)-1,10,11-tr...   \n4       74  (1R,3aS,5aR,5bR,11aR,13aR)-7-hydroxy-5a,5b,8,8...   \n..     ...                                                ...   \n516   5199                                       tectorigenin   \n517   5202                                       tectorigenin   \n518   5203                                       tectorigenin   \n519   5269                                            wogonin   \n520   5270                                            wogonin   \n\n                                    key  PRECURSORMZ  \\\n0    MKYUCBXUUSZMQB-MKZMYESJSA-N[M+Na]+     351.2142   \n1    MKYUCBXUUSZMQB-MKZMYESJSA-N[M+Na]+     351.2142   \n2    MKYUCBXUUSZMQB-MKZMYESJSA-N[M+Na]+     351.2142   \n3     YCOKATFNRPZIIU-WQKMQOEMSA-N[M-H]-     503.3378   \n4     FIADIPXEFYWJQV-POYRUVRTSA-N[M-H]-     469.3323   \n..                                  ...          ...   \n516   OBBCRPUNCUPUOS-UHFFFAOYSA-N[M-H]-     299.0561   \n517   OBBCRPUNCUPUOS-UHFFFAOYSA-N[M+H]+     301.0707   \n518   OBBCRPUNCUPUOS-UHFFFAOYSA-N[M+H]+     301.0707   \n519   XLTFNNCXVBYBSX-UHFFFAOYSA-N[M+H]+     285.0757   \n520   XLTFNNCXVBYBSX-UHFFFAOYSA-N[M+H]+     285.0757   \n\n                        InChIKey   Formula   ExactMass   Adduct  Num_Peaks  \\\n0    MKYUCBXUUSZMQB-MKZMYESJSA-N  C18H32O5  328.224974  [M+Na]+         12   \n1    MKYUCBXUUSZMQB-MKZMYESJSA-N  C18H32O5  328.224974  [M+Na]+         53   \n2    MKYUCBXUUSZMQB-MKZMYESJSA-N  C18H32O5  328.224974  [M+Na]+         36   \n3    YCOKATFNRPZIIU-WQKMQOEMSA-N  C30H48O6  504.345089   [M-H]-          4   \n4    FIADIPXEFYWJQV-POYRUVRTSA-N  C30H46O4  470.339610   [M-H]-          1   \n..                           ...       ...         ...      ...        ...   \n516  OBBCRPUNCUPUOS-UHFFFAOYSA-N  C16H12O6  300.063388   [M-H]-          6   \n517  OBBCRPUNCUPUOS-UHFFFAOYSA-N  C16H12O6  300.063388   [M+H]+          2   \n518  OBBCRPUNCUPUOS-UHFFFAOYSA-N  C16H12O6  300.063388   [M+H]+          8   \n519  XLTFNNCXVBYBSX-UHFFFAOYSA-N  C16H12O5  284.068473   [M+H]+          2   \n520  XLTFNNCXVBYBSX-UHFFFAOYSA-N  C16H12O5  284.068473   [M+H]+          5   \n\n                                                  msms Collision_energy  \\\n0    149.0918\\t1.055055\\n153.0835\\t2.348348\\n217.13...             10 V   \n1    100.2572\\t4.192192\\n100.9549\\t3.750751\\n101.04...             20 V   \n2    103.3287\\t26.673674\\n107.0838\\t54.985986\\n114....             40 V   \n3    409.3104\\t1.081081\\n441.3366\\t1.367367\\n485.32...             10 V   \n4                                      469.3288\\t100.0             10 V   \n..                                                 ...              ...   \n516  240.0375\\t1.97998\\n284.0317\\t89.924925\\n284.17...             10 V   \n517               286.0472\\t10.108108\\n301.0709\\t100.0             10 V   \n518  168.0042\\t2.361361\\n255.0631\\t1.185185\\n258.04...             20 V   \n519               270.0525\\t10.077077\\n285.0764\\t100.0             10 V   \n520  134.9779\\t1.19019\\n168.0049\\t1.035035\\n270.052...             20 V   \n\n     row_num  matched_entropy             matched_inchikey  \\\n0         27         0.626588  XKXZAYIPFRBKHT-UHFFFAOYSA-N   \n1         28         0.406167  XKXZAYIPFRBKHT-UHFFFAOYSA-N   \n2         29         0.133087  LLKIVVHUJOPYIV-UHFFFAOYSA-N   \n3         53         0.879552  IFIQVSCCFRXSJV-UFTBQYHPSA-N   \n4         74         0.865418  MPDGHEJMBKOTSU-YKLVYJNSSA-N   \n..       ...              ...                          ...   \n516     5395         0.869946  VJJZJBUCDWKPLC-UHFFFAOYSA-N   \n517     5398         0.939924  VJJZJBUCDWKPLC-UHFFFAOYSA-N   \n518     5399         0.852077  VJJZJBUCDWKPLC-UHFFFAOYSA-N   \n519     5469         0.999767  DRDRYGIIYOPBBZ-XBXARRHUSA-N   \n520     5470         0.899240  LKOJGSWUMISDOF-UHFFFAOYSA-N   \n\n                                          matched_msms  matched_evaluation  \\\n0    287.2011\\t5.39\\n305.212\\t2.3\\n315.1959\\t7.19\\n...               False   \n1    287.2011\\t5.39\\n305.212\\t2.3\\n315.1959\\t7.19\\n...               False   \n2    53.0385\\t29.87\\n55.0177\\t12.09\\n55.0541\\t97.4\\...               False   \n3    375.3052\\t3.3\\n393.3158\\t1.3\\n403.3004\\t2.5\\n4...               False   \n4                       425.335\\t15.18\\n469.325\\t999.0               False   \n..                                                 ...                 ...   \n516  255.0304\\t2.0\\n256.0384\\t1.4\\n284.0331\\t569.03...               False   \n517  121.0285\\t3.3\\n187.1485\\t1.5\\n258.053\\t2.1\\n28...               False   \n518  121.0285\\t7.59\\n153.0184\\t1.1\\n187.1484\\t1.0\\n...               False   \n519  150.0315\\t1.4\\n191.034\\t3.4\\n253.0492\\t2.9\\n27...               False   \n520  105.0331\\t2.2\\n168.0049\\t18.68\\n186.0155\\t2.5\\...               False   \n\n     exact_entropy                                         exact_msms  \n0     0.000000e+00  167.0673\\t12.79\\n195.0988\\t49.35\\n235.1186\\t17...  \n1     4.799740e-08  167.0673\\t12.79\\n195.0988\\t49.35\\n235.1186\\t17...  \n2     0.000000e+00  167.0673\\t12.79\\n195.0988\\t49.35\\n235.1186\\t17...  \n3     3.330669e-16  375.3055\\t1.2\\n387.2901\\t1.2\\n403.2997\\t2.6\\n4...  \n4     0.000000e+00  323.2384\\t1.1\\n339.27\\t3.9\\n357.2806\\t5.29\\n40...  \n..             ...                                                ...  \n516   6.394707e-08  63.0237\\t45.95\\n65.003\\t283.62\\n65.0048\\t3.5\\n...  \n517   8.488817e-08  51.023\\t2.0\\n52.0308\\t4.8\\n53.0023\\t3.6\\n54.01...  \n518   4.813685e-03  168.005\\t3.1\\n183.0286\\t1.1\\n186.0157\\t2.1\\n24...  \n519   8.489113e-08  55.0181\\t53.35\\n56.0259\\t31.37\\n66.01\\t61.24\\n...  \n520   6.750571e-08  55.0181\\t53.35\\n56.0259\\t31.37\\n66.01\\t61.24\\n...  \n\n[521 rows x 18 columns]",
      "text/html": "<div>\n<style scoped>\n    .dataframe tbody tr th:only-of-type {\n        vertical-align: middle;\n    }\n\n    .dataframe tbody tr th {\n        vertical-align: top;\n    }\n\n    .dataframe thead th {\n        text-align: right;\n    }\n</style>\n<table border=\"1\" class=\"dataframe\">\n  <thead>\n    <tr style=\"text-align: right;\">\n      <th></th>\n      <th>index</th>\n      <th>NAME</th>\n      <th>key</th>\n      <th>PRECURSORMZ</th>\n      <th>InChIKey</th>\n      <th>Formula</th>\n      <th>ExactMass</th>\n      <th>Adduct</th>\n      <th>Num_Peaks</th>\n      <th>msms</th>\n      <th>Collision_energy</th>\n      <th>row_num</th>\n      <th>matched_entropy</th>\n      <th>matched_inchikey</th>\n      <th>matched_msms</th>\n      <th>matched_evaluation</th>\n      <th>exact_entropy</th>\n      <th>exact_msms</th>\n    </tr>\n  </thead>\n  <tbody>\n    <tr>\n      <th>0</th>\n      <td>27</td>\n      <td>(10E,15Z)-9,12,13-trihydroxyoctadeca-10,15-die...</td>\n      <td>MKYUCBXUUSZMQB-MKZMYESJSA-N[M+Na]+</td>\n      <td>351.2142</td>\n      <td>MKYUCBXUUSZMQB-MKZMYESJSA-N</td>\n      <td>C18H32O5</td>\n      <td>328.224974</td>\n      <td>[M+Na]+</td>\n      <td>12</td>\n      <td>149.0918\\t1.055055\\n153.0835\\t2.348348\\n217.13...</td>\n      <td>10 V</td>\n      <td>27</td>\n      <td>0.626588</td>\n      <td>XKXZAYIPFRBKHT-UHFFFAOYSA-N</td>\n      <td>287.2011\\t5.39\\n305.212\\t2.3\\n315.1959\\t7.19\\n...</td>\n      <td>False</td>\n      <td>0.000000e+00</td>\n      <td>167.0673\\t12.79\\n195.0988\\t49.35\\n235.1186\\t17...</td>\n    </tr>\n    <tr>\n      <th>1</th>\n      <td>28</td>\n      <td>(10E,15Z)-9,12,13-trihydroxyoctadeca-10,15-die...</td>\n      <td>MKYUCBXUUSZMQB-MKZMYESJSA-N[M+Na]+</td>\n      <td>351.2142</td>\n      <td>MKYUCBXUUSZMQB-MKZMYESJSA-N</td>\n      <td>C18H32O5</td>\n      <td>328.224974</td>\n      <td>[M+Na]+</td>\n      <td>53</td>\n      <td>100.2572\\t4.192192\\n100.9549\\t3.750751\\n101.04...</td>\n      <td>20 V</td>\n      <td>28</td>\n      <td>0.406167</td>\n      <td>XKXZAYIPFRBKHT-UHFFFAOYSA-N</td>\n      <td>287.2011\\t5.39\\n305.212\\t2.3\\n315.1959\\t7.19\\n...</td>\n      <td>False</td>\n      <td>4.799740e-08</td>\n      <td>167.0673\\t12.79\\n195.0988\\t49.35\\n235.1186\\t17...</td>\n    </tr>\n    <tr>\n      <th>2</th>\n      <td>29</td>\n      <td>(10E,15Z)-9,12,13-trihydroxyoctadeca-10,15-die...</td>\n      <td>MKYUCBXUUSZMQB-MKZMYESJSA-N[M+Na]+</td>\n      <td>351.2142</td>\n      <td>MKYUCBXUUSZMQB-MKZMYESJSA-N</td>\n      <td>C18H32O5</td>\n      <td>328.224974</td>\n      <td>[M+Na]+</td>\n      <td>36</td>\n      <td>103.3287\\t26.673674\\n107.0838\\t54.985986\\n114....</td>\n      <td>40 V</td>\n      <td>29</td>\n      <td>0.133087</td>\n      <td>LLKIVVHUJOPYIV-UHFFFAOYSA-N</td>\n      <td>53.0385\\t29.87\\n55.0177\\t12.09\\n55.0541\\t97.4\\...</td>\n      <td>False</td>\n      <td>0.000000e+00</td>\n      <td>167.0673\\t12.79\\n195.0988\\t49.35\\n235.1186\\t17...</td>\n    </tr>\n    <tr>\n      <th>3</th>\n      <td>53</td>\n      <td>(1R,2R,4aS,6aS,6bR,9R,10R,11R,12aR)-1,10,11-tr...</td>\n      <td>YCOKATFNRPZIIU-WQKMQOEMSA-N[M-H]-</td>\n      <td>503.3378</td>\n      <td>YCOKATFNRPZIIU-WQKMQOEMSA-N</td>\n      <td>C30H48O6</td>\n      <td>504.345089</td>\n      <td>[M-H]-</td>\n      <td>4</td>\n      <td>409.3104\\t1.081081\\n441.3366\\t1.367367\\n485.32...</td>\n      <td>10 V</td>\n      <td>53</td>\n      <td>0.879552</td>\n      <td>IFIQVSCCFRXSJV-UFTBQYHPSA-N</td>\n      <td>375.3052\\t3.3\\n393.3158\\t1.3\\n403.3004\\t2.5\\n4...</td>\n      <td>False</td>\n      <td>3.330669e-16</td>\n      <td>375.3055\\t1.2\\n387.2901\\t1.2\\n403.2997\\t2.6\\n4...</td>\n    </tr>\n    <tr>\n      <th>4</th>\n      <td>74</td>\n      <td>(1R,3aS,5aR,5bR,11aR,13aR)-7-hydroxy-5a,5b,8,8...</td>\n      <td>FIADIPXEFYWJQV-POYRUVRTSA-N[M-H]-</td>\n      <td>469.3323</td>\n      <td>FIADIPXEFYWJQV-POYRUVRTSA-N</td>\n      <td>C30H46O4</td>\n      <td>470.339610</td>\n      <td>[M-H]-</td>\n      <td>1</td>\n      <td>469.3288\\t100.0</td>\n      <td>10 V</td>\n      <td>74</td>\n      <td>0.865418</td>\n      <td>MPDGHEJMBKOTSU-YKLVYJNSSA-N</td>\n      <td>425.335\\t15.18\\n469.325\\t999.0</td>\n      <td>False</td>\n      <td>0.000000e+00</td>\n      <td>323.2384\\t1.1\\n339.27\\t3.9\\n357.2806\\t5.29\\n40...</td>\n    </tr>\n    <tr>\n      <th>...</th>\n      <td>...</td>\n      <td>...</td>\n      <td>...</td>\n      <td>...</td>\n      <td>...</td>\n      <td>...</td>\n      <td>...</td>\n      <td>...</td>\n      <td>...</td>\n      <td>...</td>\n      <td>...</td>\n      <td>...</td>\n      <td>...</td>\n      <td>...</td>\n      <td>...</td>\n      <td>...</td>\n      <td>...</td>\n      <td>...</td>\n    </tr>\n    <tr>\n      <th>516</th>\n      <td>5199</td>\n      <td>tectorigenin</td>\n      <td>OBBCRPUNCUPUOS-UHFFFAOYSA-N[M-H]-</td>\n      <td>299.0561</td>\n      <td>OBBCRPUNCUPUOS-UHFFFAOYSA-N</td>\n      <td>C16H12O6</td>\n      <td>300.063388</td>\n      <td>[M-H]-</td>\n      <td>6</td>\n      <td>240.0375\\t1.97998\\n284.0317\\t89.924925\\n284.17...</td>\n      <td>10 V</td>\n      <td>5395</td>\n      <td>0.869946</td>\n      <td>VJJZJBUCDWKPLC-UHFFFAOYSA-N</td>\n      <td>255.0304\\t2.0\\n256.0384\\t1.4\\n284.0331\\t569.03...</td>\n      <td>False</td>\n      <td>6.394707e-08</td>\n      <td>63.0237\\t45.95\\n65.003\\t283.62\\n65.0048\\t3.5\\n...</td>\n    </tr>\n    <tr>\n      <th>517</th>\n      <td>5202</td>\n      <td>tectorigenin</td>\n      <td>OBBCRPUNCUPUOS-UHFFFAOYSA-N[M+H]+</td>\n      <td>301.0707</td>\n      <td>OBBCRPUNCUPUOS-UHFFFAOYSA-N</td>\n      <td>C16H12O6</td>\n      <td>300.063388</td>\n      <td>[M+H]+</td>\n      <td>2</td>\n      <td>286.0472\\t10.108108\\n301.0709\\t100.0</td>\n      <td>10 V</td>\n      <td>5398</td>\n      <td>0.939924</td>\n      <td>VJJZJBUCDWKPLC-UHFFFAOYSA-N</td>\n      <td>121.0285\\t3.3\\n187.1485\\t1.5\\n258.053\\t2.1\\n28...</td>\n      <td>False</td>\n      <td>8.488817e-08</td>\n      <td>51.023\\t2.0\\n52.0308\\t4.8\\n53.0023\\t3.6\\n54.01...</td>\n    </tr>\n    <tr>\n      <th>518</th>\n      <td>5203</td>\n      <td>tectorigenin</td>\n      <td>OBBCRPUNCUPUOS-UHFFFAOYSA-N[M+H]+</td>\n      <td>301.0707</td>\n      <td>OBBCRPUNCUPUOS-UHFFFAOYSA-N</td>\n      <td>C16H12O6</td>\n      <td>300.063388</td>\n      <td>[M+H]+</td>\n      <td>8</td>\n      <td>168.0042\\t2.361361\\n255.0631\\t1.185185\\n258.04...</td>\n      <td>20 V</td>\n      <td>5399</td>\n      <td>0.852077</td>\n      <td>VJJZJBUCDWKPLC-UHFFFAOYSA-N</td>\n      <td>121.0285\\t7.59\\n153.0184\\t1.1\\n187.1484\\t1.0\\n...</td>\n      <td>False</td>\n      <td>4.813685e-03</td>\n      <td>168.005\\t3.1\\n183.0286\\t1.1\\n186.0157\\t2.1\\n24...</td>\n    </tr>\n    <tr>\n      <th>519</th>\n      <td>5269</td>\n      <td>wogonin</td>\n      <td>XLTFNNCXVBYBSX-UHFFFAOYSA-N[M+H]+</td>\n      <td>285.0757</td>\n      <td>XLTFNNCXVBYBSX-UHFFFAOYSA-N</td>\n      <td>C16H12O5</td>\n      <td>284.068473</td>\n      <td>[M+H]+</td>\n      <td>2</td>\n      <td>270.0525\\t10.077077\\n285.0764\\t100.0</td>\n      <td>10 V</td>\n      <td>5469</td>\n      <td>0.999767</td>\n      <td>DRDRYGIIYOPBBZ-XBXARRHUSA-N</td>\n      <td>150.0315\\t1.4\\n191.034\\t3.4\\n253.0492\\t2.9\\n27...</td>\n      <td>False</td>\n      <td>8.489113e-08</td>\n      <td>55.0181\\t53.35\\n56.0259\\t31.37\\n66.01\\t61.24\\n...</td>\n    </tr>\n    <tr>\n      <th>520</th>\n      <td>5270</td>\n      <td>wogonin</td>\n      <td>XLTFNNCXVBYBSX-UHFFFAOYSA-N[M+H]+</td>\n      <td>285.0757</td>\n      <td>XLTFNNCXVBYBSX-UHFFFAOYSA-N</td>\n      <td>C16H12O5</td>\n      <td>284.068473</td>\n      <td>[M+H]+</td>\n      <td>5</td>\n      <td>134.9779\\t1.19019\\n168.0049\\t1.035035\\n270.052...</td>\n      <td>20 V</td>\n      <td>5470</td>\n      <td>0.899240</td>\n      <td>LKOJGSWUMISDOF-UHFFFAOYSA-N</td>\n      <td>105.0331\\t2.2\\n168.0049\\t18.68\\n186.0155\\t2.5\\...</td>\n      <td>False</td>\n      <td>6.750571e-08</td>\n      <td>55.0181\\t53.35\\n56.0259\\t31.37\\n66.01\\t61.24\\n...</td>\n    </tr>\n  </tbody>\n</table>\n<p>521 rows × 18 columns</p>\n</div>"
     },
     "execution_count": 81,
     "metadata": {},
     "output_type": "execute_result"
    }
   ],
   "source": [],
   "metadata": {
    "collapsed": false,
    "pycharm": {
     "name": "#%%\n"
    }
   }
  },
  {
   "cell_type": "code",
   "execution_count": 97,
   "outputs": [],
   "source": [],
   "metadata": {
    "collapsed": false,
    "pycharm": {
     "name": "#%%\n"
    }
   }
  },
  {
   "cell_type": "markdown",
   "source": [
    "# below are old syntax, for lookup only"
   ],
   "metadata": {
    "collapsed": false,
    "pycharm": {
     "name": "#%% md\n"
    }
   }
  },
  {
   "cell_type": "code",
   "execution_count": null,
   "outputs": [],
   "source": [
    "sns.distplot(diff_true[['entropy_msms']], hist=False, rug=False)\n",
    "sns.distplot(diff_true[['entropy_msms_dfrag']], hist=False, rug=False)\n",
    "# sns.distplot(right_results[['entropy_msms_d1']], hist=False, rug=False)\n",
    "plt.legend(labels = [\"msms\", \"dfrag\"])"
   ],
   "metadata": {
    "collapsed": false,
    "pycharm": {
     "name": "#%%\n"
    }
   }
  },
  {
   "cell_type": "code",
   "execution_count": 68,
   "outputs": [],
   "source": [
    "diff_raw_false = data[(data['evaluationmsms'] ==False) & (data['evaluationmsms_dfrag']==True) ]"
   ],
   "metadata": {
    "collapsed": false,
    "pycharm": {
     "name": "#%%\n"
    }
   }
  },
  {
   "cell_type": "code",
   "execution_count": 257,
   "outputs": [
    {
     "data": {
      "text/plain": "<module 'matplotlib.pyplot' from '/opt/homebrew/Caskroom/miniforge/base/envs/tensorflow/lib/python3.9/site-packages/matplotlib/pyplot.py'>"
     },
     "execution_count": 257,
     "metadata": {},
     "output_type": "execute_result"
    },
    {
     "data": {
      "text/plain": "<Figure size 504x360 with 1 Axes>",
      "image/png": "[encoded data removed]"
     },
     "metadata": {
      "needs_background": "light"
     },
     "output_type": "display_data"
    }
   ],
   "source": [
    "plotter.head_to_tail_plot(data.iloc[154]['msms_dfrag'], library.iloc[9573]['msms'])"
   ],
   "metadata": {
    "collapsed": false,
    "pycharm": {
     "name": "#%%\n"
    }
   }
  },
  {
   "cell_type": "code",
   "execution_count": 234,
   "outputs": [
    {
     "data": {
      "text/plain": "-3.4915059595502513"
     },
     "execution_count": 234,
     "metadata": {},
     "output_type": "execute_result"
    }
   ],
   "source": [
    "(315.0492-315.0503)/315.0503*1E6"
   ],
   "metadata": {
    "collapsed": false,
    "pycharm": {
     "name": "#%%\n"
    }
   }
  },
  {
   "cell_type": "code",
   "execution_count": 206,
   "outputs": [
    {
     "name": "stdout",
     "output_type": "stream",
     "text": [
      "i am done!\n"
     ]
    }
   ],
   "source": [
    "print(\"i am done!\")"
   ],
   "metadata": {
    "collapsed": false,
    "pycharm": {
     "name": "#%%\n"
    }
   }
  },
  {
   "cell_type": "code",
   "execution_count": 190,
   "outputs": [],
   "source": [],
   "metadata": {
    "collapsed": false,
    "pycharm": {
     "name": "#%%\n"
    }
   }
  },
  {
   "cell_type": "code",
   "execution_count": 192,
   "outputs": [
    {
     "data": {
      "text/plain": "241.07066457095002"
     },
     "execution_count": 192,
     "metadata": {},
     "output_type": "execute_result"
    }
   ],
   "source": [
    "adduct_calc.calculate_precursormz(high_quality.loc[826]['Formula'], '[M+H]+')"
   ],
   "metadata": {
    "collapsed": false,
    "pycharm": {
     "name": "#%%\n"
    }
   }
  }
 ],
 "metadata": {
  "kernelspec": {
   "name": "tensorflow",
   "language": "python",
   "display_name": "Python 3.9 (tensorflow)"
  },
  "language_info": {
   "codemirror_mode": {
    "name": "ipython",
    "version": 3
   },
   "file_extension": ".py",
   "mimetype": "text/x-python",
   "name": "python",
   "nbconvert_exporter": "python",
   "pygments_lexer": "ipython3",
   "version": "3.9.10"
  }
 },
 "nbformat": 4,
 "nbformat_minor": 5
}