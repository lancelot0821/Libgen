{
 "cells": [
  {
   "cell_type": "code",
   "execution_count": 1,
   "id": "5f0a31a5",
   "metadata": {},
   "outputs": [
    {
     "name": "stderr",
     "output_type": "stream",
     "text": [
      "<frozen importlib._bootstrap>:228: RuntimeWarning: scipy._lib.messagestream.MessageStream size changed, may indicate binary incompatibility. Expected 56 from C header, got 64 from PyObject\n"
     ]
    },
    {
     "name": "stdout",
     "output_type": "stream",
     "text": [
      "Compile the cython code is highly recommended!\n",
      "i am spectra operation\n",
      "I am tree denoising!!!!, and i have pfp both updated!!!\n",
      "i am msms_search!\n",
      "i am ms2 spectra plotter, and I have been sideloaded successfully\n",
      "I have 2 functions, head to tail plot and ms2 plot\n"
     ]
    }
   ],
   "source": [
    "import os\n",
    "\n",
    "import pandas as pd\n",
    "\n",
    "from ast import literal_eval\n",
    "import os\n",
    "import itertools\n",
    "import time\n",
    "import spectral_entropy as se\n",
    "%load_ext autoreload\n",
    "%autoreload 2\n",
    "from multiprocess import Pool\n",
    "import numpy as np\n",
    "import toolsets.spectra_operations as so\n",
    "import numpy as np\n",
    "# import scipy.stats\n",
    "import toolsets.tree_denoising as td\n",
    "import toolsets.msms_search as ms\n",
    "import toolsets.ms2_spectra_plotter as mp\n",
    "# import setup\n",
    "import seaborn as sns\n",
    "import matplotlib as plt\n",
    "# setup.set_workspace(\"data/NIST_MONA\")"
   ]
  },
  {
   "cell_type": "code",
   "execution_count": 2,
   "outputs": [],
   "source": [
    "data = pd.read_csv(\"data/NIST_MONA/MONA_common_with_nist.csv\")"
   ],
   "metadata": {
    "collapsed": false,
    "pycharm": {
     "name": "#%%\n"
    }
   }
  },
  {
   "cell_type": "code",
   "execution_count": 6,
   "outputs": [
    {
     "data": {
      "text/plain": "5505"
     },
     "execution_count": 6,
     "metadata": {},
     "output_type": "execute_result"
    }
   ],
   "source": [
    "len(data)"
   ],
   "metadata": {
    "collapsed": false,
    "pycharm": {
     "name": "#%%\n"
    }
   }
  },
  {
   "cell_type": "code",
   "execution_count": 3,
   "outputs": [
    {
     "name": "stderr",
     "output_type": "stream",
     "text": [
      "/var/folders/sq/fc0hszxn0q1_1cc187d_zjm80000gn/T/ipykernel_90329/1241586378.py:2: DtypeWarning: Columns (2) have mixed types. Specify dtype option on import or set low_memory=False.\n",
      "  data_nist_pos = pd.read_csv(\"/Users/fanzhoukong/Documents/GitHub/data/NIST/hr_msms_nist.csv\",\n"
     ]
    }
   ],
   "source": [
    "# i am reading in NIST positive dataset!\n",
    "data_nist_pos = pd.read_csv(\"/Users/fanzhoukong/Documents/GitHub/data/NIST/hr_msms_nist.csv\",\n",
    "                            converters={\"msms\": literal_eval})\n",
    "# i am reading in NIST positive dataset!\n",
    "# data_nist_pos = pd.read_csv(\"/Users/fanzhoukong/Documents/Fiehnlab/library_generator/data/data_NIST_Pos_count.csv\",\n",
    "#                             converters={\"msms\": literal_eval})\n",
    "# i am reading in MONA pos dataset!!!!\n",
    "data_mona_pos = pd.read_csv(\"/Users/fanzhoukong/Documents/GitHub/data/NIST/Mona_vf_npl.csv\",\n",
    "                            converters={\"msms\": literal_eval})\n",
    "# i am reading in MONA negative dataset!!!!\n",
    "# data_nist_pos = pd.read_csv(\"/Users/fanzhoukong/Documents/Fiehnlab/library_generator/data/data_MONA_Neg.csv\",\n",
    "#                             converters={\"msms\": literal_eval})\n",
    "# # i am reading in replib!\n",
    "# data_nist_pos = pd.read_csv(\"/Users/fanzhoukong/Documents/Fiehnlab/library_generator/data/replib.csv\",\n",
    "#                             converters={\"msms\": literal_eval})\n"
   ],
   "metadata": {
    "collapsed": false,
    "pycharm": {
     "name": "#%%\n"
    }
   }
  },
  {
   "cell_type": "code",
   "execution_count": null,
   "outputs": [],
   "source": [],
   "metadata": {
    "collapsed": false,
    "pycharm": {
     "name": "#%%\n"
    }
   }
  },
  {
   "cell_type": "code",
   "execution_count": 5,
   "id": "19e6573a",
   "metadata": {
    "scrolled": true
   },
   "outputs": [],
   "source": [
    "data_nist_pos = data_nist_pos.dropna(subset=['Collision_energy','msms', 'InChIKey'])\n",
    "data_mona_pos = data_mona_pos.dropna(subset=['Collision_energy','msms', 'InChIKey'])"
   ]
  },
  {
   "cell_type": "code",
   "execution_count": 20,
   "outputs": [],
   "source": [
    "data_nist_pos = data_nist_pos.rename({'Key': 'key'}, axis=1)  # new method"
   ],
   "metadata": {
    "collapsed": false,
    "pycharm": {
     "name": "#%%\n"
    }
   }
  },
  {
   "cell_type": "code",
   "execution_count": 14,
   "id": "9ba1436b",
   "metadata": {},
   "outputs": [],
   "source": [
    "data_nist_pos['key_all']=data_nist_pos['Key']+data_nist_pos['Collision_energy']\n",
    "data_mona_pos['key_all']=data_mona_pos['key']+data_mona_pos['Collision_energy']"
   ]
  },
  {
   "cell_type": "code",
   "execution_count": 21,
   "outputs": [],
   "source": [
    "data_nist_common = data_nist_pos[data_nist_pos['key'].isin(data_mona_pos['key'])]"
   ],
   "metadata": {
    "collapsed": false,
    "pycharm": {
     "name": "#%%\n"
    }
   }
  },
  {
   "cell_type": "code",
   "execution_count": 22,
   "outputs": [],
   "source": [
    "data_mona_common = data_mona_pos[data_mona_pos['key'].isin(data_nist_pos['key'])]"
   ],
   "metadata": {
    "collapsed": false,
    "pycharm": {
     "name": "#%%\n"
    }
   }
  },
  {
   "cell_type": "code",
   "execution_count": 25,
   "outputs": [
    {
     "data": {
      "text/plain": "1861"
     },
     "execution_count": 25,
     "metadata": {},
     "output_type": "execute_result"
    }
   ],
   "source": [
    "len(data_mona_common['key'].unique())"
   ],
   "metadata": {
    "collapsed": false,
    "pycharm": {
     "name": "#%%\n"
    }
   }
  },
  {
   "cell_type": "code",
   "execution_count": 26,
   "outputs": [
    {
     "data": {
      "text/plain": "1861"
     },
     "execution_count": 26,
     "metadata": {},
     "output_type": "execute_result"
    }
   ],
   "source": [
    "len(data_nist_common['key'].unique())"
   ],
   "metadata": {
    "collapsed": false,
    "pycharm": {
     "name": "#%%\n"
    }
   }
  },
  {
   "cell_type": "code",
   "execution_count": 38,
   "outputs": [],
   "source": [
    "# data = data_nist_common\n",
    "data = data_mona_common"
   ],
   "metadata": {
    "collapsed": false,
    "pycharm": {
     "name": "#%%\n"
    }
   }
  },
  {
   "cell_type": "code",
   "execution_count": 27,
   "outputs": [
    {
     "name": "stderr",
     "output_type": "stream",
     "text": [
      "/var/folders/sq/fc0hszxn0q1_1cc187d_zjm80000gn/T/ipykernel_90329/3977668738.py:1: SettingWithCopyWarning: \n",
      "A value is trying to be set on a copy of a slice from a DataFrame.\n",
      "Try using .loc[row_indexer,col_indexer] = value instead\n",
      "\n",
      "See the caveats in the documentation: https://pandas.pydata.org/pandas-docs/stable/user_guide/indexing.html#returning-a-view-versus-a-copy\n",
      "  data_mona_common['row_num'] = np.arange(len(data_mona_common))\n",
      "/var/folders/sq/fc0hszxn0q1_1cc187d_zjm80000gn/T/ipykernel_90329/3977668738.py:2: SettingWithCopyWarning: \n",
      "A value is trying to be set on a copy of a slice from a DataFrame.\n",
      "Try using .loc[row_indexer,col_indexer] = value instead\n",
      "\n",
      "See the caveats in the documentation: https://pandas.pydata.org/pandas-docs/stable/user_guide/indexing.html#returning-a-view-versus-a-copy\n",
      "  data_nist_common['row_num'] = np.arange(len(data_nist_common))\n"
     ]
    }
   ],
   "source": [
    "data_mona_common['row_num'] = np.arange(len(data_mona_common))\n",
    "data_nist_common['row_num'] = np.arange(len(data_nist_common))"
   ],
   "metadata": {
    "collapsed": false,
    "pycharm": {
     "name": "#%%\n"
    }
   }
  },
  {
   "cell_type": "code",
   "execution_count": 29,
   "outputs": [
    {
     "data": {
      "text/plain": "                                     NAME                                key  \\\n0  (+)-3''-Dimethylallyl-butyrolactone II  NGOLMNWQNHWEKU-XMMPIXPASA-N[M-H]-   \n1  (+)-3''-Dimethylallyl-butyrolactone II  NGOLMNWQNHWEKU-XMMPIXPASA-N[M-H]-   \n2  (+)-3''-Dimethylallyl-butyrolactone II  NGOLMNWQNHWEKU-XMMPIXPASA-N[M-H]-   \n3  (+)-3''-Dimethylallyl-butyrolactone II  NGOLMNWQNHWEKU-XMMPIXPASA-N[M+H]+   \n4  (+)-3''-Dimethylallyl-butyrolactone II  NGOLMNWQNHWEKU-XMMPIXPASA-N[M+H]+   \n\n   PRECURSORMZ                     InChIKey   Formula   ExactMass  adduct  \\\n0     423.1449  NGOLMNWQNHWEKU-XMMPIXPASA-N  C24H24O7  424.152203  [M-H]-   \n1     423.1449  NGOLMNWQNHWEKU-XMMPIXPASA-N  C24H24O7  424.152203  [M-H]-   \n2     423.1449  NGOLMNWQNHWEKU-XMMPIXPASA-N  C24H24O7  424.152203  [M-H]-   \n3     425.1595  NGOLMNWQNHWEKU-XMMPIXPASA-N  C24H24O7  424.152203  [M+H]+   \n4     425.1595  NGOLMNWQNHWEKU-XMMPIXPASA-N  C24H24O7  424.152203  [M+H]+   \n\n   Num_Peaks                                               msms  \\\n0         12  [[204.0415, 5.414414], [205.0495, 4.295295], [...   \n1         20  [[117.032, 1.085085], [133.0268, 1.740741], [1...   \n2        109  [[43.0136, 1.019019], [93.0311, 3.293293], [93...   \n3         57  [[157.0939, 1.014014], [175.1108, 100.0], [175...   \n4         51  [[69.0679, 2.184184], [69.0714, 2.207207], [12...   \n\n  Collision_energy source Instrument_type count  \\\n0             10 V   Mona     LC-ESI-QTOF    na   \n1             20 V   Mona     LC-ESI-QTOF    na   \n2             40 V   Mona     LC-ESI-QTOF    na   \n3             10 V   Mona     LC-ESI-QTOF    na   \n4             20 V   Mona     LC-ESI-QTOF    na   \n\n                                 key_all  row_num  \n0  NGOLMNWQNHWEKU-XMMPIXPASA-N[M-H]-10 V        0  \n1  NGOLMNWQNHWEKU-XMMPIXPASA-N[M-H]-20 V        1  \n2  NGOLMNWQNHWEKU-XMMPIXPASA-N[M-H]-40 V        2  \n3  NGOLMNWQNHWEKU-XMMPIXPASA-N[M+H]+10 V        3  \n4  NGOLMNWQNHWEKU-XMMPIXPASA-N[M+H]+20 V        4  ",
      "text/html": "<div>\n<style scoped>\n    .dataframe tbody tr th:only-of-type {\n        vertical-align: middle;\n    }\n\n    .dataframe tbody tr th {\n        vertical-align: top;\n    }\n\n    .dataframe thead th {\n        text-align: right;\n    }\n</style>\n<table border=\"1\" class=\"dataframe\">\n  <thead>\n    <tr style=\"text-align: right;\">\n      <th></th>\n      <th>NAME</th>\n      <th>key</th>\n      <th>PRECURSORMZ</th>\n      <th>InChIKey</th>\n      <th>Formula</th>\n      <th>ExactMass</th>\n      <th>adduct</th>\n      <th>Num_Peaks</th>\n      <th>msms</th>\n      <th>Collision_energy</th>\n      <th>source</th>\n      <th>Instrument_type</th>\n      <th>count</th>\n      <th>key_all</th>\n      <th>row_num</th>\n    </tr>\n  </thead>\n  <tbody>\n    <tr>\n      <th>0</th>\n      <td>(+)-3''-Dimethylallyl-butyrolactone II</td>\n      <td>NGOLMNWQNHWEKU-XMMPIXPASA-N[M-H]-</td>\n      <td>423.1449</td>\n      <td>NGOLMNWQNHWEKU-XMMPIXPASA-N</td>\n      <td>C24H24O7</td>\n      <td>424.152203</td>\n      <td>[M-H]-</td>\n      <td>12</td>\n      <td>[[204.0415, 5.414414], [205.0495, 4.295295], [...</td>\n      <td>10 V</td>\n      <td>Mona</td>\n      <td>LC-ESI-QTOF</td>\n      <td>na</td>\n      <td>NGOLMNWQNHWEKU-XMMPIXPASA-N[M-H]-10 V</td>\n      <td>0</td>\n    </tr>\n    <tr>\n      <th>1</th>\n      <td>(+)-3''-Dimethylallyl-butyrolactone II</td>\n      <td>NGOLMNWQNHWEKU-XMMPIXPASA-N[M-H]-</td>\n      <td>423.1449</td>\n      <td>NGOLMNWQNHWEKU-XMMPIXPASA-N</td>\n      <td>C24H24O7</td>\n      <td>424.152203</td>\n      <td>[M-H]-</td>\n      <td>20</td>\n      <td>[[117.032, 1.085085], [133.0268, 1.740741], [1...</td>\n      <td>20 V</td>\n      <td>Mona</td>\n      <td>LC-ESI-QTOF</td>\n      <td>na</td>\n      <td>NGOLMNWQNHWEKU-XMMPIXPASA-N[M-H]-20 V</td>\n      <td>1</td>\n    </tr>\n    <tr>\n      <th>2</th>\n      <td>(+)-3''-Dimethylallyl-butyrolactone II</td>\n      <td>NGOLMNWQNHWEKU-XMMPIXPASA-N[M-H]-</td>\n      <td>423.1449</td>\n      <td>NGOLMNWQNHWEKU-XMMPIXPASA-N</td>\n      <td>C24H24O7</td>\n      <td>424.152203</td>\n      <td>[M-H]-</td>\n      <td>109</td>\n      <td>[[43.0136, 1.019019], [93.0311, 3.293293], [93...</td>\n      <td>40 V</td>\n      <td>Mona</td>\n      <td>LC-ESI-QTOF</td>\n      <td>na</td>\n      <td>NGOLMNWQNHWEKU-XMMPIXPASA-N[M-H]-40 V</td>\n      <td>2</td>\n    </tr>\n    <tr>\n      <th>3</th>\n      <td>(+)-3''-Dimethylallyl-butyrolactone II</td>\n      <td>NGOLMNWQNHWEKU-XMMPIXPASA-N[M+H]+</td>\n      <td>425.1595</td>\n      <td>NGOLMNWQNHWEKU-XMMPIXPASA-N</td>\n      <td>C24H24O7</td>\n      <td>424.152203</td>\n      <td>[M+H]+</td>\n      <td>57</td>\n      <td>[[157.0939, 1.014014], [175.1108, 100.0], [175...</td>\n      <td>10 V</td>\n      <td>Mona</td>\n      <td>LC-ESI-QTOF</td>\n      <td>na</td>\n      <td>NGOLMNWQNHWEKU-XMMPIXPASA-N[M+H]+10 V</td>\n      <td>3</td>\n    </tr>\n    <tr>\n      <th>4</th>\n      <td>(+)-3''-Dimethylallyl-butyrolactone II</td>\n      <td>NGOLMNWQNHWEKU-XMMPIXPASA-N[M+H]+</td>\n      <td>425.1595</td>\n      <td>NGOLMNWQNHWEKU-XMMPIXPASA-N</td>\n      <td>C24H24O7</td>\n      <td>424.152203</td>\n      <td>[M+H]+</td>\n      <td>51</td>\n      <td>[[69.0679, 2.184184], [69.0714, 2.207207], [12...</td>\n      <td>20 V</td>\n      <td>Mona</td>\n      <td>LC-ESI-QTOF</td>\n      <td>na</td>\n      <td>NGOLMNWQNHWEKU-XMMPIXPASA-N[M+H]+20 V</td>\n      <td>4</td>\n    </tr>\n  </tbody>\n</table>\n</div>"
     },
     "execution_count": 29,
     "metadata": {},
     "output_type": "execute_result"
    }
   ],
   "source": [
    "data_mona_common.head()"
   ],
   "metadata": {
    "collapsed": false,
    "pycharm": {
     "name": "#%%\n"
    }
   }
  },
  {
   "cell_type": "code",
   "execution_count": 42,
   "outputs": [],
   "source": [
    "data_mona_common.to_csv(\"MONA_common_with_nist.csv\", index = False)\n",
    "data_nist_common.to_csv(\"NIST_common_with_mona.csv\", index = False)"
   ],
   "metadata": {
    "collapsed": false,
    "pycharm": {
     "name": "#%%\n"
    }
   }
  },
  {
   "cell_type": "code",
   "execution_count": 101,
   "outputs": [
    {
     "data": {
      "text/plain": "NAME                                                             Urea\nkey                                XSQUKJJJFZCRTK-UHFFFAOYSA-N[2M+H]+\nPRECURSORMZ                                                     121.2\nInChIKey                                  XSQUKJJJFZCRTK-UHFFFAOYSA-N\nFormula                                                        CH4N2O\nExactMass                                                   60.032363\nadduct                                                        [2M+H]+\nNum_Peaks                                                           8\nmsms                61.1\\t100.0\\n61.9\\t0.3\\n74.1\\t2.6\\n75.2\\t0.2\\n...\nCollision_energy                                                   40\nsource                                                           Mona\ncount                                                              na\nkey_all                          XSQUKJJJFZCRTK-UHFFFAOYSA-N[2M+H]+40\nrow_num                                                             1\nName: 13369, dtype: object"
     },
     "execution_count": 101,
     "metadata": {},
     "output_type": "execute_result"
    }
   ],
   "source": [],
   "metadata": {
    "collapsed": false,
    "pycharm": {
     "name": "#%%\n"
    }
   }
  },
  {
   "cell_type": "code",
   "execution_count": 12,
   "outputs": [],
   "source": [
    "data_mona_common = pd.read_csv(\"MONA_common_with_nist.csv\")\n",
    "# data_nist_common = pd.read_csv(\"NIST_common_with_mona_pos.csv\")"
   ],
   "metadata": {
    "collapsed": false,
    "pycharm": {
     "name": "#%%\n"
    }
   }
  },
  {
   "cell_type": "code",
   "execution_count": 14,
   "outputs": [],
   "source": [
    "msms_temp =[]\n",
    "for index, row in data_mona_common.iterrows():\n",
    "    msms_temp.append(so.convert_nist_to_string(row['msms']))"
   ],
   "metadata": {
    "collapsed": false,
    "pycharm": {
     "name": "#%%\n"
    }
   }
  },
  {
   "cell_type": "code",
   "execution_count": 15,
   "outputs": [],
   "source": [
    "data_mona_common['msms']=msms_temp"
   ],
   "metadata": {
    "collapsed": false,
    "pycharm": {
     "name": "#%%\n"
    }
   }
  },
  {
   "cell_type": "code",
   "execution_count": 16,
   "outputs": [],
   "source": [
    "data_mona_common.to_csv(\"MONA_common_with_nist.csv\", index = False)"
   ],
   "metadata": {
    "collapsed": false,
    "pycharm": {
     "name": "#%%\n"
    }
   }
  },
  {
   "cell_type": "markdown",
   "source": [
    "# start of fragmentation tree calculation for mona"
   ],
   "metadata": {
    "collapsed": false,
    "pycharm": {
     "name": "#%% md\n"
    }
   }
  },
  {
   "cell_type": "code",
   "source": [
    "data_mona_common=pd.read_csv(\"MONA_common_with_nist.csv\")"
   ],
   "metadata": {
    "collapsed": false,
    "pycharm": {
     "name": "#%%\n"
    }
   },
   "execution_count": 2,
   "outputs": []
  },
  {
   "cell_type": "code",
   "execution_count": 5,
   "outputs": [
    {
     "data": {
      "text/plain": "                                     NAME                                key  \\\n0  (+)-3''-Dimethylallyl-butyrolactone II  NGOLMNWQNHWEKU-XMMPIXPASA-N[M-H]-   \n1  (+)-3''-Dimethylallyl-butyrolactone II  NGOLMNWQNHWEKU-XMMPIXPASA-N[M-H]-   \n2  (+)-3''-Dimethylallyl-butyrolactone II  NGOLMNWQNHWEKU-XMMPIXPASA-N[M-H]-   \n3  (+)-3''-Dimethylallyl-butyrolactone II  NGOLMNWQNHWEKU-XMMPIXPASA-N[M+H]+   \n4  (+)-3''-Dimethylallyl-butyrolactone II  NGOLMNWQNHWEKU-XMMPIXPASA-N[M+H]+   \n\n   PRECURSORMZ                     InChIKey   Formula   ExactMass  adduct  \\\n0     423.1449  NGOLMNWQNHWEKU-XMMPIXPASA-N  C24H24O7  424.152203  [M-H]-   \n1     423.1449  NGOLMNWQNHWEKU-XMMPIXPASA-N  C24H24O7  424.152203  [M-H]-   \n2     423.1449  NGOLMNWQNHWEKU-XMMPIXPASA-N  C24H24O7  424.152203  [M-H]-   \n3     425.1595  NGOLMNWQNHWEKU-XMMPIXPASA-N  C24H24O7  424.152203  [M+H]+   \n4     425.1595  NGOLMNWQNHWEKU-XMMPIXPASA-N  C24H24O7  424.152203  [M+H]+   \n\n   Num_Peaks                                               msms  \\\n0         12  204.0415\\t5.414414\\n205.0495\\t4.295295\\n249.03...   \n1         20  117.032\\t1.085085\\n133.0268\\t1.740741\\n145.029...   \n2        109  43.0136\\t1.019019\\n93.0311\\t3.293293\\n93.0356\\...   \n3         57  157.0939\\t1.014014\\n175.1108\\t100.0\\n175.17\\t1...   \n4         51  69.0679\\t2.184184\\n69.0714\\t2.207207\\n121.027\\...   \n\n  Collision_energy source Instrument_type count  \\\n0             10 V   Mona     LC-ESI-QTOF    na   \n1             20 V   Mona     LC-ESI-QTOF    na   \n2             40 V   Mona     LC-ESI-QTOF    na   \n3             10 V   Mona     LC-ESI-QTOF    na   \n4             20 V   Mona     LC-ESI-QTOF    na   \n\n                                 key_all  row_num  \n0  NGOLMNWQNHWEKU-XMMPIXPASA-N[M-H]-10 V        0  \n1  NGOLMNWQNHWEKU-XMMPIXPASA-N[M-H]-20 V        1  \n2  NGOLMNWQNHWEKU-XMMPIXPASA-N[M-H]-40 V        2  \n3  NGOLMNWQNHWEKU-XMMPIXPASA-N[M+H]+10 V        3  \n4  NGOLMNWQNHWEKU-XMMPIXPASA-N[M+H]+20 V        4  ",
      "text/html": "<div>\n<style scoped>\n    .dataframe tbody tr th:only-of-type {\n        vertical-align: middle;\n    }\n\n    .dataframe tbody tr th {\n        vertical-align: top;\n    }\n\n    .dataframe thead th {\n        text-align: right;\n    }\n</style>\n<table border=\"1\" class=\"dataframe\">\n  <thead>\n    <tr style=\"text-align: right;\">\n      <th></th>\n      <th>NAME</th>\n      <th>key</th>\n      <th>PRECURSORMZ</th>\n      <th>InChIKey</th>\n      <th>Formula</th>\n      <th>ExactMass</th>\n      <th>adduct</th>\n      <th>Num_Peaks</th>\n      <th>msms</th>\n      <th>Collision_energy</th>\n      <th>source</th>\n      <th>Instrument_type</th>\n      <th>count</th>\n      <th>key_all</th>\n      <th>row_num</th>\n    </tr>\n  </thead>\n  <tbody>\n    <tr>\n      <th>0</th>\n      <td>(+)-3''-Dimethylallyl-butyrolactone II</td>\n      <td>NGOLMNWQNHWEKU-XMMPIXPASA-N[M-H]-</td>\n      <td>423.1449</td>\n      <td>NGOLMNWQNHWEKU-XMMPIXPASA-N</td>\n      <td>C24H24O7</td>\n      <td>424.152203</td>\n      <td>[M-H]-</td>\n      <td>12</td>\n      <td>204.0415\\t5.414414\\n205.0495\\t4.295295\\n249.03...</td>\n      <td>10 V</td>\n      <td>Mona</td>\n      <td>LC-ESI-QTOF</td>\n      <td>na</td>\n      <td>NGOLMNWQNHWEKU-XMMPIXPASA-N[M-H]-10 V</td>\n      <td>0</td>\n    </tr>\n    <tr>\n      <th>1</th>\n      <td>(+)-3''-Dimethylallyl-butyrolactone II</td>\n      <td>NGOLMNWQNHWEKU-XMMPIXPASA-N[M-H]-</td>\n      <td>423.1449</td>\n      <td>NGOLMNWQNHWEKU-XMMPIXPASA-N</td>\n      <td>C24H24O7</td>\n      <td>424.152203</td>\n      <td>[M-H]-</td>\n      <td>20</td>\n      <td>117.032\\t1.085085\\n133.0268\\t1.740741\\n145.029...</td>\n      <td>20 V</td>\n      <td>Mona</td>\n      <td>LC-ESI-QTOF</td>\n      <td>na</td>\n      <td>NGOLMNWQNHWEKU-XMMPIXPASA-N[M-H]-20 V</td>\n      <td>1</td>\n    </tr>\n    <tr>\n      <th>2</th>\n      <td>(+)-3''-Dimethylallyl-butyrolactone II</td>\n      <td>NGOLMNWQNHWEKU-XMMPIXPASA-N[M-H]-</td>\n      <td>423.1449</td>\n      <td>NGOLMNWQNHWEKU-XMMPIXPASA-N</td>\n      <td>C24H24O7</td>\n      <td>424.152203</td>\n      <td>[M-H]-</td>\n      <td>109</td>\n      <td>43.0136\\t1.019019\\n93.0311\\t3.293293\\n93.0356\\...</td>\n      <td>40 V</td>\n      <td>Mona</td>\n      <td>LC-ESI-QTOF</td>\n      <td>na</td>\n      <td>NGOLMNWQNHWEKU-XMMPIXPASA-N[M-H]-40 V</td>\n      <td>2</td>\n    </tr>\n    <tr>\n      <th>3</th>\n      <td>(+)-3''-Dimethylallyl-butyrolactone II</td>\n      <td>NGOLMNWQNHWEKU-XMMPIXPASA-N[M+H]+</td>\n      <td>425.1595</td>\n      <td>NGOLMNWQNHWEKU-XMMPIXPASA-N</td>\n      <td>C24H24O7</td>\n      <td>424.152203</td>\n      <td>[M+H]+</td>\n      <td>57</td>\n      <td>157.0939\\t1.014014\\n175.1108\\t100.0\\n175.17\\t1...</td>\n      <td>10 V</td>\n      <td>Mona</td>\n      <td>LC-ESI-QTOF</td>\n      <td>na</td>\n      <td>NGOLMNWQNHWEKU-XMMPIXPASA-N[M+H]+10 V</td>\n      <td>3</td>\n    </tr>\n    <tr>\n      <th>4</th>\n      <td>(+)-3''-Dimethylallyl-butyrolactone II</td>\n      <td>NGOLMNWQNHWEKU-XMMPIXPASA-N[M+H]+</td>\n      <td>425.1595</td>\n      <td>NGOLMNWQNHWEKU-XMMPIXPASA-N</td>\n      <td>C24H24O7</td>\n      <td>424.152203</td>\n      <td>[M+H]+</td>\n      <td>51</td>\n      <td>69.0679\\t2.184184\\n69.0714\\t2.207207\\n121.027\\...</td>\n      <td>20 V</td>\n      <td>Mona</td>\n      <td>LC-ESI-QTOF</td>\n      <td>na</td>\n      <td>NGOLMNWQNHWEKU-XMMPIXPASA-N[M+H]+20 V</td>\n      <td>4</td>\n    </tr>\n  </tbody>\n</table>\n</div>"
     },
     "execution_count": 5,
     "metadata": {},
     "output_type": "execute_result"
    }
   ],
   "source": [
    "data_mona_common.head()"
   ],
   "metadata": {
    "collapsed": false,
    "pycharm": {
     "name": "#%%\n"
    }
   }
  },
  {
   "cell_type": "code",
   "execution_count": 3,
   "outputs": [],
   "source": [
    "para_args = td.parallel_args(['MONA_common_with_nist.csv'],['MONA_night'],len(data_mona_common),['MONA_night'],['30ppm'],['20ppm'],['msms'])"
   ],
   "metadata": {
    "collapsed": false,
    "pycharm": {
     "name": "#%%\n"
    }
   }
  },
  {
   "cell_type": "code",
   "execution_count": null,
   "outputs": [],
   "source": [
    "start = time.time()\n",
    "with Pool() as p:\n",
    "    p.starmap(td.tree_denoising, para_args)\n",
    "end = time.time()\n",
    "\n",
    "running_time = end-start\n",
    "display(running_time)"
   ],
   "metadata": {
    "collapsed": false,
    "pycharm": {
     "name": "#%%\n"
    }
   }
  },
  {
   "cell_type": "code",
   "execution_count": null,
   "outputs": [],
   "source": [
    "display(running_time)"
   ],
   "metadata": {
    "collapsed": false,
    "pycharm": {
     "name": "#%%\n"
    }
   }
  },
  {
   "cell_type": "code",
   "execution_count": 1,
   "outputs": [
    {
     "ename": "NameError",
     "evalue": "name 'running_time' is not defined",
     "output_type": "error",
     "traceback": [
      "\u001B[0;31m---------------------------------------------------------------------------\u001B[0m",
      "\u001B[0;31mNameError\u001B[0m                                 Traceback (most recent call last)",
      "Input \u001B[0;32mIn [1]\u001B[0m, in \u001B[0;36m<module>\u001B[0;34m\u001B[0m\n\u001B[0;32m----> 1\u001B[0m (\u001B[43mrunning_time\u001B[49m)\u001B[38;5;241m/\u001B[39m\u001B[38;5;241m3600\u001B[39m\n",
      "\u001B[0;31mNameError\u001B[0m: name 'running_time' is not defined"
     ]
    }
   ],
   "source": [
    "(running_time)/3600"
   ],
   "metadata": {
    "collapsed": false,
    "pycharm": {
     "name": "#%%\n"
    }
   }
  },
  {
   "cell_type": "markdown",
   "source": [],
   "metadata": {
    "collapsed": false
   }
  },
  {
   "cell_type": "code",
   "execution_count": 5,
   "outputs": [],
   "source": [
    "msms_d = []\n",
    "explained_intensity = []\n",
    "for index, row in data_mona_common.iterrows():\n",
    "    msms_d.append(td.readin_denoised_msms(row, 'MONA_common','MONA','50ppm','20ppm'))\n",
    "    explained_intensity.append(td.readin_denoised_something('explainedIntensity',row, 'MONA_common','MONA','50ppm','20ppm'))"
   ],
   "metadata": {
    "collapsed": false,
    "pycharm": {
     "name": "#%%\n"
    }
   }
  },
  {
   "cell_type": "code",
   "execution_count": 6,
   "outputs": [
    {
     "data": {
      "text/plain": "2274"
     },
     "execution_count": 6,
     "metadata": {},
     "output_type": "execute_result"
    }
   ],
   "source": [
    "len(msms_d)"
   ],
   "metadata": {
    "collapsed": false,
    "pycharm": {
     "name": "#%%\n"
    }
   }
  },
  {
   "cell_type": "code",
   "execution_count": 8,
   "outputs": [],
   "source": [
    "data_mona_common['msms_d']=msms_d\n",
    "data_mona_common['explained_intensity']=explained_intensity"
   ],
   "metadata": {
    "collapsed": false,
    "pycharm": {
     "name": "#%%\n"
    }
   }
  },
  {
   "cell_type": "code",
   "execution_count": 11,
   "outputs": [
    {
     "data": {
      "text/plain": "<seaborn.axisgrid.FacetGrid at 0x127ecc6a0>"
     },
     "execution_count": 11,
     "metadata": {},
     "output_type": "execute_result"
    },
    {
     "data": {
      "text/plain": "<Figure size 360x360 with 1 Axes>",
      "image/png": "[encoded data removed]"
     },
     "metadata": {
      "needs_background": "light"
     },
     "output_type": "display_data"
    }
   ],
   "source": [
    "sns.displot(data_mona_common['explained_intensity'])"
   ],
   "metadata": {
    "collapsed": false,
    "pycharm": {
     "name": "#%%\n"
    }
   }
  },
  {
   "cell_type": "code",
   "execution_count": 12,
   "outputs": [],
   "source": [
    "data_mona_common_good_quality = data_mona_common.loc[data_mona_common['explained_intensity']>0.7]"
   ],
   "metadata": {
    "collapsed": false,
    "pycharm": {
     "name": "#%%\n"
    }
   }
  },
  {
   "cell_type": "code",
   "execution_count": 13,
   "outputs": [
    {
     "data": {
      "text/plain": "                                     NAME                                key  \\\n5                       Indoleacetic acid  SEOVTRFCIGRIMH-UHFFFAOYSA-N[M+H]+   \n13                              Serotonin  QZAYGJVTTNCVMB-UHFFFAOYSA-N[M+H]+   \n14                               Caffeine  RYYVLZVUVIJVGH-UHFFFAOYSA-N[M+H]+   \n17                      DL-Pipecolic acid  HXEACLLIILLPRG-YFKPBYRVSA-N[M+H]+   \n32  1-Aminocyclopropane-1-carboxylic acid  PAJPWUMXBYXFCZ-UHFFFAOYSA-N[M+H]+   \n\n    PRECURSORMZ                     InChIKey    Formula   ExactMass  adduct  \\\n5        176.10  SEOVTRFCIGRIMH-UHFFFAOYSA-N   C10H9NO2  175.063329  [M+H]+   \n13       177.10  QZAYGJVTTNCVMB-UHFFFAOYSA-N  C10H12N2O  176.094963  [M+H]+   \n14       195.10  RYYVLZVUVIJVGH-UHFFFAOYSA-N  C8H10N4O2  194.080376  [M+H]+   \n17       130.10  HXEACLLIILLPRG-YFKPBYRVSA-N   C6H11NO2  129.078979  [M+H]+   \n32       102.06  PAJPWUMXBYXFCZ-UHFFFAOYSA-N    C4H7NO2  101.047678  [M+H]+   \n\n    Num_Peaks                                               msms  \\\n5           4   130.0\\t100.0\\n131.1\\t0.4\\n157.9\\t2.0\\n176.1\\t0.3   \n13          5  149.1\\t1.6\\n160.1\\t100.0\\n161.0\\t0.1\\n167.7\\t0...   \n14         16  69.2\\t0.2\\n110.1\\t1.8\\n111.2\\t0.2\\n122.2\\t0.2\\...   \n17          5  84.1\\t100.0\\n85.2\\t2.1\\n111.1\\t0.4\\n112.1\\t0.1...   \n32          6  55.0\\t11.558174\\n56.0\\t74.966799\\n83.0\\t3.0339...   \n\n    Collision_energy source count                              key_all  \\\n5                 40   Mona    na  SEOVTRFCIGRIMH-UHFFFAOYSA-N[M+H]+40   \n13                40   Mona    na  QZAYGJVTTNCVMB-UHFFFAOYSA-N[M+H]+40   \n14                40   Mona    na  RYYVLZVUVIJVGH-UHFFFAOYSA-N[M+H]+40   \n17                40   Mona    na  HXEACLLIILLPRG-YFKPBYRVSA-N[M+H]+40   \n32                10   Mona    na  PAJPWUMXBYXFCZ-UHFFFAOYSA-N[M+H]+10   \n\n    row_num                                             msms_d  \\\n5         5                           130.0\\t100.0\\n176.1\\t0.3   \n13       13               149.1\\t1.6\\n160.1\\t100.0\\n177.1\\t0.0   \n14       14  110.1\\t1.8\\n138.1\\t100.0\\n139.1\\t7.4\\n195.1\\t11.2   \n17       17                            84.1\\t100.0\\n130.1\\t0.0   \n32       32  55.0\\t11.56\\n56.0\\t74.97\\n83.0\\t3.03\\n84.0\\t19...   \n\n    explained_intensity  \n5              0.980392  \n13             0.989289  \n14             0.985560  \n17             0.979432  \n32             0.930357  ",
      "text/html": "<div>\n<style scoped>\n    .dataframe tbody tr th:only-of-type {\n        vertical-align: middle;\n    }\n\n    .dataframe tbody tr th {\n        vertical-align: top;\n    }\n\n    .dataframe thead th {\n        text-align: right;\n    }\n</style>\n<table border=\"1\" class=\"dataframe\">\n  <thead>\n    <tr style=\"text-align: right;\">\n      <th></th>\n      <th>NAME</th>\n      <th>key</th>\n      <th>PRECURSORMZ</th>\n      <th>InChIKey</th>\n      <th>Formula</th>\n      <th>ExactMass</th>\n      <th>adduct</th>\n      <th>Num_Peaks</th>\n      <th>msms</th>\n      <th>Collision_energy</th>\n      <th>source</th>\n      <th>count</th>\n      <th>key_all</th>\n      <th>row_num</th>\n      <th>msms_d</th>\n      <th>explained_intensity</th>\n    </tr>\n  </thead>\n  <tbody>\n    <tr>\n      <th>5</th>\n      <td>Indoleacetic acid</td>\n      <td>SEOVTRFCIGRIMH-UHFFFAOYSA-N[M+H]+</td>\n      <td>176.10</td>\n      <td>SEOVTRFCIGRIMH-UHFFFAOYSA-N</td>\n      <td>C10H9NO2</td>\n      <td>175.063329</td>\n      <td>[M+H]+</td>\n      <td>4</td>\n      <td>130.0\\t100.0\\n131.1\\t0.4\\n157.9\\t2.0\\n176.1\\t0.3</td>\n      <td>40</td>\n      <td>Mona</td>\n      <td>na</td>\n      <td>SEOVTRFCIGRIMH-UHFFFAOYSA-N[M+H]+40</td>\n      <td>5</td>\n      <td>130.0\\t100.0\\n176.1\\t0.3</td>\n      <td>0.980392</td>\n    </tr>\n    <tr>\n      <th>13</th>\n      <td>Serotonin</td>\n      <td>QZAYGJVTTNCVMB-UHFFFAOYSA-N[M+H]+</td>\n      <td>177.10</td>\n      <td>QZAYGJVTTNCVMB-UHFFFAOYSA-N</td>\n      <td>C10H12N2O</td>\n      <td>176.094963</td>\n      <td>[M+H]+</td>\n      <td>5</td>\n      <td>149.1\\t1.6\\n160.1\\t100.0\\n161.0\\t0.1\\n167.7\\t0...</td>\n      <td>40</td>\n      <td>Mona</td>\n      <td>na</td>\n      <td>QZAYGJVTTNCVMB-UHFFFAOYSA-N[M+H]+40</td>\n      <td>13</td>\n      <td>149.1\\t1.6\\n160.1\\t100.0\\n177.1\\t0.0</td>\n      <td>0.989289</td>\n    </tr>\n    <tr>\n      <th>14</th>\n      <td>Caffeine</td>\n      <td>RYYVLZVUVIJVGH-UHFFFAOYSA-N[M+H]+</td>\n      <td>195.10</td>\n      <td>RYYVLZVUVIJVGH-UHFFFAOYSA-N</td>\n      <td>C8H10N4O2</td>\n      <td>194.080376</td>\n      <td>[M+H]+</td>\n      <td>16</td>\n      <td>69.2\\t0.2\\n110.1\\t1.8\\n111.2\\t0.2\\n122.2\\t0.2\\...</td>\n      <td>40</td>\n      <td>Mona</td>\n      <td>na</td>\n      <td>RYYVLZVUVIJVGH-UHFFFAOYSA-N[M+H]+40</td>\n      <td>14</td>\n      <td>110.1\\t1.8\\n138.1\\t100.0\\n139.1\\t7.4\\n195.1\\t11.2</td>\n      <td>0.985560</td>\n    </tr>\n    <tr>\n      <th>17</th>\n      <td>DL-Pipecolic acid</td>\n      <td>HXEACLLIILLPRG-YFKPBYRVSA-N[M+H]+</td>\n      <td>130.10</td>\n      <td>HXEACLLIILLPRG-YFKPBYRVSA-N</td>\n      <td>C6H11NO2</td>\n      <td>129.078979</td>\n      <td>[M+H]+</td>\n      <td>5</td>\n      <td>84.1\\t100.0\\n85.2\\t2.1\\n111.1\\t0.4\\n112.1\\t0.1...</td>\n      <td>40</td>\n      <td>Mona</td>\n      <td>na</td>\n      <td>HXEACLLIILLPRG-YFKPBYRVSA-N[M+H]+40</td>\n      <td>17</td>\n      <td>84.1\\t100.0\\n130.1\\t0.0</td>\n      <td>0.979432</td>\n    </tr>\n    <tr>\n      <th>32</th>\n      <td>1-Aminocyclopropane-1-carboxylic acid</td>\n      <td>PAJPWUMXBYXFCZ-UHFFFAOYSA-N[M+H]+</td>\n      <td>102.06</td>\n      <td>PAJPWUMXBYXFCZ-UHFFFAOYSA-N</td>\n      <td>C4H7NO2</td>\n      <td>101.047678</td>\n      <td>[M+H]+</td>\n      <td>6</td>\n      <td>55.0\\t11.558174\\n56.0\\t74.966799\\n83.0\\t3.0339...</td>\n      <td>10</td>\n      <td>Mona</td>\n      <td>na</td>\n      <td>PAJPWUMXBYXFCZ-UHFFFAOYSA-N[M+H]+10</td>\n      <td>32</td>\n      <td>55.0\\t11.56\\n56.0\\t74.97\\n83.0\\t3.03\\n84.0\\t19...</td>\n      <td>0.930357</td>\n    </tr>\n  </tbody>\n</table>\n</div>"
     },
     "execution_count": 13,
     "metadata": {},
     "output_type": "execute_result"
    }
   ],
   "source": [
    "data_mona_common_good_quality.head()"
   ],
   "metadata": {
    "collapsed": false,
    "pycharm": {
     "name": "#%%\n"
    }
   }
  },
  {
   "cell_type": "code",
   "execution_count": 43,
   "outputs": [],
   "source": [
    "entropy, location = ms.entropy_search(data_mona_common_good_quality.iloc[1000]['msms'], data_nist_common)"
   ],
   "metadata": {
    "collapsed": false,
    "pycharm": {
     "name": "#%%\n"
    }
   }
  },
  {
   "cell_type": "code",
   "execution_count": 44,
   "outputs": [
    {
     "data": {
      "text/plain": "0.26430600314082187"
     },
     "execution_count": 44,
     "metadata": {},
     "output_type": "execute_result"
    }
   ],
   "source": [
    "entropy"
   ],
   "metadata": {
    "collapsed": false,
    "pycharm": {
     "name": "#%%\n"
    }
   }
  },
  {
   "cell_type": "code",
   "execution_count": 45,
   "outputs": [
    {
     "data": {
      "text/plain": "NAME                                            Flufenamic acid\nkey                           LPEPZBJOKDYZAD-UHFFFAOYSA-N[M+H]+\nPRECURSORMZ                                            282.0736\nInChIKey                            LPEPZBJOKDYZAD-UHFFFAOYSA-N\nFormula                                             C14H10F3NO2\nExactMass                                            281.066362\nadduct                                                   [M+H]+\nNum_Peaks                                                     3\nmsms                244.06\\t15.78\\n264.06\\t999.0\\n282.07\\t15.48\nCollision_energy                                             15\nsource                                                     NIST\ncount                                                        28\nkey_all                     LPEPZBJOKDYZAD-UHFFFAOYSA-N[M+H]+15\nrow_num                                                     158\nName: 158, dtype: object"
     },
     "execution_count": 45,
     "metadata": {},
     "output_type": "execute_result"
    }
   ],
   "source": [
    "data_nist_common.iloc[location]"
   ],
   "metadata": {
    "collapsed": false,
    "pycharm": {
     "name": "#%%\n"
    }
   }
  },
  {
   "cell_type": "code",
   "execution_count": 48,
   "outputs": [
    {
     "data": {
      "text/plain": "'65.0387\\t0.16976\\n93.0339\\t0.106759\\n145.0263\\t0.119282\\n173.0206\\t0.890926\\n242.0611\\t6.562187\\n262.0674\\t100.0\\n282.0736\\t69.968737'"
     },
     "execution_count": 48,
     "metadata": {},
     "output_type": "execute_result"
    }
   ],
   "source": [
    "data_mona_common_good_quality.iloc[1000]['msms']"
   ],
   "metadata": {
    "collapsed": false,
    "pycharm": {
     "name": "#%%\n"
    }
   }
  },
  {
   "cell_type": "code",
   "execution_count": 49,
   "outputs": [
    {
     "data": {
      "text/plain": "'242.0611\\t6.56\\n262.0674\\t100.0\\n282.0736\\t69.97'"
     },
     "execution_count": 49,
     "metadata": {},
     "output_type": "execute_result"
    }
   ],
   "source": [
    "data_mona_common_good_quality.iloc[1000]['msms_d']"
   ],
   "metadata": {
    "collapsed": false,
    "pycharm": {
     "name": "#%%\n"
    }
   }
  },
  {
   "cell_type": "code",
   "execution_count": 50,
   "outputs": [
    {
     "data": {
      "text/plain": "0.6767810026385225"
     },
     "execution_count": 50,
     "metadata": {},
     "output_type": "execute_result"
    }
   ],
   "source": [
    "len(data_mona_common_good_quality)/len(data_mona_common)"
   ],
   "metadata": {
    "collapsed": false,
    "pycharm": {
     "name": "#%%\n"
    }
   }
  },
  {
   "cell_type": "code",
   "execution_count": 52,
   "outputs": [],
   "source": [
    "entropy_similarity = []\n",
    "entropy_similarity_d = []\n",
    "for index, row in data_mona_common_good_quality.iterrows():\n",
    "    entropy_similarity.append(ms.entropy_match_score(row, data_nist_common, 'msms'))\n",
    "    entropy_similarity_d.append(ms.entropy_match_score(row, data_nist_common, 'msms_d'))"
   ],
   "metadata": {
    "collapsed": false,
    "pycharm": {
     "name": "#%%\n"
    }
   }
  },
  {
   "cell_type": "code",
   "execution_count": 54,
   "outputs": [
    {
     "data": {
      "text/plain": "[1.1102230246251565e-16,\n 0.0,\n 0.0,\n 1.1102230246251565e-16,\n 1.1102230246251565e-16,\n 4.440892098500626e-16,\n 1.1102230246251565e-16,\n 1.1102230246251565e-16,\n 1.1102230246251565e-16,\n 1.1102230246251565e-16,\n 0.0,\n 0.0,\n 0.0,\n 1.1102230246251565e-16,\n 1.1102230246251565e-16,\n 4.440892098500626e-16,\n 0.0,\n 0.0,\n 0.0,\n 4.440892098500626e-16,\n 1.1102230246251565e-16,\n 1.1102230246251565e-16,\n 0.0,\n 1.1102230246251565e-16,\n 1.1102230246251565e-16,\n 1.1102230246251565e-16,\n 1.1102230246251565e-16,\n 1.1102230246251565e-16,\n 0.0,\n 1.1102230246251565e-16,\n 1.1102230246251565e-16,\n 0.0,\n 1.1102230246251565e-16,\n 1.1102230246251565e-16,\n 7.771561172376096e-16,\n 0.0,\n 0.0,\n 4.440892098500626e-16,\n 1.1102230246251565e-16,\n 1.1102230246251565e-16,\n 1.1102230246251565e-16,\n 7.771561172376096e-16,\n 1.1102230246251565e-16,\n 0.0,\n 1.1102230246251565e-16,\n 0.0,\n 0.0,\n 1.1102230246251565e-16,\n 0.0,\n 1.1102230246251565e-16,\n 0.0,\n 4.440892098500626e-16,\n 0.0,\n 0.0,\n 1.1102230246251565e-16,\n 0.0,\n 0.0,\n 0.0,\n 1.1102230246251565e-16,\n 0.0,\n 7.771561172376096e-16,\n 1.1102230246251565e-16,\n 1.1102230246251565e-16,\n 1.1102230246251565e-16,\n 0.0,\n 0.0,\n 0.0,\n 0.0,\n 7.771561172376096e-16,\n 1.1102230246251565e-16,\n 0.0,\n 0.0,\n 1.1102230246251565e-16,\n 0.0,\n 0.0,\n 1.1102230246251565e-16,\n 1.1102230246251565e-15,\n 0.0,\n 0.0,\n 1.1102230246251565e-16,\n 0.0,\n 0.0,\n 1.1102230246251565e-16,\n 1.1102230246251565e-16,\n 4.440892098500626e-16,\n 1.1102230246251565e-16,\n 1.1102230246251565e-16,\n 7.771561172376096e-16,\n 1.1102230246251565e-16,\n 1.1102230246251565e-16,\n 1.1102230246251565e-16,\n 1.1102230246251565e-16,\n 0.0,\n 1.1102230246251565e-16,\n 0.0,\n 1.1102230246251565e-16,\n 1.1102230246251565e-16,\n 1.1102230246251565e-16,\n 4.440892098500626e-16,\n 1.1102230246251565e-16,\n 0.0,\n 1.1102230246251565e-16,\n 1.1102230246251565e-16,\n 1.1102230246251565e-16,\n 0.0,\n 1.1102230246251565e-16,\n 1.1102230246251565e-16,\n 1.1102230246251565e-16,\n 1.1102230246251565e-16,\n 1.1102230246251565e-16,\n 1.1102230246251565e-16,\n 1.1102230246251565e-16,\n 4.440892098500626e-16,\n 0.0,\n 1.1102230246251565e-16,\n 1.1102230246251565e-16,\n 0.0,\n 1.1102230246251565e-16,\n 1.1102230246251565e-16,\n 0.09267345475855926,\n 1.1102230246251565e-16,\n 0.0,\n 1.1102230246251565e-16,\n 1.1102230246251565e-16,\n 1.1102230246251565e-16,\n 1.1102230246251565e-16,\n 0.0,\n 1.1102230246251565e-16,\n 0.0,\n 0.0,\n 4.440892098500626e-16,\n 1.1102230246251565e-16,\n 4.440892098500626e-16,\n 7.771561172376096e-16,\n 0.0,\n 0.0,\n 0.00940324190540509,\n 1.1102230246251565e-16,\n 1.1102230246251565e-16,\n 1.1102230246251565e-16,\n 4.440892098500626e-16,\n 0.0,\n 4.440892098500626e-16,\n 1.1102230246251565e-16,\n 0.0,\n 4.440892098500626e-16,\n 1.1102230246251565e-16,\n 0.0,\n 4.440892098500626e-16,\n 4.440892098500626e-16,\n 0.0,\n 0.0,\n 0.0,\n 0.0,\n 0.0,\n 0.008174099018661174,\n 0.0,\n 0.0,\n 0.0,\n 0.0,\n 1.1102230246251565e-16,\n 7.771561172376096e-16,\n 7.771561172376096e-16,\n 0.0,\n 7.771561172376096e-16,\n 0.0,\n 0.0,\n 0.0,\n 0.0,\n 0.0,\n 1.1102230246251565e-16,\n 1.1102230246251565e-16,\n 1.1102230246251565e-16,\n 0.0,\n 1.1102230246251565e-16,\n 1.1102230246251565e-16,\n 0.0,\n 1.1102230246251565e-16,\n 4.440892098500626e-16,\n 4.440892098500626e-16,\n 1.1102230246251565e-16,\n 1.1102230246251565e-16,\n 1.1102230246251565e-16,\n 1.1102230246251565e-16,\n 1.1102230246251565e-16,\n 1.1102230246251565e-16,\n 0.0,\n 0.0,\n 0.003955120439157855,\n 0.005743237751822894,\n 0.01480982359531291,\n 4.440892098500626e-16,\n 0.0,\n 0.17971978302582592,\n 0.09042426527208669,\n 1.1102230246251565e-16,\n 0.0,\n 0.0,\n 0.0,\n 0.0,\n 1.1102230246251565e-16,\n 4.440892098500626e-16,\n 0.0,\n 0.0,\n 0.0,\n 1.1102230246251565e-16,\n 0.0,\n 1.1102230246251565e-16,\n 5.480231268784053e-09,\n 1.1102230246251565e-16,\n 0.0,\n 1.1102230246251565e-16,\n 1.1102230246251565e-16,\n 1.1102230246251565e-16,\n 0.0,\n 1.1102230246251565e-16,\n 0.0,\n 4.440892098500626e-16,\n 0.0,\n 0.0,\n 0.0,\n 1.1102230246251565e-16,\n 1.1102230246251565e-16,\n 1.1102230246251565e-16,\n 1.1102230246251565e-16,\n 1.1102230246251565e-16,\n 1.1102230246251565e-16,\n 1.1102230246251565e-16,\n 1.1102230246251565e-16,\n 0.0,\n 1.1102230246251565e-16,\n 0.0,\n 0.0,\n 1.1102230246251565e-16,\n 4.440892098500626e-16,\n 0.0,\n 1.1102230246251565e-16,\n 0.0,\n 1.1102230246251565e-16,\n 1.1102230246251565e-16,\n 7.771561172376096e-16,\n 4.440892098500626e-16,\n 4.440892098500626e-16,\n 0.0,\n 0.0,\n 4.440892098500626e-16,\n 0.0,\n 4.440892098500626e-16,\n 4.440892098500626e-16,\n 0.0,\n 1.1102230246251565e-16,\n 1.1102230246251565e-16,\n 1.1102230246251565e-16,\n 0.0,\n 1.1102230246251565e-16,\n 1.1102230246251565e-16,\n 1.1102230246251565e-16,\n 0.0,\n 0.0,\n 0.0,\n 1.1102230246251565e-16,\n 1.1102230246251565e-16,\n 4.440892098500626e-16,\n 0.0,\n 0.0,\n 1.1102230246251565e-16,\n 1.1102230246251565e-16,\n 0.0,\n 7.771561172376096e-16,\n 1.1102230246251565e-16,\n 7.771561172376096e-16,\n 4.440892098500626e-16,\n 0.0,\n 1.1102230246251565e-16,\n 1.1102230246251565e-16,\n 0.0,\n 1.1102230246251565e-16,\n 0.0,\n 0.0,\n 0.0,\n 0.0,\n 1.1102230246251565e-16,\n 0.0,\n 1.1102230246251565e-16,\n 0.0,\n 0.0,\n 0.0,\n 0.0,\n 1.1102230246251565e-16,\n 4.440892098500626e-16,\n 1.1102230246251565e-16,\n 0.0,\n 0.0,\n 0.0,\n 1.1102230246251565e-16,\n 4.440892098500626e-16,\n 1.1102230246251565e-16,\n 1.1102230246251565e-16,\n 0.0,\n 1.1102230246251565e-16,\n 4.440892098500626e-16,\n 0.0,\n 1.1102230246251565e-16,\n 1.1102230246251565e-16,\n 0.0,\n 1.1102230246251565e-16,\n 1.1102230246251565e-16,\n 0.0,\n 0.0,\n 0.0,\n 1.1102230246251565e-16,\n 1.1102230246251565e-16,\n 0.0,\n 7.771561172376096e-16,\n 1.1102230246251565e-16,\n 1.1102230246251565e-16,\n 1.1102230246251565e-16,\n 0.0,\n 0.0056487044035321565,\n 0.0,\n 1.1102230246251565e-16,\n 7.771561172376096e-16,\n 4.440892098500626e-16,\n 0.0,\n 1.1102230246251565e-16,\n 7.771561172376096e-16,\n 1.1102230246251565e-15,\n 0.0,\n 1.1102230246251565e-16,\n 0.0,\n 0.0,\n 1.1102230246251565e-16,\n 1.1102230246251565e-16,\n 0.0,\n 0.0,\n 1.1102230246251565e-16,\n 1.1102230246251565e-16,\n 0.0,\n 0.0,\n 0.0,\n 0.0,\n 0.0,\n 0.0,\n 0.13301337296043314,\n 0.1124870673292544,\n 0.0,\n 0.0,\n 0.0,\n 0.0,\n 1.1102230246251565e-16,\n 0.0,\n 1.1102230246251565e-16,\n 0.0,\n 0.0,\n 1.1102230246251565e-16,\n 1.1102230246251565e-16,\n 1.1102230246251565e-16,\n 1.1102230246251565e-16,\n 1.1102230246251565e-16,\n 1.1102230246251565e-16,\n 0.0,\n 0.0,\n 1.2984991581976857e-07,\n 0.01889041338810249,\n 0.0,\n 0.014506372788246402,\n 0.0,\n 4.440892098500626e-16,\n 7.771561172376096e-16,\n 1.1102230246251565e-16,\n 0.0,\n 1.1102230246251565e-16,\n 0.0,\n 1.1102230246251565e-16,\n 0.0,\n 0.0,\n 7.771561172376096e-16,\n 0.0,\n 1.1102230246251565e-16,\n 1.1102230246251565e-16,\n 1.1102230246251565e-16,\n 1.1102230246251565e-16,\n 1.1102230246251565e-16,\n 1.1102230246251565e-16,\n 0.0,\n 1.1102230246251565e-16,\n 1.1102230246251565e-16,\n 0.0,\n 4.440892098500626e-16,\n 0.0,\n 4.440892098500626e-16,\n 0.0,\n 4.440892098500626e-16,\n 0.0,\n 0.0,\n 1.1102230246251565e-16,\n 0.0,\n 1.1102230246251565e-16,\n 1.1102230246251565e-16,\n 1.1102230246251565e-16,\n 1.1102230246251565e-16,\n 0.0,\n 1.1102230246251565e-16,\n 1.1102230246251565e-16,\n 0.0,\n 0.0,\n 4.440892098500626e-16,\n 1.1102230246251565e-16,\n 0.0,\n 1.1102230246251565e-16,\n 1.1102230246251565e-16,\n 1.1102230246251565e-16,\n 0.0,\n 1.1102230246251565e-16,\n 0.0,\n 4.440892098500626e-16,\n 0.0,\n 1.1102230246251565e-16,\n 1.1102230246251565e-16,\n 0.0,\n 0.0,\n 0.0,\n 0.0,\n 0.0,\n 0.784548169430641,\n 0.435236437557841,\n 1.1102230246251565e-16,\n 7.771561172376096e-16,\n 0.0,\n 0.0,\n 0.0,\n 1.1102230246251565e-16,\n 1.1102230246251565e-16,\n 1.1102230246251565e-16,\n 1.1102230246251565e-16,\n 0.0,\n 0.0,\n 4.440892098500626e-16,\n 0.0,\n 1.1102230246251565e-16,\n 1.1102230246251565e-16,\n 0.0,\n 0.0,\n 0.0,\n 1.1102230246251565e-16,\n 0.0,\n 1.1102230246251565e-16,\n 1.1102230246251565e-16,\n 4.440892098500626e-16,\n 0.0,\n 0.0,\n 4.440892098500626e-16,\n 1.1102230246251565e-16,\n 1.1102230246251565e-16,\n 0.0,\n 1.1102230246251565e-16,\n 0.0,\n 0.0,\n 1.1102230246251565e-16,\n 1.1102230246251565e-16,\n 1.1102230246251565e-16,\n 0.0,\n 1.1102230246251565e-16,\n 0.0,\n 1.1102230246251565e-16,\n 1.1102230246251565e-16,\n 1.1102230246251565e-16,\n 0.0,\n 0.0,\n 0.0,\n 1.1102230246251565e-16,\n 4.440892098500626e-16,\n 0.0,\n 1.1102230246251565e-16,\n 0.0,\n 1.1102230246251565e-16,\n 1.1102230246251565e-16,\n 1.1102230246251565e-16,\n 7.771561172376096e-16,\n 1.1102230246251565e-16,\n 1.1102230246251565e-16,\n 7.771561172376096e-16,\n 0.0,\n 0.0,\n 4.440892098500626e-16,\n 0.0,\n 0.0,\n 0.0,\n 1.1102230246251565e-16,\n 1.1102230246251565e-16,\n 1.1102230246251565e-16,\n 0.0793744718384668,\n 0.0,\n 0.1225189362407142,\n 0.05129456934229193,\n 1.1102230246251565e-16,\n 0.0,\n 1.1102230246251565e-16,\n 1.1102230246251565e-16,\n 1.1102230246251565e-16,\n 1.1102230246251565e-16,\n 7.771561172376096e-16,\n 1.1102230246251565e-16,\n 0.0,\n 6.153520926144296e-08,\n 0.0,\n 3.0302121256653436e-08,\n 1.1102230246251565e-16,\n 1.1102230246251565e-16,\n 1.1102230246251565e-16,\n 0.0,\n 1.1102230246251565e-16,\n 7.771561172376096e-16,\n 4.440892098500626e-16,\n 0.0,\n 1.1102230246251565e-16,\n 1.1102230246251565e-16,\n 1.1102230246251565e-16,\n 0.0,\n 1.1102230246251565e-16,\n 0.0,\n 0.0,\n 0.0,\n 0.0,\n 1.1102230246251565e-16,\n 1.1102230246251565e-16,\n 1.1102230246251565e-16,\n 4.440892098500626e-16,\n 0.0,\n 0.0,\n 0.0,\n 0.0,\n 7.771561172376096e-16,\n 0.0,\n 7.771561172376096e-16,\n 4.440892098500626e-16,\n 1.1102230246251565e-16,\n 1.1102230246251565e-16,\n 0.0,\n 1.1102230246251565e-16,\n 0.0,\n 4.440892098500626e-16,\n 2.1650629511427155e-08,\n 0.0,\n 0.0,\n 4.440892098500626e-16,\n 1.1102230246251565e-16,\n 0.0,\n 4.440892098500626e-16,\n 1.1102230246251565e-16,\n 0.0,\n 1.1102230246251565e-16,\n 1.1102230246251565e-16,\n 1.1102230246251565e-16,\n 1.1102230246251565e-16,\n 1.1102230246251565e-16,\n 1.1102230246251565e-16,\n 0.0,\n 7.771561172376096e-16,\n 1.1102230246251565e-16,\n 0.0,\n 1.1102230246251565e-16,\n 1.1102230246251565e-16,\n 1.1102230246251565e-16,\n 0.0,\n 0.0,\n 1.1102230246251565e-16,\n 7.771561172376096e-16,\n 1.1102230246251565e-16,\n 0.0,\n 1.1102230246251565e-16,\n 1.1102230246251565e-16,\n 4.440892098500626e-16,\n 0.0,\n 1.1102230246251565e-16,\n 0.0,\n 0.0,\n 1.1102230246251565e-16,\n 1.1102230246251565e-16,\n 1.1102230246251565e-16,\n 0.0,\n 1.1102230246251565e-16,\n 1.1102230246251565e-16,\n 0.0,\n 0.0,\n 0.0,\n 0.0,\n 0.0,\n 1.1102230246251565e-16,\n 0.0,\n 0.0,\n 4.440892098500626e-16,\n 0.0,\n 1.1102230246251565e-16,\n 4.440892098500626e-16,\n 0.0,\n 8.317835709092947e-08,\n 0.0,\n 4.440892098500626e-16,\n 0.0,\n 0.0,\n 0.0,\n 0.0,\n 1.1102230246251565e-16,\n 0.0,\n 4.440892098500626e-16,\n 0.0,\n 1.1102230246251565e-16,\n 0.0,\n 0.0,\n 1.1102230246251565e-16,\n 1.1102230246251565e-16,\n 1.1102230246251565e-16,\n 0.0,\n 0.0,\n 1.1102230246251565e-16,\n 1.1102230246251565e-16,\n 0.0,\n 0.07529093239997142,\n 4.440892098500626e-16,\n 1.1102230246251565e-16,\n 1.1102230246251565e-16,\n 0.12927812516888715,\n 0.14764951495630207,\n 0.1532227295426304,\n 0.18300399278170165,\n 0.0,\n 0.0,\n 0.0,\n 7.771561172376096e-16,\n 4.440892098500626e-16,\n 1.1102230246251565e-16,\n 0.0,\n 0.0,\n 0.0,\n 4.440892098500626e-16,\n 1.1102230246251565e-16,\n 0.0,\n 1.1102230246251565e-16,\n 4.440892098500626e-16,\n 0.0,\n 0.0,\n 7.771561172376096e-16,\n 0.0,\n 1.1102230246251565e-16,\n 4.440892098500626e-16,\n 0.0,\n 0.0,\n 0.0,\n 4.440892098500626e-16,\n 1.1102230246251565e-16,\n 0.03561862447940489,\n 4.440892098500626e-16,\n 1.1102230246251565e-16,\n 1.1102230246251565e-16,\n 1.1102230246251565e-16,\n 0.0,\n 0.0,\n 1.1102230246251565e-15,\n 1.1102230246251565e-16,\n 0.0,\n 1.1102230246251565e-16,\n 1.1102230246251565e-16,\n 0.0,\n 0.0,\n 0.0,\n 0.0,\n 1.1102230246251565e-16,\n 1.1102230246251565e-16,\n 0.0,\n 0.0,\n 0.0,\n 0.0,\n 1.1102230246251565e-16,\n 4.440892098500626e-16,\n 1.1102230246251565e-16,\n 0.0,\n 0.0,\n 0.0,\n 1.1102230246251565e-16,\n 1.1102230246251565e-16,\n 1.1102230246251565e-16,\n 7.771561172376096e-16,\n 1.1102230246251565e-16,\n 1.1102230246251565e-16,\n 7.993801176553461e-09,\n 1.1102230246251565e-16,\n 1.1102230246251565e-16,\n 1.1102230246251565e-16,\n 1.1102230246251565e-16,\n 0.0,\n 0.0,\n 0.0,\n 0.0,\n 7.771561172376096e-16,\n 4.440892098500626e-16,\n 4.440892098500626e-16,\n 4.440892098500626e-16,\n 4.440892098500626e-16,\n 1.1102230246251565e-16,\n 1.1102230246251565e-16,\n 0.0,\n 1.1102230246251565e-16,\n 1.1102230246251565e-16,\n 4.440892098500626e-16,\n 4.440892098500626e-16,\n 1.1102230246251565e-16,\n 0.0,\n 1.1102230246251565e-16,\n 1.1102230246251565e-16,\n 1.1102230246251565e-16,\n 1.1102230246251565e-16,\n 1.1102230246251565e-16,\n 4.440892098500626e-16,\n 7.771561172376096e-16,\n 0.0,\n 1.1102230246251565e-16,\n 0.0,\n 1.1102230246251565e-16,\n 0.0,\n 7.771561172376096e-16,\n 1.1102230246251565e-16,\n 1.1102230246251565e-16,\n 1.1102230246251565e-16,\n 4.440892098500626e-16,\n 0.0,\n 1.1102230246251565e-16,\n 1.1102230246251565e-16,\n 1.1102230246251565e-16,\n 7.771561172376096e-16,\n 0.0,\n 1.1102230246251565e-16,\n 0.0,\n 1.1102230246251565e-16,\n 0.0,\n 7.771561172376096e-16,\n 4.440892098500626e-16,\n 1.1102230246251565e-16,\n 5.551115123125783e-17,\n 2.220446049250313e-16,\n 1.1102230246251565e-16,\n 7.771561172376096e-16,\n 4.440892098500626e-16,\n 4.440892098500626e-16,\n 1.1102230246251565e-16,\n 1.1102230246251565e-16,\n 7.771561172376096e-16,\n 0.0,\n 1.1102230246251565e-16,\n 1.1102230246251565e-16,\n 1.1102230246251565e-16,\n 4.440892098500626e-16,\n 1.1102230246251565e-16,\n 0.0,\n 0.0,\n 1.1102230246251565e-16,\n 0.0,\n 1.1102230246251565e-16,\n 0.0,\n 0.0,\n 1.1102230246251565e-16,\n 1.1102230246251565e-16,\n 0.0,\n 1.1102230246251565e-16,\n 1.1102230246251565e-16,\n 4.440892098500626e-16,\n 0.0,\n 0.0,\n 1.1102230246251565e-16,\n 0.0,\n 0.0,\n 0.0,\n 1.1102230246251565e-16,\n 1.1102230246251565e-16,\n 0.0,\n 0.0,\n 1.1102230246251565e-16,\n 1.1102230246251565e-16,\n 0.0,\n 0.15149972210758011,\n 0.2304760669161513,\n 0.24639002238822094,\n 1.1102230246251565e-16,\n 7.771561172376096e-16,\n 1.1102230246251565e-16,\n 0.0,\n 0.0,\n 4.440892098500626e-16,\n 0.0,\n 7.771561172376096e-16,\n 1.1102230246251565e-16,\n 0.0,\n 1.1102230246251565e-16,\n 1.1102230246251565e-16,\n 0.0,\n 0.0,\n 0.0,\n 1.1102230246251565e-16,\n 4.440892098500626e-16,\n 1.1102230246251565e-16,\n 0.0,\n 0.0,\n 0.0,\n 0.0,\n 1.1102230246251565e-16,\n 0.0,\n 0.09999276432896875,\n 4.440892098500626e-16,\n 0.0,\n 1.1102230246251565e-16,\n 1.1102230246251565e-16,\n 1.1102230246251565e-16,\n 1.1102230246251565e-16,\n 4.440892098500626e-16,\n 0.0,\n 1.1102230246251565e-16,\n 1.1102230246251565e-16,\n 1.1102230246251565e-16,\n 1.1102230246251565e-16,\n 0.0,\n 0.0,\n 1.1102230246251565e-16,\n 0.0,\n 1.1102230246251565e-16,\n 1.1102230246251565e-16,\n 0.0,\n 0.0,\n 7.771561172376096e-16,\n 4.440892098500626e-16,\n 0.0,\n 0.0,\n 0.0,\n 0.0,\n 0.0,\n 0.0,\n 1.1102230246251565e-16,\n 7.771561172376096e-16,\n 1.1102230246251565e-16,\n 0.0,\n 0.0,\n 4.440892098500626e-16,\n 1.1102230246251565e-16,\n 4.440892098500626e-16,\n 1.1102230246251565e-16,\n 1.1102230246251565e-16,\n 1.1102230246251565e-16,\n 4.440892098500626e-16,\n 0.0,\n 0.0,\n 1.1102230246251565e-16,\n 1.1102230246251565e-16,\n 0.0,\n 1.1102230246251565e-16,\n 0.0,\n 1.1102230246251565e-16,\n 1.1102230246251565e-16,\n 1.1102230246251565e-16,\n 0.0,\n 0.0,\n 1.1102230246251565e-16,\n 0.0,\n 0.0,\n 0.0,\n 1.1102230246251565e-16,\n 1.1102230246251565e-16,\n 0.0,\n 1.1102230246251565e-16,\n 1.1102230246251565e-16,\n 1.1102230246251565e-16,\n 0.0,\n 4.440892098500626e-16,\n 0.0,\n 0.0,\n 7.771561172376096e-16,\n 0.0,\n 1.1102230246251565e-16,\n 4.440892098500626e-16,\n 4.440892098500626e-16,\n 4.440892098500626e-16,\n 1.1102230246251565e-16,\n 1.1102230246251565e-16,\n 0.0,\n 1.1102230246251565e-16,\n 1.1102230246251565e-16,\n 0.0,\n 0.0,\n 1.1102230246251565e-16,\n 4.440892098500626e-16,\n 1.1102230246251565e-16,\n 1.0669621852699152e-09,\n 1.1102230246251565e-16,\n 1.1102230246251565e-16,\n 4.440892098500626e-16,\n 0.0,\n 0.0,\n 1.1102230246251565e-16,\n 4.440892098500626e-16,\n 1.1102230246251565e-16,\n 1.1102230246251565e-16,\n 0.0,\n 0.0,\n 1.1102230246251565e-16,\n 1.1102230246251565e-16,\n 1.1102230246251565e-16,\n 1.1102230246251565e-16,\n 1.1102230246251565e-16,\n 1.1102230246251565e-16,\n 1.1102230246251565e-16,\n 0.0,\n 0.0,\n 0.0,\n 0.0,\n 1.1102230246251565e-16,\n 1.1102230246251565e-16,\n 1.1102230246251565e-16,\n 1.1102230246251565e-16,\n 0.0,\n 1.1102230246251565e-16,\n 0.0,\n 0.0,\n 1.1102230246251565e-16,\n 1.1102230246251565e-16,\n 1.1102230246251565e-16,\n 0.0,\n 1.1102230246251565e-16,\n 0.0,\n 1.1102230246251565e-16,\n 1.1102230246251565e-16,\n 0.0,\n 0.0,\n 1.1102230246251565e-16,\n 0.0,\n 7.771561172376096e-16,\n 0.0,\n 0.0,\n 0.0,\n 0.0,\n 1.1102230246251565e-16,\n 0.0,\n 4.440892098500626e-16,\n 0.0,\n 0.0,\n 1.1102230246251565e-16,\n 1.1102230246251565e-16,\n 1.1102230246251565e-16,\n 0.0,\n 1.1102230246251565e-16,\n 0.0,\n 1.1102230246251565e-16,\n 1.1102230246251565e-16,\n 1.1102230246251565e-16,\n 0.0,\n 0.0,\n 0.0,\n 1.1102230246251565e-16,\n 0.0,\n 1.1102230246251565e-16,\n 1.1102230246251565e-16,\n 1.1102230246251565e-16,\n 4.440892098500626e-16,\n 1.1102230246251565e-16,\n 1.1102230246251565e-16,\n 4.440892098500626e-16,\n 1.1102230246251565e-15,\n 0.0,\n 0.0,\n 0.0,\n 0.0,\n 0.0,\n 0.0,\n 1.1102230246251565e-16,\n 1.1102230246251565e-16,\n 0.0,\n 1.1102230246251565e-16,\n 1.1102230246251565e-16,\n 1.1102230246251565e-16,\n 1.1102230246251565e-16,\n 1.1102230246251565e-16,\n 1.1102230246251565e-16,\n 1.1102230246251565e-16,\n 1.1102230246251565e-16,\n 4.440892098500626e-16,\n 1.1102230246251565e-16,\n 0.0,\n 0.0,\n 0.10547157718293021,\n 0.08974215524780205,\n 0.0,\n 1.1102230246251565e-16,\n 1.1102230246251565e-16,\n 1.1102230246251565e-16,\n 0.0,\n 0.025097703901764024,\n 0.0,\n 0.0,\n 1.1102230246251565e-16,\n 0.0,\n 1.1102230246251565e-16,\n 1.1102230246251565e-16,\n 0.0,\n ...]"
     },
     "execution_count": 54,
     "metadata": {},
     "output_type": "execute_result"
    }
   ],
   "source": [
    "entropy_similarity"
   ],
   "metadata": {
    "collapsed": false,
    "pycharm": {
     "name": "#%%\n"
    }
   }
  },
  {
   "cell_type": "code",
   "execution_count": 56,
   "outputs": [
    {
     "data": {
      "text/plain": "count    1.539000e+03\nmean     3.509112e-03\nstd      3.162434e-02\nmin      0.000000e+00\n25%      0.000000e+00\n50%      1.110223e-16\n75%      1.110223e-16\nmax      8.210797e-01\ndtype: float64"
     },
     "execution_count": 56,
     "metadata": {},
     "output_type": "execute_result"
    }
   ],
   "source": [
    "pd.Series(entropy_similarity_d).describe()"
   ],
   "metadata": {
    "collapsed": false,
    "pycharm": {
     "name": "#%%\n"
    }
   }
  },
  {
   "cell_type": "code",
   "execution_count": 57,
   "outputs": [
    {
     "data": {
      "text/plain": "count    1.539000e+03\nmean     3.485792e-03\nstd      3.063026e-02\nmin      0.000000e+00\n25%      0.000000e+00\n50%      1.110223e-16\n75%      1.110223e-16\nmax      7.845482e-01\ndtype: float64"
     },
     "execution_count": 57,
     "metadata": {},
     "output_type": "execute_result"
    }
   ],
   "source": [
    "pd.Series(entropy_similarity).describe()"
   ],
   "metadata": {
    "collapsed": false,
    "pycharm": {
     "name": "#%%\n"
    }
   }
  },
  {
   "cell_type": "code",
   "execution_count": 72,
   "outputs": [
    {
     "name": "stderr",
     "output_type": "stream",
     "text": [
      "/var/folders/sq/fc0hszxn0q1_1cc187d_zjm80000gn/T/ipykernel_10641/3983603367.py:1: SettingWithCopyWarning: \n",
      "A value is trying to be set on a copy of a slice from a DataFrame.\n",
      "Try using .loc[row_indexer,col_indexer] = value instead\n",
      "\n",
      "See the caveats in the documentation: https://pandas.pydata.org/pandas-docs/stable/user_guide/indexing.html#returning-a-view-versus-a-copy\n",
      "  data_mona_common_good_quality['entropy_matched_score']= entropy_similarity\n",
      "/var/folders/sq/fc0hszxn0q1_1cc187d_zjm80000gn/T/ipykernel_10641/3983603367.py:2: SettingWithCopyWarning: \n",
      "A value is trying to be set on a copy of a slice from a DataFrame.\n",
      "Try using .loc[row_indexer,col_indexer] = value instead\n",
      "\n",
      "See the caveats in the documentation: https://pandas.pydata.org/pandas-docs/stable/user_guide/indexing.html#returning-a-view-versus-a-copy\n",
      "  data_mona_common_good_quality['entropy_matched_score_d']=entropy_similarity_d\n"
     ]
    }
   ],
   "source": [
    "data_mona_common_good_quality['entropy_matched_score']= entropy_similarity\n",
    "data_mona_common_good_quality['entropy_matched_score_d']=entropy_similarity_d"
   ],
   "metadata": {
    "collapsed": false,
    "pycharm": {
     "name": "#%%\n"
    }
   }
  },
  {
   "cell_type": "code",
   "execution_count": 76,
   "outputs": [
    {
     "name": "stderr",
     "output_type": "stream",
     "text": [
      "/var/folders/sq/fc0hszxn0q1_1cc187d_zjm80000gn/T/ipykernel_10641/1714169232.py:2: SettingWithCopyWarning: \n",
      "A value is trying to be set on a copy of a slice from a DataFrame.\n",
      "Try using .loc[row_indexer,col_indexer] = value instead\n",
      "\n",
      "See the caveats in the documentation: https://pandas.pydata.org/pandas-docs/stable/user_guide/indexing.html#returning-a-view-versus-a-copy\n",
      "  data_mona_common_good_quality['entropy_matched_score_d']*=100\n"
     ]
    }
   ],
   "source": [
    "# data_mona_common_good_quality['entropy_matched_score']*=100\n",
    "data_mona_common_good_quality['entropy_matched_score_d']*=100"
   ],
   "metadata": {
    "collapsed": false,
    "pycharm": {
     "name": "#%%\n"
    }
   }
  },
  {
   "cell_type": "code",
   "execution_count": 80,
   "outputs": [
    {
     "data": {
      "text/plain": "NAME                                                               Serotonin\nkey                                        QZAYGJVTTNCVMB-UHFFFAOYSA-N[M+H]+\nPRECURSORMZ                                                            177.1\nInChIKey                                         QZAYGJVTTNCVMB-UHFFFAOYSA-N\nFormula                                                            C10H12N2O\nExactMass                                                         176.094963\nadduct                                                                [M+H]+\nNum_Peaks                                                                  5\nmsms                       149.1\\t1.6\\n160.1\\t100.0\\n161.0\\t0.1\\n167.7\\t0...\nCollision_energy                                                          40\nsource                                                                  Mona\ncount                                                                     na\nkey_all                                  QZAYGJVTTNCVMB-UHFFFAOYSA-N[M+H]+40\nrow_num                                                                   13\nmsms_d                                  149.1\\t1.6\\n160.1\\t100.0\\n177.1\\t0.0\nexplained_intensity                                                 0.989289\nentropy_matched_score                                                    0.0\nentropy_matched_score_d                                                  0.0\nName: 13, dtype: object"
     },
     "execution_count": 80,
     "metadata": {},
     "output_type": "execute_result"
    }
   ],
   "source": [
    "data_mona_common_good_quality.iloc[1]"
   ],
   "metadata": {
    "collapsed": false,
    "pycharm": {
     "name": "#%%\n"
    }
   }
  },
  {
   "cell_type": "code",
   "execution_count": null,
   "outputs": [],
   "source": [],
   "metadata": {
    "collapsed": false,
    "pycharm": {
     "name": "#%%\n"
    }
   }
  },
  {
   "cell_type": "code",
   "execution_count": 78,
   "outputs": [
    {
     "data": {
      "text/plain": "<seaborn.axisgrid.FacetGrid at 0x16c88a250>"
     },
     "execution_count": 78,
     "metadata": {},
     "output_type": "execute_result"
    },
    {
     "data": {
      "text/plain": "<Figure size 360x360 with 1 Axes>",
      "image/png": "[encoded data removed]"
     },
     "metadata": {
      "needs_background": "light"
     },
     "output_type": "display_data"
    }
   ],
   "source": [
    "sns.displot(data=data_mona_common_good_quality, x=\"entropy_matched_score\",binwidth=0.5)"
   ],
   "metadata": {
    "collapsed": false,
    "pycharm": {
     "name": "#%%\n"
    }
   }
  },
  {
   "cell_type": "code",
   "execution_count": 79,
   "outputs": [
    {
     "data": {
      "text/plain": "<seaborn.axisgrid.FacetGrid at 0x17f737130>"
     },
     "execution_count": 79,
     "metadata": {},
     "output_type": "execute_result"
    },
    {
     "data": {
      "text/plain": "<Figure size 360x360 with 1 Axes>",
      "image/png": "[encoded data removed]"
     },
     "metadata": {
      "needs_background": "light"
     },
     "output_type": "display_data"
    }
   ],
   "source": [
    "sns.displot(data=data_mona_common_good_quality, x=\"entropy_matched_score_d\",binwidth=0.5)"
   ],
   "metadata": {
    "collapsed": false,
    "pycharm": {
     "name": "#%%\n"
    }
   }
  },
  {
   "cell_type": "code",
   "execution_count": 66,
   "outputs": [
    {
     "data": {
      "text/plain": "1539"
     },
     "execution_count": 66,
     "metadata": {},
     "output_type": "execute_result"
    }
   ],
   "source": [
    "len(data_mona_common_good_quality)"
   ],
   "metadata": {
    "collapsed": false,
    "pycharm": {
     "name": "#%%\n"
    }
   }
  },
  {
   "cell_type": "code",
   "execution_count": 60,
   "outputs": [
    {
     "ename": "MemoryError",
     "evalue": "Unable to allocate 290. PiB for an array with shape (40793621425042720,) and data type float64",
     "output_type": "error",
     "traceback": [
      "\u001B[0;31m---------------------------------------------------------------------------\u001B[0m",
      "\u001B[0;31mMemoryError\u001B[0m                               Traceback (most recent call last)",
      "Input \u001B[0;32mIn [60]\u001B[0m, in \u001B[0;36m<module>\u001B[0;34m\u001B[0m\n\u001B[0;32m----> 1\u001B[0m \u001B[43msns\u001B[49m\u001B[38;5;241;43m.\u001B[39;49m\u001B[43mhistplot\u001B[49m\u001B[43m(\u001B[49m\u001B[43mentropy_similarity\u001B[49m\u001B[43m)\u001B[49m\n\u001B[1;32m      2\u001B[0m sns\u001B[38;5;241m.\u001B[39mhistplot(entropy_similarity_d)\n",
      "File \u001B[0;32m/opt/homebrew/Caskroom/miniforge/base/envs/tensorflow/lib/python3.9/site-packages/seaborn/distributions.py:1462\u001B[0m, in \u001B[0;36mhistplot\u001B[0;34m(data, x, y, hue, weights, stat, bins, binwidth, binrange, discrete, cumulative, common_bins, common_norm, multiple, element, fill, shrink, kde, kde_kws, line_kws, thresh, pthresh, pmax, cbar, cbar_ax, cbar_kws, palette, hue_order, hue_norm, color, log_scale, legend, ax, **kwargs)\u001B[0m\n\u001B[1;32m   1451\u001B[0m estimate_kws \u001B[38;5;241m=\u001B[39m \u001B[38;5;28mdict\u001B[39m(\n\u001B[1;32m   1452\u001B[0m     stat\u001B[38;5;241m=\u001B[39mstat,\n\u001B[1;32m   1453\u001B[0m     bins\u001B[38;5;241m=\u001B[39mbins,\n\u001B[0;32m   (...)\u001B[0m\n\u001B[1;32m   1457\u001B[0m     cumulative\u001B[38;5;241m=\u001B[39mcumulative,\n\u001B[1;32m   1458\u001B[0m )\n\u001B[1;32m   1460\u001B[0m \u001B[38;5;28;01mif\u001B[39;00m p\u001B[38;5;241m.\u001B[39munivariate:\n\u001B[0;32m-> 1462\u001B[0m     \u001B[43mp\u001B[49m\u001B[38;5;241;43m.\u001B[39;49m\u001B[43mplot_univariate_histogram\u001B[49m\u001B[43m(\u001B[49m\n\u001B[1;32m   1463\u001B[0m \u001B[43m        \u001B[49m\u001B[43mmultiple\u001B[49m\u001B[38;5;241;43m=\u001B[39;49m\u001B[43mmultiple\u001B[49m\u001B[43m,\u001B[49m\n\u001B[1;32m   1464\u001B[0m \u001B[43m        \u001B[49m\u001B[43melement\u001B[49m\u001B[38;5;241;43m=\u001B[39;49m\u001B[43melement\u001B[49m\u001B[43m,\u001B[49m\n\u001B[1;32m   1465\u001B[0m \u001B[43m        \u001B[49m\u001B[43mfill\u001B[49m\u001B[38;5;241;43m=\u001B[39;49m\u001B[43mfill\u001B[49m\u001B[43m,\u001B[49m\n\u001B[1;32m   1466\u001B[0m \u001B[43m        \u001B[49m\u001B[43mshrink\u001B[49m\u001B[38;5;241;43m=\u001B[39;49m\u001B[43mshrink\u001B[49m\u001B[43m,\u001B[49m\n\u001B[1;32m   1467\u001B[0m \u001B[43m        \u001B[49m\u001B[43mcommon_norm\u001B[49m\u001B[38;5;241;43m=\u001B[39;49m\u001B[43mcommon_norm\u001B[49m\u001B[43m,\u001B[49m\n\u001B[1;32m   1468\u001B[0m \u001B[43m        \u001B[49m\u001B[43mcommon_bins\u001B[49m\u001B[38;5;241;43m=\u001B[39;49m\u001B[43mcommon_bins\u001B[49m\u001B[43m,\u001B[49m\n\u001B[1;32m   1469\u001B[0m \u001B[43m        \u001B[49m\u001B[43mkde\u001B[49m\u001B[38;5;241;43m=\u001B[39;49m\u001B[43mkde\u001B[49m\u001B[43m,\u001B[49m\n\u001B[1;32m   1470\u001B[0m \u001B[43m        \u001B[49m\u001B[43mkde_kws\u001B[49m\u001B[38;5;241;43m=\u001B[39;49m\u001B[43mkde_kws\u001B[49m\u001B[43m,\u001B[49m\n\u001B[1;32m   1471\u001B[0m \u001B[43m        \u001B[49m\u001B[43mcolor\u001B[49m\u001B[38;5;241;43m=\u001B[39;49m\u001B[43mcolor\u001B[49m\u001B[43m,\u001B[49m\n\u001B[1;32m   1472\u001B[0m \u001B[43m        \u001B[49m\u001B[43mlegend\u001B[49m\u001B[38;5;241;43m=\u001B[39;49m\u001B[43mlegend\u001B[49m\u001B[43m,\u001B[49m\n\u001B[1;32m   1473\u001B[0m \u001B[43m        \u001B[49m\u001B[43mestimate_kws\u001B[49m\u001B[38;5;241;43m=\u001B[39;49m\u001B[43mestimate_kws\u001B[49m\u001B[43m,\u001B[49m\n\u001B[1;32m   1474\u001B[0m \u001B[43m        \u001B[49m\u001B[43mline_kws\u001B[49m\u001B[38;5;241;43m=\u001B[39;49m\u001B[43mline_kws\u001B[49m\u001B[43m,\u001B[49m\n\u001B[1;32m   1475\u001B[0m \u001B[43m        \u001B[49m\u001B[38;5;241;43m*\u001B[39;49m\u001B[38;5;241;43m*\u001B[39;49m\u001B[43mkwargs\u001B[49m\u001B[43m,\u001B[49m\n\u001B[1;32m   1476\u001B[0m \u001B[43m    \u001B[49m\u001B[43m)\u001B[49m\n\u001B[1;32m   1478\u001B[0m \u001B[38;5;28;01melse\u001B[39;00m:\n\u001B[1;32m   1480\u001B[0m     p\u001B[38;5;241m.\u001B[39mplot_bivariate_histogram(\n\u001B[1;32m   1481\u001B[0m         common_bins\u001B[38;5;241m=\u001B[39mcommon_bins,\n\u001B[1;32m   1482\u001B[0m         common_norm\u001B[38;5;241m=\u001B[39mcommon_norm,\n\u001B[0;32m   (...)\u001B[0m\n\u001B[1;32m   1492\u001B[0m         \u001B[38;5;241m*\u001B[39m\u001B[38;5;241m*\u001B[39mkwargs,\n\u001B[1;32m   1493\u001B[0m     )\n",
      "File \u001B[0;32m/opt/homebrew/Caskroom/miniforge/base/envs/tensorflow/lib/python3.9/site-packages/seaborn/distributions.py:441\u001B[0m, in \u001B[0;36m_DistributionPlotter.plot_univariate_histogram\u001B[0;34m(self, multiple, element, fill, common_norm, common_bins, shrink, kde, kde_kws, color, legend, line_kws, estimate_kws, **plot_kws)\u001B[0m\n\u001B[1;32m    438\u001B[0m     weights \u001B[38;5;241m=\u001B[39m \u001B[38;5;28;01mNone\u001B[39;00m\n\u001B[1;32m    440\u001B[0m \u001B[38;5;66;03m# Do the histogram computation\u001B[39;00m\n\u001B[0;32m--> 441\u001B[0m heights, edges \u001B[38;5;241m=\u001B[39m \u001B[43mestimator\u001B[49m\u001B[43m(\u001B[49m\u001B[43mobservations\u001B[49m\u001B[43m,\u001B[49m\u001B[43m \u001B[49m\u001B[43mweights\u001B[49m\u001B[38;5;241;43m=\u001B[39;49m\u001B[43mweights\u001B[49m\u001B[43m)\u001B[49m\n\u001B[1;32m    443\u001B[0m \u001B[38;5;66;03m# Rescale the smoothed curve to match the histogram\u001B[39;00m\n\u001B[1;32m    444\u001B[0m \u001B[38;5;28;01mif\u001B[39;00m kde \u001B[38;5;129;01mand\u001B[39;00m key \u001B[38;5;129;01min\u001B[39;00m densities:\n",
      "File \u001B[0;32m/opt/homebrew/Caskroom/miniforge/base/envs/tensorflow/lib/python3.9/site-packages/seaborn/_statistics.py:386\u001B[0m, in \u001B[0;36mHistogram.__call__\u001B[0;34m(self, x1, x2, weights)\u001B[0m\n\u001B[1;32m    384\u001B[0m \u001B[38;5;124;03m\"\"\"Count the occurrences in each bin, maybe normalize.\"\"\"\u001B[39;00m\n\u001B[1;32m    385\u001B[0m \u001B[38;5;28;01mif\u001B[39;00m x2 \u001B[38;5;129;01mis\u001B[39;00m \u001B[38;5;28;01mNone\u001B[39;00m:\n\u001B[0;32m--> 386\u001B[0m     \u001B[38;5;28;01mreturn\u001B[39;00m \u001B[38;5;28;43mself\u001B[39;49m\u001B[38;5;241;43m.\u001B[39;49m\u001B[43m_eval_univariate\u001B[49m\u001B[43m(\u001B[49m\u001B[43mx1\u001B[49m\u001B[43m,\u001B[49m\u001B[43m \u001B[49m\u001B[43mweights\u001B[49m\u001B[43m)\u001B[49m\n\u001B[1;32m    387\u001B[0m \u001B[38;5;28;01melse\u001B[39;00m:\n\u001B[1;32m    388\u001B[0m     \u001B[38;5;28;01mreturn\u001B[39;00m \u001B[38;5;28mself\u001B[39m\u001B[38;5;241m.\u001B[39m_eval_bivariate(x1, x2, weights)\n",
      "File \u001B[0;32m/opt/homebrew/Caskroom/miniforge/base/envs/tensorflow/lib/python3.9/site-packages/seaborn/_statistics.py:361\u001B[0m, in \u001B[0;36mHistogram._eval_univariate\u001B[0;34m(self, x, weights)\u001B[0m\n\u001B[1;32m    359\u001B[0m bin_kws \u001B[38;5;241m=\u001B[39m \u001B[38;5;28mself\u001B[39m\u001B[38;5;241m.\u001B[39mbin_kws\n\u001B[1;32m    360\u001B[0m \u001B[38;5;28;01mif\u001B[39;00m bin_kws \u001B[38;5;129;01mis\u001B[39;00m \u001B[38;5;28;01mNone\u001B[39;00m:\n\u001B[0;32m--> 361\u001B[0m     bin_kws \u001B[38;5;241m=\u001B[39m \u001B[38;5;28;43mself\u001B[39;49m\u001B[38;5;241;43m.\u001B[39;49m\u001B[43mdefine_bin_params\u001B[49m\u001B[43m(\u001B[49m\u001B[43mx\u001B[49m\u001B[43m,\u001B[49m\u001B[43m \u001B[49m\u001B[43mweights\u001B[49m\u001B[38;5;241;43m=\u001B[39;49m\u001B[43mweights\u001B[49m\u001B[43m,\u001B[49m\u001B[43m \u001B[49m\u001B[43mcache\u001B[49m\u001B[38;5;241;43m=\u001B[39;49m\u001B[38;5;28;43;01mFalse\u001B[39;49;00m\u001B[43m)\u001B[49m\n\u001B[1;32m    363\u001B[0m density \u001B[38;5;241m=\u001B[39m \u001B[38;5;28mself\u001B[39m\u001B[38;5;241m.\u001B[39mstat \u001B[38;5;241m==\u001B[39m \u001B[38;5;124m\"\u001B[39m\u001B[38;5;124mdensity\u001B[39m\u001B[38;5;124m\"\u001B[39m\n\u001B[1;32m    364\u001B[0m hist, bin_edges \u001B[38;5;241m=\u001B[39m np\u001B[38;5;241m.\u001B[39mhistogram(\n\u001B[1;32m    365\u001B[0m     x, \u001B[38;5;241m*\u001B[39m\u001B[38;5;241m*\u001B[39mbin_kws, weights\u001B[38;5;241m=\u001B[39mweights, density\u001B[38;5;241m=\u001B[39mdensity,\n\u001B[1;32m    366\u001B[0m )\n",
      "File \u001B[0;32m/opt/homebrew/Caskroom/miniforge/base/envs/tensorflow/lib/python3.9/site-packages/seaborn/_statistics.py:269\u001B[0m, in \u001B[0;36mHistogram.define_bin_params\u001B[0;34m(self, x1, x2, weights, cache)\u001B[0m\n\u001B[1;32m    266\u001B[0m \u001B[38;5;124;03m\"\"\"Given data, return numpy.histogram parameters to define bins.\"\"\"\u001B[39;00m\n\u001B[1;32m    267\u001B[0m \u001B[38;5;28;01mif\u001B[39;00m x2 \u001B[38;5;129;01mis\u001B[39;00m \u001B[38;5;28;01mNone\u001B[39;00m:\n\u001B[0;32m--> 269\u001B[0m     bin_edges \u001B[38;5;241m=\u001B[39m \u001B[38;5;28;43mself\u001B[39;49m\u001B[38;5;241;43m.\u001B[39;49m\u001B[43m_define_bin_edges\u001B[49m\u001B[43m(\u001B[49m\n\u001B[1;32m    270\u001B[0m \u001B[43m        \u001B[49m\u001B[43mx1\u001B[49m\u001B[43m,\u001B[49m\u001B[43m \u001B[49m\u001B[43mweights\u001B[49m\u001B[43m,\u001B[49m\u001B[43m \u001B[49m\u001B[38;5;28;43mself\u001B[39;49m\u001B[38;5;241;43m.\u001B[39;49m\u001B[43mbins\u001B[49m\u001B[43m,\u001B[49m\u001B[43m \u001B[49m\u001B[38;5;28;43mself\u001B[39;49m\u001B[38;5;241;43m.\u001B[39;49m\u001B[43mbinwidth\u001B[49m\u001B[43m,\u001B[49m\u001B[43m \u001B[49m\u001B[38;5;28;43mself\u001B[39;49m\u001B[38;5;241;43m.\u001B[39;49m\u001B[43mbinrange\u001B[49m\u001B[43m,\u001B[49m\u001B[43m \u001B[49m\u001B[38;5;28;43mself\u001B[39;49m\u001B[38;5;241;43m.\u001B[39;49m\u001B[43mdiscrete\u001B[49m\u001B[43m,\u001B[49m\n\u001B[1;32m    271\u001B[0m \u001B[43m    \u001B[49m\u001B[43m)\u001B[49m\n\u001B[1;32m    273\u001B[0m     \u001B[38;5;28;01mif\u001B[39;00m \u001B[38;5;28misinstance\u001B[39m(\u001B[38;5;28mself\u001B[39m\u001B[38;5;241m.\u001B[39mbins, (\u001B[38;5;28mstr\u001B[39m, Number)):\n\u001B[1;32m    274\u001B[0m         n_bins \u001B[38;5;241m=\u001B[39m \u001B[38;5;28mlen\u001B[39m(bin_edges) \u001B[38;5;241m-\u001B[39m \u001B[38;5;241m1\u001B[39m\n",
      "File \u001B[0;32m/opt/homebrew/Caskroom/miniforge/base/envs/tensorflow/lib/python3.9/site-packages/seaborn/_statistics.py:260\u001B[0m, in \u001B[0;36mHistogram._define_bin_edges\u001B[0;34m(self, x, weights, bins, binwidth, binrange, discrete)\u001B[0m\n\u001B[1;32m    258\u001B[0m     bin_edges \u001B[38;5;241m=\u001B[39m np\u001B[38;5;241m.\u001B[39marange(start, stop \u001B[38;5;241m+\u001B[39m step, step)\n\u001B[1;32m    259\u001B[0m \u001B[38;5;28;01melse\u001B[39;00m:\n\u001B[0;32m--> 260\u001B[0m     bin_edges \u001B[38;5;241m=\u001B[39m \u001B[43mnp\u001B[49m\u001B[38;5;241;43m.\u001B[39;49m\u001B[43mhistogram_bin_edges\u001B[49m\u001B[43m(\u001B[49m\n\u001B[1;32m    261\u001B[0m \u001B[43m        \u001B[49m\u001B[43mx\u001B[49m\u001B[43m,\u001B[49m\u001B[43m \u001B[49m\u001B[43mbins\u001B[49m\u001B[43m,\u001B[49m\u001B[43m \u001B[49m\u001B[43mbinrange\u001B[49m\u001B[43m,\u001B[49m\u001B[43m \u001B[49m\u001B[43mweights\u001B[49m\u001B[43m,\u001B[49m\n\u001B[1;32m    262\u001B[0m \u001B[43m    \u001B[49m\u001B[43m)\u001B[49m\n\u001B[1;32m    263\u001B[0m \u001B[38;5;28;01mreturn\u001B[39;00m bin_edges\n",
      "File \u001B[0;32m<__array_function__ internals>:180\u001B[0m, in \u001B[0;36mhistogram_bin_edges\u001B[0;34m(*args, **kwargs)\u001B[0m\n",
      "File \u001B[0;32m/opt/homebrew/Caskroom/miniforge/base/envs/tensorflow/lib/python3.9/site-packages/numpy/lib/histograms.py:669\u001B[0m, in \u001B[0;36mhistogram_bin_edges\u001B[0;34m(a, bins, range, weights)\u001B[0m\n\u001B[1;32m    472\u001B[0m \u001B[38;5;124mr\u001B[39m\u001B[38;5;124;03m\"\"\"\u001B[39;00m\n\u001B[1;32m    473\u001B[0m \u001B[38;5;124;03mFunction to calculate only the edges of the bins used by the `histogram`\u001B[39;00m\n\u001B[1;32m    474\u001B[0m \u001B[38;5;124;03mfunction.\u001B[39;00m\n\u001B[0;32m   (...)\u001B[0m\n\u001B[1;32m    666\u001B[0m \n\u001B[1;32m    667\u001B[0m \u001B[38;5;124;03m\"\"\"\u001B[39;00m\n\u001B[1;32m    668\u001B[0m a, weights \u001B[38;5;241m=\u001B[39m _ravel_and_check_weights(a, weights)\n\u001B[0;32m--> 669\u001B[0m bin_edges, _ \u001B[38;5;241m=\u001B[39m \u001B[43m_get_bin_edges\u001B[49m\u001B[43m(\u001B[49m\u001B[43ma\u001B[49m\u001B[43m,\u001B[49m\u001B[43m \u001B[49m\u001B[43mbins\u001B[49m\u001B[43m,\u001B[49m\u001B[43m \u001B[49m\u001B[38;5;28;43mrange\u001B[39;49m\u001B[43m,\u001B[49m\u001B[43m \u001B[49m\u001B[43mweights\u001B[49m\u001B[43m)\u001B[49m\n\u001B[1;32m    670\u001B[0m \u001B[38;5;28;01mreturn\u001B[39;00m bin_edges\n",
      "File \u001B[0;32m/opt/homebrew/Caskroom/miniforge/base/envs/tensorflow/lib/python3.9/site-packages/numpy/lib/histograms.py:446\u001B[0m, in \u001B[0;36m_get_bin_edges\u001B[0;34m(a, bins, range, weights)\u001B[0m\n\u001B[1;32m    443\u001B[0m         bin_type \u001B[38;5;241m=\u001B[39m np\u001B[38;5;241m.\u001B[39mresult_type(bin_type, \u001B[38;5;28mfloat\u001B[39m)\n\u001B[1;32m    445\u001B[0m     \u001B[38;5;66;03m# bin edges must be computed\u001B[39;00m\n\u001B[0;32m--> 446\u001B[0m     bin_edges \u001B[38;5;241m=\u001B[39m \u001B[43mnp\u001B[49m\u001B[38;5;241;43m.\u001B[39;49m\u001B[43mlinspace\u001B[49m\u001B[43m(\u001B[49m\n\u001B[1;32m    447\u001B[0m \u001B[43m        \u001B[49m\u001B[43mfirst_edge\u001B[49m\u001B[43m,\u001B[49m\u001B[43m \u001B[49m\u001B[43mlast_edge\u001B[49m\u001B[43m,\u001B[49m\u001B[43m \u001B[49m\u001B[43mn_equal_bins\u001B[49m\u001B[43m \u001B[49m\u001B[38;5;241;43m+\u001B[39;49m\u001B[43m \u001B[49m\u001B[38;5;241;43m1\u001B[39;49m\u001B[43m,\u001B[49m\n\u001B[1;32m    448\u001B[0m \u001B[43m        \u001B[49m\u001B[43mendpoint\u001B[49m\u001B[38;5;241;43m=\u001B[39;49m\u001B[38;5;28;43;01mTrue\u001B[39;49;00m\u001B[43m,\u001B[49m\u001B[43m \u001B[49m\u001B[43mdtype\u001B[49m\u001B[38;5;241;43m=\u001B[39;49m\u001B[43mbin_type\u001B[49m\u001B[43m)\u001B[49m\n\u001B[1;32m    449\u001B[0m     \u001B[38;5;28;01mreturn\u001B[39;00m bin_edges, (first_edge, last_edge, n_equal_bins)\n\u001B[1;32m    450\u001B[0m \u001B[38;5;28;01melse\u001B[39;00m:\n",
      "File \u001B[0;32m<__array_function__ internals>:180\u001B[0m, in \u001B[0;36mlinspace\u001B[0;34m(*args, **kwargs)\u001B[0m\n",
      "File \u001B[0;32m/opt/homebrew/Caskroom/miniforge/base/envs/tensorflow/lib/python3.9/site-packages/numpy/core/function_base.py:135\u001B[0m, in \u001B[0;36mlinspace\u001B[0;34m(start, stop, num, endpoint, retstep, dtype, axis)\u001B[0m\n\u001B[1;32m    132\u001B[0m     dtype \u001B[38;5;241m=\u001B[39m dt\n\u001B[1;32m    134\u001B[0m delta \u001B[38;5;241m=\u001B[39m stop \u001B[38;5;241m-\u001B[39m start\n\u001B[0;32m--> 135\u001B[0m y \u001B[38;5;241m=\u001B[39m \u001B[43m_nx\u001B[49m\u001B[38;5;241;43m.\u001B[39;49m\u001B[43marange\u001B[49m\u001B[43m(\u001B[49m\u001B[38;5;241;43m0\u001B[39;49m\u001B[43m,\u001B[49m\u001B[43m \u001B[49m\u001B[43mnum\u001B[49m\u001B[43m,\u001B[49m\u001B[43m \u001B[49m\u001B[43mdtype\u001B[49m\u001B[38;5;241;43m=\u001B[39;49m\u001B[43mdt\u001B[49m\u001B[43m)\u001B[49m\u001B[38;5;241m.\u001B[39mreshape((\u001B[38;5;241m-\u001B[39m\u001B[38;5;241m1\u001B[39m,) \u001B[38;5;241m+\u001B[39m (\u001B[38;5;241m1\u001B[39m,) \u001B[38;5;241m*\u001B[39m ndim(delta))\n\u001B[1;32m    136\u001B[0m \u001B[38;5;66;03m# In-place multiplication y *= delta/div is faster, but prevents the multiplicant\u001B[39;00m\n\u001B[1;32m    137\u001B[0m \u001B[38;5;66;03m# from overriding what class is produced, and thus prevents, e.g. use of Quantities,\u001B[39;00m\n\u001B[1;32m    138\u001B[0m \u001B[38;5;66;03m# see gh-7142. Hence, we multiply in place only for standard scalar types.\u001B[39;00m\n\u001B[1;32m    139\u001B[0m _mult_inplace \u001B[38;5;241m=\u001B[39m _nx\u001B[38;5;241m.\u001B[39misscalar(delta)\n",
      "\u001B[0;31mMemoryError\u001B[0m: Unable to allocate 290. PiB for an array with shape (40793621425042720,) and data type float64"
     ]
    },
    {
     "data": {
      "text/plain": "<Figure size 432x288 with 1 Axes>",
      "image/png": "[encoded data removed]"
     },
     "metadata": {
      "needs_background": "light"
     },
     "output_type": "display_data"
    }
   ],
   "source": [
    "sns.histplot(entropy_similarity)\n",
    "sns.histplot(entropy_similarity_d)"
   ],
   "metadata": {
    "collapsed": false,
    "pycharm": {
     "name": "#%%\n"
    }
   }
  },
  {
   "cell_type": "code",
   "execution_count": 39,
   "outputs": [
    {
     "data": {
      "text/plain": "1539"
     },
     "execution_count": 39,
     "metadata": {},
     "output_type": "execute_result"
    }
   ],
   "source": [
    "len(data_mona_common_good_quality)"
   ],
   "metadata": {
    "collapsed": false,
    "pycharm": {
     "name": "#%%\n"
    }
   }
  },
  {
   "cell_type": "code",
   "execution_count": 31,
   "outputs": [
    {
     "data": {
      "text/plain": "NAME                (4S,5Z,6S)-4-(2-methoxy-2-oxoethyl)-5-[2-[(E)-...\nkey                                 NZVQLVGOZRELTG-UHFFFAOYSA-N[M+H]+\nPRECURSORMZ                                                  231.0646\nInChIKey                                  NZVQLVGOZRELTG-UHFFFAOYSA-N\nFormula                                                      C13H10O4\nExactMass                                                  230.057909\nadduct                                                         [M+H]+\nNum_Peaks                                                          61\nmsms                [[103.0547, 17.11011], [104.0632, 10.900901], ...\nCollision_energy                                                 40 V\nsource                                                           Mona\nInstrument_type                                           LC-ESI-QTOF\ncount                                                              na\nkey_all                         NZVQLVGOZRELTG-UHFFFAOYSA-N[M+H]+40 V\nrow_num                                                          1000\nName: 1794, dtype: object"
     },
     "execution_count": 31,
     "metadata": {},
     "output_type": "execute_result"
    }
   ],
   "source": [
    "data_mona_common.iloc[1000]"
   ],
   "metadata": {
    "collapsed": false,
    "pycharm": {
     "name": "#%%\n"
    }
   }
  },
  {
   "cell_type": "code",
   "execution_count": 32,
   "outputs": [
    {
     "data": {
      "text/plain": "            NAME                                key PRECURSORMZ  \\\n270659  Visnagin  NZVQLVGOZRELTG-UHFFFAOYSA-N[M+H]+    231.0652   \n270660  Visnagin  NZVQLVGOZRELTG-UHFFFAOYSA-N[M+H]+    231.0652   \n270661  Visnagin  NZVQLVGOZRELTG-UHFFFAOYSA-N[M+H]+    231.0652   \n270662  Visnagin  NZVQLVGOZRELTG-UHFFFAOYSA-N[M+H]+    231.0652   \n270663  Visnagin  NZVQLVGOZRELTG-UHFFFAOYSA-N[M+H]+    231.0652   \n270664  Visnagin  NZVQLVGOZRELTG-UHFFFAOYSA-N[M+H]+    231.0652   \n270665  Visnagin  NZVQLVGOZRELTG-UHFFFAOYSA-N[M+H]+    231.0652   \n270666  Visnagin  NZVQLVGOZRELTG-UHFFFAOYSA-N[M+H]+    231.0652   \n270667  Visnagin  NZVQLVGOZRELTG-UHFFFAOYSA-N[M+H]+    231.0652   \n270668  Visnagin  NZVQLVGOZRELTG-UHFFFAOYSA-N[M+H]+    231.0652   \n270669  Visnagin  NZVQLVGOZRELTG-UHFFFAOYSA-N[M+H]+    231.0652   \n270670  Visnagin  NZVQLVGOZRELTG-UHFFFAOYSA-N[M+H]+    231.0652   \n\n                           InChIKey   Formula   ExactMass  Adduct  Num_Peaks  \\\n270659  NZVQLVGOZRELTG-UHFFFAOYSA-N  C13H10O4  230.057909  [M+H]+          5   \n270660  NZVQLVGOZRELTG-UHFFFAOYSA-N  C13H10O4  230.057909  [M+H]+          5   \n270661  NZVQLVGOZRELTG-UHFFFAOYSA-N  C13H10O4  230.057909  [M+H]+          5   \n270662  NZVQLVGOZRELTG-UHFFFAOYSA-N  C13H10O4  230.057909  [M+H]+          5   \n270663  NZVQLVGOZRELTG-UHFFFAOYSA-N  C13H10O4  230.057909  [M+H]+          5   \n270664  NZVQLVGOZRELTG-UHFFFAOYSA-N  C13H10O4  230.057909  [M+H]+         11   \n270665  NZVQLVGOZRELTG-UHFFFAOYSA-N  C13H10O4  230.057909  [M+H]+         18   \n270666  NZVQLVGOZRELTG-UHFFFAOYSA-N  C13H10O4  230.057909  [M+H]+         36   \n270667  NZVQLVGOZRELTG-UHFFFAOYSA-N  C13H10O4  230.057909  [M+H]+         49   \n270668  NZVQLVGOZRELTG-UHFFFAOYSA-N  C13H10O4  230.057909  [M+H]+         52   \n270669  NZVQLVGOZRELTG-UHFFFAOYSA-N  C13H10O4  230.057909  [M+H]+         52   \n270670  NZVQLVGOZRELTG-UHFFFAOYSA-N  C13H10O4  230.057909  [M+H]+          3   \n\n                                                     msms Collision_energy  \\\n270659  [[203.0694, 2.4], [216.0407, 142.96], [217.044...     NCE=30% 13eV   \n270660  [[203.0694, 8.09], [216.0408, 396.9], [217.044...     NCE=35% 16eV   \n270661  [[203.0694, 16.68], [216.0407, 999.0], [217.04...     NCE=40% 18eV   \n270662  [[203.0694, 14.69], [216.0408, 999.0], [217.04...     NCE=45% 20eV   \n270663  [[203.0694, 8.79], [216.0407, 999.0], [217.044...     NCE=50% 23eV   \n270664  [[132.0563, 6.39], [160.0511, 13.79], [176.009...     NCE=60% 27eV   \n270665  [[92.0251, 3.6], [120.02, 22.78], [131.0485, 2...     NCE=75% 34eV   \n270666  [[64.0304, 4.8], [67.0174, 16.08], [69.033, 2....     NCE=90% 41eV   \n270667  [[63.0225, 92.21], [64.0303, 174.83], [65.0381...    NCE=110% 50eV   \n270668  [[51.0227, 33.17], [54.0461, 13.99], [63.0225,...    NCE=130% 60eV   \n270669  [[50.0148, 68.63], [51.0227, 175.42], [53.002,...    NCE=160% 73eV   \n270670  [[203.0695, 29.87], [216.0408, 999.0], [217.04...          NCE=35%   \n\n                                   Comment           Instrument_type source  \\\n270659  NIST Mass Spectrometry Data Center                       HCD   NIST   \n270660  NIST Mass Spectrometry Data Center                       HCD   NIST   \n270661  NIST Mass Spectrometry Data Center                       HCD   NIST   \n270662  NIST Mass Spectrometry Data Center                       HCD   NIST   \n270663  NIST Mass Spectrometry Data Center                       HCD   NIST   \n270664  NIST Mass Spectrometry Data Center                       HCD   NIST   \n270665  NIST Mass Spectrometry Data Center                       HCD   NIST   \n270666  NIST Mass Spectrometry Data Center                       HCD   NIST   \n270667  NIST Mass Spectrometry Data Center                       HCD   NIST   \n270668  NIST Mass Spectrometry Data Center                       HCD   NIST   \n270669  NIST Mass Spectrometry Data Center                       HCD   NIST   \n270670  NIST Mass Spectrometry Data Center  IT-FT/ion trap with FTMS   NIST   \n\n                                               key_all  row_num  \n270659   NZVQLVGOZRELTG-UHFFFAOYSA-N[M+H]+NCE=30% 13eV     3522  \n270660   NZVQLVGOZRELTG-UHFFFAOYSA-N[M+H]+NCE=35% 16eV     3523  \n270661   NZVQLVGOZRELTG-UHFFFAOYSA-N[M+H]+NCE=40% 18eV     3524  \n270662   NZVQLVGOZRELTG-UHFFFAOYSA-N[M+H]+NCE=45% 20eV     3525  \n270663   NZVQLVGOZRELTG-UHFFFAOYSA-N[M+H]+NCE=50% 23eV     3526  \n270664   NZVQLVGOZRELTG-UHFFFAOYSA-N[M+H]+NCE=60% 27eV     3527  \n270665   NZVQLVGOZRELTG-UHFFFAOYSA-N[M+H]+NCE=75% 34eV     3528  \n270666   NZVQLVGOZRELTG-UHFFFAOYSA-N[M+H]+NCE=90% 41eV     3529  \n270667  NZVQLVGOZRELTG-UHFFFAOYSA-N[M+H]+NCE=110% 50eV     3530  \n270668  NZVQLVGOZRELTG-UHFFFAOYSA-N[M+H]+NCE=130% 60eV     3531  \n270669  NZVQLVGOZRELTG-UHFFFAOYSA-N[M+H]+NCE=160% 73eV     3532  \n270670        NZVQLVGOZRELTG-UHFFFAOYSA-N[M+H]+NCE=35%     3533  ",
      "text/html": "<div>\n<style scoped>\n    .dataframe tbody tr th:only-of-type {\n        vertical-align: middle;\n    }\n\n    .dataframe tbody tr th {\n        vertical-align: top;\n    }\n\n    .dataframe thead th {\n        text-align: right;\n    }\n</style>\n<table border=\"1\" class=\"dataframe\">\n  <thead>\n    <tr style=\"text-align: right;\">\n      <th></th>\n      <th>NAME</th>\n      <th>key</th>\n      <th>PRECURSORMZ</th>\n      <th>InChIKey</th>\n      <th>Formula</th>\n      <th>ExactMass</th>\n      <th>Adduct</th>\n      <th>Num_Peaks</th>\n      <th>msms</th>\n      <th>Collision_energy</th>\n      <th>Comment</th>\n      <th>Instrument_type</th>\n      <th>source</th>\n      <th>key_all</th>\n      <th>row_num</th>\n    </tr>\n  </thead>\n  <tbody>\n    <tr>\n      <th>270659</th>\n      <td>Visnagin</td>\n      <td>NZVQLVGOZRELTG-UHFFFAOYSA-N[M+H]+</td>\n      <td>231.0652</td>\n      <td>NZVQLVGOZRELTG-UHFFFAOYSA-N</td>\n      <td>C13H10O4</td>\n      <td>230.057909</td>\n      <td>[M+H]+</td>\n      <td>5</td>\n      <td>[[203.0694, 2.4], [216.0407, 142.96], [217.044...</td>\n      <td>NCE=30% 13eV</td>\n      <td>NIST Mass Spectrometry Data Center</td>\n      <td>HCD</td>\n      <td>NIST</td>\n      <td>NZVQLVGOZRELTG-UHFFFAOYSA-N[M+H]+NCE=30% 13eV</td>\n      <td>3522</td>\n    </tr>\n    <tr>\n      <th>270660</th>\n      <td>Visnagin</td>\n      <td>NZVQLVGOZRELTG-UHFFFAOYSA-N[M+H]+</td>\n      <td>231.0652</td>\n      <td>NZVQLVGOZRELTG-UHFFFAOYSA-N</td>\n      <td>C13H10O4</td>\n      <td>230.057909</td>\n      <td>[M+H]+</td>\n      <td>5</td>\n      <td>[[203.0694, 8.09], [216.0408, 396.9], [217.044...</td>\n      <td>NCE=35% 16eV</td>\n      <td>NIST Mass Spectrometry Data Center</td>\n      <td>HCD</td>\n      <td>NIST</td>\n      <td>NZVQLVGOZRELTG-UHFFFAOYSA-N[M+H]+NCE=35% 16eV</td>\n      <td>3523</td>\n    </tr>\n    <tr>\n      <th>270661</th>\n      <td>Visnagin</td>\n      <td>NZVQLVGOZRELTG-UHFFFAOYSA-N[M+H]+</td>\n      <td>231.0652</td>\n      <td>NZVQLVGOZRELTG-UHFFFAOYSA-N</td>\n      <td>C13H10O4</td>\n      <td>230.057909</td>\n      <td>[M+H]+</td>\n      <td>5</td>\n      <td>[[203.0694, 16.68], [216.0407, 999.0], [217.04...</td>\n      <td>NCE=40% 18eV</td>\n      <td>NIST Mass Spectrometry Data Center</td>\n      <td>HCD</td>\n      <td>NIST</td>\n      <td>NZVQLVGOZRELTG-UHFFFAOYSA-N[M+H]+NCE=40% 18eV</td>\n      <td>3524</td>\n    </tr>\n    <tr>\n      <th>270662</th>\n      <td>Visnagin</td>\n      <td>NZVQLVGOZRELTG-UHFFFAOYSA-N[M+H]+</td>\n      <td>231.0652</td>\n      <td>NZVQLVGOZRELTG-UHFFFAOYSA-N</td>\n      <td>C13H10O4</td>\n      <td>230.057909</td>\n      <td>[M+H]+</td>\n      <td>5</td>\n      <td>[[203.0694, 14.69], [216.0408, 999.0], [217.04...</td>\n      <td>NCE=45% 20eV</td>\n      <td>NIST Mass Spectrometry Data Center</td>\n      <td>HCD</td>\n      <td>NIST</td>\n      <td>NZVQLVGOZRELTG-UHFFFAOYSA-N[M+H]+NCE=45% 20eV</td>\n      <td>3525</td>\n    </tr>\n    <tr>\n      <th>270663</th>\n      <td>Visnagin</td>\n      <td>NZVQLVGOZRELTG-UHFFFAOYSA-N[M+H]+</td>\n      <td>231.0652</td>\n      <td>NZVQLVGOZRELTG-UHFFFAOYSA-N</td>\n      <td>C13H10O4</td>\n      <td>230.057909</td>\n      <td>[M+H]+</td>\n      <td>5</td>\n      <td>[[203.0694, 8.79], [216.0407, 999.0], [217.044...</td>\n      <td>NCE=50% 23eV</td>\n      <td>NIST Mass Spectrometry Data Center</td>\n      <td>HCD</td>\n      <td>NIST</td>\n      <td>NZVQLVGOZRELTG-UHFFFAOYSA-N[M+H]+NCE=50% 23eV</td>\n      <td>3526</td>\n    </tr>\n    <tr>\n      <th>270664</th>\n      <td>Visnagin</td>\n      <td>NZVQLVGOZRELTG-UHFFFAOYSA-N[M+H]+</td>\n      <td>231.0652</td>\n      <td>NZVQLVGOZRELTG-UHFFFAOYSA-N</td>\n      <td>C13H10O4</td>\n      <td>230.057909</td>\n      <td>[M+H]+</td>\n      <td>11</td>\n      <td>[[132.0563, 6.39], [160.0511, 13.79], [176.009...</td>\n      <td>NCE=60% 27eV</td>\n      <td>NIST Mass Spectrometry Data Center</td>\n      <td>HCD</td>\n      <td>NIST</td>\n      <td>NZVQLVGOZRELTG-UHFFFAOYSA-N[M+H]+NCE=60% 27eV</td>\n      <td>3527</td>\n    </tr>\n    <tr>\n      <th>270665</th>\n      <td>Visnagin</td>\n      <td>NZVQLVGOZRELTG-UHFFFAOYSA-N[M+H]+</td>\n      <td>231.0652</td>\n      <td>NZVQLVGOZRELTG-UHFFFAOYSA-N</td>\n      <td>C13H10O4</td>\n      <td>230.057909</td>\n      <td>[M+H]+</td>\n      <td>18</td>\n      <td>[[92.0251, 3.6], [120.02, 22.78], [131.0485, 2...</td>\n      <td>NCE=75% 34eV</td>\n      <td>NIST Mass Spectrometry Data Center</td>\n      <td>HCD</td>\n      <td>NIST</td>\n      <td>NZVQLVGOZRELTG-UHFFFAOYSA-N[M+H]+NCE=75% 34eV</td>\n      <td>3528</td>\n    </tr>\n    <tr>\n      <th>270666</th>\n      <td>Visnagin</td>\n      <td>NZVQLVGOZRELTG-UHFFFAOYSA-N[M+H]+</td>\n      <td>231.0652</td>\n      <td>NZVQLVGOZRELTG-UHFFFAOYSA-N</td>\n      <td>C13H10O4</td>\n      <td>230.057909</td>\n      <td>[M+H]+</td>\n      <td>36</td>\n      <td>[[64.0304, 4.8], [67.0174, 16.08], [69.033, 2....</td>\n      <td>NCE=90% 41eV</td>\n      <td>NIST Mass Spectrometry Data Center</td>\n      <td>HCD</td>\n      <td>NIST</td>\n      <td>NZVQLVGOZRELTG-UHFFFAOYSA-N[M+H]+NCE=90% 41eV</td>\n      <td>3529</td>\n    </tr>\n    <tr>\n      <th>270667</th>\n      <td>Visnagin</td>\n      <td>NZVQLVGOZRELTG-UHFFFAOYSA-N[M+H]+</td>\n      <td>231.0652</td>\n      <td>NZVQLVGOZRELTG-UHFFFAOYSA-N</td>\n      <td>C13H10O4</td>\n      <td>230.057909</td>\n      <td>[M+H]+</td>\n      <td>49</td>\n      <td>[[63.0225, 92.21], [64.0303, 174.83], [65.0381...</td>\n      <td>NCE=110% 50eV</td>\n      <td>NIST Mass Spectrometry Data Center</td>\n      <td>HCD</td>\n      <td>NIST</td>\n      <td>NZVQLVGOZRELTG-UHFFFAOYSA-N[M+H]+NCE=110% 50eV</td>\n      <td>3530</td>\n    </tr>\n    <tr>\n      <th>270668</th>\n      <td>Visnagin</td>\n      <td>NZVQLVGOZRELTG-UHFFFAOYSA-N[M+H]+</td>\n      <td>231.0652</td>\n      <td>NZVQLVGOZRELTG-UHFFFAOYSA-N</td>\n      <td>C13H10O4</td>\n      <td>230.057909</td>\n      <td>[M+H]+</td>\n      <td>52</td>\n      <td>[[51.0227, 33.17], [54.0461, 13.99], [63.0225,...</td>\n      <td>NCE=130% 60eV</td>\n      <td>NIST Mass Spectrometry Data Center</td>\n      <td>HCD</td>\n      <td>NIST</td>\n      <td>NZVQLVGOZRELTG-UHFFFAOYSA-N[M+H]+NCE=130% 60eV</td>\n      <td>3531</td>\n    </tr>\n    <tr>\n      <th>270669</th>\n      <td>Visnagin</td>\n      <td>NZVQLVGOZRELTG-UHFFFAOYSA-N[M+H]+</td>\n      <td>231.0652</td>\n      <td>NZVQLVGOZRELTG-UHFFFAOYSA-N</td>\n      <td>C13H10O4</td>\n      <td>230.057909</td>\n      <td>[M+H]+</td>\n      <td>52</td>\n      <td>[[50.0148, 68.63], [51.0227, 175.42], [53.002,...</td>\n      <td>NCE=160% 73eV</td>\n      <td>NIST Mass Spectrometry Data Center</td>\n      <td>HCD</td>\n      <td>NIST</td>\n      <td>NZVQLVGOZRELTG-UHFFFAOYSA-N[M+H]+NCE=160% 73eV</td>\n      <td>3532</td>\n    </tr>\n    <tr>\n      <th>270670</th>\n      <td>Visnagin</td>\n      <td>NZVQLVGOZRELTG-UHFFFAOYSA-N[M+H]+</td>\n      <td>231.0652</td>\n      <td>NZVQLVGOZRELTG-UHFFFAOYSA-N</td>\n      <td>C13H10O4</td>\n      <td>230.057909</td>\n      <td>[M+H]+</td>\n      <td>3</td>\n      <td>[[203.0695, 29.87], [216.0408, 999.0], [217.04...</td>\n      <td>NCE=35%</td>\n      <td>NIST Mass Spectrometry Data Center</td>\n      <td>IT-FT/ion trap with FTMS</td>\n      <td>NIST</td>\n      <td>NZVQLVGOZRELTG-UHFFFAOYSA-N[M+H]+NCE=35%</td>\n      <td>3533</td>\n    </tr>\n  </tbody>\n</table>\n</div>"
     },
     "execution_count": 32,
     "metadata": {},
     "output_type": "execute_result"
    }
   ],
   "source": [
    "data_nist_common.loc[data_nist_common['key']=='NZVQLVGOZRELTG-UHFFFAOYSA-N[M+H]+']"
   ],
   "metadata": {
    "collapsed": false,
    "pycharm": {
     "name": "#%%\n"
    }
   }
  },
  {
   "cell_type": "code",
   "execution_count": null,
   "outputs": [],
   "source": [],
   "metadata": {
    "collapsed": false,
    "pycharm": {
     "name": "#%%\n"
    }
   }
  },
  {
   "cell_type": "code",
   "execution_count": null,
   "outputs": [],
   "source": [
    "ms.entropy_match_score_nist(data_mona_common.iloc[1000], data_nist_common, 'msms')"
   ],
   "metadata": {
    "collapsed": false,
    "pycharm": {
     "name": "#%%\n"
    }
   }
  },
  {
   "cell_type": "code",
   "execution_count": 42,
   "outputs": [
    {
     "data": {
      "text/plain": "NAME                                                     Flufenamic acid\nkey                                    LPEPZBJOKDYZAD-UHFFFAOYSA-N[M+H]+\nPRECURSORMZ                                                     282.0736\nInChIKey                                     LPEPZBJOKDYZAD-UHFFFAOYSA-N\nFormula                                                      C14H10F3NO2\nExactMass                                                     281.066363\nadduct                                                            [M+H]+\nNum_Peaks                                                              7\nmsms                   65.0387\\t0.16976\\n93.0339\\t0.106759\\n145.0263\\...\nCollision_energy                                                      15\nsource                                                              Mona\ncount                                                                 na\nkey_all                              LPEPZBJOKDYZAD-UHFFFAOYSA-N[M+H]+15\nrow_num                                                             1717\nmsms_d                  242.0611\\t6.56\\n262.0674\\t100.0\\n282.0736\\t69.97\nexplained_intensity                                             0.991709\nName: 1717, dtype: object"
     },
     "execution_count": 42,
     "metadata": {},
     "output_type": "execute_result"
    }
   ],
   "source": [
    "data_mona_common_good_quality.iloc[1000]"
   ],
   "metadata": {
    "collapsed": false,
    "pycharm": {
     "name": "#%%\n"
    }
   }
  },
  {
   "cell_type": "code",
   "execution_count": 40,
   "outputs": [
    {
     "data": {
      "text/plain": "True"
     },
     "execution_count": 40,
     "metadata": {},
     "output_type": "execute_result"
    }
   ],
   "source": [
    "data_mona_common.iloc[1]['key']== data_nist_common.iloc[location]['key']"
   ],
   "metadata": {
    "collapsed": false,
    "pycharm": {
     "name": "#%%\n"
    }
   }
  },
  {
   "cell_type": "code",
   "execution_count": null,
   "outputs": [],
   "source": [
    "data_mona_common.iloc[1]"
   ],
   "metadata": {
    "collapsed": false,
    "pycharm": {
     "name": "#%%\n"
    }
   }
  },
  {
   "cell_type": "code",
   "execution_count": 36,
   "outputs": [],
   "source": [
    "entropy, location = ms.entropy_search_nist(data_mona_common.iloc[1]['msms'], data_nist_common, 0.05)"
   ],
   "metadata": {
    "collapsed": false,
    "pycharm": {
     "name": "#%%\n"
    }
   }
  },
  {
   "cell_type": "code",
   "execution_count": 38,
   "outputs": [
    {
     "data": {
      "text/plain": "NAME                                                  Butyrolactone I\nkey                                 NGOLMNWQNHWEKU-XMMPIXPASA-N[M-H]-\nPRECURSORMZ                                                  423.1449\nInChIKey                                  NGOLMNWQNHWEKU-XMMPIXPASA-N\nFormula                                                      C24H24O7\nExactMass                                                  424.152203\nAdduct                                                         [M-H]-\nNum_Peaks                                                          34\nmsms                [[93.0348, 1.6], [117.0347, 3.2], [133.0297, 1...\nCollision_energy                                         NCE=35% 29eV\nComment                            NIST Mass Spectrometry Data Center\nInstrument_type                                                   HCD\nsource                                                           NIST\nkey_all                 NGOLMNWQNHWEKU-XMMPIXPASA-N[M-H]-NCE=35% 29eV\nrow_num                                                          5364\nName: 497393, dtype: object"
     },
     "execution_count": 38,
     "metadata": {},
     "output_type": "execute_result"
    }
   ],
   "source": [
    "data_nist_common.iloc[location]"
   ],
   "metadata": {
    "collapsed": false,
    "pycharm": {
     "name": "#%%\n"
    }
   }
  },
  {
   "cell_type": "code",
   "execution_count": 37,
   "outputs": [
    {
     "data": {
      "text/plain": "0.8741653870528445"
     },
     "execution_count": 37,
     "metadata": {},
     "output_type": "execute_result"
    }
   ],
   "source": [
    "entropy"
   ],
   "metadata": {
    "collapsed": false,
    "pycharm": {
     "name": "#%%\n"
    }
   }
  },
  {
   "cell_type": "code",
   "execution_count": 26,
   "outputs": [
    {
     "data": {
      "text/plain": "NAME                                                  Serotonin\nkey                           QZAYGJVTTNCVMB-UHFFFAOYSA-N[M+H]+\nPRECURSORMZ                                            177.1022\nInChIKey                            QZAYGJVTTNCVMB-UHFFFAOYSA-N\nFormula                                               C10H12N2O\nExactMass                                            176.094963\nadduct                                                   [M+H]+\nNum_Peaks                                                     3\nmsms                115.05\\t10.69\\n132.08\\t13.99\\n160.08\\t999.0\nCollision_energy                                             10\nsource                                                     NIST\ncount                                                        28\nkey_all                     QZAYGJVTTNCVMB-UHFFFAOYSA-N[M+H]+10\nrow_num                                                     595\nName: 595, dtype: object"
     },
     "execution_count": 26,
     "metadata": {},
     "output_type": "execute_result"
    }
   ],
   "source": [
    "data_nist_common.iloc[location]"
   ],
   "metadata": {
    "collapsed": false,
    "pycharm": {
     "name": "#%%\n"
    }
   }
  },
  {
   "cell_type": "code",
   "execution_count": null,
   "outputs": [],
   "source": [
    "data_mona_common.iloc[1]['msms']"
   ],
   "metadata": {
    "collapsed": false,
    "pycharm": {
     "name": "#%%\n"
    }
   }
  },
  {
   "cell_type": "code",
   "execution_count": 109,
   "outputs": [
    {
     "data": {
      "text/plain": "NAME                                                             Urea\nkey                                XSQUKJJJFZCRTK-UHFFFAOYSA-N[2M+H]+\nPRECURSORMZ                                                     121.2\nInChIKey                                  XSQUKJJJFZCRTK-UHFFFAOYSA-N\nFormula                                                        CH4N2O\nExactMass                                                   60.032363\nadduct                                                        [2M+H]+\nNum_Peaks                                                           8\nmsms                61.1\\t100.0\\n61.9\\t0.3\\n74.1\\t2.6\\n75.2\\t0.2\\n...\nCollision_energy                                                   40\nsource                                                           Mona\ncount                                                              na\nkey_all                          XSQUKJJJFZCRTK-UHFFFAOYSA-N[2M+H]+40\nrow_num                                                             1\nName: 13369, dtype: object"
     },
     "execution_count": 109,
     "metadata": {},
     "output_type": "execute_result"
    }
   ],
   "source": [
    "data_mona_common.iloc[1]"
   ],
   "metadata": {
    "collapsed": false,
    "pycharm": {
     "name": "#%%\n"
    }
   }
  },
  {
   "cell_type": "code",
   "execution_count": 107,
   "outputs": [
    {
     "data": {
      "text/plain": "0.3654077366499431"
     },
     "execution_count": 107,
     "metadata": {},
     "output_type": "execute_result"
    }
   ],
   "source": [
    "so.entropy_similarity_default(data_mona_common.iloc[1],data_nist_common.iloc[index])"
   ],
   "metadata": {
    "collapsed": false,
    "pycharm": {
     "name": "#%%\n"
    }
   }
  },
  {
   "cell_type": "code",
   "execution_count": 97,
   "outputs": [
    {
     "data": {
      "text/plain": "<module 'matplotlib.pyplot' from '/opt/homebrew/Caskroom/miniforge/base/envs/tensorflow/lib/python3.9/site-packages/matplotlib/pyplot.py'>"
     },
     "execution_count": 97,
     "metadata": {},
     "output_type": "execute_result"
    },
    {
     "data": {
      "text/plain": "<Figure size 504x360 with 1 Axes>",
      "image/png": "[encoded data removed]"
     },
     "metadata": {
      "needs_background": "light"
     },
     "output_type": "display_data"
    }
   ],
   "source": [
    "mp.ms2_plot(data_nist_common.loc[data_nist_common['NAME']=='Serotonin'].iloc[3]['msms'])"
   ],
   "metadata": {
    "collapsed": false,
    "pycharm": {
     "name": "#%%\n"
    }
   }
  },
  {
   "cell_type": "code",
   "execution_count": 99,
   "outputs": [
    {
     "data": {
      "text/plain": "NAME                                                               Serotonin\nkey                                        QZAYGJVTTNCVMB-UHFFFAOYSA-N[M+H]+\nPRECURSORMZ                                                            177.1\nInChIKey                                         QZAYGJVTTNCVMB-UHFFFAOYSA-N\nFormula                                                            C10H12N2O\nExactMass                                                         176.094963\nadduct                                                                [M+H]+\nNum_Peaks                                                                  5\nmsms                       149.1\\t1.6\\n160.1\\t100.0\\n161.0\\t0.1\\n167.7\\t0...\nCollision_energy                                                          40\nsource                                                                  Mona\ncount                                                                     na\nkey_all                                  QZAYGJVTTNCVMB-UHFFFAOYSA-N[M+H]+40\nrow_num                                                                   13\nmsms_d                                  149.1\\t1.6\\n160.1\\t100.0\\n177.1\\t0.0\nexplained_intensity                                                 0.989289\nentropy_matched_score                                                    0.0\nentropy_matched_score_d                                                  0.0\nName: 13, dtype: object"
     },
     "execution_count": 99,
     "metadata": {},
     "output_type": "execute_result"
    }
   ],
   "source": [
    "data_mona_common_good_quality.iloc[1]"
   ],
   "metadata": {
    "collapsed": false,
    "pycharm": {
     "name": "#%%\n"
    }
   }
  },
  {
   "cell_type": "code",
   "execution_count": 100,
   "outputs": [
    {
     "data": {
      "text/plain": "<module 'matplotlib.pyplot' from '/opt/homebrew/Caskroom/miniforge/base/envs/tensorflow/lib/python3.9/site-packages/matplotlib/pyplot.py'>"
     },
     "execution_count": 100,
     "metadata": {},
     "output_type": "execute_result"
    },
    {
     "data": {
      "text/plain": "<Figure size 504x360 with 1 Axes>",
      "image/png": "[encoded data removed]"
     },
     "metadata": {
      "needs_background": "light"
     },
     "output_type": "display_data"
    }
   ],
   "source": [
    "mp.head_to_tail_plot(data_mona_common_good_quality.iloc[1]['msms'],\n",
    "                     data_nist_common.loc[data_nist_common['NAME']=='Serotonin'].iloc[3]['msms'])"
   ],
   "metadata": {
    "collapsed": false,
    "pycharm": {
     "name": "#%%\n"
    }
   }
  },
  {
   "cell_type": "code",
   "execution_count": 96,
   "outputs": [
    {
     "data": {
      "text/plain": "'39.02\\t20.98\\n51.02\\t40.86\\n53.04\\t11.39\\n54.03\\t19.08\\n55.02\\t38.86\\n63.02\\t25.87\\n65.04\\t163.04\\n66.05\\t22.48\\n67.04\\t96.6\\n77.04\\t472.63\\n78.05\\t63.54\\n79.05\\t230.37\\n80.05\\t24.38\\n89.04\\t182.42\\n90.05\\t112.69\\n91.05\\t104.89\\n92.05\\t13.59\\n93.03\\t13.99\\n93.06\\t17.48\\n94.04\\t54.35\\n102.05\\t15.18\\n103.05\\t170.83\\n104.05\\t111.29\\n105.03\\t23.58\\n105.07\\t212.09\\n106.04\\t21.48\\n106.07\\t21.08\\n107.05\\t50.05\\n114.05\\t22.48\\n115.05\\t999.0\\n116.05\\t106.69\\n117.06\\t558.44\\n128.05\\t17.98\\n130.07\\t253.35\\n131.05\\t64.93\\n131.07\\t114.49\\n132.05\\t25.67\\n132.08\\t69.23\\n133.05\\t209.19\\n140.05\\t41.16\\n141.06\\t52.95\\n142.07\\t67.63\\n143.07\\t118.08\\n144.04\\t23.08\\n145.05\\t20.48\\n158.06\\t47.55\\n159.07\\t169.63\\n160.07\\t28.07'"
     },
     "execution_count": 96,
     "metadata": {},
     "output_type": "execute_result"
    }
   ],
   "source": [
    "data_nist_common.loc[data_nist_common['NAME']=='Serotonin'].iloc[3]['msms']"
   ],
   "metadata": {
    "collapsed": false,
    "pycharm": {
     "name": "#%%\n"
    }
   }
  },
  {
   "cell_type": "code",
   "execution_count": 126,
   "outputs": [
    {
     "data": {
      "text/plain": "NAME                                                             Urea\nkey                                XSQUKJJJFZCRTK-UHFFFAOYSA-N[2M+H]+\nPRECURSORMZ                                                     121.2\nInChIKey                                  XSQUKJJJFZCRTK-UHFFFAOYSA-N\nFormula                                                        CH4N2O\nExactMass                                                   60.032363\nadduct                                                        [2M+H]+\nNum_Peaks                                                           8\nmsms                61.1\\t100.0\\n61.9\\t0.3\\n74.1\\t2.6\\n75.2\\t0.2\\n...\nCollision_energy                                                   40\nsource                                                           Mona\ncount                                                              na\nkey_all                          XSQUKJJJFZCRTK-UHFFFAOYSA-N[2M+H]+40\nrow_num                                                             1\nName: 13369, dtype: object"
     },
     "execution_count": 126,
     "metadata": {},
     "output_type": "execute_result"
    }
   ],
   "source": [
    "data_mona_common.iloc[1]"
   ],
   "metadata": {
    "collapsed": false,
    "pycharm": {
     "name": "#%%\n"
    }
   }
  },
  {
   "cell_type": "code",
   "execution_count": 114,
   "outputs": [],
   "source": [
    "urea_nist = data_nist_common.loc[data_nist_common['key_all']==data_mona_common.iloc[1]['key_all']]"
   ],
   "metadata": {
    "collapsed": false,
    "pycharm": {
     "name": "#%%\n"
    }
   }
  },
  {
   "cell_type": "code",
   "execution_count": 127,
   "outputs": [
    {
     "data": {
      "text/plain": "1.1102230246251565e-16"
     },
     "execution_count": 127,
     "metadata": {},
     "output_type": "execute_result"
    }
   ],
   "source": [
    "so.entropy_similarity_default(data_nist_common.iloc[510]['msms'], data_mona_common.iloc[1]['msms'])"
   ],
   "metadata": {
    "collapsed": false,
    "pycharm": {
     "name": "#%%\n"
    }
   }
  },
  {
   "cell_type": "code",
   "execution_count": null,
   "outputs": [],
   "source": [
    "td.tree_denoising()"
   ],
   "metadata": {
    "collapsed": false,
    "pycharm": {
     "name": "#%%\n"
    }
   }
  },
  {
   "cell_type": "code",
   "execution_count": 69,
   "outputs": [
    {
     "data": {
      "text/plain": "0.4047948988818948"
     },
     "execution_count": 69,
     "metadata": {},
     "output_type": "execute_result"
    }
   ],
   "source": [
    "so.entropy_similarity_default(data_mona_common.iloc[0],data_nist_common.loc[8030])"
   ],
   "metadata": {
    "collapsed": false,
    "pycharm": {
     "name": "#%%\n"
    }
   }
  },
  {
   "cell_type": "code",
   "execution_count": 90,
   "outputs": [
    {
     "data": {
      "text/plain": "'42.03\\t38.36\\n43.04\\t34.87\\n56.04\\t10.59\\n58.06\\t999.0\\n59.07\\t25.57'"
     },
     "execution_count": 90,
     "metadata": {},
     "output_type": "execute_result"
    }
   ],
   "source": [
    "data_nist_common.loc[8030]['msms']"
   ],
   "metadata": {
    "collapsed": false,
    "pycharm": {
     "name": "#%%\n"
    }
   }
  },
  {
   "cell_type": "code",
   "execution_count": null,
   "outputs": [],
   "source": [],
   "metadata": {
    "collapsed": false,
    "pycharm": {
     "name": "#%%\n"
    }
   }
  },
  {
   "cell_type": "code",
   "execution_count": 89,
   "outputs": [
    {
     "ename": "KeyError",
     "evalue": "8030",
     "output_type": "error",
     "traceback": [
      "\u001B[0;31m---------------------------------------------------------------------------\u001B[0m",
      "\u001B[0;31mValueError\u001B[0m                                Traceback (most recent call last)",
      "File \u001B[0;32m/opt/homebrew/Caskroom/miniforge/base/envs/tensorflow/lib/python3.9/site-packages/pandas/core/indexes/range.py:385\u001B[0m, in \u001B[0;36mRangeIndex.get_loc\u001B[0;34m(self, key, method, tolerance)\u001B[0m\n\u001B[1;32m    384\u001B[0m \u001B[38;5;28;01mtry\u001B[39;00m:\n\u001B[0;32m--> 385\u001B[0m     \u001B[38;5;28;01mreturn\u001B[39;00m \u001B[38;5;28;43mself\u001B[39;49m\u001B[38;5;241;43m.\u001B[39;49m\u001B[43m_range\u001B[49m\u001B[38;5;241;43m.\u001B[39;49m\u001B[43mindex\u001B[49m\u001B[43m(\u001B[49m\u001B[43mnew_key\u001B[49m\u001B[43m)\u001B[49m\n\u001B[1;32m    386\u001B[0m \u001B[38;5;28;01mexcept\u001B[39;00m \u001B[38;5;167;01mValueError\u001B[39;00m \u001B[38;5;28;01mas\u001B[39;00m err:\n",
      "\u001B[0;31mValueError\u001B[0m: 8030 is not in range",
      "\nThe above exception was the direct cause of the following exception:\n",
      "\u001B[0;31mKeyError\u001B[0m                                  Traceback (most recent call last)",
      "Input \u001B[0;32mIn [89]\u001B[0m, in \u001B[0;36m<module>\u001B[0;34m\u001B[0m\n\u001B[0;32m----> 1\u001B[0m mp\u001B[38;5;241m.\u001B[39mhead_to_tail_plot(data_mona_common\u001B[38;5;241m.\u001B[39miloc[\u001B[38;5;241m0\u001B[39m][\u001B[38;5;124m'\u001B[39m\u001B[38;5;124mmsms\u001B[39m\u001B[38;5;124m'\u001B[39m],\u001B[43mdata_nist_common\u001B[49m\u001B[38;5;241;43m.\u001B[39;49m\u001B[43mloc\u001B[49m\u001B[43m[\u001B[49m\u001B[38;5;241;43m8030\u001B[39;49m\u001B[43m]\u001B[49m[\u001B[38;5;124m'\u001B[39m\u001B[38;5;124mmsms\u001B[39m\u001B[38;5;124m'\u001B[39m])\n",
      "File \u001B[0;32m/opt/homebrew/Caskroom/miniforge/base/envs/tensorflow/lib/python3.9/site-packages/pandas/core/indexing.py:931\u001B[0m, in \u001B[0;36m_LocationIndexer.__getitem__\u001B[0;34m(self, key)\u001B[0m\n\u001B[1;32m    928\u001B[0m axis \u001B[38;5;241m=\u001B[39m \u001B[38;5;28mself\u001B[39m\u001B[38;5;241m.\u001B[39maxis \u001B[38;5;129;01mor\u001B[39;00m \u001B[38;5;241m0\u001B[39m\n\u001B[1;32m    930\u001B[0m maybe_callable \u001B[38;5;241m=\u001B[39m com\u001B[38;5;241m.\u001B[39mapply_if_callable(key, \u001B[38;5;28mself\u001B[39m\u001B[38;5;241m.\u001B[39mobj)\n\u001B[0;32m--> 931\u001B[0m \u001B[38;5;28;01mreturn\u001B[39;00m \u001B[38;5;28;43mself\u001B[39;49m\u001B[38;5;241;43m.\u001B[39;49m\u001B[43m_getitem_axis\u001B[49m\u001B[43m(\u001B[49m\u001B[43mmaybe_callable\u001B[49m\u001B[43m,\u001B[49m\u001B[43m \u001B[49m\u001B[43maxis\u001B[49m\u001B[38;5;241;43m=\u001B[39;49m\u001B[43maxis\u001B[49m\u001B[43m)\u001B[49m\n",
      "File \u001B[0;32m/opt/homebrew/Caskroom/miniforge/base/envs/tensorflow/lib/python3.9/site-packages/pandas/core/indexing.py:1164\u001B[0m, in \u001B[0;36m_LocIndexer._getitem_axis\u001B[0;34m(self, key, axis)\u001B[0m\n\u001B[1;32m   1162\u001B[0m \u001B[38;5;66;03m# fall thru to straight lookup\u001B[39;00m\n\u001B[1;32m   1163\u001B[0m \u001B[38;5;28mself\u001B[39m\u001B[38;5;241m.\u001B[39m_validate_key(key, axis)\n\u001B[0;32m-> 1164\u001B[0m \u001B[38;5;28;01mreturn\u001B[39;00m \u001B[38;5;28;43mself\u001B[39;49m\u001B[38;5;241;43m.\u001B[39;49m\u001B[43m_get_label\u001B[49m\u001B[43m(\u001B[49m\u001B[43mkey\u001B[49m\u001B[43m,\u001B[49m\u001B[43m \u001B[49m\u001B[43maxis\u001B[49m\u001B[38;5;241;43m=\u001B[39;49m\u001B[43maxis\u001B[49m\u001B[43m)\u001B[49m\n",
      "File \u001B[0;32m/opt/homebrew/Caskroom/miniforge/base/envs/tensorflow/lib/python3.9/site-packages/pandas/core/indexing.py:1113\u001B[0m, in \u001B[0;36m_LocIndexer._get_label\u001B[0;34m(self, label, axis)\u001B[0m\n\u001B[1;32m   1111\u001B[0m \u001B[38;5;28;01mdef\u001B[39;00m \u001B[38;5;21m_get_label\u001B[39m(\u001B[38;5;28mself\u001B[39m, label, axis: \u001B[38;5;28mint\u001B[39m):\n\u001B[1;32m   1112\u001B[0m     \u001B[38;5;66;03m# GH#5667 this will fail if the label is not present in the axis.\u001B[39;00m\n\u001B[0;32m-> 1113\u001B[0m     \u001B[38;5;28;01mreturn\u001B[39;00m \u001B[38;5;28;43mself\u001B[39;49m\u001B[38;5;241;43m.\u001B[39;49m\u001B[43mobj\u001B[49m\u001B[38;5;241;43m.\u001B[39;49m\u001B[43mxs\u001B[49m\u001B[43m(\u001B[49m\u001B[43mlabel\u001B[49m\u001B[43m,\u001B[49m\u001B[43m \u001B[49m\u001B[43maxis\u001B[49m\u001B[38;5;241;43m=\u001B[39;49m\u001B[43maxis\u001B[49m\u001B[43m)\u001B[49m\n",
      "File \u001B[0;32m/opt/homebrew/Caskroom/miniforge/base/envs/tensorflow/lib/python3.9/site-packages/pandas/core/generic.py:3776\u001B[0m, in \u001B[0;36mNDFrame.xs\u001B[0;34m(self, key, axis, level, drop_level)\u001B[0m\n\u001B[1;32m   3774\u001B[0m         \u001B[38;5;28;01mraise\u001B[39;00m \u001B[38;5;167;01mTypeError\u001B[39;00m(\u001B[38;5;124mf\u001B[39m\u001B[38;5;124m\"\u001B[39m\u001B[38;5;124mExpected label or tuple of labels, got \u001B[39m\u001B[38;5;132;01m{\u001B[39;00mkey\u001B[38;5;132;01m}\u001B[39;00m\u001B[38;5;124m\"\u001B[39m) \u001B[38;5;28;01mfrom\u001B[39;00m \u001B[38;5;21;01me\u001B[39;00m\n\u001B[1;32m   3775\u001B[0m \u001B[38;5;28;01melse\u001B[39;00m:\n\u001B[0;32m-> 3776\u001B[0m     loc \u001B[38;5;241m=\u001B[39m \u001B[43mindex\u001B[49m\u001B[38;5;241;43m.\u001B[39;49m\u001B[43mget_loc\u001B[49m\u001B[43m(\u001B[49m\u001B[43mkey\u001B[49m\u001B[43m)\u001B[49m\n\u001B[1;32m   3778\u001B[0m     \u001B[38;5;28;01mif\u001B[39;00m \u001B[38;5;28misinstance\u001B[39m(loc, np\u001B[38;5;241m.\u001B[39mndarray):\n\u001B[1;32m   3779\u001B[0m         \u001B[38;5;28;01mif\u001B[39;00m loc\u001B[38;5;241m.\u001B[39mdtype \u001B[38;5;241m==\u001B[39m np\u001B[38;5;241m.\u001B[39mbool_:\n",
      "File \u001B[0;32m/opt/homebrew/Caskroom/miniforge/base/envs/tensorflow/lib/python3.9/site-packages/pandas/core/indexes/range.py:387\u001B[0m, in \u001B[0;36mRangeIndex.get_loc\u001B[0;34m(self, key, method, tolerance)\u001B[0m\n\u001B[1;32m    385\u001B[0m             \u001B[38;5;28;01mreturn\u001B[39;00m \u001B[38;5;28mself\u001B[39m\u001B[38;5;241m.\u001B[39m_range\u001B[38;5;241m.\u001B[39mindex(new_key)\n\u001B[1;32m    386\u001B[0m         \u001B[38;5;28;01mexcept\u001B[39;00m \u001B[38;5;167;01mValueError\u001B[39;00m \u001B[38;5;28;01mas\u001B[39;00m err:\n\u001B[0;32m--> 387\u001B[0m             \u001B[38;5;28;01mraise\u001B[39;00m \u001B[38;5;167;01mKeyError\u001B[39;00m(key) \u001B[38;5;28;01mfrom\u001B[39;00m \u001B[38;5;21;01merr\u001B[39;00m\n\u001B[1;32m    388\u001B[0m     \u001B[38;5;28;01mraise\u001B[39;00m \u001B[38;5;167;01mKeyError\u001B[39;00m(key)\n\u001B[1;32m    389\u001B[0m \u001B[38;5;28;01mreturn\u001B[39;00m \u001B[38;5;28msuper\u001B[39m()\u001B[38;5;241m.\u001B[39mget_loc(key, method\u001B[38;5;241m=\u001B[39mmethod, tolerance\u001B[38;5;241m=\u001B[39mtolerance)\n",
      "\u001B[0;31mKeyError\u001B[0m: 8030"
     ]
    }
   ],
   "source": [
    "mp.head_to_tail_plot(data_mona_common.iloc[0]['msms'],data_nist_common.loc[8030]['msms'])"
   ],
   "metadata": {
    "collapsed": false,
    "pycharm": {
     "name": "#%%\n"
    }
   }
  },
  {
   "cell_type": "code",
   "execution_count": 87,
   "outputs": [
    {
     "data": {
      "text/plain": "598    39.02\\t20.98\\n51.02\\t40.86\\n53.04\\t11.39\\n54.0...\nName: msms, dtype: object"
     },
     "execution_count": 87,
     "metadata": {},
     "output_type": "execute_result"
    }
   ],
   "source": [],
   "metadata": {
    "collapsed": false,
    "pycharm": {
     "name": "#%%\n"
    }
   }
  },
  {
   "cell_type": "code",
   "execution_count": 88,
   "outputs": [
    {
     "ename": "TypeError",
     "evalue": "expected string or bytes-like object",
     "output_type": "error",
     "traceback": [
      "\u001B[0;31m---------------------------------------------------------------------------\u001B[0m",
      "\u001B[0;31mTypeError\u001B[0m                                 Traceback (most recent call last)",
      "Input \u001B[0;32mIn [88]\u001B[0m, in \u001B[0;36m<module>\u001B[0;34m\u001B[0m\n\u001B[0;32m----> 1\u001B[0m \u001B[43mmp\u001B[49m\u001B[38;5;241;43m.\u001B[39;49m\u001B[43mhead_to_tail_plot\u001B[49m\u001B[43m(\u001B[49m\u001B[43mdata_mona_common_good_quality\u001B[49m\u001B[38;5;241;43m.\u001B[39;49m\u001B[43miloc\u001B[49m\u001B[43m[\u001B[49m\u001B[38;5;241;43m1\u001B[39;49m\u001B[43m]\u001B[49m\u001B[43m[\u001B[49m\u001B[38;5;124;43m'\u001B[39;49m\u001B[38;5;124;43mmsms\u001B[39;49m\u001B[38;5;124;43m'\u001B[39;49m\u001B[43m]\u001B[49m\u001B[43m,\u001B[49m\n\u001B[1;32m      2\u001B[0m \u001B[43m                     \u001B[49m\u001B[43mdata_nist_common\u001B[49m\u001B[38;5;241;43m.\u001B[39;49m\u001B[43mloc\u001B[49m\u001B[43m[\u001B[49m\u001B[43mdata_nist_common\u001B[49m\u001B[43m[\u001B[49m\u001B[38;5;124;43m'\u001B[39;49m\u001B[38;5;124;43mkey_all\u001B[39;49m\u001B[38;5;124;43m'\u001B[39;49m\u001B[43m]\u001B[49m\u001B[38;5;241;43m==\u001B[39;49m\u001B[43mdata_mona_common_good_quality\u001B[49m\u001B[38;5;241;43m.\u001B[39;49m\u001B[43miloc\u001B[49m\u001B[43m[\u001B[49m\u001B[38;5;241;43m1\u001B[39;49m\u001B[43m]\u001B[49m\u001B[43m[\u001B[49m\u001B[38;5;124;43m'\u001B[39;49m\u001B[38;5;124;43mkey_all\u001B[39;49m\u001B[38;5;124;43m'\u001B[39;49m\u001B[43m]\u001B[49m\u001B[43m]\u001B[49m\u001B[43m[\u001B[49m\u001B[38;5;124;43m'\u001B[39;49m\u001B[38;5;124;43mmsms\u001B[39;49m\u001B[38;5;124;43m'\u001B[39;49m\u001B[43m]\u001B[49m\u001B[43m)\u001B[49m\n",
      "File \u001B[0;32m~/Documents/GitHub/Libgen/ms2_spectra_plotter.py:40\u001B[0m, in \u001B[0;36mhead_to_tail_plot\u001B[0;34m(msms_1, msms_2, lower, upper)\u001B[0m\n\u001B[1;32m     37\u001B[0m max_val \u001B[38;5;241m=\u001B[39m np\u001B[38;5;241m.\u001B[39mmax(msms1[\u001B[38;5;124m'\u001B[39m\u001B[38;5;124mintensity\u001B[39m\u001B[38;5;124m'\u001B[39m])\n\u001B[1;32m     38\u001B[0m msms1[\u001B[38;5;124m\"\u001B[39m\u001B[38;5;124mnormalized_intensity\u001B[39m\u001B[38;5;124m\"\u001B[39m] \u001B[38;5;241m=\u001B[39m msms1[\u001B[38;5;124m'\u001B[39m\u001B[38;5;124mintensity\u001B[39m\u001B[38;5;124m'\u001B[39m] \u001B[38;5;241m/\u001B[39m max_val \u001B[38;5;241m*\u001B[39m \u001B[38;5;241m100.0\u001B[39m  \u001B[38;5;66;03m# normalize intensity to percent\u001B[39;00m\n\u001B[0;32m---> 40\u001B[0m mass2, intensity2 \u001B[38;5;241m=\u001B[39m \u001B[43mso\u001B[49m\u001B[38;5;241;43m.\u001B[39;49m\u001B[43mbreak_spectra\u001B[49m\u001B[43m(\u001B[49m\u001B[43mmsms_2\u001B[49m\u001B[43m)\u001B[49m\n\u001B[1;32m     41\u001B[0m mass2 \u001B[38;5;241m=\u001B[39m [\u001B[38;5;28mfloat\u001B[39m(x) \u001B[38;5;28;01mfor\u001B[39;00m x \u001B[38;5;129;01min\u001B[39;00m mass2]\n\u001B[1;32m     42\u001B[0m intensity2 \u001B[38;5;241m=\u001B[39m [\u001B[38;5;28mfloat\u001B[39m(x) \u001B[38;5;28;01mfor\u001B[39;00m x \u001B[38;5;129;01min\u001B[39;00m intensity2]\n",
      "File \u001B[0;32m~/Documents/GitHub/Libgen/spectra_operations.py:14\u001B[0m, in \u001B[0;36mbreak_spectra\u001B[0;34m(spectra)\u001B[0m\n\u001B[1;32m     13\u001B[0m \u001B[38;5;28;01mdef\u001B[39;00m \u001B[38;5;21mbreak_spectra\u001B[39m(spectra):\n\u001B[0;32m---> 14\u001B[0m     split_msms \u001B[38;5;241m=\u001B[39m \u001B[43mre\u001B[49m\u001B[38;5;241;43m.\u001B[39;49m\u001B[43msplit\u001B[49m\u001B[43m(\u001B[49m\u001B[38;5;124;43m'\u001B[39;49m\u001B[38;5;130;43;01m\\t\u001B[39;49;00m\u001B[38;5;124;43m|\u001B[39;49m\u001B[38;5;130;43;01m\\n\u001B[39;49;00m\u001B[38;5;124;43m'\u001B[39;49m\u001B[43m,\u001B[49m\u001B[43mspectra\u001B[49m\u001B[43m)\u001B[49m\n\u001B[1;32m     15\u001B[0m     intensity \u001B[38;5;241m=\u001B[39m split_msms[\u001B[38;5;241m1\u001B[39m:][::\u001B[38;5;241m2\u001B[39m]\n\u001B[1;32m     16\u001B[0m     mass \u001B[38;5;241m=\u001B[39m split_msms[::\u001B[38;5;241m2\u001B[39m]\n",
      "File \u001B[0;32m/opt/homebrew/Caskroom/miniforge/base/envs/tensorflow/lib/python3.9/re.py:231\u001B[0m, in \u001B[0;36msplit\u001B[0;34m(pattern, string, maxsplit, flags)\u001B[0m\n\u001B[1;32m    223\u001B[0m \u001B[38;5;28;01mdef\u001B[39;00m \u001B[38;5;21msplit\u001B[39m(pattern, string, maxsplit\u001B[38;5;241m=\u001B[39m\u001B[38;5;241m0\u001B[39m, flags\u001B[38;5;241m=\u001B[39m\u001B[38;5;241m0\u001B[39m):\n\u001B[1;32m    224\u001B[0m     \u001B[38;5;124;03m\"\"\"Split the source string by the occurrences of the pattern,\u001B[39;00m\n\u001B[1;32m    225\u001B[0m \u001B[38;5;124;03m    returning a list containing the resulting substrings.  If\u001B[39;00m\n\u001B[1;32m    226\u001B[0m \u001B[38;5;124;03m    capturing parentheses are used in pattern, then the text of all\u001B[39;00m\n\u001B[0;32m   (...)\u001B[0m\n\u001B[1;32m    229\u001B[0m \u001B[38;5;124;03m    and the remainder of the string is returned as the final element\u001B[39;00m\n\u001B[1;32m    230\u001B[0m \u001B[38;5;124;03m    of the list.\"\"\"\u001B[39;00m\n\u001B[0;32m--> 231\u001B[0m     \u001B[38;5;28;01mreturn\u001B[39;00m \u001B[43m_compile\u001B[49m\u001B[43m(\u001B[49m\u001B[43mpattern\u001B[49m\u001B[43m,\u001B[49m\u001B[43m \u001B[49m\u001B[43mflags\u001B[49m\u001B[43m)\u001B[49m\u001B[38;5;241;43m.\u001B[39;49m\u001B[43msplit\u001B[49m\u001B[43m(\u001B[49m\u001B[43mstring\u001B[49m\u001B[43m,\u001B[49m\u001B[43m \u001B[49m\u001B[43mmaxsplit\u001B[49m\u001B[43m)\u001B[49m\n",
      "\u001B[0;31mTypeError\u001B[0m: expected string or bytes-like object"
     ]
    }
   ],
   "source": [
    "mp.head_to_tail_plot(data_mona_common_good_quality.iloc[1]['msms'],\n",
    "                     data_nist_common.loc[data_nist_common['key_all']==data_mona_common_good_quality.iloc[1]['key_all']]['msms'])"
   ],
   "metadata": {
    "collapsed": false,
    "pycharm": {
     "name": "#%%\n"
    }
   }
  },
  {
   "cell_type": "code",
   "execution_count": null,
   "outputs": [],
   "source": [],
   "metadata": {
    "collapsed": false,
    "pycharm": {
     "name": "#%%\n"
    }
   }
  },
  {
   "cell_type": "code",
   "execution_count": 72,
   "outputs": [
    {
     "data": {
      "text/plain": "'42.03\\t38.36\\n43.04\\t34.87\\n56.04\\t10.59\\n58.06\\t999.0\\n59.07\\t25.57'"
     },
     "execution_count": 72,
     "metadata": {},
     "output_type": "execute_result"
    }
   ],
   "source": [
    "data_nist_common.loc[8030]['msms']"
   ],
   "metadata": {
    "collapsed": false,
    "pycharm": {
     "name": "#%%\n"
    }
   }
  },
  {
   "cell_type": "code",
   "execution_count": 68,
   "outputs": [
    {
     "data": {
      "text/plain": "NAME                                                          Betaine\nkey                                 KWIUHFFTVRNATP-UHFFFAOYSA-N[M+H]+\nPRECURSORMZ                                                  118.0863\nInChIKey                                  KWIUHFFTVRNATP-UHFFFAOYSA-N\nFormula                                                      C5H11NO2\nExactMass                                                  117.078979\nadduct                                                         [M+H]+\nNum_Peaks                                                           5\nmsms                42.03\\t38.36\\n43.04\\t34.87\\n56.04\\t10.59\\n58.0...\nCollision_energy                                                   40\nsource                                                           NIST\ncount                                                              20\nkey_all                           KWIUHFFTVRNATP-UHFFFAOYSA-N[M+H]+40\nName: 8030, dtype: object"
     },
     "execution_count": 68,
     "metadata": {},
     "output_type": "execute_result"
    }
   ],
   "source": [
    "data_nist_common.loc[8030]"
   ],
   "metadata": {
    "collapsed": false,
    "pycharm": {
     "name": "#%%\n"
    }
   }
  },
  {
   "cell_type": "code",
   "execution_count": 63,
   "outputs": [
    {
     "data": {
      "text/plain": "'58.06\\t79.02\\n59.07\\t134.27\\n118.08\\t999.0'"
     },
     "execution_count": 63,
     "metadata": {},
     "output_type": "execute_result"
    }
   ],
   "source": [
    "data_nist_common.iloc[index]['msms']"
   ],
   "metadata": {
    "collapsed": false,
    "pycharm": {
     "name": "#%%\n"
    }
   }
  },
  {
   "cell_type": "code",
   "execution_count": 64,
   "outputs": [
    {
     "data": {
      "text/plain": "array([[ 58.06,  79.02],\n       [ 59.07, 134.27],\n       [118.08, 999.  ]], dtype=float32)"
     },
     "execution_count": 64,
     "metadata": {},
     "output_type": "execute_result"
    }
   ],
   "source": [
    "so.convert_string_to_nist(data_nist_common.iloc[index]['msms'])"
   ],
   "metadata": {
    "collapsed": false,
    "pycharm": {
     "name": "#%%\n"
    }
   }
  },
  {
   "cell_type": "code",
   "execution_count": 53,
   "outputs": [
    {
     "data": {
      "text/plain": "NAME                1-Palmitoyl-2-hydroxy-sn-glycero-3-phosphoetha...\nkey                                 YVYMBNSKXOXSKW-HXUWFJFHSA-N[M+H]+\nPRECURSORMZ                                                  454.2928\nInChIKey                                  YVYMBNSKXOXSKW-HXUWFJFHSA-N\nFormula                                                    C21H44NO7P\nExactMass                                                   453.28554\nadduct                                                         [M+H]+\nNum_Peaks                                                          30\nmsms                [[43.06, 34.67], [44.05, 802.3], [55.06, 11.89...\nCollision_energy                                                   27\nsource                                                           NIST\ncount                                                              27\nkey_all                           YVYMBNSKXOXSKW-HXUWFJFHSA-N[M+H]+27\nName: 257, dtype: object"
     },
     "execution_count": 53,
     "metadata": {},
     "output_type": "execute_result"
    }
   ],
   "source": [
    "data_nist_pos.iloc[index]"
   ],
   "metadata": {
    "collapsed": false,
    "pycharm": {
     "name": "#%%\n"
    }
   }
  },
  {
   "cell_type": "code",
   "execution_count": 40,
   "outputs": [],
   "source": [
    "# data_nist_common = data\n",
    "data_mona_common = data"
   ],
   "metadata": {
    "collapsed": false,
    "pycharm": {
     "name": "#%%\n"
    }
   }
  },
  {
   "cell_type": "code",
   "execution_count": 45,
   "outputs": [
    {
     "name": "stdout",
     "output_type": "stream",
     "text": [
      "13368\n",
      "13369\n",
      "13371\n",
      "13372\n",
      "13378\n",
      "13380\n",
      "13381\n",
      "13382\n",
      "13385\n",
      "13387\n",
      "13392\n",
      "13397\n",
      "13402\n",
      "13404\n",
      "13405\n",
      "13407\n",
      "13409\n",
      "13411\n",
      "13414\n",
      "13416\n",
      "13424\n",
      "13426\n",
      "13427\n",
      "13435\n",
      "154458\n",
      "154460\n",
      "154461\n",
      "154465\n",
      "154466\n",
      "154480\n",
      "154481\n",
      "154482\n",
      "154506\n",
      "154507\n",
      "154508\n",
      "154509\n",
      "154511\n",
      "154512\n",
      "154520\n",
      "154521\n",
      "154522\n",
      "154523\n",
      "154524\n",
      "154525\n",
      "154527\n",
      "154528\n",
      "154529\n",
      "154530\n",
      "154532\n",
      "154533\n",
      "154534\n",
      "154535\n",
      "154542\n",
      "154543\n",
      "154544\n",
      "154545\n",
      "154548\n",
      "154549\n",
      "154550\n",
      "154551\n",
      "154552\n",
      "154553\n",
      "154556\n",
      "154558\n",
      "154559\n",
      "154561\n",
      "154562\n",
      "154563\n",
      "154564\n",
      "154565\n",
      "154566\n",
      "154567\n",
      "154569\n",
      "154570\n",
      "154571\n",
      "154572\n",
      "154592\n",
      "154595\n",
      "154598\n",
      "154599\n",
      "154600\n",
      "154601\n",
      "154626\n",
      "154627\n",
      "154628\n",
      "154629\n",
      "154662\n",
      "154663\n",
      "154664\n",
      "154665\n",
      "154668\n",
      "154672\n",
      "154673\n",
      "154674\n",
      "154675\n",
      "154679\n",
      "154680\n",
      "154681\n",
      "154682\n",
      "154685\n",
      "154686\n",
      "154687\n",
      "154688\n",
      "154697\n",
      "154698\n",
      "154699\n",
      "154716\n",
      "154717\n",
      "154718\n",
      "154719\n",
      "154733\n",
      "154743\n",
      "154744\n",
      "154745\n",
      "154746\n",
      "154751\n",
      "154755\n",
      "154756\n",
      "154757\n",
      "154758\n",
      "154762\n",
      "154763\n",
      "154764\n",
      "154765\n",
      "154779\n",
      "154780\n",
      "154781\n",
      "154782\n",
      "154812\n",
      "154813\n",
      "154814\n",
      "154815\n",
      "154826\n",
      "154882\n",
      "154883\n",
      "154884\n",
      "154885\n",
      "154886\n",
      "154887\n",
      "154890\n",
      "154891\n",
      "154892\n",
      "154893\n",
      "154902\n",
      "154903\n",
      "154904\n",
      "154905\n",
      "154907\n",
      "154908\n",
      "154909\n",
      "154910\n",
      "154925\n",
      "154926\n",
      "154927\n",
      "154928\n",
      "154931\n",
      "154932\n",
      "154933\n",
      "154934\n",
      "154948\n",
      "154949\n",
      "154950\n",
      "154951\n",
      "154965\n",
      "154966\n",
      "154967\n",
      "154972\n",
      "154973\n",
      "154974\n",
      "154975\n",
      "154980\n",
      "154987\n",
      "154988\n",
      "154989\n",
      "155004\n",
      "155005\n",
      "155006\n",
      "155007\n",
      "155015\n",
      "155016\n",
      "155017\n",
      "155019\n",
      "155020\n",
      "155060\n",
      "155061\n",
      "155062\n",
      "155063\n",
      "155064\n",
      "155065\n",
      "155067\n",
      "155068\n",
      "155069\n",
      "155070\n",
      "155071\n",
      "155073\n",
      "155074\n",
      "155075\n",
      "155076\n",
      "155083\n",
      "155112\n",
      "155113\n",
      "155114\n",
      "155115\n",
      "155117\n",
      "155118\n",
      "155119\n",
      "155120\n",
      "155121\n",
      "155122\n",
      "155123\n",
      "155124\n",
      "155126\n",
      "155127\n",
      "155128\n",
      "155135\n",
      "155136\n",
      "155137\n",
      "155138\n",
      "155139\n",
      "155140\n",
      "155141\n",
      "155142\n",
      "155165\n",
      "155166\n",
      "155167\n",
      "155168\n",
      "155234\n",
      "155235\n",
      "155258\n",
      "155259\n",
      "155260\n",
      "155282\n",
      "155283\n",
      "155284\n",
      "155296\n",
      "155297\n",
      "155298\n",
      "155307\n",
      "155308\n",
      "155309\n",
      "155313\n",
      "155314\n",
      "155315\n",
      "155316\n",
      "155328\n",
      "155329\n",
      "155330\n",
      "155355\n",
      "155356\n",
      "155357\n",
      "155358\n",
      "155368\n",
      "155369\n",
      "155370\n",
      "155371\n",
      "155377\n",
      "155378\n",
      "155379\n",
      "155386\n",
      "155387\n",
      "155388\n",
      "155389\n",
      "155392\n",
      "155393\n",
      "155394\n",
      "155395\n",
      "155415\n",
      "155416\n",
      "155417\n",
      "155418\n",
      "155455\n",
      "155456\n",
      "155457\n",
      "155458\n",
      "155462\n",
      "155463\n",
      "155465\n",
      "155466\n",
      "155467\n",
      "155468\n",
      "155469\n",
      "155470\n",
      "155472\n",
      "155473\n",
      "155480\n",
      "155481\n",
      "155489\n",
      "155490\n",
      "155491\n",
      "155492\n",
      "155494\n",
      "155495\n",
      "155496\n",
      "155497\n",
      "155498\n",
      "155499\n",
      "155501\n",
      "155509\n",
      "155510\n",
      "155514\n",
      "155515\n",
      "155516\n",
      "155517\n",
      "155519\n",
      "155520\n",
      "155530\n",
      "155531\n",
      "155535\n",
      "155536\n",
      "155537\n",
      "155541\n",
      "155542\n",
      "155543\n",
      "155566\n",
      "155567\n",
      "155568\n",
      "155571\n",
      "155572\n",
      "155573\n",
      "155574\n",
      "155583\n",
      "155584\n",
      "155585\n",
      "155586\n",
      "155589\n",
      "155590\n",
      "155591\n",
      "155592\n",
      "155637\n",
      "155638\n",
      "155639\n",
      "155650\n",
      "155651\n",
      "155652\n",
      "155656\n",
      "155657\n",
      "155658\n",
      "155659\n",
      "155668\n",
      "155669\n",
      "155670\n",
      "155671\n",
      "155680\n",
      "155681\n",
      "155682\n",
      "155683\n",
      "155685\n",
      "155686\n",
      "155687\n",
      "155692\n",
      "155693\n",
      "155694\n",
      "155695\n",
      "155696\n",
      "155697\n",
      "155700\n",
      "155701\n",
      "155702\n",
      "155703\n",
      "155709\n",
      "155710\n",
      "155711\n",
      "155712\n",
      "155713\n",
      "155714\n",
      "155730\n",
      "155731\n",
      "155732\n",
      "155746\n",
      "155747\n",
      "155748\n",
      "155749\n",
      "155815\n",
      "155817\n",
      "155819\n",
      "155820\n",
      "155832\n",
      "155833\n",
      "155834\n",
      "155835\n",
      "155838\n",
      "155894\n",
      "155895\n",
      "155896\n",
      "155897\n",
      "155898\n",
      "155902\n",
      "155903\n",
      "155904\n",
      "155905\n",
      "155906\n",
      "155907\n",
      "155908\n",
      "155921\n",
      "155922\n",
      "155923\n",
      "155933\n",
      "155934\n",
      "155935\n",
      "155939\n",
      "155940\n",
      "155941\n",
      "155953\n",
      "155954\n",
      "155955\n",
      "155956\n",
      "155959\n",
      "155960\n",
      "155961\n",
      "155963\n",
      "155964\n",
      "155965\n",
      "155966\n",
      "155973\n",
      "155974\n",
      "155975\n",
      "155976\n",
      "155977\n",
      "155978\n",
      "155979\n",
      "155981\n",
      "155982\n",
      "155983\n",
      "155984\n",
      "156017\n",
      "156018\n",
      "156019\n",
      "156020\n",
      "156028\n",
      "156029\n",
      "156030\n",
      "156031\n",
      "156071\n",
      "156072\n",
      "156073\n",
      "156087\n",
      "156088\n",
      "156089\n",
      "156090\n",
      "156109\n",
      "156110\n",
      "156111\n",
      "156112\n",
      "156114\n",
      "156115\n",
      "156116\n",
      "156117\n",
      "156118\n",
      "156119\n",
      "156120\n",
      "156122\n",
      "156123\n",
      "156124\n",
      "156125\n",
      "156129\n",
      "156130\n",
      "156139\n",
      "156140\n",
      "156143\n",
      "156144\n",
      "156145\n",
      "156146\n",
      "156164\n",
      "156165\n",
      "156166\n",
      "156167\n",
      "156181\n",
      "156182\n",
      "156183\n",
      "156184\n",
      "156185\n",
      "156186\n",
      "156187\n",
      "156188\n",
      "156189\n",
      "156190\n",
      "156191\n",
      "156192\n",
      "156193\n",
      "156194\n",
      "156195\n",
      "156196\n",
      "156197\n",
      "156198\n",
      "156199\n",
      "156200\n",
      "156201\n",
      "156202\n",
      "156203\n",
      "156204\n",
      "156208\n",
      "156209\n",
      "156210\n",
      "156227\n",
      "156228\n",
      "156229\n",
      "156235\n",
      "156236\n",
      "156239\n",
      "156240\n",
      "156241\n",
      "156249\n",
      "156250\n",
      "156251\n",
      "156252\n",
      "156253\n",
      "156254\n",
      "156295\n",
      "156296\n",
      "156297\n",
      "156298\n",
      "156358\n",
      "156359\n",
      "156360\n",
      "156361\n",
      "156433\n",
      "156434\n",
      "156452\n",
      "156453\n",
      "156454\n",
      "156455\n",
      "156484\n",
      "156485\n",
      "156486\n",
      "156487\n",
      "156563\n",
      "156571\n",
      "156572\n",
      "156573\n",
      "156574\n",
      "156600\n",
      "156601\n",
      "156602\n",
      "156603\n",
      "156623\n",
      "156624\n",
      "156625\n",
      "156643\n",
      "156644\n",
      "156645\n",
      "156646\n",
      "156647\n",
      "156651\n",
      "156652\n",
      "156653\n",
      "156654\n",
      "156663\n",
      "156664\n",
      "156665\n",
      "156666\n",
      "156668\n",
      "156669\n",
      "156670\n",
      "156671\n",
      "156677\n",
      "156678\n",
      "156679\n",
      "156683\n",
      "156684\n",
      "156685\n",
      "156686\n",
      "156688\n",
      "156689\n",
      "156690\n",
      "156692\n",
      "156699\n",
      "156701\n",
      "156702\n",
      "156703\n",
      "156706\n",
      "156707\n",
      "156708\n",
      "156709\n",
      "156716\n",
      "156717\n",
      "156724\n",
      "156725\n",
      "156726\n",
      "156727\n",
      "156730\n",
      "156731\n",
      "156732\n",
      "156733\n",
      "156735\n",
      "156736\n",
      "156737\n",
      "156738\n",
      "156749\n",
      "156750\n",
      "156751\n",
      "156752\n",
      "156753\n",
      "156754\n",
      "156755\n",
      "156756\n",
      "156763\n",
      "156764\n",
      "156765\n",
      "156766\n",
      "156777\n",
      "156778\n",
      "156785\n",
      "156786\n",
      "156787\n",
      "156788\n",
      "156791\n",
      "156796\n",
      "156797\n",
      "156798\n",
      "156799\n",
      "156800\n",
      "156801\n",
      "156802\n",
      "156815\n",
      "156824\n",
      "156825\n",
      "156826\n",
      "156827\n",
      "156859\n",
      "156860\n",
      "156868\n",
      "156869\n",
      "156876\n",
      "156877\n",
      "156878\n",
      "156879\n",
      "156893\n",
      "156895\n",
      "156896\n",
      "156897\n",
      "156902\n",
      "156903\n",
      "156904\n",
      "156905\n",
      "156924\n",
      "156925\n",
      "156926\n",
      "156950\n",
      "156951\n",
      "156952\n",
      "156953\n",
      "156958\n",
      "156963\n",
      "157049\n",
      "157050\n",
      "157051\n",
      "157052\n",
      "157055\n",
      "157056\n",
      "157061\n",
      "157062\n",
      "157078\n",
      "157079\n",
      "161689\n",
      "161720\n",
      "161868\n",
      "161939\n",
      "162024\n",
      "162100\n",
      "162104\n",
      "162144\n",
      "162182\n",
      "162196\n",
      "162271\n",
      "162282\n",
      "189626\n",
      "189643\n",
      "195382\n",
      "195383\n",
      "195384\n",
      "195398\n",
      "195399\n",
      "195400\n",
      "195401\n",
      "195402\n",
      "195403\n",
      "195407\n",
      "195408\n",
      "195409\n",
      "195416\n",
      "195417\n",
      "195419\n",
      "195430\n",
      "195431\n",
      "195433\n",
      "195436\n",
      "195446\n",
      "195447\n",
      "195448\n",
      "195452\n",
      "195453\n",
      "195454\n",
      "195455\n",
      "195456\n",
      "195457\n",
      "195460\n",
      "195462\n",
      "195463\n",
      "195464\n",
      "195465\n",
      "195466\n",
      "195467\n",
      "195468\n",
      "195469\n",
      "195479\n",
      "195480\n",
      "195481\n",
      "195483\n",
      "195494\n",
      "195495\n",
      "195496\n",
      "195500\n",
      "195501\n",
      "195502\n",
      "195503\n",
      "195504\n",
      "195505\n",
      "195506\n",
      "195510\n",
      "195511\n",
      "195512\n",
      "195513\n",
      "195514\n",
      "195515\n",
      "195516\n",
      "195517\n",
      "195527\n",
      "195528\n",
      "195529\n",
      "195533\n",
      "195534\n",
      "195535\n",
      "195536\n",
      "195537\n",
      "195538\n",
      "195542\n",
      "195543\n",
      "195544\n",
      "195545\n",
      "195546\n",
      "195547\n",
      "195550\n",
      "195552\n",
      "195553\n",
      "195554\n",
      "195555\n",
      "195557\n",
      "195575\n",
      "195576\n",
      "195577\n",
      "195583\n",
      "195585\n",
      "195586\n",
      "195587\n",
      "195588\n",
      "195593\n",
      "195594\n",
      "195595\n",
      "195599\n",
      "195600\n",
      "195601\n",
      "195602\n",
      "195603\n",
      "195604\n",
      "195611\n",
      "195612\n",
      "195613\n",
      "195616\n",
      "195618\n",
      "195619\n",
      "195623\n",
      "195624\n",
      "195625\n",
      "195626\n",
      "195627\n",
      "195628\n",
      "195631\n",
      "195632\n",
      "195634\n",
      "195635\n",
      "195636\n",
      "195637\n",
      "195638\n",
      "195639\n",
      "195640\n",
      "195651\n",
      "195654\n",
      "195656\n",
      "195668\n",
      "195669\n",
      "195670\n",
      "195695\n",
      "195696\n",
      "195697\n",
      "195701\n",
      "195702\n",
      "195705\n",
      "195707\n",
      "195708\n",
      "195716\n",
      "195717\n",
      "195718\n",
      "195722\n",
      "195723\n",
      "195725\n",
      "195726\n",
      "195735\n",
      "195738\n",
      "195739\n",
      "195740\n",
      "195741\n",
      "195742\n",
      "195749\n",
      "195750\n",
      "195751\n",
      "195752\n",
      "195753\n",
      "195754\n",
      "195758\n",
      "195760\n",
      "195767\n",
      "195768\n",
      "195769\n",
      "195770\n",
      "195771\n",
      "195773\n",
      "195782\n",
      "195783\n",
      "195784\n",
      "195785\n",
      "195786\n",
      "195788\n",
      "195789\n",
      "195790\n",
      "195797\n",
      "195798\n",
      "195801\n",
      "195802\n",
      "195804\n",
      "195805\n",
      "195812\n",
      "195813\n",
      "195814\n",
      "195818\n",
      "195819\n",
      "195821\n",
      "195828\n",
      "195830\n",
      "195831\n",
      "195832\n",
      "195833\n",
      "195834\n",
      "195835\n",
      "195857\n",
      "195858\n",
      "195859\n",
      "195863\n",
      "195864\n",
      "195865\n",
      "195878\n",
      "195879\n",
      "195880\n",
      "195881\n",
      "195884\n",
      "195885\n",
      "195886\n",
      "195887\n",
      "195888\n",
      "195889\n",
      "195890\n",
      "195892\n",
      "195893\n",
      "195895\n",
      "195897\n",
      "195898\n",
      "195899\n",
      "195900\n",
      "195901\n",
      "195910\n",
      "195912\n",
      "195913\n",
      "195914\n",
      "195915\n",
      "195916\n",
      "195920\n",
      "195921\n",
      "195922\n",
      "195923\n",
      "195924\n",
      "195925\n",
      "195932\n",
      "195933\n",
      "195934\n",
      "195944\n",
      "195945\n",
      "195946\n",
      "195947\n",
      "195948\n",
      "195949\n",
      "195950\n",
      "195951\n",
      "195952\n",
      "195953\n",
      "195954\n",
      "195955\n",
      "195956\n",
      "195958\n",
      "195963\n",
      "195966\n",
      "195968\n",
      "195971\n",
      "195972\n",
      "195973\n",
      "195974\n",
      "195975\n",
      "195977\n",
      "195979\n",
      "195981\n",
      "195982\n",
      "195983\n",
      "195984\n",
      "195985\n",
      "195986\n",
      "195987\n",
      "195988\n",
      "195992\n",
      "195993\n",
      "195994\n",
      "197963\n",
      "197975\n",
      "197976\n",
      "197977\n",
      "197990\n",
      "197991\n",
      "197992\n",
      "197993\n",
      "197994\n",
      "197995\n",
      "197996\n",
      "197997\n",
      "197998\n",
      "197999\n",
      "198000\n",
      "198001\n",
      "198002\n",
      "198003\n",
      "198004\n",
      "198005\n",
      "198006\n",
      "198010\n",
      "198011\n",
      "198012\n",
      "198013\n",
      "198014\n",
      "198015\n",
      "198016\n",
      "198017\n",
      "198018\n",
      "198040\n",
      "198041\n",
      "198042\n",
      "198046\n",
      "198047\n",
      "198048\n",
      "198052\n",
      "198053\n",
      "198054\n",
      "198055\n",
      "198056\n",
      "198060\n",
      "198061\n",
      "198062\n",
      "198064\n",
      "198067\n",
      "198081\n",
      "198082\n",
      "198083\n",
      "198157\n",
      "198158\n",
      "198159\n",
      "198166\n",
      "198167\n",
      "198168\n",
      "198172\n",
      "198173\n",
      "198174\n",
      "198181\n",
      "198182\n",
      "198183\n",
      "198184\n",
      "198185\n",
      "198186\n",
      "198188\n",
      "198190\n",
      "198191\n",
      "198192\n",
      "198193\n",
      "198194\n",
      "198195\n",
      "198205\n",
      "198206\n",
      "198207\n",
      "198208\n",
      "198209\n",
      "198210\n",
      "198211\n",
      "198212\n",
      "198213\n",
      "198214\n",
      "198215\n",
      "198216\n",
      "198219\n",
      "198220\n",
      "198225\n",
      "198226\n",
      "198227\n",
      "198234\n",
      "198235\n",
      "198236\n",
      "198244\n",
      "198249\n",
      "198250\n",
      "198251\n",
      "198255\n",
      "198256\n",
      "198257\n",
      "198261\n",
      "198262\n",
      "198263\n",
      "198267\n",
      "198268\n",
      "198269\n",
      "198270\n",
      "198272\n",
      "198279\n",
      "198280\n",
      "198281\n",
      "198282\n",
      "198283\n",
      "198284\n",
      "198285\n",
      "198286\n",
      "198287\n",
      "198288\n",
      "198289\n",
      "198290\n",
      "198294\n",
      "198295\n",
      "198296\n",
      "198297\n",
      "198298\n",
      "198299\n",
      "198304\n",
      "198305\n",
      "198309\n",
      "198310\n",
      "198311\n",
      "198312\n",
      "198313\n",
      "198314\n",
      "198315\n",
      "198316\n",
      "198318\n",
      "198319\n",
      "198320\n",
      "198321\n",
      "198322\n",
      "198323\n",
      "198384\n",
      "198385\n",
      "198386\n",
      "198462\n",
      "198463\n",
      "198464\n",
      "198483\n",
      "198484\n",
      "198485\n",
      "198489\n",
      "198490\n",
      "198561\n",
      "198562\n",
      "198563\n",
      "198570\n",
      "198572\n",
      "198582\n",
      "198583\n",
      "198584\n",
      "212571\n",
      "212572\n",
      "212573\n",
      "212574\n",
      "212575\n",
      "212576\n",
      "212577\n",
      "212578\n",
      "212579\n",
      "212580\n",
      "212581\n",
      "212582\n",
      "212583\n",
      "212584\n",
      "212585\n",
      "212586\n",
      "212591\n",
      "212592\n",
      "212593\n",
      "212594\n",
      "212603\n",
      "212604\n",
      "212605\n",
      "212606\n",
      "212611\n",
      "212612\n",
      "212613\n",
      "212614\n",
      "212615\n",
      "212616\n",
      "212617\n",
      "212618\n",
      "212619\n",
      "212620\n",
      "212621\n",
      "212622\n",
      "212635\n",
      "212636\n",
      "212637\n",
      "212638\n",
      "212639\n",
      "212640\n",
      "212641\n",
      "212642\n",
      "212643\n",
      "212644\n",
      "212645\n",
      "212646\n",
      "212647\n",
      "212648\n",
      "212649\n",
      "212650\n",
      "212659\n",
      "212660\n",
      "212661\n",
      "212662\n",
      "212671\n",
      "212672\n",
      "212673\n",
      "212674\n",
      "212687\n",
      "212688\n",
      "212689\n",
      "212690\n",
      "212698\n",
      "212699\n",
      "212700\n",
      "212701\n",
      "212706\n",
      "212707\n",
      "212708\n",
      "212709\n",
      "212710\n",
      "212711\n",
      "212712\n",
      "212713\n",
      "212726\n",
      "212727\n",
      "212728\n",
      "212729\n",
      "212730\n",
      "212731\n",
      "212732\n",
      "212733\n",
      "212734\n",
      "212735\n",
      "212736\n",
      "212737\n",
      "212738\n",
      "212739\n",
      "212740\n",
      "212741\n",
      "212750\n",
      "212751\n",
      "212752\n",
      "212753\n",
      "212762\n",
      "212763\n",
      "212764\n",
      "212765\n",
      "212782\n",
      "212783\n",
      "212784\n",
      "212793\n",
      "212794\n",
      "212795\n",
      "212796\n",
      "212809\n",
      "212810\n",
      "212811\n",
      "212812\n",
      "212813\n",
      "212814\n",
      "212815\n",
      "212816\n",
      "212817\n",
      "212818\n",
      "212819\n",
      "212820\n",
      "212821\n",
      "212822\n",
      "212823\n",
      "212824\n",
      "212845\n",
      "212846\n",
      "212847\n",
      "212848\n",
      "212849\n",
      "212850\n",
      "212851\n",
      "212852\n",
      "212869\n",
      "212870\n",
      "212871\n",
      "212872\n",
      "212873\n",
      "212874\n",
      "212875\n",
      "212876\n",
      "212877\n",
      "212878\n",
      "212879\n",
      "212880\n",
      "212885\n",
      "212886\n",
      "212887\n",
      "212888\n",
      "212901\n",
      "212902\n",
      "212903\n",
      "212904\n",
      "212909\n",
      "212910\n",
      "212911\n",
      "212912\n",
      "212917\n",
      "212918\n",
      "212919\n",
      "212920\n",
      "212925\n",
      "212926\n",
      "212927\n",
      "212928\n",
      "212929\n",
      "212930\n",
      "212931\n",
      "212932\n",
      "212933\n",
      "212934\n",
      "212935\n",
      "212936\n",
      "212945\n",
      "212946\n",
      "212947\n",
      "212948\n",
      "212954\n",
      "212956\n",
      "212957\n",
      "212958\n",
      "212959\n",
      "212960\n",
      "212966\n",
      "212968\n",
      "212969\n",
      "212970\n",
      "212971\n",
      "212972\n",
      "212973\n",
      "212974\n",
      "212975\n",
      "212976\n",
      "212977\n",
      "212978\n",
      "212979\n",
      "212980\n",
      "212985\n",
      "212986\n",
      "212987\n",
      "212988\n",
      "212993\n",
      "212994\n",
      "212995\n",
      "212996\n",
      "212997\n",
      "212998\n",
      "212999\n",
      "213000\n",
      "213001\n",
      "213002\n",
      "213003\n",
      "213004\n",
      "213009\n",
      "213010\n",
      "213011\n",
      "213012\n",
      "213021\n",
      "213022\n",
      "213023\n",
      "213024\n",
      "213029\n",
      "213030\n",
      "213031\n",
      "213032\n",
      "213033\n",
      "213034\n",
      "213035\n",
      "213036\n",
      "213037\n",
      "213038\n",
      "213041\n",
      "213042\n",
      "213044\n",
      "213047\n",
      "213048\n",
      "213049\n",
      "213050\n",
      "213057\n",
      "213058\n",
      "213059\n",
      "213060\n",
      "213061\n",
      "213062\n",
      "213063\n",
      "213064\n",
      "213065\n",
      "213066\n",
      "213067\n",
      "213068\n",
      "213069\n",
      "213070\n",
      "213071\n",
      "213072\n",
      "213073\n",
      "213074\n",
      "213075\n",
      "213076\n",
      "213085\n",
      "213086\n",
      "213087\n",
      "213088\n",
      "213090\n",
      "213092\n",
      "213117\n",
      "213118\n",
      "213119\n",
      "213120\n",
      "213121\n",
      "213122\n",
      "213123\n",
      "213124\n",
      "213125\n",
      "213126\n",
      "213127\n",
      "213128\n",
      "213129\n",
      "213130\n",
      "213131\n",
      "213140\n",
      "213141\n",
      "213142\n",
      "213143\n",
      "213144\n",
      "213145\n",
      "213146\n",
      "213147\n",
      "213152\n",
      "213153\n",
      "213154\n",
      "213155\n",
      "213156\n",
      "213157\n",
      "213158\n",
      "213159\n",
      "213160\n",
      "213161\n",
      "213162\n",
      "213163\n",
      "213168\n",
      "213170\n",
      "213171\n",
      "213184\n",
      "213185\n",
      "213186\n",
      "213187\n",
      "213188\n",
      "213189\n",
      "213190\n",
      "213191\n",
      "213192\n",
      "213193\n",
      "213194\n",
      "213195\n",
      "213201\n",
      "213204\n",
      "213205\n",
      "213206\n",
      "213207\n",
      "213224\n",
      "213225\n",
      "213226\n",
      "213227\n",
      "213232\n",
      "213233\n",
      "213234\n",
      "213235\n",
      "213236\n",
      "213237\n",
      "213238\n",
      "213239\n",
      "213240\n",
      "213241\n",
      "213242\n",
      "213243\n",
      "213244\n",
      "213245\n",
      "213246\n",
      "213247\n",
      "213248\n",
      "213249\n",
      "213250\n",
      "213251\n",
      "213252\n",
      "213253\n",
      "213258\n",
      "213259\n",
      "213260\n",
      "213261\n",
      "213262\n",
      "213266\n",
      "213267\n",
      "213268\n",
      "213269\n",
      "213270\n",
      "213271\n",
      "213272\n",
      "213273\n",
      "213274\n",
      "213275\n",
      "213276\n",
      "213277\n",
      "213278\n",
      "213279\n",
      "213280\n",
      "213281\n",
      "213286\n",
      "213287\n",
      "213288\n",
      "213289\n",
      "213290\n",
      "213291\n",
      "213292\n",
      "213293\n",
      "213298\n",
      "213299\n",
      "213300\n",
      "213301\n",
      "213302\n",
      "213303\n",
      "213304\n",
      "213305\n",
      "213312\n",
      "213313\n",
      "213314\n",
      "213315\n",
      "213316\n",
      "213317\n",
      "213318\n",
      "213331\n",
      "213332\n",
      "213333\n",
      "213340\n",
      "213341\n",
      "213347\n",
      "213348\n",
      "213349\n",
      "213350\n",
      "213351\n",
      "213352\n",
      "213353\n",
      "213354\n",
      "213355\n",
      "213356\n",
      "213357\n",
      "213358\n",
      "213359\n",
      "213360\n",
      "213361\n",
      "213366\n",
      "213367\n",
      "213368\n",
      "213369\n",
      "213370\n",
      "213371\n",
      "213372\n",
      "213379\n",
      "213380\n",
      "213381\n",
      "213382\n",
      "213383\n",
      "213384\n",
      "213389\n",
      "213390\n",
      "213391\n",
      "213397\n",
      "213399\n",
      "213400\n",
      "213401\n",
      "213402\n",
      "213403\n",
      "213404\n",
      "213405\n",
      "213406\n",
      "213407\n",
      "213408\n",
      "213409\n",
      "213410\n",
      "213411\n",
      "213412\n",
      "213413\n",
      "213414\n",
      "213415\n",
      "213416\n",
      "213417\n",
      "213418\n",
      "213419\n",
      "213420\n",
      "213421\n",
      "213425\n",
      "213426\n",
      "213427\n",
      "213428\n",
      "213433\n",
      "213434\n",
      "213435\n",
      "213436\n",
      "213437\n",
      "213438\n",
      "213439\n",
      "213440\n",
      "213441\n",
      "213442\n",
      "213443\n",
      "213444\n",
      "213445\n",
      "213446\n",
      "213447\n",
      "213448\n",
      "213449\n",
      "213450\n",
      "213451\n",
      "213452\n",
      "213454\n",
      "213461\n",
      "213462\n",
      "213463\n",
      "213464\n",
      "213465\n",
      "213466\n",
      "213467\n",
      "213468\n",
      "213473\n",
      "213474\n",
      "213475\n",
      "213476\n",
      "213477\n",
      "213478\n",
      "213479\n",
      "213480\n",
      "213485\n",
      "213486\n",
      "213487\n",
      "213488\n",
      "213489\n",
      "213490\n",
      "213506\n",
      "213513\n",
      "213514\n",
      "213515\n",
      "213516\n",
      "213517\n",
      "213518\n",
      "213519\n",
      "213520\n",
      "213521\n",
      "213522\n",
      "213523\n",
      "213524\n",
      "213532\n",
      "213533\n",
      "213534\n",
      "213535\n",
      "213559\n",
      "213560\n",
      "213561\n",
      "213562\n",
      "213571\n",
      "213572\n",
      "213573\n",
      "213574\n",
      "213603\n",
      "213604\n",
      "213605\n",
      "213606\n",
      "213607\n",
      "213608\n",
      "213609\n",
      "213610\n",
      "213619\n",
      "213620\n",
      "213621\n",
      "213634\n",
      "213635\n",
      "213636\n",
      "213637\n",
      "213638\n",
      "213639\n",
      "213640\n",
      "213641\n",
      "213642\n",
      "213650\n",
      "213651\n",
      "213652\n",
      "213653\n",
      "213654\n",
      "213655\n",
      "213656\n",
      "213657\n",
      "213658\n",
      "213659\n",
      "213660\n",
      "213661\n",
      "213662\n",
      "213663\n",
      "213664\n",
      "213665\n",
      "213666\n",
      "213667\n",
      "213668\n",
      "213669\n",
      "213674\n",
      "213675\n",
      "213676\n",
      "213681\n",
      "213682\n",
      "213683\n",
      "213684\n",
      "213689\n",
      "213690\n",
      "213691\n",
      "213692\n",
      "213704\n",
      "213705\n",
      "213706\n",
      "213707\n",
      "213712\n",
      "213713\n",
      "213714\n",
      "213715\n",
      "213716\n",
      "213717\n",
      "213718\n",
      "213719\n",
      "213720\n",
      "213721\n",
      "213722\n",
      "213723\n",
      "231051\n",
      "231052\n",
      "231053\n",
      "231054\n",
      "231057\n",
      "231060\n",
      "231061\n",
      "231062\n",
      "231063\n",
      "231064\n",
      "231065\n",
      "231066\n",
      "231067\n",
      "231068\n",
      "231069\n",
      "231070\n",
      "231071\n",
      "231072\n",
      "231073\n",
      "231074\n",
      "236395\n",
      "236396\n",
      "236435\n",
      "236436\n",
      "236437\n",
      "236519\n",
      "236520\n",
      "236521\n",
      "236642\n",
      "236643\n",
      "236644\n",
      "236672\n",
      "236673\n",
      "236674\n",
      "236725\n",
      "236726\n",
      "236727\n",
      "236743\n",
      "236744\n",
      "236745\n",
      "236821\n",
      "236866\n",
      "236867\n",
      "236868\n",
      "236950\n",
      "236951\n",
      "236952\n",
      "236976\n",
      "236977\n",
      "236978\n",
      "237034\n",
      "237035\n",
      "237066\n",
      "237067\n",
      "237068\n",
      "237141\n",
      "237142\n",
      "237143\n",
      "237206\n",
      "237350\n",
      "237351\n",
      "237352\n",
      "237392\n",
      "237393\n",
      "237394\n",
      "237440\n",
      "237441\n",
      "237442\n",
      "237549\n",
      "237550\n",
      "237551\n",
      "237555\n",
      "237556\n",
      "237557\n",
      "237749\n",
      "237750\n",
      "237751\n",
      "237955\n",
      "237956\n",
      "237957\n",
      "238000\n",
      "238001\n",
      "238002\n",
      "238018\n",
      "238019\n",
      "238020\n",
      "238040\n",
      "238041\n",
      "238042\n",
      "238298\n",
      "238299\n",
      "238300\n",
      "238311\n",
      "238322\n",
      "238323\n",
      "238324\n",
      "238328\n",
      "238329\n",
      "238330\n",
      "238379\n",
      "238380\n",
      "238381\n",
      "238385\n",
      "238386\n",
      "238387\n",
      "238439\n",
      "238456\n",
      "238457\n",
      "238513\n",
      "238514\n",
      "238515\n",
      "238561\n",
      "238562\n",
      "238563\n",
      "238631\n",
      "238632\n",
      "238633\n",
      "238643\n",
      "238644\n",
      "238768\n",
      "238769\n",
      "238770\n",
      "238797\n",
      "238798\n",
      "238799\n",
      "238877\n",
      "238906\n",
      "238908\n",
      "238912\n",
      "238913\n",
      "238914\n",
      "238965\n",
      "238966\n",
      "239190\n",
      "239191\n",
      "239192\n",
      "239207\n",
      "239208\n",
      "239209\n",
      "239286\n",
      "239287\n",
      "239288\n",
      "239400\n",
      "239401\n",
      "239402\n",
      "239442\n",
      "239443\n",
      "239444\n",
      "239448\n",
      "239449\n",
      "239450\n",
      "239489\n",
      "239490\n",
      "239491\n",
      "239507\n",
      "239508\n",
      "239509\n",
      "239716\n",
      "239717\n",
      "239718\n",
      "240026\n",
      "240027\n",
      "240028\n",
      "240076\n",
      "240077\n",
      "240078\n",
      "240082\n",
      "240083\n",
      "240084\n",
      "240124\n",
      "240125\n",
      "240126\n",
      "241467\n",
      "241468\n",
      "241470\n",
      "241471\n",
      "241473\n",
      "241474\n",
      "241520\n",
      "241522\n",
      "241523\n",
      "241525\n",
      "241526\n",
      "241607\n",
      "241608\n",
      "241610\n",
      "241611\n",
      "241619\n",
      "241620\n",
      "241622\n",
      "241623\n",
      "241654\n",
      "241655\n",
      "241657\n",
      "241658\n",
      "241677\n",
      "241678\n",
      "241686\n",
      "241687\n",
      "241689\n",
      "241690\n",
      "241698\n",
      "241699\n",
      "241701\n",
      "241702\n",
      "241725\n",
      "241726\n",
      "241728\n",
      "241729\n",
      "241761\n",
      "241762\n",
      "241764\n",
      "241765\n",
      "241773\n",
      "241774\n",
      "241776\n",
      "241777\n",
      "241797\n",
      "241798\n",
      "241800\n",
      "241801\n",
      "241803\n",
      "241806\n",
      "241815\n",
      "241817\n",
      "241818\n",
      "241820\n",
      "241821\n",
      "241847\n",
      "241850\n",
      "241859\n",
      "241860\n",
      "241862\n",
      "241863\n",
      "241901\n",
      "241902\n",
      "241904\n",
      "241905\n",
      "241964\n",
      "241965\n",
      "241967\n",
      "241968\n",
      "241988\n",
      "241989\n",
      "241991\n",
      "241992\n",
      "241999\n",
      "242000\n",
      "242001\n",
      "242002\n",
      "242007\n",
      "242008\n",
      "242010\n",
      "242011\n",
      "242013\n",
      "242014\n",
      "242016\n",
      "242017\n",
      "242019\n",
      "242020\n",
      "242022\n",
      "242023\n",
      "242025\n",
      "242026\n",
      "242093\n",
      "242094\n",
      "242096\n",
      "242097\n",
      "242099\n",
      "242100\n",
      "242102\n",
      "242103\n",
      "242105\n",
      "242106\n",
      "242108\n",
      "242109\n",
      "242111\n",
      "242112\n",
      "242114\n",
      "242115\n",
      "242123\n",
      "242124\n",
      "242126\n",
      "242127\n",
      "242153\n",
      "242154\n",
      "242156\n",
      "242157\n",
      "242162\n",
      "242163\n",
      "242165\n",
      "242166\n",
      "242168\n",
      "242169\n",
      "242171\n",
      "242172\n",
      "242174\n",
      "242175\n",
      "242177\n",
      "242178\n",
      "242180\n",
      "242181\n",
      "242183\n",
      "242184\n",
      "242186\n",
      "242187\n",
      "242189\n",
      "242190\n",
      "242216\n",
      "242217\n",
      "242219\n",
      "242220\n",
      "242231\n",
      "242232\n",
      "242234\n",
      "242235\n",
      "242249\n",
      "242250\n",
      "242252\n",
      "242255\n",
      "242256\n",
      "242258\n",
      "242264\n",
      "242265\n",
      "242267\n",
      "242268\n",
      "242270\n",
      "242271\n",
      "242273\n",
      "242275\n",
      "242294\n",
      "242295\n",
      "242297\n",
      "242298\n",
      "242300\n",
      "242301\n",
      "242303\n",
      "242304\n",
      "242345\n",
      "242346\n",
      "242380\n",
      "242381\n",
      "242383\n",
      "242384\n",
      "242387\n",
      "242390\n",
      "242405\n",
      "242406\n",
      "242408\n",
      "242409\n",
      "242426\n",
      "242427\n",
      "242450\n",
      "242451\n",
      "242453\n",
      "242454\n",
      "242538\n",
      "242543\n",
      "242551\n",
      "242557\n",
      "242560\n",
      "242563\n",
      "242571\n",
      "242572\n",
      "242574\n",
      "242575\n",
      "242577\n",
      "242578\n",
      "242592\n",
      "242593\n",
      "242601\n",
      "242602\n",
      "242604\n",
      "242605\n",
      "242613\n",
      "242614\n",
      "242616\n",
      "242617\n",
      "242625\n",
      "242626\n",
      "242628\n",
      "242629\n",
      "242631\n",
      "242632\n",
      "242634\n",
      "242635\n",
      "242643\n",
      "242644\n",
      "242646\n",
      "242648\n",
      "242649\n",
      "242651\n",
      "242652\n",
      "242654\n",
      "242655\n",
      "242656\n",
      "242662\n",
      "242676\n",
      "242677\n",
      "242679\n",
      "242680\n",
      "242682\n",
      "242683\n",
      "242685\n",
      "242686\n",
      "242688\n",
      "242689\n",
      "242691\n",
      "242694\n",
      "242695\n",
      "242700\n",
      "242701\n",
      "242703\n",
      "242704\n",
      "242706\n",
      "242712\n",
      "242713\n",
      "242714\n",
      "242715\n",
      "242720\n",
      "242721\n",
      "242741\n",
      "242742\n",
      "242743\n",
      "242744\n",
      "242749\n",
      "242750\n",
      "242751\n",
      "242752\n",
      "242753\n",
      "242754\n",
      "242755\n",
      "242756\n",
      "242757\n",
      "242758\n",
      "242759\n",
      "242760\n",
      "242761\n",
      "242762\n",
      "242763\n",
      "242764\n",
      "242773\n",
      "242774\n",
      "242775\n",
      "242776\n",
      "242777\n",
      "242778\n",
      "242779\n",
      "242780\n",
      "242789\n",
      "242790\n",
      "242791\n",
      "242792\n",
      "242825\n",
      "242826\n",
      "242827\n",
      "242828\n",
      "242833\n",
      "242834\n",
      "242835\n",
      "242836\n",
      "242845\n",
      "242846\n",
      "242847\n",
      "242857\n",
      "242858\n",
      "242859\n",
      "242860\n",
      "242877\n",
      "242878\n",
      "242879\n",
      "242880\n",
      "242889\n",
      "242890\n",
      "242891\n",
      "242892\n",
      "242897\n",
      "242898\n",
      "242899\n",
      "242900\n",
      "242905\n",
      "242906\n",
      "242907\n",
      "242908\n",
      "242913\n",
      "242914\n",
      "242915\n",
      "242916\n",
      "242924\n",
      "242926\n",
      "242927\n",
      "242928\n",
      "242929\n",
      "242933\n",
      "242934\n",
      "242935\n",
      "242936\n",
      "242953\n",
      "242954\n",
      "242955\n",
      "242956\n",
      "242969\n",
      "242970\n",
      "242971\n",
      "242972\n",
      "242973\n",
      "242974\n",
      "242975\n",
      "242976\n",
      "242981\n",
      "242982\n",
      "242983\n",
      "242984\n",
      "242985\n",
      "243000\n",
      "243001\n",
      "243003\n",
      "243004\n",
      "243010\n",
      "243011\n",
      "243012\n",
      "243017\n",
      "243018\n",
      "243019\n",
      "243020\n",
      "243025\n",
      "243026\n",
      "243027\n",
      "243061\n",
      "243062\n",
      "243063\n",
      "243064\n",
      "243067\n",
      "243070\n",
      "243071\n",
      "243072\n",
      "243101\n",
      "243102\n",
      "243103\n",
      "243104\n",
      "243105\n",
      "243106\n",
      "243107\n",
      "243108\n",
      "243114\n",
      "243121\n",
      "243122\n",
      "243123\n",
      "243124\n",
      "243132\n",
      "243134\n",
      "243145\n",
      "243146\n",
      "243147\n",
      "243148\n",
      "243149\n",
      "243150\n",
      "243151\n",
      "243152\n",
      "243157\n",
      "243158\n",
      "243159\n",
      "243160\n",
      "243169\n",
      "243170\n",
      "243171\n",
      "243172\n",
      "243177\n",
      "243178\n",
      "243179\n",
      "243180\n",
      "243181\n",
      "243182\n",
      "243183\n",
      "243184\n",
      "243189\n",
      "243190\n",
      "243191\n",
      "243192\n",
      "243201\n",
      "243202\n",
      "243220\n",
      "243221\n",
      "243223\n",
      "243224\n",
      "243225\n",
      "243226\n",
      "243227\n",
      "243228\n",
      "243229\n",
      "243230\n",
      "243231\n",
      "243232\n",
      "243233\n",
      "243234\n",
      "243235\n",
      "243236\n",
      "243241\n",
      "243242\n",
      "243243\n",
      "243259\n"
     ]
    }
   ],
   "source": [],
   "metadata": {
    "collapsed": false,
    "pycharm": {
     "name": "#%%\n"
    }
   }
  },
  {
   "cell_type": "code",
   "execution_count": 29,
   "outputs": [
    {
     "data": {
      "text/plain": "[8030]"
     },
     "execution_count": 29,
     "metadata": {},
     "output_type": "execute_result"
    }
   ],
   "source": [],
   "metadata": {
    "collapsed": false,
    "pycharm": {
     "name": "#%%\n"
    }
   }
  },
  {
   "cell_type": "code",
   "execution_count": 32,
   "outputs": [
    {
     "data": {
      "text/plain": "NAME                                                          Betaine\nkey                                 KWIUHFFTVRNATP-UHFFFAOYSA-N[M+H]+\nPRECURSORMZ                                                     118.2\nInChIKey                                  KWIUHFFTVRNATP-UHFFFAOYSA-N\nFormula                                                      C5H11NO2\nExactMass                                                  117.078979\nadduct                                                         [M+H]+\nNum_Peaks                                                          36\nmsms                [[55.3, 0.3], [56.4, 0.7], [57.2, 1.6], [58.1,...\nCollision_energy                                                   40\nsource                                                           Mona\ncount                                                              na\nkey_all                           KWIUHFFTVRNATP-UHFFFAOYSA-N[M+H]+40\nName: 13368, dtype: object"
     },
     "execution_count": 32,
     "metadata": {},
     "output_type": "execute_result"
    }
   ],
   "source": [
    "data_mona_common.iloc[0]"
   ],
   "metadata": {
    "collapsed": false,
    "pycharm": {
     "name": "#%%\n"
    }
   }
  },
  {
   "cell_type": "code",
   "execution_count": 31,
   "outputs": [
    {
     "data": {
      "text/plain": "NAME                                                          Betaine\nkey                                 KWIUHFFTVRNATP-UHFFFAOYSA-N[M+H]+\nPRECURSORMZ                                                  118.0863\nInChIKey                                  KWIUHFFTVRNATP-UHFFFAOYSA-N\nFormula                                                      C5H11NO2\nExactMass                                                  117.078979\nadduct                                                         [M+H]+\nNum_Peaks                                                           5\nmsms                [[42.03, 38.36], [43.04, 34.87], [56.04, 10.59...\nCollision_energy                                                   40\nsource                                                           NIST\ncount                                                              20\nkey_all                           KWIUHFFTVRNATP-UHFFFAOYSA-N[M+H]+40\nName: 8030, dtype: object"
     },
     "execution_count": 31,
     "metadata": {},
     "output_type": "execute_result"
    }
   ],
   "source": [
    "data_nist_common.loc[8030]"
   ],
   "metadata": {
    "collapsed": false,
    "pycharm": {
     "name": "#%%\n"
    }
   }
  },
  {
   "cell_type": "code",
   "execution_count": 18,
   "outputs": [
    {
     "data": {
      "text/plain": "                                                  NAME  \\\n168   1-Stearoyl-2-hydroxy-sn-glycero-3-phosphocholine   \n170   1-Stearoyl-2-hydroxy-sn-glycero-3-phosphocholine   \n172   1-Stearoyl-2-hydroxy-sn-glycero-3-phosphocholine   \n249  1-Palmitoyl-2-hydroxy-sn-glycero-3-phosphoetha...   \n254  1-Palmitoyl-2-hydroxy-sn-glycero-3-phosphoetha...   \n\n                                   key PRECURSORMZ  \\\n168  IHNKQIMGVNPMTC-RUZDIDTESA-N[M+H]+    524.3711   \n170  IHNKQIMGVNPMTC-RUZDIDTESA-N[M+H]+    524.3711   \n172  IHNKQIMGVNPMTC-RUZDIDTESA-N[M+H]+    524.3711   \n249  YVYMBNSKXOXSKW-HXUWFJFHSA-N[M+H]+    454.2928   \n254  YVYMBNSKXOXSKW-HXUWFJFHSA-N[M+H]+    454.2928   \n\n                        InChIKey     Formula  ExactMass  adduct  Num_Peaks  \\\n168  IHNKQIMGVNPMTC-RUZDIDTESA-N  C26H54NO7P  523.36379  [M+H]+          8   \n170  IHNKQIMGVNPMTC-RUZDIDTESA-N  C26H54NO7P  523.36379  [M+H]+         30   \n172  IHNKQIMGVNPMTC-RUZDIDTESA-N  C26H54NO7P  523.36379  [M+H]+         21   \n249  YVYMBNSKXOXSKW-HXUWFJFHSA-N  C21H44NO7P  453.28554  [M+H]+         11   \n254  YVYMBNSKXOXSKW-HXUWFJFHSA-N  C21H44NO7P  453.28554  [M+H]+         19   \n\n                                                  msms Collision_energy  \\\n168  [[104.11, 91.71], [184.07, 146.65], [483.34, 2...               10   \n170  [[43.06, 13.19], [57.07, 24.97], [60.08, 14.49...               20   \n172  [[43.06, 13.79], [45.04, 12.79], [55.06, 12.19...               40   \n249  [[44.05, 377.02], [57.07, 19.88], [62.06, 259....               10   \n254  [[44.05, 505.19], [57.07, 57.64], [62.06, 147....               20   \n\n    source  count                              key_all  \n168   NIST     20  IHNKQIMGVNPMTC-RUZDIDTESA-N[M+H]+10  \n170   NIST     20  IHNKQIMGVNPMTC-RUZDIDTESA-N[M+H]+20  \n172   NIST     20  IHNKQIMGVNPMTC-RUZDIDTESA-N[M+H]+40  \n249   NIST     27  YVYMBNSKXOXSKW-HXUWFJFHSA-N[M+H]+10  \n254   NIST     27  YVYMBNSKXOXSKW-HXUWFJFHSA-N[M+H]+20  ",
      "text/html": "<div>\n<style scoped>\n    .dataframe tbody tr th:only-of-type {\n        vertical-align: middle;\n    }\n\n    .dataframe tbody tr th {\n        vertical-align: top;\n    }\n\n    .dataframe thead th {\n        text-align: right;\n    }\n</style>\n<table border=\"1\" class=\"dataframe\">\n  <thead>\n    <tr style=\"text-align: right;\">\n      <th></th>\n      <th>NAME</th>\n      <th>key</th>\n      <th>PRECURSORMZ</th>\n      <th>InChIKey</th>\n      <th>Formula</th>\n      <th>ExactMass</th>\n      <th>adduct</th>\n      <th>Num_Peaks</th>\n      <th>msms</th>\n      <th>Collision_energy</th>\n      <th>source</th>\n      <th>count</th>\n      <th>key_all</th>\n    </tr>\n  </thead>\n  <tbody>\n    <tr>\n      <th>168</th>\n      <td>1-Stearoyl-2-hydroxy-sn-glycero-3-phosphocholine</td>\n      <td>IHNKQIMGVNPMTC-RUZDIDTESA-N[M+H]+</td>\n      <td>524.3711</td>\n      <td>IHNKQIMGVNPMTC-RUZDIDTESA-N</td>\n      <td>C26H54NO7P</td>\n      <td>523.36379</td>\n      <td>[M+H]+</td>\n      <td>8</td>\n      <td>[[104.11, 91.71], [184.07, 146.65], [483.34, 2...</td>\n      <td>10</td>\n      <td>NIST</td>\n      <td>20</td>\n      <td>IHNKQIMGVNPMTC-RUZDIDTESA-N[M+H]+10</td>\n    </tr>\n    <tr>\n      <th>170</th>\n      <td>1-Stearoyl-2-hydroxy-sn-glycero-3-phosphocholine</td>\n      <td>IHNKQIMGVNPMTC-RUZDIDTESA-N[M+H]+</td>\n      <td>524.3711</td>\n      <td>IHNKQIMGVNPMTC-RUZDIDTESA-N</td>\n      <td>C26H54NO7P</td>\n      <td>523.36379</td>\n      <td>[M+H]+</td>\n      <td>30</td>\n      <td>[[43.06, 13.19], [57.07, 24.97], [60.08, 14.49...</td>\n      <td>20</td>\n      <td>NIST</td>\n      <td>20</td>\n      <td>IHNKQIMGVNPMTC-RUZDIDTESA-N[M+H]+20</td>\n    </tr>\n    <tr>\n      <th>172</th>\n      <td>1-Stearoyl-2-hydroxy-sn-glycero-3-phosphocholine</td>\n      <td>IHNKQIMGVNPMTC-RUZDIDTESA-N[M+H]+</td>\n      <td>524.3711</td>\n      <td>IHNKQIMGVNPMTC-RUZDIDTESA-N</td>\n      <td>C26H54NO7P</td>\n      <td>523.36379</td>\n      <td>[M+H]+</td>\n      <td>21</td>\n      <td>[[43.06, 13.79], [45.04, 12.79], [55.06, 12.19...</td>\n      <td>40</td>\n      <td>NIST</td>\n      <td>20</td>\n      <td>IHNKQIMGVNPMTC-RUZDIDTESA-N[M+H]+40</td>\n    </tr>\n    <tr>\n      <th>249</th>\n      <td>1-Palmitoyl-2-hydroxy-sn-glycero-3-phosphoetha...</td>\n      <td>YVYMBNSKXOXSKW-HXUWFJFHSA-N[M+H]+</td>\n      <td>454.2928</td>\n      <td>YVYMBNSKXOXSKW-HXUWFJFHSA-N</td>\n      <td>C21H44NO7P</td>\n      <td>453.28554</td>\n      <td>[M+H]+</td>\n      <td>11</td>\n      <td>[[44.05, 377.02], [57.07, 19.88], [62.06, 259....</td>\n      <td>10</td>\n      <td>NIST</td>\n      <td>27</td>\n      <td>YVYMBNSKXOXSKW-HXUWFJFHSA-N[M+H]+10</td>\n    </tr>\n    <tr>\n      <th>254</th>\n      <td>1-Palmitoyl-2-hydroxy-sn-glycero-3-phosphoetha...</td>\n      <td>YVYMBNSKXOXSKW-HXUWFJFHSA-N[M+H]+</td>\n      <td>454.2928</td>\n      <td>YVYMBNSKXOXSKW-HXUWFJFHSA-N</td>\n      <td>C21H44NO7P</td>\n      <td>453.28554</td>\n      <td>[M+H]+</td>\n      <td>19</td>\n      <td>[[44.05, 505.19], [57.07, 57.64], [62.06, 147....</td>\n      <td>20</td>\n      <td>NIST</td>\n      <td>27</td>\n      <td>YVYMBNSKXOXSKW-HXUWFJFHSA-N[M+H]+20</td>\n    </tr>\n  </tbody>\n</table>\n</div>"
     },
     "execution_count": 18,
     "metadata": {},
     "output_type": "execute_result"
    }
   ],
   "source": [
    "(data_nist_common.head())"
   ],
   "metadata": {
    "collapsed": false,
    "pycharm": {
     "name": "#%%\n"
    }
   }
  },
  {
   "cell_type": "code",
   "execution_count": 12,
   "outputs": [
    {
     "data": {
      "text/plain": "774388"
     },
     "execution_count": 12,
     "metadata": {},
     "output_type": "execute_result"
    }
   ],
   "source": [
    "len(data_merge.loc[data_merge['']])"
   ],
   "metadata": {
    "collapsed": false,
    "pycharm": {
     "name": "#%%\n"
    }
   }
  },
  {
   "cell_type": "code",
   "execution_count": 35,
   "id": "c6d3ae04",
   "metadata": {
    "scrolled": true
   },
   "outputs": [
    {
     "data": {
      "text/plain": [
       "0"
      ]
     },
     "execution_count": 35,
     "metadata": {},
     "output_type": "execute_result"
    }
   ],
   "source": [
    "# check for na values\n",
    "# data_nist_pos['key'].isnull().values.sum()"
   ]
  },
  {
   "cell_type": "code",
   "execution_count": 7,
   "id": "9dd0ed86",
   "metadata": {},
   "outputs": [],
   "source": [
    "spectrum_raw = np.array([[69.071, 7.917962], [86.066, 1.021589], [86.0969, 100.0]], dtype=np.float32)"
   ]
  },
  {
   "cell_type": "code",
   "execution_count": 9,
   "id": "c81e0c31",
   "metadata": {},
   "outputs": [
    {
     "data": {
      "text/plain": [
       "array([  7.917962,   1.021589, 100.      ], dtype=float32)"
      ]
     },
     "execution_count": 9,
     "metadata": {},
     "output_type": "execute_result"
    }
   ],
   "source": [
    "spectrum_raw[:,1]"
   ]
  },
  {
   "cell_type": "code",
   "execution_count": 14,
   "id": "1c2f5bf3",
   "metadata": {},
   "outputs": [],
   "source": [
    "spec1 = se.clean_spectrum(data_nist_pos.iloc[0]['msms'],\n",
    "#                                                  max_mz=85,\n",
    "                                                 noise_removal=0.01,\n",
    "                                                 ms2_da=0.05)"
   ]
  },
  {
   "cell_type": "code",
   "execution_count": 15,
   "id": "bf2a2b1a",
   "metadata": {},
   "outputs": [],
   "source": [
    "entropy = scipy.stats.entropy(spec1[:, 1])"
   ]
  },
  {
   "cell_type": "code",
   "execution_count": 16,
   "id": "c361fa6e",
   "metadata": {},
   "outputs": [
    {
     "data": {
      "text/plain": [
       "1.878742"
      ]
     },
     "execution_count": 16,
     "metadata": {},
     "output_type": "execute_result"
    }
   ],
   "source": [
    "entropy"
   ]
  },
  {
   "cell_type": "code",
   "execution_count": 36,
   "id": "16af06ef",
   "metadata": {},
   "outputs": [],
   "source": [
    "data_nist_pos['ce_key']=data_nist_pos[\"key\"].astype(str) + data_nist_pos[\"Collision_energy\"].astype(str)"
   ]
  },
  {
   "cell_type": "code",
   "execution_count": 37,
   "id": "332a28b5",
   "metadata": {},
   "outputs": [],
   "source": [
    "occ = data_nist_pos['ce_key'].value_counts(normalize=False, sort = False)"
   ]
  },
  {
   "cell_type": "code",
   "execution_count": 38,
   "id": "33c6f961",
   "metadata": {},
   "outputs": [
    {
     "data": {
      "text/plain": [
       "1    740953\n",
       "2      7479\n",
       "3       391\n",
       "Name: ce_key, dtype: int64"
      ]
     },
     "execution_count": 38,
     "metadata": {},
     "output_type": "execute_result"
    }
   ],
   "source": [
    "occ.value_counts()"
   ]
  },
  {
   "cell_type": "code",
   "execution_count": 51,
   "id": "1ec9ee35",
   "metadata": {},
   "outputs": [],
   "source": [
    "ce_key = []\n",
    "# InChIKey = []\n",
    "duplicates = []\n",
    "average_entropy = []"
   ]
  },
  {
   "cell_type": "code",
   "execution_count": 52,
   "id": "172a2742",
   "metadata": {},
   "outputs": [],
   "source": [
    "for i in range(len(occ)):\n",
    "    if occ.values[i]>=2:\n",
    "#         key_ce.append(occ.index[i])\n",
    "        ce_key.append(occ.index[i])\n",
    "        duplicates.append(occ.values[i])\n",
    "        data_temp = data_nist_pos.loc[data_nist_pos['ce_key']==occ.index[i],:]\n",
    "        average_entropy.append(average_entropy_calculation(data_temp))\n",
    "        "
   ]
  },
  {
   "cell_type": "code",
   "execution_count": 225,
   "id": "a64e905d",
   "metadata": {
    "collapsed": true
   },
   "outputs": [
    {
     "data": {
      "text/html": [
       "<div>\n",
       "<style scoped>\n",
       "    .dataframe tbody tr th:only-of-type {\n",
       "        vertical-align: middle;\n",
       "    }\n",
       "\n",
       "    .dataframe tbody tr th {\n",
       "        vertical-align: top;\n",
       "    }\n",
       "\n",
       "    .dataframe thead th {\n",
       "        text-align: right;\n",
       "    }\n",
       "</style>\n",
       "<table border=\"1\" class=\"dataframe\">\n",
       "  <thead>\n",
       "    <tr style=\"text-align: right;\">\n",
       "      <th></th>\n",
       "      <th>NAME</th>\n",
       "      <th>key</th>\n",
       "      <th>PRECURSORMZ</th>\n",
       "      <th>InChIKey</th>\n",
       "      <th>Formula</th>\n",
       "      <th>ExactMass</th>\n",
       "      <th>adduct</th>\n",
       "      <th>Num_Peaks</th>\n",
       "      <th>msms</th>\n",
       "      <th>Collision_energy</th>\n",
       "      <th>source</th>\n",
       "      <th>count</th>\n",
       "      <th>ce_key</th>\n",
       "    </tr>\n",
       "  </thead>\n",
       "  <tbody>\n",
       "    <tr>\n",
       "      <th>276009</th>\n",
       "      <td>1-Methoxy-3-Indolylmethyl glucosinolate</td>\n",
       "      <td>PKKMITFKYRCCOL-CMZRPVNOSA-N[M-H]-</td>\n",
       "      <td>477.0</td>\n",
       "      <td>PKKMITFKYRCCOL-CMZRPVNOSA-N</td>\n",
       "      <td>C17H22N2O10S2</td>\n",
       "      <td>478.071587</td>\n",
       "      <td>[M-H]-</td>\n",
       "      <td>4</td>\n",
       "      <td>[[447.0, 100.0], [466.0, 100.0], [284.0, 100.0...</td>\n",
       "      <td>35</td>\n",
       "      <td>Mona</td>\n",
       "      <td>na</td>\n",
       "      <td>PKKMITFKYRCCOL-CMZRPVNOSA-N[M-H]-35</td>\n",
       "    </tr>\n",
       "    <tr>\n",
       "      <th>276095</th>\n",
       "      <td>N-Methoxy-3-indolylmethyl glucosinolate</td>\n",
       "      <td>PKKMITFKYRCCOL-CMZRPVNOSA-N[M-H]-</td>\n",
       "      <td>477.0</td>\n",
       "      <td>PKKMITFKYRCCOL-CMZRPVNOSA-N</td>\n",
       "      <td>C17H22N2O10S2</td>\n",
       "      <td>478.071587</td>\n",
       "      <td>[M-H]-</td>\n",
       "      <td>4</td>\n",
       "      <td>[[447.0, 100.0], [466.0, 100.0], [284.0, 100.0...</td>\n",
       "      <td>35</td>\n",
       "      <td>Mona</td>\n",
       "      <td>na</td>\n",
       "      <td>PKKMITFKYRCCOL-CMZRPVNOSA-N[M-H]-35</td>\n",
       "    </tr>\n",
       "    <tr>\n",
       "      <th>276098</th>\n",
       "      <td>1-Methoxyglucobrassicin</td>\n",
       "      <td>PKKMITFKYRCCOL-CMZRPVNOSA-N[M-H]-</td>\n",
       "      <td>477.0</td>\n",
       "      <td>PKKMITFKYRCCOL-CMZRPVNOSA-N</td>\n",
       "      <td>C17H22N2O10S2</td>\n",
       "      <td>478.071587</td>\n",
       "      <td>[M-H]-</td>\n",
       "      <td>4</td>\n",
       "      <td>[[447.0, 100.0], [466.0, 100.0], [284.0, 100.0...</td>\n",
       "      <td>35</td>\n",
       "      <td>Mona</td>\n",
       "      <td>na</td>\n",
       "      <td>PKKMITFKYRCCOL-CMZRPVNOSA-N[M-H]-35</td>\n",
       "    </tr>\n",
       "    <tr>\n",
       "      <th>276590</th>\n",
       "      <td>1-Methoxy-3-indolylmethyl glucosinolate</td>\n",
       "      <td>PKKMITFKYRCCOL-CMZRPVNOSA-N[M-H]-</td>\n",
       "      <td>477.0</td>\n",
       "      <td>PKKMITFKYRCCOL-CMZRPVNOSA-N</td>\n",
       "      <td>C17H22N2O10S2</td>\n",
       "      <td>478.071587</td>\n",
       "      <td>[M-H]-</td>\n",
       "      <td>4</td>\n",
       "      <td>[[447.0, 100.0], [466.0, 100.0], [284.0, 100.0...</td>\n",
       "      <td>35</td>\n",
       "      <td>Mona</td>\n",
       "      <td>na</td>\n",
       "      <td>PKKMITFKYRCCOL-CMZRPVNOSA-N[M-H]-35</td>\n",
       "    </tr>\n",
       "  </tbody>\n",
       "</table>\n",
       "</div>"
      ],
      "text/plain": [
       "                                           NAME  \\\n",
       "276009  1-Methoxy-3-Indolylmethyl glucosinolate   \n",
       "276095  N-Methoxy-3-indolylmethyl glucosinolate   \n",
       "276098                  1-Methoxyglucobrassicin   \n",
       "276590  1-Methoxy-3-indolylmethyl glucosinolate   \n",
       "\n",
       "                                      key PRECURSORMZ  \\\n",
       "276009  PKKMITFKYRCCOL-CMZRPVNOSA-N[M-H]-       477.0   \n",
       "276095  PKKMITFKYRCCOL-CMZRPVNOSA-N[M-H]-       477.0   \n",
       "276098  PKKMITFKYRCCOL-CMZRPVNOSA-N[M-H]-       477.0   \n",
       "276590  PKKMITFKYRCCOL-CMZRPVNOSA-N[M-H]-       477.0   \n",
       "\n",
       "                           InChIKey        Formula   ExactMass  adduct  \\\n",
       "276009  PKKMITFKYRCCOL-CMZRPVNOSA-N  C17H22N2O10S2  478.071587  [M-H]-   \n",
       "276095  PKKMITFKYRCCOL-CMZRPVNOSA-N  C17H22N2O10S2  478.071587  [M-H]-   \n",
       "276098  PKKMITFKYRCCOL-CMZRPVNOSA-N  C17H22N2O10S2  478.071587  [M-H]-   \n",
       "276590  PKKMITFKYRCCOL-CMZRPVNOSA-N  C17H22N2O10S2  478.071587  [M-H]-   \n",
       "\n",
       "        Num_Peaks                                               msms  \\\n",
       "276009          4  [[447.0, 100.0], [466.0, 100.0], [284.0, 100.0...   \n",
       "276095          4  [[447.0, 100.0], [466.0, 100.0], [284.0, 100.0...   \n",
       "276098          4  [[447.0, 100.0], [466.0, 100.0], [284.0, 100.0...   \n",
       "276590          4  [[447.0, 100.0], [466.0, 100.0], [284.0, 100.0...   \n",
       "\n",
       "       Collision_energy source count                               ce_key  \n",
       "276009               35   Mona    na  PKKMITFKYRCCOL-CMZRPVNOSA-N[M-H]-35  \n",
       "276095               35   Mona    na  PKKMITFKYRCCOL-CMZRPVNOSA-N[M-H]-35  \n",
       "276098               35   Mona    na  PKKMITFKYRCCOL-CMZRPVNOSA-N[M-H]-35  \n",
       "276590               35   Mona    na  PKKMITFKYRCCOL-CMZRPVNOSA-N[M-H]-35  "
      ]
     },
     "execution_count": 225,
     "metadata": {},
     "output_type": "execute_result"
    }
   ],
   "source": [
    "# this is for debug usage\n",
    "# data_nist_pos.loc[data_nist_pos['ce_key']==key_ce[-1],:]\n"
   ]
  },
  {
   "cell_type": "code",
   "execution_count": 53,
   "id": "bacbe0e4",
   "metadata": {},
   "outputs": [
    {
     "data": {
      "image/png": "[encoded data removed]",
      "text/plain": [
       "<Figure size 360x360 with 1 Axes>"
      ]
     },
     "metadata": {
      "needs_background": "light"
     },
     "output_type": "display_data"
    }
   ],
   "source": [
    "import seaborn as sns\n",
    "\n",
    "ax = sns.displot(average_entropy)"
   ]
  },
  {
   "cell_type": "code",
   "execution_count": 13,
   "id": "62ae01c5",
   "metadata": {},
   "outputs": [
    {
     "data": {
      "image/png": "[encoded data removed]",
      "text/plain": [
       "<Figure size 360x360 with 1 Axes>"
      ]
     },
     "metadata": {
      "needs_background": "light"
     },
     "output_type": "display_data"
    }
   ],
   "source": [
    "import seaborn as sns\n",
    "\n",
    "ax = sns.displot(average_entropy)"
   ]
  },
  {
   "cell_type": "code",
   "execution_count": 14,
   "id": "d9da861b",
   "metadata": {},
   "outputs": [],
   "source": [
    "# ax.savefig('/Users/fanzhoukong/Documents/Fiehnlab/library_generator/results/nist_mona_duplicate_statistics/NIST_pos_dup_displot.tiff', format=\"tiff\", facecolor = 'white', edgecolor = 'white',dpi = 300)\n",
    "ax.savefig('/Users/fanzhoukong/Documents/Fiehnlab/library_generator/results/nist_mona_duplicate_statistics/replib.tiff', format=\"tiff\", facecolor = 'white', edgecolor = 'white',dpi = 300)"
   ]
  },
  {
   "cell_type": "code",
   "execution_count": 54,
   "id": "0cad0eba",
   "metadata": {},
   "outputs": [],
   "source": [
    "nist_pos_duplicates_results = pd.DataFrame({'ce_key':ce_key,\n",
    "                                            'n_duplicates':duplicates,\n",
    "                                            'average_entropy':average_entropy\n",
    "    \n",
    "})"
   ]
  },
  {
   "cell_type": "code",
   "execution_count": 16,
   "id": "26acc068",
   "metadata": {},
   "outputs": [],
   "source": [
    "nist_pos_duplicates_results.to_csv('/Users/fanzhoukong/Documents/Fiehnlab/library_generator/results/nist_mona_duplicate_statistics/replib.csv', index = False)"
   ]
  },
  {
   "cell_type": "code",
   "execution_count": 55,
   "id": "75024d3a",
   "metadata": {},
   "outputs": [
    {
     "data": {
      "text/plain": [
       "count    7870.000000\n",
       "mean        0.634460\n",
       "std         0.225163\n",
       "min         0.000000\n",
       "25%         0.511753\n",
       "50%         0.678750\n",
       "75%         0.789517\n",
       "max         1.000000\n",
       "Name: average_entropy, dtype: float64"
      ]
     },
     "execution_count": 55,
     "metadata": {},
     "output_type": "execute_result"
    }
   ],
   "source": [
    "nist_pos_duplicates_results['average_entropy'].describe()"
   ]
  },
  {
   "cell_type": "code",
   "execution_count": 24,
   "id": "d8a4afc0",
   "metadata": {},
   "outputs": [],
   "source": [
    "import matplotlib.pyplot as plt"
   ]
  },
  {
   "cell_type": "code",
   "execution_count": 27,
   "id": "6e119381",
   "metadata": {},
   "outputs": [
    {
     "data": {
      "image/png": "[encoded data removed]",
      "text/plain": [
       "<Figure size 432x288 with 1 Axes>"
      ]
     },
     "metadata": {
      "needs_background": "light"
     },
     "output_type": "display_data"
    }
   ],
   "source": [
    "plt.scatter(nist_pos_duplicates_results['n_duplicates'], nist_pos_duplicates_results['average_entropy'], alpha=0.5)\n",
    "plt.savefig('/Users/fanzhoukong/Documents/Fiehnlab/library_generator/results/nist_mona_duplicate_statistics/replib_entropy_versus_n.tiff', format=\"tiff\", facecolor = 'white', edgecolor = 'white',dpi = 300)"
   ]
  },
  {
   "cell_type": "code",
   "execution_count": 26,
   "id": "5ffd630d",
   "metadata": {},
   "outputs": [
    {
     "data": {
      "text/plain": [
       "<Figure size 432x288 with 0 Axes>"
      ]
     },
     "metadata": {},
     "output_type": "display_data"
    }
   ],
   "source": [
    "plt.savefig('/Users/fanzhoukong/Documents/Fiehnlab/library_generator/results/nist_mona_duplicate_statistics/replib_entropy_versus_n.tiff', format=\"tiff\", facecolor = 'white', edgecolor = 'white',dpi = 300)"
   ]
  },
  {
   "cell_type": "code",
   "execution_count": 260,
   "id": "700bdf1c",
   "metadata": {},
   "outputs": [
    {
     "name": "stderr",
     "output_type": "stream",
     "text": [
      "/Users/fanzhoukong/miniforge3/lib/python3.9/site-packages/IPython/core/interactiveshell.py:3457: DtypeWarning: Columns (2) have mixed types.Specify dtype option on import or set low_memory=False.\n",
      "  exec(code_obj, self.user_global_ns, self.user_ns)\n"
     ]
    }
   ],
   "source": [
    "# # These are all legacy code used to generate occurance of the nist and mona library\n",
    "# data_nist_mona = pd.read_csv(\"/Users/fanzhoukong/Documents/Fiehnlab/library_generator/data/NIST_MONA_Neg_Cleaned.csv\", converters={\"msms\": literal_eval})\n",
    "\n",
    "# # data_nist_mona.source.value_counts()\n",
    "\n",
    "# data_nist = data_nist_mona.loc[data_nist_mona.source == 'NIST',:]\n",
    "\n",
    "# data_mona = data_nist_mona.loc[data_nist_mona.source == 'Mona',:]\n",
    "\n",
    "# # data_mona.source.value_counts()\n",
    "\n",
    "# # %xdel data_nist_mona\n",
    "\n",
    "# # occ = data_nist.key.value_counts(normalize=False, sort = False)\n",
    "\n",
    "\n",
    "\n",
    "# # occ.value_counts()\n",
    "\n",
    "# # occ.index\n",
    "\n",
    "\n",
    "# # data_nist_count = pd.DataFrame()\n",
    "# # for i in range(len(occ)):\n",
    "# #     temp_df = data_nist.loc[data_nist.key == occ.index[i],:]\n",
    "# #     temp_df['count'] = temp_df['count'].replace(['na'], int(occ[i]))\n",
    "# #     data_nist_count=pd.concat([data_nist_count, temp_df], ignore_index = True, axis = 0)\n",
    "\n",
    "\n",
    "\n",
    "\n",
    "# # data_nist_count['count'].value_counts()\n",
    "\n",
    "\n",
    "# # # I am subsetting all unique instances\n",
    "# # data_c1= data_raw_count.loc[data_raw_count['count'] == 1,:]\n",
    "\n",
    "# # # data_temp= data_c1[data_c1['mix_label'] == mix]\n",
    "# # # x_temp = (data_temp['PRECURSORMZ'].values).reshape(-1,1)\n",
    "# # # y_temp = (data_temp['Average_mz'].values)\n",
    "# # # lm_temp = LinearRegression().fit(x_temp, y_temp)\n",
    "\n",
    "# # data_dup= data_raw_count.loc[data_raw_count['count'] != 1,:]\n",
    "\n",
    "# data_mona['source'].value_counts()\n",
    "\n",
    "# data_nist['source'].value_counts()\n",
    "\n",
    "# data_nist.to_csv('/Users/fanzhoukong/Documents/Fiehnlab/library_generator/data/data_NIST_Neg.csv',encoding='utf-8', index=False)\n",
    "# data_mona.to_csv('/Users/fanzhoukong/Documents/Fiehnlab/library_generator/data/data_MONA_Neg.csv',encoding='utf-8', index=False)"
   ]
  }
 ],
 "metadata": {
  "kernelspec": {
   "name": "tensorflow",
   "language": "python",
   "display_name": "Python 3.9 (tensorflow)"
  },
  "language_info": {
   "codemirror_mode": {
    "name": "ipython",
    "version": 3
   },
   "file_extension": ".py",
   "mimetype": "text/x-python",
   "name": "python",
   "nbconvert_exporter": "python",
   "pygments_lexer": "ipython3",
   "version": "3.9.10"
  }
 },
 "nbformat": 4,
 "nbformat_minor": 5
}