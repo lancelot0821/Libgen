{
 "cells": [
  {
   "cell_type": "code",
   "execution_count": 3,
   "metadata": {
    "collapsed": true,
    "pycharm": {
     "name": "#%%\n"
    }
   },
   "outputs": [
    {
     "name": "stdout",
     "output_type": "stream",
     "text": [
      "The autoreload extension is already loaded. To reload it, use:\n",
      "  %reload_ext autoreload\n"
     ]
    }
   ],
   "source": [
    "import os\n",
    "import sys\n",
    "\n",
    "# from multiprocess import Pool\n",
    "import pandas as pd\n",
    "# from multiprocessing import Pool\n",
    "# from ast import literal_eval\n",
    "import itertools\n",
    "import time\n",
    "# import spectral_entropy as se\n",
    "import numpy as np\n",
    "import toolsets.spectra_operations as so\n",
    "from molmass import Formula\n",
    "# import toolsets.tree_denoising as td\n",
    "# import toolsets.msms_search as ms\n",
    "# import toolsets.ms2_spectra_plotter as plotter\n",
    "# import seaborn as sns\n",
    "# import matplotlib.pyplot as plt\n",
    "# import toolsets.adduct_calculator as adduct_calc\n",
    "import yuanyue_code.msp_file as msp_file\n",
    "import toolsets.mass_to_formula as mtf\n",
    "import toolsets.denoising_related_functions as de\n",
    "%load_ext autoreload\n",
    "%autoreload 2\n",
    "from tqdm import tqdm"
   ]
  },
  {
   "cell_type": "code",
   "execution_count": 21,
   "outputs": [],
   "source": [
    "# index = 10000"
   ],
   "metadata": {
    "collapsed": false,
    "pycharm": {
     "name": "#%%\n"
    }
   }
  },
  {
   "cell_type": "code",
   "execution_count": 37,
   "outputs": [],
   "source": [
    "start = time.time()\n",
    "fi = open(\"/Users/fanzhoukong/Documents/GitHub/data/NIST/hr_msms_nist.MSP\")\n",
    "# fi = open(\"yuanyue_code/NIST_demo.msp\")\n",
    "specs = []\n",
    "i = 0\n",
    "for spec in msp_file.read_one_spectrum(fi, include_raw=-1):\n",
    "    try:\n",
    "        precursormz = float(spec['PrecursorMZ'])\n",
    "    except ValueError:\n",
    "        continue\n",
    "    mol = mtf.MolecularFormula()\n",
    "    try:\n",
    "        mol.from_string(spec['Formula'])\n",
    "    except:\n",
    "        continue\n",
    "    if i == index:\n",
    "        specs.append(spec)\n",
    "        break\n",
    "    else:\n",
    "        i = i+1\n",
    "\n",
    "        # i = i+1\n",
    "    # else:\n",
    "    #     break\n",
    "    # if i <= index:\n",
    "\n",
    "\n",
    "    # if precursormz<=1657.7126:\n",
    "    #\n",
    "\n",
    "fi.close()\n",
    "end = time.time()"
   ],
   "metadata": {
    "collapsed": false,
    "pycharm": {
     "name": "#%%\n"
    }
   }
  },
  {
   "cell_type": "code",
   "execution_count": 38,
   "outputs": [
    {
     "name": "stdout",
     "output_type": "stream",
     "text": [
      "0.08188539743423462\n"
     ]
    }
   ],
   "source": [
    "print((end-start)/60)"
   ],
   "metadata": {
    "collapsed": false,
    "pycharm": {
     "name": "#%%\n"
    }
   }
  },
  {
   "cell_type": "code",
   "execution_count": 36,
   "outputs": [
    {
     "data": {
      "text/plain": "1020082"
     },
     "execution_count": 36,
     "metadata": {},
     "output_type": "execute_result"
    }
   ],
   "source": [
    "len(specs)"
   ],
   "metadata": {
    "collapsed": false,
    "pycharm": {
     "name": "#%%\n"
    }
   }
  },
  {
   "cell_type": "code",
   "execution_count": null,
   "outputs": [],
   "source": [
    "specs[10000]"
   ],
   "metadata": {
    "collapsed": false,
    "pycharm": {
     "name": "#%%\n"
    }
   }
  },
  {
   "cell_type": "code",
   "execution_count": 29,
   "outputs": [],
   "source": [
    "start = time.time()\n",
    "fi = open(\"/Users/fanzhoukong/Documents/GitHub/data/NIST/hr_msms_nist.MSP\")\n",
    "# fi = open(\"yuanyue_code/NIST_demo.msp\")\n",
    "specs = []\n",
    "i = 0\n",
    "for spec in msp_file.read_one_spectrum(fi, include_raw=-1):\n",
    "    try:\n",
    "        precursormz = float(spec['PrecursorMZ'])\n",
    "    except ValueError:\n",
    "        continue\n",
    "    mol = mtf.MolecularFormula()\n",
    "    try:\n",
    "        mol.from_string(spec['Formula'])\n",
    "    except:\n",
    "        continue\n",
    "    specs.append(spec)\n",
    "    i = i+1\n",
    "    if i == index:\n",
    "        break\n",
    "\n",
    "\n",
    "        # i = i+1\n",
    "    # else:\n",
    "    #     break\n",
    "    # if i <= index:\n",
    "\n",
    "\n",
    "    # if precursormz<=1657.7126:\n",
    "    #\n",
    "\n",
    "fi.close()\n",
    "end = time.time()"
   ],
   "metadata": {
    "collapsed": false,
    "pycharm": {
     "name": "#%%\n"
    }
   }
  },
  {
   "cell_type": "code",
   "execution_count": 33,
   "outputs": [
    {
     "data": {
      "text/plain": "{'spectrum': [[45.96, 46.35],\n  [597.48, 51.85],\n  [598.5, 41.36],\n  [599.5, 669.33],\n  [600.52, 40.76],\n  [951.77, 51.85],\n  [951.85, 40.96],\n  [1437.29, 62.64],\n  [1448.97, 75.02],\n  [1449.97, 999.0],\n  [1465.94, 52.35],\n  [1466.0, 62.34],\n  [1467.0, 704.29],\n  [1467.98, 53.75],\n  [1468.63, 40.86]],\n 'Name': \"1',3'-Bis[1,2-dilinoleoyl-sn-glycero-3-phospho]-sn-glycerol\",\n 'Notes': 'Consensus spectrum; Water/isopropanol/Formic acid; added_Vial_ID=4487',\n 'Precursor_type': '[M+NH4]+',\n 'Spectrum_type': 'MS2',\n 'PrecursorMZ': '1467.0061',\n 'Instrument_type': 'Q-TOF',\n 'Instrument': 'Agilent QTOF 6530',\n 'Sample_inlet': 'direct flow injection',\n 'Ionization': 'ESI',\n 'In-source_voltage': '150',\n 'Collision_gas': 'N2',\n 'Collision_energy': '8',\n 'Ion_mode': 'P',\n 'InChIKey': 'LSHJMDWWJIYXEM-XGJIDDIWSA-N',\n 'Synon': '8,11-Octadecadienoic acid, 5,8,11-trihydroxy-5,11-dioxido-4,6,10,12-tetraoxa-5,11-diphosphapentadecane-1,2,14,15-tetrayl ester',\n 'Formula': 'C81H142O17P2',\n 'MW': '1448',\n 'ExactMass': '1448.97223',\n 'CASNO': '746600942',\n 'NISTNO': '1035166',\n 'ID': '1',\n 'Comment': 'NIST Mass Spectrometry Data Center',\n 'Num peaks': 15,\n 'raw': \"Name: 1',3'-Bis[1,2-dilinoleoyl-sn-glycero-3-phospho]-sn-glycerol\\nNotes: Consensus spectrum; Water/isopropanol/Formic acid; added_Vial_ID=4487\\nPrecursor_type: [M+NH4]+\\nSpectrum_type: MS2\\nPrecursorMZ: 1467.0061\\nInstrument_type: Q-TOF\\nInstrument: Agilent QTOF 6530\\nSample_inlet: direct flow injection\\nIonization: ESI\\nIn-source_voltage: 150\\nCollision_gas: N2\\nCollision_energy: 8\\nIon_mode: P\\nInChIKey: LSHJMDWWJIYXEM-XGJIDDIWSA-N\\nSynon: Heart CA, main component\\nSynon: 8,11-Octadecadienoic acid, 5,8,11-trihydroxy-5,11-dioxido-4,6,10,12-tetraoxa-5,11-diphosphapentadecane-1,2,14,15-tetrayl ester\\nFormula: C81H142O17P2\\nMW: 1448\\nExactMass: 1448.97223\\nCASNO: 746600942\\nNISTNO: 1035166\\nID: 1\\nComment: NIST Mass Spectrometry Data Center\\nNum peaks: 15\\n45.96 46.35\\n597.48 51.85\\n598.50 41.36\\n599.50 669.33\\n600.52 40.76\\n951.77 51.85\\n951.85 40.96\\n1437.29 62.64\\n1448.97 75.02\\n1449.97 999.00\\n1465.94 52.35\\n1466.00 62.34\\n1467.00 704.29\\n1467.98 53.75\\n1468.63 40.86\\n\\n\"}"
     },
     "execution_count": 33,
     "metadata": {},
     "output_type": "execute_result"
    }
   ],
   "source": [
    "specs[0]"
   ],
   "metadata": {
    "collapsed": false,
    "pycharm": {
     "name": "#%%\n"
    }
   }
  },
  {
   "cell_type": "code",
   "execution_count": 30,
   "outputs": [
    {
     "data": {
      "text/plain": "0.07929291327794392"
     },
     "execution_count": 30,
     "metadata": {},
     "output_type": "execute_result"
    }
   ],
   "source": [
    "(end-start)/60"
   ],
   "metadata": {
    "collapsed": false,
    "pycharm": {
     "name": "#%%\n"
    }
   }
  },
  {
   "cell_type": "code",
   "execution_count": null,
   "outputs": [],
   "source": [
    "\n",
    "# import toolsets.test as test\n",
    "import multiprocessing as mp\n",
    "from multiprocessing import Pool\n",
    "# Step 1: Init multiprocessing.Pool()\n",
    "start = time.time()\n",
    "pool = mp.Pool(mp.cpu_count())\n",
    "# fi = open(\"/Users/fanzhoukong/Documents/GitHub/data/NIST/hr_msms_nist.MSP\")\n",
    "# fi = open(\"yuanyue_code/NIST_demo.msp\")\n",
    "result = []\n",
    "for _ in tqdm(pool.imap_unordered(de.find_losses_nist, specs), total=len(specs)):\n",
    "    result.extend(_)\n",
    "    # result = de.get_unique_list(result)\n",
    "\n",
    "# results = pool.map_async(de.find_losses_nist, [spec for spec in (msp_file.read_one_spectrum(fi, include_raw=1))])\n",
    "fi.close()\n",
    "# pool.close()\n",
    "pool.close()\n",
    "pool.join()\n",
    "end = time.time()\n",
    "print('-fini-')\n",
    "print(end-start)\n",
    "# print(results[:10])"
   ],
   "metadata": {
    "collapsed": false,
    "pycharm": {
     "name": "#%%\n"
    }
   }
  },
  {
   "cell_type": "code",
   "execution_count": 7,
   "outputs": [
    {
     "name": "stdout",
     "output_type": "stream",
     "text": [
      "result1.csv\n"
     ]
    }
   ],
   "source": [],
   "metadata": {
    "collapsed": false,
    "pycharm": {
     "name": "#%%\n"
    }
   }
  },
  {
   "cell_type": "code",
   "execution_count": 17,
   "outputs": [],
   "source": [
    "parention = de.find_parention(mass, intensity, precursormz)"
   ],
   "metadata": {
    "collapsed": false,
    "pycharm": {
     "name": "#%%\n"
    }
   }
  },
  {
   "cell_type": "code",
   "execution_count": 30,
   "outputs": [
    {
     "data": {
      "text/plain": "['H']"
     },
     "execution_count": 30,
     "metadata": {},
     "output_type": "execute_result"
    }
   ],
   "source": [
    "mtf.nl_to_formula(parention - mass[5], 10, spec['Formula'])"
   ],
   "metadata": {
    "collapsed": false,
    "pycharm": {
     "name": "#%%\n"
    }
   }
  },
  {
   "cell_type": "code",
   "execution_count": 54,
   "outputs": [],
   "source": [
    "debug = find_losses_nist(specs[0])"
   ],
   "metadata": {
    "collapsed": false,
    "pycharm": {
     "name": "#%%\n"
    }
   }
  },
  {
   "cell_type": "code",
   "execution_count": 56,
   "outputs": [
    {
     "data": {
      "text/plain": "['H65C67',\n 'H69C56O8',\n 'H69C60O5',\n 'H70C60O3P',\n 'H70C64P',\n 'H71C60OP2',\n 'H73C49O13',\n 'H73C53O10',\n 'H74C49O11P',\n 'H74C53O8P',\n 'H75C53O6P2',\n 'H75C57O3P2',\n 'H78C42O16P',\n 'H78C46O13P',\n 'H79C46O11P2',\n 'H83C39O16P2',\n 'H67C60O5',\n 'H67C64O2',\n 'H68C64P',\n 'H71C53O10',\n 'H71C57O7',\n 'H72C53O8P',\n 'H72C57O5P',\n 'H73C57O3P2',\n 'H73C61P2',\n 'H75C46O15',\n 'H76C46O13P',\n 'H76C50O10P',\n 'H77C50O8P2',\n 'H80C43O15P',\n 'H81C39O16P2',\n 'H81C43O13P2',\n 'H5C',\n 'H4C',\n -1,\n 'H',\n -1,\n -1]"
     },
     "execution_count": 55,
     "metadata": {},
     "output_type": "execute_result"
    },
    {
     "data": {
      "text/plain": "['H65C67',\n 'H69C56O8',\n 'H69C60O5',\n 'H70C60O3P',\n 'H70C64P',\n 'H71C60OP2',\n 'H73C49O13',\n 'H73C53O10',\n 'H74C49O11P',\n 'H74C53O8P',\n 'H75C53O6P2',\n 'H75C57O3P2',\n 'H78C42O16P',\n 'H78C46O13P',\n 'H79C46O11P2',\n 'H83C39O16P2',\n 'H67C60O5',\n 'H67C64O2',\n 'H68C64P',\n 'H71C53O10',\n 'H71C57O7',\n 'H72C53O8P',\n 'H72C57O5P',\n 'H73C57O3P2',\n 'H73C61P2',\n 'H75C46O15',\n 'H76C46O13P',\n 'H76C50O10P',\n 'H77C50O8P2',\n 'H80C43O15P',\n 'H81C39O16P2',\n 'H81C43O13P2',\n 'H5C',\n 'H4C',\n -1,\n 'H',\n -1,\n -1]"
     },
     "execution_count": 56,
     "metadata": {},
     "output_type": "execute_result"
    }
   ],
   "source": [
    "debug"
   ],
   "metadata": {
    "collapsed": false,
    "pycharm": {
     "name": "#%%\n"
    }
   }
  },
  {
   "cell_type": "code",
   "execution_count": 52,
   "outputs": [
    {
     "data": {
      "text/plain": "{'spectrum': [[597.46, 41.86],\n  [598.5, 45.15],\n  [599.51, 999.0],\n  [600.49, 43.86],\n  [1448.92, 41.86],\n  [1449.97, 452.85],\n  [1449.99, 185.91],\n  [1450.98, 58.94]],\n 'Name': \"1',3'-Bis[1,2-dilinoleoyl-sn-glycero-3-phospho]-sn-glycerol\",\n 'Notes': 'Consensus spectrum; Water/isopropanol/Formic acid; added_Vial_ID=4487',\n 'Precursor_type': '[M+NH4]+',\n 'Spectrum_type': 'MS2',\n 'PrecursorMZ': '1467.0061',\n 'Instrument_type': 'Q-TOF',\n 'Instrument': 'Agilent QTOF 6530',\n 'Sample_inlet': 'direct flow injection',\n 'Ionization': 'ESI',\n 'In-source_voltage': '150',\n 'Collision_gas': 'N2',\n 'Collision_energy': '16',\n 'Ion_mode': 'P',\n 'InChIKey': 'LSHJMDWWJIYXEM-XGJIDDIWSA-N',\n 'Synon': '8,11-Octadecadienoic acid, 5,8,11-trihydroxy-5,11-dioxido-4,6,10,12-tetraoxa-5,11-diphosphapentadecane-1,2,14,15-tetrayl ester',\n 'Formula': 'C81H142O17P2',\n 'MW': '1448',\n 'ExactMass': '1448.97223',\n 'CASNO': '746600942',\n 'NISTNO': '1035169',\n 'ID': '4',\n 'Comment': 'NIST Mass Spectrometry Data Center',\n 'Num peaks': 8,\n 'raw': \"\\n\\nName: 1',3'-Bis[1,2-dilinoleoyl-sn-glycero-3-phospho]-sn-glycerol\\nNotes: Consensus spectrum; Water/isopropanol/Formic acid; added_Vial_ID=4487\\nPrecursor_type: [M+NH4]+\\nSpectrum_type: MS2\\nPrecursorMZ: 1467.0061\\nInstrument_type: Q-TOF\\nInstrument: Agilent QTOF 6530\\nSample_inlet: direct flow injection\\nIonization: ESI\\nIn-source_voltage: 150\\nCollision_gas: N2\\nCollision_energy: 16\\nIon_mode: P\\nInChIKey: LSHJMDWWJIYXEM-XGJIDDIWSA-N\\nSynon: Heart CA, main component\\nSynon: 8,11-Octadecadienoic acid, 5,8,11-trihydroxy-5,11-dioxido-4,6,10,12-tetraoxa-5,11-diphosphapentadecane-1,2,14,15-tetrayl ester\\nFormula: C81H142O17P2\\nMW: 1448\\nExactMass: 1448.97223\\nCASNO: 746600942\\nNISTNO: 1035169\\nID: 4\\nComment: NIST Mass Spectrometry Data Center\\nNum peaks: 8\\n597.46 41.86\\n598.50 45.15\\n599.51 999.00\\n600.49 43.86\\n1448.92 41.86\\n1449.97 452.85\\n1449.99 185.91\\n1450.98 58.94\\n\\n\"}"
     },
     "execution_count": 52,
     "metadata": {},
     "output_type": "execute_result"
    }
   ],
   "source": [
    "specs[0]"
   ],
   "metadata": {
    "collapsed": false,
    "pycharm": {
     "name": "#%%\n"
    }
   }
  },
  {
   "cell_type": "code",
   "execution_count": 53,
   "outputs": [
    {
     "data": {
      "text/plain": "{'spectrum': [[597.5, 50.95],\n  [599.5, 683.32],\n  [1449.98, 999.0],\n  [1450.98, 43.56],\n  [1465.98, 46.35],\n  [1466.0, 50.65],\n  [1466.02, 56.94],\n  [1467.01, 616.18],\n  [1467.9, 45.05],\n  [1468.0, 57.34]],\n 'Name': \"1',3'-Bis[1,2-dilinoleoyl-sn-glycero-3-phospho]-sn-glycerol\",\n 'Notes': 'Consensus spectrum; Water/isopropanol/Formic acid; added_Vial_ID=4487',\n 'Precursor_type': '[M+NH4]+',\n 'Spectrum_type': 'MS2',\n 'PrecursorMZ': '1467.0061',\n 'Instrument_type': 'Q-TOF',\n 'Instrument': 'Agilent QTOF 6530',\n 'Sample_inlet': 'direct flow injection',\n 'Ionization': 'ESI',\n 'In-source_voltage': '150',\n 'Collision_gas': 'N2',\n 'Collision_energy': '10',\n 'Ion_mode': 'P',\n 'InChIKey': 'LSHJMDWWJIYXEM-XGJIDDIWSA-N',\n 'Synon': '8,11-Octadecadienoic acid, 5,8,11-trihydroxy-5,11-dioxido-4,6,10,12-tetraoxa-5,11-diphosphapentadecane-1,2,14,15-tetrayl ester',\n 'Formula': 'C81H142O17P2',\n 'MW': '1448',\n 'ExactMass': '1448.97223',\n 'CASNO': '746600942',\n 'NISTNO': '1035167',\n 'ID': '2',\n 'Comment': 'NIST Mass Spectrometry Data Center',\n 'Num peaks': 10,\n 'raw': \"Name: 1',3'-Bis[1,2-dilinoleoyl-sn-glycero-3-phospho]-sn-glycerol\\nNotes: Consensus spectrum; Water/isopropanol/Formic acid; added_Vial_ID=4487\\nPrecursor_type: [M+NH4]+\\nSpectrum_type: MS2\\nPrecursorMZ: 1467.0061\\nInstrument_type: Q-TOF\\nInstrument: Agilent QTOF 6530\\nSample_inlet: direct flow injection\\nIonization: ESI\\nIn-source_voltage: 150\\nCollision_gas: N2\\nCollision_energy: 10\\nIon_mode: P\\nInChIKey: LSHJMDWWJIYXEM-XGJIDDIWSA-N\\nSynon: Heart CA, main component\\nSynon: 8,11-Octadecadienoic acid, 5,8,11-trihydroxy-5,11-dioxido-4,6,10,12-tetraoxa-5,11-diphosphapentadecane-1,2,14,15-tetrayl ester\\nFormula: C81H142O17P2\\nMW: 1448\\nExactMass: 1448.97223\\nCASNO: 746600942\\nNISTNO: 1035167\\nID: 2\\nComment: NIST Mass Spectrometry Data Center\\nNum peaks: 10\\n597.50 50.95\\n599.50 683.32\\n1449.98 999.00\\n1450.98 43.56\\n1465.98 46.35\\n1466.00 50.65\\n1466.02 56.94\\n1467.01 616.18\\n1467.90 45.05\\n1468.00 57.34\\n\\n\"}"
     },
     "execution_count": 53,
     "metadata": {},
     "output_type": "execute_result"
    }
   ],
   "source": [
    "specs[0]"
   ],
   "metadata": {
    "collapsed": false,
    "pycharm": {
     "name": "#%%\n"
    }
   }
  },
  {
   "cell_type": "code",
   "execution_count": 50,
   "outputs": [],
   "source": [
    "allowed_formula_debug = find_losses_nist(spec)"
   ],
   "metadata": {
    "collapsed": false,
    "pycharm": {
     "name": "#%%\n"
    }
   }
  },
  {
   "cell_type": "code",
   "execution_count": 51,
   "outputs": [
    {
     "data": {
      "text/plain": "70"
     },
     "execution_count": 51,
     "metadata": {},
     "output_type": "execute_result"
    }
   ],
   "source": [
    "len(allowed_formula_debug)"
   ],
   "metadata": {
    "collapsed": false,
    "pycharm": {
     "name": "#%%\n"
    }
   }
  },
  {
   "cell_type": "code",
   "execution_count": 49,
   "outputs": [
    {
     "data": {
      "text/plain": "38"
     },
     "execution_count": 49,
     "metadata": {},
     "output_type": "execute_result"
    }
   ],
   "source": [
    "len(allowed_formula)"
   ],
   "metadata": {
    "collapsed": false,
    "pycharm": {
     "name": "#%%\n"
    }
   }
  },
  {
   "cell_type": "code",
   "execution_count": 37,
   "outputs": [
    {
     "data": {
      "text/plain": "['H65C67',\n 'H69C56O8',\n 'H69C60O5',\n 'H70C60O3P',\n 'H70C64P',\n 'H71C60OP2',\n 'H73C49O13',\n 'H73C53O10',\n 'H74C49O11P',\n 'H74C53O8P',\n 'H75C53O6P2',\n 'H75C57O3P2',\n 'H78C42O16P',\n 'H78C46O13P',\n 'H79C46O11P2',\n 'H83C39O16P2',\n 'H67C60O5',\n 'H67C64O2',\n 'H68C64P',\n 'H71C53O10',\n 'H71C57O7',\n 'H72C53O8P',\n 'H72C57O5P',\n 'H73C57O3P2',\n 'H73C61P2',\n 'H75C46O15',\n 'H76C46O13P',\n 'H76C50O10P',\n 'H77C50O8P2',\n 'H80C43O15P',\n 'H81C39O16P2',\n 'H81C43O13P2',\n 'H5C',\n 'H4C',\n -1,\n 'H',\n -1,\n -1]"
     },
     "execution_count": 37,
     "metadata": {},
     "output_type": "execute_result"
    }
   ],
   "source": [
    "allowed_formula"
   ],
   "metadata": {
    "collapsed": false,
    "pycharm": {
     "name": "#%%\n"
    }
   }
  },
  {
   "cell_type": "code",
   "execution_count": 19,
   "outputs": [],
   "source": [
    "mass, intensity = de.truncate_msms(mass, intensity, parention)"
   ],
   "metadata": {
    "collapsed": false,
    "pycharm": {
     "name": "#%%\n"
    }
   }
  },
  {
   "cell_type": "code",
   "execution_count": 20,
   "outputs": [
    {
     "data": {
      "text/plain": "[597.5, 599.5, 1449.98, 1450.98, 1465.98, 1466.0, 1466.02, 1467.01]"
     },
     "execution_count": 20,
     "metadata": {},
     "output_type": "execute_result"
    }
   ],
   "source": [
    "mass"
   ],
   "metadata": {
    "collapsed": false,
    "pycharm": {
     "name": "#%%\n"
    }
   }
  },
  {
   "cell_type": "markdown",
   "source": [],
   "metadata": {
    "collapsed": false,
    "pycharm": {
     "name": "#%% md\n"
    }
   }
  },
  {
   "cell_type": "code",
   "execution_count": 14,
   "outputs": [],
   "source": [
    "import itertools"
   ],
   "metadata": {
    "collapsed": false,
    "pycharm": {
     "name": "#%%\n"
    }
   }
  },
  {
   "cell_type": "code",
   "execution_count": 33,
   "outputs": [
    {
     "data": {
      "text/plain": "1467899"
     },
     "execution_count": 33,
     "metadata": {},
     "output_type": "execute_result"
    }
   ],
   "source": [
    "len(flat_result)"
   ],
   "metadata": {
    "collapsed": false,
    "pycharm": {
     "name": "#%%\n"
    }
   }
  },
  {
   "cell_type": "code",
   "execution_count": 34,
   "outputs": [],
   "source": [
    "unique_flat_result = de.get_unique_list(flat_result)"
   ],
   "metadata": {
    "collapsed": false,
    "pycharm": {
     "name": "#%%\n"
    }
   }
  },
  {
   "cell_type": "code",
   "execution_count": 75,
   "outputs": [
    {
     "data": {
      "text/plain": "263123"
     },
     "execution_count": 75,
     "metadata": {},
     "output_type": "execute_result"
    }
   ],
   "source": [
    "len(unique_flat_result)"
   ],
   "metadata": {
    "collapsed": false,
    "pycharm": {
     "name": "#%%\n"
    }
   }
  },
  {
   "cell_type": "code",
   "execution_count": 298,
   "outputs": [
    {
     "name": "stdout",
     "output_type": "stream",
     "text": [
      "time\n"
     ]
    },
    {
     "name": "stderr",
     "output_type": "stream",
     "text": [
      "<frozen importlib._bootstrap>:228: RuntimeWarning: scipy._lib.messagestream.MessageStream size changed, may indicate binary incompatibility. Expected 56 from C header, got 64 from PyObject\n"
     ]
    }
   ],
   "source": [
    "print(\"time\")"
   ],
   "metadata": {
    "collapsed": false,
    "pycharm": {
     "name": "#%%\n"
    }
   }
  },
  {
   "cell_type": "code",
   "execution_count": 269,
   "outputs": [],
   "source": [
    "allowed_formula = de.get_unique_list(allowed_formula)"
   ],
   "metadata": {
    "collapsed": false,
    "pycharm": {
     "name": "#%%\n"
    }
   }
  },
  {
   "cell_type": "code",
   "execution_count": 270,
   "outputs": [
    {
     "data": {
      "text/plain": "7.967251300811768"
     },
     "execution_count": 270,
     "metadata": {},
     "output_type": "execute_result"
    }
   ],
   "source": [
    "end-start"
   ],
   "metadata": {
    "collapsed": false,
    "pycharm": {
     "name": "#%%\n"
    }
   }
  },
  {
   "cell_type": "code",
   "execution_count": 97,
   "outputs": [
    {
     "data": {
      "text/plain": "1467.0"
     },
     "execution_count": 97,
     "metadata": {},
     "output_type": "execute_result"
    }
   ],
   "source": [
    "def simple_denoising(instance, typeofmsms = 'msms', ms2_da = 0.01):\n",
    "    mass, intensity = so.break_spectra(instance[typeofmsms])\n",
    "    candidates = []\n",
    "    for mas in mass:\n",
    "        candidates.append(mtf.nl_to_formula(instance['PRECURSORMZ']-mas, ms2_da, instance['Formula']))\n",
    "    non_index = [i for i, val in enumerate(candidates) if val != None]\n",
    "    updated_mass = []\n",
    "    updated_intensity = []\n",
    "    for i in non_index:\n",
    "        updated_mass.append(mass[i])\n",
    "        updated_intensity.append(intensity[i])\n",
    "    return(pack_spectra(updated_mass, updated_intensity))"
   ],
   "metadata": {
    "collapsed": false,
    "pycharm": {
     "name": "#%%\n"
    }
   }
  }
 ],
 "metadata": {
  "kernelspec": {
   "name": "tensorflow",
   "language": "python",
   "display_name": "Python 3.9 (tensorflow)"
  },
  "language_info": {
   "codemirror_mode": {
    "name": "ipython",
    "version": 2
   },
   "file_extension": ".py",
   "mimetype": "text/x-python",
   "name": "python",
   "nbconvert_exporter": "python",
   "pygments_lexer": "ipython2",
   "version": "2.7.6"
  }
 },
 "nbformat": 4,
 "nbformat_minor": 0
}