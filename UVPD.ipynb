{
 "cells": [
  {
   "cell_type": "code",
   "execution_count": 1,
   "id": "ea857e89",
   "metadata": {
    "pycharm": {
     "name": "#%%\n"
    }
   },
   "outputs": [
    {
     "name": "stdout",
     "output_type": "stream",
     "text": [
      "Compile the cython code is highly recommended!\n",
      "i am spectra operation\n",
      "i am ms2 spectra plotter, and I have been sideloaded successfully\n",
      "I have 2 functions, head to tail plot and ms2 plot\n",
      "i am setup functions!!\n",
      "I am precursor matching!\n"
     ]
    }
   ],
   "source": [
    "import subprocess\n",
    "import os\n",
    "import shutil\n",
    "import warnings\n",
    "warnings.filterwarnings(\"ignore\")\n",
    "from ast import literal_eval\n",
    "import itertools\n",
    "import matplotlib.pyplot as plt\n",
    "import spectra_operations as so\n",
    "import itertools\n",
    "import seaborn as sns\n",
    "from tqdm import tqdm\n",
    "import random\n",
    "import time\n",
    "import numpy as np\n",
    "import sys\n",
    "sys.path.append('yuanyue_code')\n",
    "\n",
    "import re\n",
    "import pandas as pd\n",
    "\n",
    "import spectral_entropy as se\n",
    "\n",
    "import glob\n",
    "import tree_denoising as td\n",
    "import pandas as pd\n",
    "import ms2_spectra_plotter as mp\n",
    "%load_ext autoreload\n",
    "\n",
    "%autoreload 2\n",
    "\n",
    "import itertools\n",
    "from multiprocess import Pool\n",
    "import setup\n",
    "import precursor_matching as pm\n",
    "import scipy.stats\n",
    "import subprocess\n",
    "import os\n",
    "import shutil\n",
    "import warnings\n",
    "\n",
    "warnings.filterwarnings(\"ignore\")\n",
    "from ast import literal_eval\n",
    "import itertools\n",
    "import matplotlib.pyplot as plt\n",
    "import spectra_operations as so\n",
    "import itertools\n",
    "import seaborn as sns\n",
    "from tqdm import tqdm\n",
    "import random\n",
    "import time\n",
    "import numpy as np\n",
    "import sys\n",
    "\n",
    "import re\n",
    "import pandas as pd\n",
    "\n",
    "import spectral_entropy as se\n",
    "\n",
    "import glob\n",
    "import tree_denoising as td\n",
    "import pandas as pd\n",
    "import ms2_spectra_plotter as mp\n",
    "import itertools\n",
    "from multiprocess import Pool\n",
    "import setup\n",
    "import precursor_matching as pm\n",
    "import scipy.stats"
   ]
  },
  {
   "cell_type": "code",
   "execution_count": 14,
   "id": "1d076fc2",
   "metadata": {
    "pycharm": {
     "name": "#%%\n"
    }
   },
   "outputs": [
    {
     "name": "stdout",
     "output_type": "stream",
     "text": [
      "the workspace exists!\n"
     ]
    }
   ],
   "source": [
    "setup.set_workspace(\"data\")"
   ]
  },
  {
   "cell_type": "code",
   "execution_count": 15,
   "outputs": [],
   "source": [
    "# data_height_UVPD_neg = pm.readin_MSDIAL(\"data/Height_0_2022322111_neg_NP_3files_UVPD.txt\")#this is for UVPD, neg\n",
    "# data_height_HCD_neg = pm.readin_MSDIAL(\"data/Height_0_2022322110_neg_NP_3files_HCD.txt\")#this is HCD, neg\n",
    "# std_list_neg = pd.read_csv(\"data/sample_list_corrected_neg.csv\")\n",
    "# data_height_HCD_neg['Adduct type']=data_height_HCD_neg['Adduct type'].replace(to_replace = '[M+Hac-H]-', value ='[M+C2H4O2-H]-')\n",
    "# data_height_UVPD_neg['Adduct type']= data_height_UVPD_neg['Adduct type'].replace(to_replace = '[M+Hac-H]-', value ='[M+C2H4O2-H]-')\n",
    "\n",
    "# data_height_HCD_neg = data_height_HCD_neg.rename({'BEHC18_neg_R153_MX46_PFP_NP_neg_01_HCD': 'NEG_1',\n",
    "#                                                  'BEHC18_neg_R154_MX47_PFP_NP_neg_02_HCD':'NEG_2',\n",
    "#                                                  'BEHC18_neg_R155_MX48_PFP_NP_neg_03_HCD':'NEG_3'}, axis=1)  # new method\n",
    "\n",
    "# data_height_HCD_neg=data_height_HCD_neg.replace({'Spectrum reference file name': {\n",
    "#                                                 'BEHC18_neg_R153_MX46_PFP_NP_neg_01_HCD': 'NEG_1',\n",
    "#                                                  'BEHC18_neg_R154_MX47_PFP_NP_neg_02_HCD':'NEG_2',\n",
    "#                                                  'BEHC18_neg_R155_MX48_PFP_NP_neg_03_HCD':'NEG_3'}})\n",
    "\n",
    "# data_height_UVPD_neg = data_height_UVPD_neg.rename({'BEHC18_neg_R153_MX46_PFP_NP_neg_01_CID': 'NEG_1',\n",
    "#                                                  'BEHC18_neg_R154_MX47_PFP_NP_neg_02_CID':'NEG_2',\n",
    "#                                                  'BEHC18_neg_R155_MX48_PFP_NP_neg_03_CID':'NEG_3'}, axis=1)  # new method\n",
    "\n",
    "# data_height_UVPD_neg=data_height_UVPD_neg.replace({'Spectrum reference file name': {\n",
    "#                                                 'BEHC18_neg_R153_MX46_PFP_NP_neg_01_CID': 'NEG_1',\n",
    "#                                                  'BEHC18_neg_R154_MX47_PFP_NP_neg_02_CID':'NEG_2',\n",
    "#                                                  'BEHC18_neg_R155_MX48_PFP_NP_neg_03_CID':'NEG_3'}})\n",
    "\n",
    "# data_height_UVPD_neg['Spectrum reference file name'].unique()\n",
    "\n",
    "# data_HCD_neg = pm.precursor_matching(data_height_HCD_neg, std_list_neg, 5, ['[M-H]-', '[M+C2H4O2-H]-', '[M-H2O-H]-'], 'HCD', 0.6)\n",
    "# data_UVPD_neg = pm.precursor_matching(data_height_UVPD_neg, std_list_neg, 5, ['[M-H]-', '[M+C2H4O2-H]-', '[M-H2O-H]-'], 'UVPD', 0.6)\n",
    "\n",
    "# len(data_UVPD_neg)\n",
    "\n",
    "# len(data_HCD_neg)\n",
    "\n",
    "# import mass_recalibration as mr\n",
    "\n",
    "# data_HCD_neg = mr.data_recalibrate(data_HCD_neg)\n",
    "# data_UVPD_neg = mr.data_recalibrate(data_UVPD_neg)\n",
    "\n",
    "# len(data_UVPD_neg)\n",
    "\n",
    "# (data_UVPD_neg['Average_mz']).describe()\n",
    "\n",
    "# data_HCD_neg.to_csv(\"data_HCD_neg_for_para.csv\", index=False)\n",
    "# data_UVPD_neg.to_csv(\"data_UVPD_neg_for_para.csv\", index = False)\n",
    "\n",
    "# data_HCD_neg_opt = data_HCD_neg.loc[data_HCD_neg['PRECURSORMZ']>200]\n",
    "# data_UVPD_neg_opt= data_UVPD_neg.loc[data_UVPD_neg['PRECURSORMZ']>200]\n",
    "# data_HCD_neg_opt.to_csv(\"data_HCD_neg_for_opt.csv\", index=False)\n",
    "# data_UVPD_neg_opt.to_csv(\"data_UVPD_neg_for_opt.csv\", index=False)"
   ],
   "metadata": {
    "collapsed": false,
    "pycharm": {
     "name": "#%%\n"
    }
   }
  },
  {
   "cell_type": "code",
   "execution_count": 2,
   "outputs": [],
   "source": [
    "data_HCD = pd.read_csv(\"data/data_HCD_neg.csv\")"
   ],
   "metadata": {
    "collapsed": false,
    "pycharm": {
     "name": "#%%\n"
    }
   }
  },
  {
   "cell_type": "code",
   "execution_count": 4,
   "outputs": [
    {
     "data": {
      "text/plain": "                 NAME                                key  PRECURSORMZ  \\\n0  2-hydroxyquinoline  LISFMEBWQUVKPJ-UHFFFAOYSA-N[M-H]-   144.045487   \n1  2-hydroxyquinoline  LISFMEBWQUVKPJ-UHFFFAOYSA-N[M-H]-   144.045487   \n\n                      InChIKey Formula   ExactMass  adduct Spectrum_type  \\\n0  LISFMEBWQUVKPJ-UHFFFAOYSA-N  C9H7NO  145.052764  [M-H]-           MS2   \n1  LISFMEBWQUVKPJ-UHFFFAOYSA-N  C9H7NO  145.052764  [M-H]-           MS2   \n\n   RETENTIONTIME  Average_mz  ...  \\\n0          1.867   144.04500  ...   \n1          2.660   144.04523  ...   \n\n                                                msms  count  intensity  \\\n0  45.99289\\t4616\\n55.51744\\t4535\\n55.52055\\t9085...      2     639260   \n1  41.99794\\t75525\\n45.2006\\t4023\\n50.2962\\t4100\\...      2    3107495   \n\n  mix_label  row_num                                  mass_recalibrated  \\\n0     NEG_1        0  45.992937\\t4616.0\\n55.517482\\t4535.0\\n55.52059...   \n1     NEG_1        1  41.997989\\t75525.0\\n45.200648\\t4023.0\\n50.2962...   \n\n                          msms_recalibrated_denoised  explained_intensity  \\\n0  61.987658\\t22161.0\\n65.997686\\t10998.0\\n144.04...             0.453060   \n1  41.997989\\t75525.0\\n61.987658\\t17467.0\\n116.04...             0.836657   \n\n  Normalized_entropy Normalized_entropy_rd  \n0           0.806058              0.837916  \n1           0.644807              0.869767  \n\n[2 rows x 23 columns]",
      "text/html": "<div>\n<style scoped>\n    .dataframe tbody tr th:only-of-type {\n        vertical-align: middle;\n    }\n\n    .dataframe tbody tr th {\n        vertical-align: top;\n    }\n\n    .dataframe thead th {\n        text-align: right;\n    }\n</style>\n<table border=\"1\" class=\"dataframe\">\n  <thead>\n    <tr style=\"text-align: right;\">\n      <th></th>\n      <th>NAME</th>\n      <th>key</th>\n      <th>PRECURSORMZ</th>\n      <th>InChIKey</th>\n      <th>Formula</th>\n      <th>ExactMass</th>\n      <th>adduct</th>\n      <th>Spectrum_type</th>\n      <th>RETENTIONTIME</th>\n      <th>Average_mz</th>\n      <th>...</th>\n      <th>msms</th>\n      <th>count</th>\n      <th>intensity</th>\n      <th>mix_label</th>\n      <th>row_num</th>\n      <th>mass_recalibrated</th>\n      <th>msms_recalibrated_denoised</th>\n      <th>explained_intensity</th>\n      <th>Normalized_entropy</th>\n      <th>Normalized_entropy_rd</th>\n    </tr>\n  </thead>\n  <tbody>\n    <tr>\n      <th>0</th>\n      <td>2-hydroxyquinoline</td>\n      <td>LISFMEBWQUVKPJ-UHFFFAOYSA-N[M-H]-</td>\n      <td>144.045487</td>\n      <td>LISFMEBWQUVKPJ-UHFFFAOYSA-N</td>\n      <td>C9H7NO</td>\n      <td>145.052764</td>\n      <td>[M-H]-</td>\n      <td>MS2</td>\n      <td>1.867</td>\n      <td>144.04500</td>\n      <td>...</td>\n      <td>45.99289\\t4616\\n55.51744\\t4535\\n55.52055\\t9085...</td>\n      <td>2</td>\n      <td>639260</td>\n      <td>NEG_1</td>\n      <td>0</td>\n      <td>45.992937\\t4616.0\\n55.517482\\t4535.0\\n55.52059...</td>\n      <td>61.987658\\t22161.0\\n65.997686\\t10998.0\\n144.04...</td>\n      <td>0.453060</td>\n      <td>0.806058</td>\n      <td>0.837916</td>\n    </tr>\n    <tr>\n      <th>1</th>\n      <td>2-hydroxyquinoline</td>\n      <td>LISFMEBWQUVKPJ-UHFFFAOYSA-N[M-H]-</td>\n      <td>144.045487</td>\n      <td>LISFMEBWQUVKPJ-UHFFFAOYSA-N</td>\n      <td>C9H7NO</td>\n      <td>145.052764</td>\n      <td>[M-H]-</td>\n      <td>MS2</td>\n      <td>2.660</td>\n      <td>144.04523</td>\n      <td>...</td>\n      <td>41.99794\\t75525\\n45.2006\\t4023\\n50.2962\\t4100\\...</td>\n      <td>2</td>\n      <td>3107495</td>\n      <td>NEG_1</td>\n      <td>1</td>\n      <td>41.997989\\t75525.0\\n45.200648\\t4023.0\\n50.2962...</td>\n      <td>41.997989\\t75525.0\\n61.987658\\t17467.0\\n116.04...</td>\n      <td>0.836657</td>\n      <td>0.644807</td>\n      <td>0.869767</td>\n    </tr>\n  </tbody>\n</table>\n<p>2 rows × 23 columns</p>\n</div>"
     },
     "execution_count": 4,
     "metadata": {},
     "output_type": "execute_result"
    }
   ],
   "source": [
    "data_HCD[0:2]"
   ],
   "metadata": {
    "collapsed": false,
    "pycharm": {
     "name": "#%%\n"
    }
   }
  },
  {
   "cell_type": "code",
   "execution_count": 5,
   "outputs": [
    {
     "data": {
      "text/plain": "0.39943747088907855"
     },
     "execution_count": 5,
     "metadata": {},
     "output_type": "execute_result"
    }
   ],
   "source": [
    "so.average_entropy_calculation(data_HCD[0:2])"
   ],
   "metadata": {
    "collapsed": false,
    "pycharm": {
     "name": "#%%\n"
    }
   }
  },
  {
   "cell_type": "code",
   "execution_count": 19,
   "outputs": [
    {
     "data": {
      "text/plain": "<module 'matplotlib.pyplot' from '/opt/homebrew/Caskroom/miniforge/base/envs/tensorflow/lib/python3.9/site-packages/matplotlib/pyplot.py'>"
     },
     "execution_count": 19,
     "metadata": {},
     "output_type": "execute_result"
    },
    {
     "data": {
      "text/plain": "<Figure size 504x360 with 1 Axes>",
      "image/png": "[encoded data removed]"
     },
     "metadata": {
      "needs_background": "light"
     },
     "output_type": "display_data"
    }
   ],
   "source": [
    "mp.head_to_tail_plot(data_HCD.iloc[2]['msms_recalibrated_denoised'], data_HCD.iloc[2]['mass_recalibrated'])"
   ],
   "metadata": {
    "collapsed": false,
    "pycharm": {
     "name": "#%%\n"
    }
   }
  },
  {
   "cell_type": "code",
   "execution_count": null,
   "outputs": [],
   "source": [],
   "metadata": {
    "collapsed": false,
    "pycharm": {
     "name": "#%%\n"
    }
   }
  }
 ],
 "metadata": {
  "kernelspec": {
   "display_name": "Python 3.9 (tensorflow)",
   "language": "python",
   "name": "tensorflow"
  },
  "language_info": {
   "codemirror_mode": {
    "name": "ipython",
    "version": 3
   },
   "file_extension": ".py",
   "mimetype": "text/x-python",
   "name": "python",
   "nbconvert_exporter": "python",
   "pygments_lexer": "ipython3",
   "version": "3.9.10"
  }
 },
 "nbformat": 4,
 "nbformat_minor": 5
}