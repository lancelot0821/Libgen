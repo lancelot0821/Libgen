{
 "cells": [
  {
   "cell_type": "code",
   "execution_count": 1,
   "metadata": {
    "collapsed": true,
    "pycharm": {
     "name": "#%%\n"
    }
   },
   "outputs": [
    {
     "name": "stdout",
     "output_type": "stream",
     "text": [
      "Compile the cython code is highly recommended!\n"
     ]
    }
   ],
   "source": [
    "import pandas as pd\n",
    "import numpy as np\n",
    "import toolsets.spectra_operations as so\n",
    "import toolsets.conversion_function as cf\n",
    "import os\n",
    "from tqdm import tqdm\n",
    "%load_ext autoreload\n",
    "%autoreload 2\n",
    "import subprocess"
   ]
  },
  {
   "cell_type": "code",
   "execution_count": 2,
   "outputs": [],
   "source": [
    "data_pos = pd.read_csv(\"/Users/fanzhoukong/Documents/GitHub/Libgen_data/casmi/data_pos.csv\")\n",
    "data_neg = pd.read_csv(\"/Users/fanzhoukong/Documents/GitHub/Libgen_data/casmi/data_neg.csv\")"
   ],
   "metadata": {
    "collapsed": false,
    "pycharm": {
     "name": "#%%\n"
    }
   }
  },
  {
   "cell_type": "code",
   "execution_count": 5,
   "outputs": [],
   "source": [
    "path = '/Users/fanzhoukong/Documents/GitHub/Libgen_data/casmi/ms/sirius_results/'"
   ],
   "metadata": {
    "collapsed": false,
    "pycharm": {
     "name": "#%%\n"
    }
   }
  },
  {
   "cell_type": "code",
   "execution_count": 58,
   "outputs": [],
   "source": [
    "canopus_temp = pd.read_csv(os.path.join(path, row['NAME'],'canopus_summary.tsv'),sep=\"\\t\")"
   ],
   "metadata": {
    "collapsed": false,
    "pycharm": {
     "name": "#%%\n"
    }
   }
  },
  {
   "cell_type": "code",
   "execution_count": 63,
   "outputs": [
    {
     "data": {
      "text/plain": "                    name molecularFormula    adduct most specific class  \\\n0  0_unknown86_unknown86          C9H10O3  [M - H]-       Acetophenones   \n\n   level 5       subclass                                class  superclass  \\\n0      NaN  Acetophenones  Benzene and substituted derivatives  Benzenoids   \n\n                                 all classifications  \n0  Organic compounds; Acetophenones; Phenols; Res...  ",
      "text/html": "<div>\n<style scoped>\n    .dataframe tbody tr th:only-of-type {\n        vertical-align: middle;\n    }\n\n    .dataframe tbody tr th {\n        vertical-align: top;\n    }\n\n    .dataframe thead th {\n        text-align: right;\n    }\n</style>\n<table border=\"1\" class=\"dataframe\">\n  <thead>\n    <tr style=\"text-align: right;\">\n      <th></th>\n      <th>name</th>\n      <th>molecularFormula</th>\n      <th>adduct</th>\n      <th>most specific class</th>\n      <th>level 5</th>\n      <th>subclass</th>\n      <th>class</th>\n      <th>superclass</th>\n      <th>all classifications</th>\n    </tr>\n  </thead>\n  <tbody>\n    <tr>\n      <th>0</th>\n      <td>0_unknown86_unknown86</td>\n      <td>C9H10O3</td>\n      <td>[M - H]-</td>\n      <td>Acetophenones</td>\n      <td>NaN</td>\n      <td>Acetophenones</td>\n      <td>Benzene and substituted derivatives</td>\n      <td>Benzenoids</td>\n      <td>Organic compounds; Acetophenones; Phenols; Res...</td>\n    </tr>\n  </tbody>\n</table>\n</div>"
     },
     "execution_count": 63,
     "metadata": {},
     "output_type": "execute_result"
    }
   ],
   "source": [
    "canopus_temp"
   ],
   "metadata": {
    "collapsed": false,
    "pycharm": {
     "name": "#%%\n"
    }
   }
  },
  {
   "cell_type": "code",
   "execution_count": 62,
   "outputs": [
    {
     "data": {
      "text/plain": "'Acetophenones'"
     },
     "execution_count": 62,
     "metadata": {},
     "output_type": "execute_result"
    }
   ],
   "source": [
    "canopus_temp.iloc[0]['subclass']"
   ],
   "metadata": {
    "collapsed": false,
    "pycharm": {
     "name": "#%%\n"
    }
   }
  },
  {
   "cell_type": "code",
   "execution_count": 64,
   "outputs": [],
   "source": [
    "formula_sirius = []\n",
    "InChIkey2D_sirius = []\n",
    "specific_class = []\n",
    "subclass = []\n",
    "class_ = []\n",
    "superclass = []\n",
    "all_classifications = []\n",
    "for index, row in data_pos.iterrows():\n",
    "    try:\n",
    "        id_temp = pd.read_csv(os.path.join(path, row['NAME'],'compound_identifications.tsv'),sep=\"\\t\")\n",
    "        formula_sirius.append(id_temp.iloc[0]['molecularFormula'])\n",
    "        InChIkey2D_sirius.append(id_temp.iloc[0]['InChIkey2D'])\n",
    "    except:\n",
    "        formula_sirius.append(np.NAN)\n",
    "        InChIkey2D_sirius.append(np.NAN)\n",
    "    try:\n",
    "        canopus_temp = pd.read_csv(os.path.join(path, row['NAME'],'canopus_summary.tsv'),sep=\"\\t\")\n",
    "        specific_class.append(canopus_temp.iloc[0]['most specific class'])\n",
    "        subclass.append(canopus_temp.iloc[0]['subclass'])\n",
    "        class_.append(canopus_temp.iloc[0]['class'])\n",
    "        superclass.append(canopus_temp.iloc[0]['superclass'])\n",
    "        all_classifications.append(canopus_temp.iloc[0]['all classifications'])\n",
    "    except:\n",
    "        specific_class.append(np.NAN)\n",
    "        subclass.append(np.NAN)\n",
    "        class_.append(np.NAN)\n",
    "        superclass.append(np.NAN)\n",
    "        all_classifications.append(np.NAN)\n",
    "\n",
    "\n",
    "data_pos_summary = data_pos.copy()\n",
    "data_pos_summary = data_pos_summary[['NAME','PRECURSORMZ','InChIKey','Formula','ExactMass','Adduct']]\n",
    "data_pos_summary['formula_sirius']=formula_sirius\n",
    "data_pos_summary['InChIkey2D_sirius']=InChIkey2D_sirius\n",
    "data_pos_summary['specific_class_sirius']=specific_class\n",
    "data_pos_summary['subclass_sirius']=subclass\n",
    "data_pos_summary['class_sirius']=class_\n",
    "data_pos_summary['superclass_sirius']=superclass\n",
    "data_pos_summary['all_classifications_sirius']=all_classifications\n",
    "evaluation_formula = []\n",
    "evaluation_inchi = []\n",
    "for index, row in data_pos_summary.iterrows():\n",
    "    if row['Formula']==row['formula_sirius']:\n",
    "        evaluation_formula.append(True)\n",
    "    else:\n",
    "        evaluation_formula.append(False)\n",
    "    if row['InChIkey2D_sirius']==row['InChIKey'][0:14]:\n",
    "        evaluation_inchi.append(True)\n",
    "    else:\n",
    "        evaluation_inchi.append(False)\n",
    "data_pos_summary['evaluation_formula']=evaluation_formula\n",
    "data_pos_summary['evaluation_inchi']=evaluation_inchi"
   ],
   "metadata": {
    "collapsed": false,
    "pycharm": {
     "name": "#%%\n"
    }
   }
  },
  {
   "cell_type": "code",
   "execution_count": 66,
   "outputs": [],
   "source": [
    "data_pos_summary.to_csv(\"data/casmi_pos_summary_sirius.csv\", index = False)"
   ],
   "metadata": {
    "collapsed": false,
    "pycharm": {
     "name": "#%%\n"
    }
   }
  },
  {
   "cell_type": "code",
   "execution_count": 41,
   "outputs": [
    {
     "data": {
      "text/plain": "True     217\nFalse     70\nName: evaluation_formula, dtype: int64"
     },
     "execution_count": 41,
     "metadata": {},
     "output_type": "execute_result"
    }
   ],
   "source": [
    "data_pos_summary['evaluation_formula'].value_counts()"
   ],
   "metadata": {
    "collapsed": false,
    "pycharm": {
     "name": "#%%\n"
    }
   }
  },
  {
   "cell_type": "code",
   "execution_count": 42,
   "outputs": [
    {
     "data": {
      "text/plain": "False    245\nTrue      42\nName: evaluation_inchi, dtype: int64"
     },
     "execution_count": 42,
     "metadata": {},
     "output_type": "execute_result"
    }
   ],
   "source": [
    "data_pos_summary['evaluation_inchi'].value_counts()"
   ],
   "metadata": {
    "collapsed": false,
    "pycharm": {
     "name": "#%%\n"
    }
   }
  },
  {
   "cell_type": "code",
   "execution_count": 43,
   "outputs": [],
   "source": [
    "data_pos_summary.to_csv(\"data/casmi_pos_summary_sirius.csv\", index = False)"
   ],
   "metadata": {
    "collapsed": false,
    "pycharm": {
     "name": "#%%\n"
    }
   }
  },
  {
   "cell_type": "code",
   "execution_count": 67,
   "outputs": [],
   "source": [
    "formula_sirius = []\n",
    "InChIkey2D_sirius = []\n",
    "specific_class = []\n",
    "subclass = []\n",
    "class_ = []\n",
    "superclass = []\n",
    "all_classifications = []\n",
    "for index, row in data_neg.iterrows():\n",
    "    try:\n",
    "        id_temp = pd.read_csv(os.path.join(path, row['NAME'],'compound_identifications.tsv'),sep=\"\\t\")\n",
    "        formula_sirius.append(id_temp.iloc[0]['molecularFormula'])\n",
    "        InChIkey2D_sirius.append(id_temp.iloc[0]['InChIkey2D'])\n",
    "    except:\n",
    "        formula_sirius.append(np.NAN)\n",
    "        InChIkey2D_sirius.append(np.NAN)\n",
    "    try:\n",
    "        canopus_temp = pd.read_csv(os.path.join(path, row['NAME'],'canopus_summary.tsv'),sep=\"\\t\")\n",
    "        specific_class.append(canopus_temp.iloc[0]['most specific class'])\n",
    "        subclass.append(canopus_temp.iloc[0]['subclass'])\n",
    "        class_.append(canopus_temp.iloc[0]['class'])\n",
    "        superclass.append(canopus_temp.iloc[0]['superclass'])\n",
    "        all_classifications.append(canopus_temp.iloc[0]['all classifications'])\n",
    "    except:\n",
    "        specific_class.append(np.NAN)\n",
    "        subclass.append(np.NAN)\n",
    "        class_.append(np.NAN)\n",
    "        superclass.append(np.NAN)\n",
    "        all_classifications.append(np.NAN)\n",
    "\n",
    "\n",
    "data_pos_summary = data_neg.copy()\n",
    "data_pos_summary = data_pos_summary[['NAME','PRECURSORMZ','InChIKey','Formula','ExactMass','Adduct']]\n",
    "data_pos_summary['formula_sirius']=formula_sirius\n",
    "data_pos_summary['InChIkey2D_sirius']=InChIkey2D_sirius\n",
    "data_pos_summary['specific_class_sirius']=specific_class\n",
    "data_pos_summary['subclass_sirius']=subclass\n",
    "data_pos_summary['class_sirius']=class_\n",
    "data_pos_summary['superclass_sirius']=superclass\n",
    "data_pos_summary['all_classifications_sirius']=all_classifications\n",
    "evaluation_formula = []\n",
    "evaluation_inchi = []\n",
    "for index, row in data_pos_summary.iterrows():\n",
    "    if row['Formula']==row['formula_sirius']:\n",
    "        evaluation_formula.append(True)\n",
    "    else:\n",
    "        evaluation_formula.append(False)\n",
    "    if row['InChIkey2D_sirius']==row['InChIKey'][0:14]:\n",
    "        evaluation_inchi.append(True)\n",
    "    else:\n",
    "        evaluation_inchi.append(False)\n",
    "data_pos_summary['evaluation_formula']=evaluation_formula\n",
    "data_pos_summary['evaluation_inchi']=evaluation_inchi"
   ],
   "metadata": {
    "collapsed": false,
    "pycharm": {
     "name": "#%%\n"
    }
   }
  },
  {
   "cell_type": "code",
   "execution_count": 69,
   "outputs": [],
   "source": [
    "data_pos_summary.to_csv(\"data/casmi_neg_summary_sirius.csv\", index = False)"
   ],
   "metadata": {
    "collapsed": false,
    "pycharm": {
     "name": "#%%\n"
    }
   }
  },
  {
   "cell_type": "code",
   "execution_count": 54,
   "outputs": [],
   "source": [
    "data_neg_summary = pd.read_csv(\"data/casmi_pos_summary_sirius.csv\")"
   ],
   "metadata": {
    "collapsed": false,
    "pycharm": {
     "name": "#%%\n"
    }
   }
  },
  {
   "cell_type": "code",
   "execution_count": 56,
   "outputs": [
    {
     "data": {
      "text/plain": "         NAME  PRECURSORMZ                     InChIKey     Formula  \\\n0  unknown254     265.1071  CNXACDYPVKUDEK-UHFFFAOYSA-N    C14H16O5   \n1  unknown268     297.1081  FKDSAXOHMLWBNA-XCBNKYQSSA-N  C13H16N2O6   \n2  unknown269     317.2111  KZIADLALQLRZIQ-DBVHFHOUSA-N    C20H28O3   \n3  unknown298     394.1708  GGUPBNDFNVHEBP-PANSSLBXSA-N   C16H24O10   \n4  unknown322     554.2748  HVQJVSACIKTWQR-RYXVVOBLSA-N    C31H36O8   \n\n    ExactMass    Adduct formula_sirius InChIkey2D_sirius  \\\n0  264.099769    [M+H]+       C14H16O5    MXEZBPCVRNMVLQ   \n1  296.100832    [M+H]+     C13H16N2O6    FKDSAXOHMLWBNA   \n2  316.203834    [M+H]+       C20H28O3    BIKTYBKSVBXGDW   \n3  376.136940  [M+NH4]+      C16H24O10    XJOPDXRZTFGTIW   \n4  536.241006  [M+NH4]+       C31H36O8    BYTPMMJRDFCGKX   \n\n   specific_class_sirius  subclass_sirius  class_sirius  superclass_sirius  \\\n0                    NaN              NaN           NaN                NaN   \n1                    NaN              NaN           NaN                NaN   \n2                    NaN              NaN           NaN                NaN   \n3                    NaN              NaN           NaN                NaN   \n4                    NaN              NaN           NaN                NaN   \n\n   all_classifications_sirius  evaluation_formula  evaluation_inchi  \n0                         NaN                True             False  \n1                         NaN                True              True  \n2                         NaN                True             False  \n3                         NaN                True             False  \n4                         NaN                True             False  ",
      "text/html": "<div>\n<style scoped>\n    .dataframe tbody tr th:only-of-type {\n        vertical-align: middle;\n    }\n\n    .dataframe tbody tr th {\n        vertical-align: top;\n    }\n\n    .dataframe thead th {\n        text-align: right;\n    }\n</style>\n<table border=\"1\" class=\"dataframe\">\n  <thead>\n    <tr style=\"text-align: right;\">\n      <th></th>\n      <th>NAME</th>\n      <th>PRECURSORMZ</th>\n      <th>InChIKey</th>\n      <th>Formula</th>\n      <th>ExactMass</th>\n      <th>Adduct</th>\n      <th>formula_sirius</th>\n      <th>InChIkey2D_sirius</th>\n      <th>specific_class_sirius</th>\n      <th>subclass_sirius</th>\n      <th>class_sirius</th>\n      <th>superclass_sirius</th>\n      <th>all_classifications_sirius</th>\n      <th>evaluation_formula</th>\n      <th>evaluation_inchi</th>\n    </tr>\n  </thead>\n  <tbody>\n    <tr>\n      <th>0</th>\n      <td>unknown254</td>\n      <td>265.1071</td>\n      <td>CNXACDYPVKUDEK-UHFFFAOYSA-N</td>\n      <td>C14H16O5</td>\n      <td>264.099769</td>\n      <td>[M+H]+</td>\n      <td>C14H16O5</td>\n      <td>MXEZBPCVRNMVLQ</td>\n      <td>NaN</td>\n      <td>NaN</td>\n      <td>NaN</td>\n      <td>NaN</td>\n      <td>NaN</td>\n      <td>True</td>\n      <td>False</td>\n    </tr>\n    <tr>\n      <th>1</th>\n      <td>unknown268</td>\n      <td>297.1081</td>\n      <td>FKDSAXOHMLWBNA-XCBNKYQSSA-N</td>\n      <td>C13H16N2O6</td>\n      <td>296.100832</td>\n      <td>[M+H]+</td>\n      <td>C13H16N2O6</td>\n      <td>FKDSAXOHMLWBNA</td>\n      <td>NaN</td>\n      <td>NaN</td>\n      <td>NaN</td>\n      <td>NaN</td>\n      <td>NaN</td>\n      <td>True</td>\n      <td>True</td>\n    </tr>\n    <tr>\n      <th>2</th>\n      <td>unknown269</td>\n      <td>317.2111</td>\n      <td>KZIADLALQLRZIQ-DBVHFHOUSA-N</td>\n      <td>C20H28O3</td>\n      <td>316.203834</td>\n      <td>[M+H]+</td>\n      <td>C20H28O3</td>\n      <td>BIKTYBKSVBXGDW</td>\n      <td>NaN</td>\n      <td>NaN</td>\n      <td>NaN</td>\n      <td>NaN</td>\n      <td>NaN</td>\n      <td>True</td>\n      <td>False</td>\n    </tr>\n    <tr>\n      <th>3</th>\n      <td>unknown298</td>\n      <td>394.1708</td>\n      <td>GGUPBNDFNVHEBP-PANSSLBXSA-N</td>\n      <td>C16H24O10</td>\n      <td>376.136940</td>\n      <td>[M+NH4]+</td>\n      <td>C16H24O10</td>\n      <td>XJOPDXRZTFGTIW</td>\n      <td>NaN</td>\n      <td>NaN</td>\n      <td>NaN</td>\n      <td>NaN</td>\n      <td>NaN</td>\n      <td>True</td>\n      <td>False</td>\n    </tr>\n    <tr>\n      <th>4</th>\n      <td>unknown322</td>\n      <td>554.2748</td>\n      <td>HVQJVSACIKTWQR-RYXVVOBLSA-N</td>\n      <td>C31H36O8</td>\n      <td>536.241006</td>\n      <td>[M+NH4]+</td>\n      <td>C31H36O8</td>\n      <td>BYTPMMJRDFCGKX</td>\n      <td>NaN</td>\n      <td>NaN</td>\n      <td>NaN</td>\n      <td>NaN</td>\n      <td>NaN</td>\n      <td>True</td>\n      <td>False</td>\n    </tr>\n  </tbody>\n</table>\n</div>"
     },
     "execution_count": 56,
     "metadata": {},
     "output_type": "execute_result"
    }
   ],
   "source": [
    "data_neg_summary.head()"
   ],
   "metadata": {
    "collapsed": false,
    "pycharm": {
     "name": "#%%\n"
    }
   }
  },
  {
   "cell_type": "code",
   "execution_count": 55,
   "outputs": [
    {
     "data": {
      "text/plain": "31"
     },
     "execution_count": 55,
     "metadata": {},
     "output_type": "execute_result"
    }
   ],
   "source": [
    "data_neg_summary['formula_sirius'].isnull().sum()"
   ],
   "metadata": {
    "collapsed": false,
    "pycharm": {
     "name": "#%%\n"
    }
   }
  },
  {
   "cell_type": "code",
   "execution_count": 53,
   "outputs": [
    {
     "data": {
      "text/plain": "26"
     },
     "execution_count": 53,
     "metadata": {},
     "output_type": "execute_result"
    }
   ],
   "source": [
    "data_pos_summary['formula_sirius'].isnull().sum()"
   ],
   "metadata": {
    "collapsed": false,
    "pycharm": {
     "name": "#%%\n"
    }
   }
  },
  {
   "cell_type": "code",
   "execution_count": 50,
   "outputs": [],
   "source": [
    "data_pos_summary.to_csv(\"data/casmi_neg_summary_sirius.csv\", index = False)"
   ],
   "metadata": {
    "collapsed": false,
    "pycharm": {
     "name": "#%%\n"
    }
   }
  },
  {
   "cell_type": "code",
   "execution_count": 48,
   "outputs": [
    {
     "data": {
      "text/plain": "True     136\nFalse     51\nName: evaluation_formula, dtype: int64"
     },
     "execution_count": 48,
     "metadata": {},
     "output_type": "execute_result"
    }
   ],
   "source": [
    "data_pos_summary['evaluation_formula'].value_counts()"
   ],
   "metadata": {
    "collapsed": false,
    "pycharm": {
     "name": "#%%\n"
    }
   }
  },
  {
   "cell_type": "code",
   "execution_count": 49,
   "outputs": [
    {
     "data": {
      "text/plain": "False    175\nTrue      12\nName: evaluation_inchi, dtype: int64"
     },
     "execution_count": 49,
     "metadata": {},
     "output_type": "execute_result"
    }
   ],
   "source": [
    "data_pos_summary['evaluation_inchi'].value_counts()"
   ],
   "metadata": {
    "collapsed": false,
    "pycharm": {
     "name": "#%%\n"
    }
   }
  },
  {
   "cell_type": "code",
   "execution_count": 77,
   "outputs": [
    {
     "name": "stderr",
     "output_type": "stream",
     "text": [
      "100%|██████████| 287/287 [00:00<00:00, 8460.36it/s]\n"
     ]
    }
   ],
   "source": [
    "# exporting ms files\n",
    "# output_dir = \"/Users/fanzhoukong/Documents/GitHub/Libgen_data/casmi/ms/pos/\"\n",
    "# for index, row in tqdm(data_pos.iterrows(), total=data_pos.shape[0]):\n",
    "#     output = os.path.join(output_dir, row['NAME'])\n",
    "#     so.export_ms_sirius(row, output)\n",
    "# output_dir = \"/Users/fanzhoukong/Documents/GitHub/Libgen_data/casmi/ms/neg/\"\n",
    "# for index, row in tqdm(data_neg.iterrows(), total=data_neg.shape[0]):\n",
    "#     output = os.path.join(output_dir, row['NAME'])\n",
    "#     so.export_ms_sirius(row, output)"
   ],
   "metadata": {
    "collapsed": false,
    "pycharm": {
     "name": "#%%\n"
    }
   }
  },
  {
   "cell_type": "markdown",
   "source": [],
   "metadata": {
    "collapsed": false,
    "pycharm": {
     "name": "#%% md\n"
    }
   }
  },
  {
   "cell_type": "code",
   "execution_count": 83,
   "outputs": [
    {
     "name": "stderr",
     "output_type": "stream",
     "text": [
      " 88%|████████▊ | 253/287 [2:13:27<1:09:27, 122.57s/it]"
     ]
    },
    {
     "name": "stdout",
     "output_type": "stream",
     "text": [
      "timeout!!\n"
     ]
    },
    {
     "name": "stderr",
     "output_type": "stream",
     "text": [
      "100%|██████████| 287/287 [2:33:51<00:00, 32.17s/it]   \n"
     ]
    }
   ],
   "source": [
    "# running sirius +canopus for positive mode\n",
    "# for index, row in tqdm(data_pos.iterrows(), total=data_pos.shape[0]):\n",
    "#     try:\n",
    "#         p = subprocess.run([\"sirius\", \"-i\", '/Users/fanzhoukong/Documents/GitHub/Libgen_data/casmi/ms/pos/%s.ms' % (\n",
    "#             str(row['NAME'])),\n",
    "#                             \"-o\", '/Users/fanzhoukong/Documents/GitHub/Libgen_data/casmi/ms/sirius_results/%s' % (\n",
    "#             str(row['NAME'])),\n",
    "#                             \"formula\", '-c','10','structure','--database','pubchem','canopus'],\n",
    "#                            stdout=subprocess.DEVNULL, stderr=subprocess.DEVNULL,\n",
    "#                            timeout = 300\n",
    "#                            )\n",
    "#     except subprocess.TimeoutExpired:\n",
    "#         print(\"timeout!!\")\n",
    "#     # break"
   ],
   "metadata": {
    "collapsed": false,
    "pycharm": {
     "name": "#%%\n"
    }
   }
  },
  {
   "cell_type": "code",
   "execution_count": 3,
   "outputs": [
    {
     "name": "stderr",
     "output_type": "stream",
     "text": [
      "  6%|▌         | 11/187 [08:50<5:20:52, 109.39s/it]"
     ]
    },
    {
     "name": "stdout",
     "output_type": "stream",
     "text": [
      "timeout!!\n"
     ]
    },
    {
     "name": "stderr",
     "output_type": "stream",
     "text": [
      "  6%|▋         | 12/187 [13:52<8:09:14, 167.74s/it]"
     ]
    },
    {
     "name": "stdout",
     "output_type": "stream",
     "text": [
      "timeout!!\n"
     ]
    },
    {
     "name": "stderr",
     "output_type": "stream",
     "text": [
      "  7%|▋         | 14/187 [19:23<8:36:11, 179.03s/it]"
     ]
    },
    {
     "name": "stdout",
     "output_type": "stream",
     "text": [
      "timeout!!\n"
     ]
    },
    {
     "name": "stderr",
     "output_type": "stream",
     "text": [
      " 12%|█▏        | 23/187 [27:28<5:12:06, 114.19s/it]"
     ]
    },
    {
     "name": "stdout",
     "output_type": "stream",
     "text": [
      "timeout!!\n"
     ]
    },
    {
     "name": "stderr",
     "output_type": "stream",
     "text": [
      " 17%|█▋        | 32/187 [39:04<6:01:57, 140.11s/it]"
     ]
    },
    {
     "name": "stdout",
     "output_type": "stream",
     "text": [
      "timeout!!\n"
     ]
    },
    {
     "name": "stderr",
     "output_type": "stream",
     "text": [
      "100%|██████████| 187/187 [1:48:40<00:00, 34.87s/it]\n"
     ]
    }
   ],
   "source": [
    "# running sirius +canopus for negative mode\n",
    "# for index, row in tqdm(data_neg.iterrows(), total=data_neg.shape[0]):\n",
    "#     try:\n",
    "#         p = subprocess.run([\"sirius\", \"-i\", '//Users/fanzhoukong/Documents/GitHub/Libgen_data/casmi/ms/neg/%s.ms' % (\n",
    "#             str(row['NAME'])),\n",
    "#                             \"-o\", '/Users/fanzhoukong/Documents/GitHub/Libgen_data/casmi/ms/sirius_results/neg/%s' % (\n",
    "#             str(row['NAME'])),\n",
    "#                             \"formula\", '-c','10','structure','--database','pubchem','canopus'],\n",
    "#                            stdout=subprocess.DEVNULL, stderr=subprocess.DEVNULL,\n",
    "#                            timeout = 300\n",
    "#                            )\n",
    "#     except subprocess.TimeoutExpired:\n",
    "#         print(\"timeout!!\")\n",
    "#     # break"
   ],
   "metadata": {
    "collapsed": false,
    "pycharm": {
     "name": "#%%\n"
    }
   }
  }
 ],
 "metadata": {
  "kernelspec": {
   "name": "tensorflow",
   "language": "python",
   "display_name": "Python 3.9 (tensorflow)"
  },
  "language_info": {
   "codemirror_mode": {
    "name": "ipython",
    "version": 2
   },
   "file_extension": ".py",
   "mimetype": "text/x-python",
   "name": "python",
   "nbconvert_exporter": "python",
   "pygments_lexer": "ipython2",
   "version": "2.7.6"
  }
 },
 "nbformat": 4,
 "nbformat_minor": 0
}