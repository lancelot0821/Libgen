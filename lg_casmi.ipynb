{
 "cells": [
  {
   "cell_type": "code",
   "execution_count": 1,
   "id": "2224d94b",
   "metadata": {
    "pycharm": {
     "name": "#%%\n"
    }
   },
   "outputs": [
    {
     "name": "stdout",
     "output_type": "stream",
     "text": [
      "Compile the cython code is highly recommended!\n",
      "i am ms2 spectra plotter, and I have been sideloaded successfully\n",
      "I have 2 functions, head to tail plot and ms2 plot\n",
      "I am precursor matching!\n"
     ]
    }
   ],
   "source": [
    "import subprocess\n",
    "import os\n",
    "import shutil\n",
    "import warnings\n",
    "warnings.filterwarnings(\"ignore\")\n",
    "from ast import literal_eval\n",
    "import toolsets.curation_tools as ctools\n",
    "import matplotlib.pyplot as plt\n",
    "import toolsets.spectra_operations as so\n",
    "from operator import itemgetter\n",
    "import seaborn as sns\n",
    "from tqdm import tqdm\n",
    "import random\n",
    "import time \n",
    "import numpy as np\n",
    "import sys\n",
    "from tqdm import tqdm\n",
    "import re\n",
    "import pandas as pd\n",
    "\n",
    "import spectral_entropy as se\n",
    "\n",
    "import glob\n",
    "# import tree_denoising as td\n",
    "import pandas as pd\n",
    "import toolsets.ms2_spectra_plotter as msplt\n",
    "%load_ext autoreload\n",
    "%autoreload 2\n",
    "import itertools\n",
    "import toolsets.precursor_matching as pm\n",
    "import toolsets.adduct_calculator as calc"
   ]
  },
  {
   "cell_type": "code",
   "execution_count": 2,
   "id": "41a9c979",
   "metadata": {
    "pycharm": {
     "name": "#%%\n"
    }
   },
   "outputs": [],
   "source": [
    "std_list = pd.read_csv(\"~/Documents/GitHub/Libgen_data/casmi/casmi_std_list.csv\")\n",
    "# std_list=std_list.drop(['Compound Number'], axis=1)\n",
    "std_list['Adduct'] = std_list['Adduct'].str.strip()\n",
    "std_list = std_list.drop(['PRECURSORMZ','SMILES'], axis=1)\n",
    "names = []\n",
    "for i in range(0,500):\n",
    "    names.append('unknown'+str(i))\n",
    "# std_list['Name']=names\n",
    "std_list.insert(0, 'Name', names)\n",
    "for i in std_list.columns[8:14]:\n",
    "    for n in range(len(std_list)):\n",
    "        if std_list.iloc[n][i]!=0:\n",
    "            std_list.at[n, i]=calc.calculate_precursormz(std_list.iloc[n]['Formula'], i)"
   ]
  },
  {
   "cell_type": "code",
   "execution_count": 204,
   "outputs": [
    {
     "name": "stderr",
     "output_type": "stream",
     "text": [
      "100%|██████████| 500/500 [08:25<00:00,  1.01s/it]\n"
     ]
    }
   ],
   "source": [
    "# import toolsets.conversion_function as cf\n",
    "# formulas = []\n",
    "# # exactmass =[]\n",
    "# for index, row in tqdm.tqdm(std_list.iterrows(), total=std_list.shape[0]) :\n",
    "#     formulas.append(cf.get_something_from_pubchem(\"inchikey\", row['InChIKey'], \"MolecularFormula\"))\n",
    "#     # exactmass.append(cf.get_something_from_pubchem(\"inchikey\", row['InChIKey'], \"ExactMass\"))\n",
    "# formulas = pd.Series(formulas)\n",
    "# for i in range(len(std_list)):\n",
    "#     if(std_list.iloc[i]['Formula']!= std_list.iloc[i]['Formula_fetched']):\n",
    "#         print(i)"
   ],
   "metadata": {
    "collapsed": false,
    "pycharm": {
     "name": "#%%\n"
    }
   }
  },
  {
   "cell_type": "code",
   "execution_count": 8,
   "outputs": [],
   "source": [
    "# std_list.to_csv(\"data/casmi/std_list_corrected.csv\", index = False)"
   ],
   "metadata": {
    "collapsed": false,
    "pycharm": {
     "name": "#%%\n"
    }
   }
  },
  {
   "cell_type": "code",
   "execution_count": 19,
   "outputs": [
    {
     "name": "stderr",
     "output_type": "stream",
     "text": [
      "100%|██████████| 75/75 [00:01<00:00, 41.58it/s]\n",
      "100%|██████████| 75/75 [00:01<00:00, 40.65it/s]\n",
      "100%|██████████| 75/75 [00:01<00:00, 39.73it/s]\n"
     ]
    }
   ],
   "source": [
    "# raw = pm.readin_MSDIAL(\"data/casmi/Height_0_20224211426_neg35.txt\")\n",
    "# raw = pm.readin_MSDIAL(\"data/casmi/Height_0_20224212229_neg45.txt\")\n",
    "# raw = pm.readin_MSDIAL(\"data/casmi/Height_0_2022422746_neg65.txt\")\n",
    "raw35pos = pm.readin_MSDIAL(\"~/Documents/GitHub/Libgen_data/casmi/Height_0_20225232215_pos35_FINAL.txt\")\n",
    "raw45pos = pm.readin_MSDIAL(\"~/Documents/GitHub/Libgen_data/casmi/Height_0_20225232342_pos45_FINAL.txt\")\n",
    "raw65pos = pm.readin_MSDIAL(\"~/Documents/GitHub/Libgen_data/casmi/Height_0_2022524111_pos65_FINAL.txt\")\n",
    "# raw = pm.readin_MSDIAL(\"data/casmi/Height_0_2022420235_pos45.txt\")\n",
    "# raw = pm.readin_MSDIAL(\"data/casmi/Height_0_2022421851_pos65.txt\")\n",
    "# raw_addition = pm.readin_MSDIAL(\"data/casmi/missing_compounds/Height_0_202251817_pos35.txt\")\n",
    "# raw_addition = pm.readin_MSDIAL(\"data/casmi/20220520_updated/Height_0_202251817_pos35.txt\")\n",
    "# data65_neg = pm.precursor_matching_ppm(raw, std_list, 0.05, ['[M+H]+', '[M+NH4]+', '[M+Na]+', '[M-H]-', '[M+FA-H]-', '[M+Cl]-'],'casmi_neg_65', ppm = False, threshold=0.7)\n",
    "# data45_neg = pm.precursor_matching_ppm(raw, std_list, 10, ['[M+H]+', '[M+NH4]+', '[M+Na]+', '[M-H]-', '[M+FA-H]-', '[M+Cl]-'],'casmi_neg_45', ppm = True)\n",
    "# data = pm.precursor_matching(raw, std_list, 10, ['[M+H]+', '[M+NH4]+', '[M+Na]+', '[M-H]-', '[M+FA-H]-', '[M+Cl]-'],'casmi_pos65', ppm = True, threshold=0.7)\n",
    "# data_pos = pm.precursor_matching_ppm(raw, std_list, 0.05, ['[M+H]+', '[M+NH4]+', '[M+Na]+', '[M-H]-', '[M+FA-H]-', '[M+Cl]-'],'casmi_pos_45', ppm = False, threshold=0.7)\n",
    "# data_pos35 = pm.precursor_matching(raw35pos, std_list, 0.05, ['[M+H]+', '[M+NH4]+', '[M+Na]+'],'casmi_pos_35',CE=35, ppm = False, threshold=0.7)\n",
    "# # data_pos_addition = pm.precursor_matching(raw_addition, std_list, 0.05, ['[M+H]+', '[M+NH4]+', '[M+Na]+', '[M-H]-', '[M+FA-H]-', '[M+Cl]-'],'casmi_pos_35', ppm = False, threshold=0.7)\n",
    "# data_pos45 = pm.precursor_matching(raw45pos, std_list, 0.05, ['[M+H]+', '[M+NH4]+', '[M+Na]+'],'casmi_pos_45',CE=45, ppm = False, threshold=0.7)\n",
    "# data_pos65 = pm.precursor_matching(raw65pos, std_list, 0.05, ['[M+H]+', '[M+NH4]+', '[M+Na]+'],'casmi_pos_65', CE=65,ppm = False, threshold=0.7)\n",
    "data_pos35 = pm.precursor_matching_rt(raw35pos, std_list, 0.05, ['[M+H]+', '[M+NH4]+', '[M+Na]+'],'casmi_pos_35',CE=35, ppm = False, threshold=0.7)\n",
    "# data_pos_addition = pm.precursor_matching(raw_addition, std_list, 0.05, ['[M+H]+', '[M+NH4]+', '[M+Na]+', '[M-H]-', '[M+FA-H]-', '[M+Cl]-'],'casmi_pos_35', ppm = False, threshold=0.7)\n",
    "data_pos45 = pm.precursor_matching_rt(raw45pos, std_list, 0.05, ['[M+H]+', '[M+NH4]+', '[M+Na]+'],'casmi_pos_45',CE=45, ppm = False, threshold=0.7)\n",
    "data_pos65 = pm.precursor_matching_rt(raw65pos, std_list, 0.05, ['[M+H]+', '[M+NH4]+', '[M+Na]+'],'casmi_pos_65', CE=65,ppm = False, threshold=0.7)\n",
    "data_pos=pd.concat([data_pos35,data_pos45,data_pos65], axis = 0)\n"
   ],
   "metadata": {
    "collapsed": false,
    "pycharm": {
     "name": "#%%\n"
    }
   }
  },
  {
   "cell_type": "code",
   "execution_count": 4,
   "outputs": [],
   "source": [
    "std_list_pos = std_list.loc[std_list['Adduct'].isin(['[M+H]+','[M+Na]+','[M+NH4]+'])]\n",
    "std_list_neg = std_list.loc[std_list['Adduct'].isin(['[M-H]-','[M+FA-H]-','[M+Cl]-'])]"
   ],
   "metadata": {
    "collapsed": false,
    "pycharm": {
     "name": "#%%\n"
    }
   }
  },
  {
   "cell_type": "code",
   "execution_count": 38,
   "outputs": [],
   "source": [
    "# missing_positive = ctools.check_for_missing_compounds(data_pos, std_list_pos)\n",
    "# missing_positive.to_csv(\"data/casmi/missing_pos.csv\", index = False)"
   ],
   "metadata": {
    "collapsed": false,
    "pycharm": {
     "name": "#%%\n"
    }
   }
  },
  {
   "cell_type": "code",
   "execution_count": 6,
   "outputs": [
    {
     "data": {
      "text/plain": "         NAME                                  key PRECURSORMZ  \\\n0  unknown254    CNXACDYPVKUDEK-UHFFFAOYSA-N[M+H]+    265.1071   \n1  unknown268    FKDSAXOHMLWBNA-XCBNKYQSSA-N[M+H]+    297.1081   \n2  unknown269    KZIADLALQLRZIQ-DBVHFHOUSA-N[M+H]+    317.2111   \n3  unknown298  GGUPBNDFNVHEBP-PANSSLBXSA-N[M+NH4]+    394.1708   \n4  unknown322  HVQJVSACIKTWQR-RYXVVOBLSA-N[M+NH4]+    554.2748   \n\n                      InChIKey     Formula   ExactMass    Adduct  \\\n0  CNXACDYPVKUDEK-UHFFFAOYSA-N    C14H16O5  264.099769    [M+H]+   \n1  FKDSAXOHMLWBNA-XCBNKYQSSA-N  C13H16N2O6  296.100832    [M+H]+   \n2  KZIADLALQLRZIQ-DBVHFHOUSA-N    C20H28O3  316.203834    [M+H]+   \n3  GGUPBNDFNVHEBP-PANSSLBXSA-N   C16H24O10   376.13694  [M+NH4]+   \n4  HVQJVSACIKTWQR-RYXVVOBLSA-N    C31H36O8  536.241006  [M+NH4]+   \n\n  Spectrum_type RETENTIONTIME Average_mz  \\\n0           MS2          1.73  265.10703   \n1           MS2         1.986  297.10791   \n2           MS2         5.516  317.21082   \n3           MS2         0.483  394.17041   \n4           MS2         6.029  554.27448   \n\n                                 Comment Alignment_ID  \\\n0   26393casmi_pos_35 intensity 11976221        26393   \n1   33665casmi_pos_35 intensity 36177000        33665   \n2  38456casmi_pos_35 intensity 130541400        38456   \n3    55575casmi_pos_35 intensity 7054869        55575   \n4   80536casmi_pos_35 intensity 39240128        80536   \n\n                                                 ms1  \\\n0  265.10703\\t11976221\\n266.11038\\t1917053\\n267.1...   \n1  297.10791\\t36177000\\n298.11126\\t5279648\\n299.1...   \n2  317.21082\\t130541400\\n318.21417\\t30243394\\n319...   \n3  394.17041\\t7054869\\n395.17376\\t1200683\\n396.17...   \n4  554.27448\\t39240128\\n555.27783\\t13108739\\n556....   \n\n                                                msms Collision_energy  \\\n0  54.7735\\t3759\\n57.03384\\t22783\\n57.07016\\t4476...               35   \n1  56.04974\\t163219\\n57.03369\\t7318\\n60.04457\\t99...               35   \n2  50.77495\\t32084\\n50.77723\\t23241\\n55.05456\\t11...               35   \n3  51.67189\\t2178\\n54.91366\\t2477\\n66.14157\\t2198...               35   \n4  59.04934\\t4466\\n83.04922\\t2992\\n87.66821\\t2974...               35   \n\n   intensity       mix_label Ion_mode  \n0   11976221  A_M1_posPFP_01        P  \n1   36177000  A_M1_posPFP_01        P  \n2  130541400  A_M1_posPFP_01        P  \n3    7054869  A_M1_posPFP_01        P  \n4   39240128  A_M1_posPFP_01        P  ",
      "text/html": "<div>\n<style scoped>\n    .dataframe tbody tr th:only-of-type {\n        vertical-align: middle;\n    }\n\n    .dataframe tbody tr th {\n        vertical-align: top;\n    }\n\n    .dataframe thead th {\n        text-align: right;\n    }\n</style>\n<table border=\"1\" class=\"dataframe\">\n  <thead>\n    <tr style=\"text-align: right;\">\n      <th></th>\n      <th>NAME</th>\n      <th>key</th>\n      <th>PRECURSORMZ</th>\n      <th>InChIKey</th>\n      <th>Formula</th>\n      <th>ExactMass</th>\n      <th>Adduct</th>\n      <th>Spectrum_type</th>\n      <th>RETENTIONTIME</th>\n      <th>Average_mz</th>\n      <th>Comment</th>\n      <th>Alignment_ID</th>\n      <th>ms1</th>\n      <th>msms</th>\n      <th>Collision_energy</th>\n      <th>intensity</th>\n      <th>mix_label</th>\n      <th>Ion_mode</th>\n    </tr>\n  </thead>\n  <tbody>\n    <tr>\n      <th>0</th>\n      <td>unknown254</td>\n      <td>CNXACDYPVKUDEK-UHFFFAOYSA-N[M+H]+</td>\n      <td>265.1071</td>\n      <td>CNXACDYPVKUDEK-UHFFFAOYSA-N</td>\n      <td>C14H16O5</td>\n      <td>264.099769</td>\n      <td>[M+H]+</td>\n      <td>MS2</td>\n      <td>1.73</td>\n      <td>265.10703</td>\n      <td>26393casmi_pos_35 intensity 11976221</td>\n      <td>26393</td>\n      <td>265.10703\\t11976221\\n266.11038\\t1917053\\n267.1...</td>\n      <td>54.7735\\t3759\\n57.03384\\t22783\\n57.07016\\t4476...</td>\n      <td>35</td>\n      <td>11976221</td>\n      <td>A_M1_posPFP_01</td>\n      <td>P</td>\n    </tr>\n    <tr>\n      <th>1</th>\n      <td>unknown268</td>\n      <td>FKDSAXOHMLWBNA-XCBNKYQSSA-N[M+H]+</td>\n      <td>297.1081</td>\n      <td>FKDSAXOHMLWBNA-XCBNKYQSSA-N</td>\n      <td>C13H16N2O6</td>\n      <td>296.100832</td>\n      <td>[M+H]+</td>\n      <td>MS2</td>\n      <td>1.986</td>\n      <td>297.10791</td>\n      <td>33665casmi_pos_35 intensity 36177000</td>\n      <td>33665</td>\n      <td>297.10791\\t36177000\\n298.11126\\t5279648\\n299.1...</td>\n      <td>56.04974\\t163219\\n57.03369\\t7318\\n60.04457\\t99...</td>\n      <td>35</td>\n      <td>36177000</td>\n      <td>A_M1_posPFP_01</td>\n      <td>P</td>\n    </tr>\n    <tr>\n      <th>2</th>\n      <td>unknown269</td>\n      <td>KZIADLALQLRZIQ-DBVHFHOUSA-N[M+H]+</td>\n      <td>317.2111</td>\n      <td>KZIADLALQLRZIQ-DBVHFHOUSA-N</td>\n      <td>C20H28O3</td>\n      <td>316.203834</td>\n      <td>[M+H]+</td>\n      <td>MS2</td>\n      <td>5.516</td>\n      <td>317.21082</td>\n      <td>38456casmi_pos_35 intensity 130541400</td>\n      <td>38456</td>\n      <td>317.21082\\t130541400\\n318.21417\\t30243394\\n319...</td>\n      <td>50.77495\\t32084\\n50.77723\\t23241\\n55.05456\\t11...</td>\n      <td>35</td>\n      <td>130541400</td>\n      <td>A_M1_posPFP_01</td>\n      <td>P</td>\n    </tr>\n    <tr>\n      <th>3</th>\n      <td>unknown298</td>\n      <td>GGUPBNDFNVHEBP-PANSSLBXSA-N[M+NH4]+</td>\n      <td>394.1708</td>\n      <td>GGUPBNDFNVHEBP-PANSSLBXSA-N</td>\n      <td>C16H24O10</td>\n      <td>376.13694</td>\n      <td>[M+NH4]+</td>\n      <td>MS2</td>\n      <td>0.483</td>\n      <td>394.17041</td>\n      <td>55575casmi_pos_35 intensity 7054869</td>\n      <td>55575</td>\n      <td>394.17041\\t7054869\\n395.17376\\t1200683\\n396.17...</td>\n      <td>51.67189\\t2178\\n54.91366\\t2477\\n66.14157\\t2198...</td>\n      <td>35</td>\n      <td>7054869</td>\n      <td>A_M1_posPFP_01</td>\n      <td>P</td>\n    </tr>\n    <tr>\n      <th>4</th>\n      <td>unknown322</td>\n      <td>HVQJVSACIKTWQR-RYXVVOBLSA-N[M+NH4]+</td>\n      <td>554.2748</td>\n      <td>HVQJVSACIKTWQR-RYXVVOBLSA-N</td>\n      <td>C31H36O8</td>\n      <td>536.241006</td>\n      <td>[M+NH4]+</td>\n      <td>MS2</td>\n      <td>6.029</td>\n      <td>554.27448</td>\n      <td>80536casmi_pos_35 intensity 39240128</td>\n      <td>80536</td>\n      <td>554.27448\\t39240128\\n555.27783\\t13108739\\n556....</td>\n      <td>59.04934\\t4466\\n83.04922\\t2992\\n87.66821\\t2974...</td>\n      <td>35</td>\n      <td>39240128</td>\n      <td>A_M1_posPFP_01</td>\n      <td>P</td>\n    </tr>\n  </tbody>\n</table>\n</div>"
     },
     "execution_count": 6,
     "metadata": {},
     "output_type": "execute_result"
    }
   ],
   "source": [
    "data_pos.head()"
   ],
   "metadata": {
    "collapsed": false,
    "pycharm": {
     "name": "#%%\n"
    }
   }
  },
  {
   "cell_type": "code",
   "execution_count": 20,
   "outputs": [],
   "source": [
    "data_pos_unique = data_pos.drop_duplicates(subset=['InChIKey'])"
   ],
   "metadata": {
    "collapsed": false,
    "pycharm": {
     "name": "#%%\n"
    }
   }
  },
  {
   "cell_type": "code",
   "execution_count": 49,
   "outputs": [
    {
     "name": "stderr",
     "output_type": "stream",
     "text": [
      "100%|██████████| 287/287 [08:36<00:00,  1.80s/it]\n"
     ]
    }
   ],
   "source": [
    "# weighted average has bug!!!\n",
    "# consensus_msms = []\n",
    "# consensus_ms1 = []\n",
    "# for key in tqdm(data_pos_unique['InChIKey']):\n",
    "#     data_temp =  data_pos.loc[data_pos['InChIKey']==key]\n",
    "#     consensus_msms.append(so.weighted_average_spectra(data_temp, typeofmsms='msms', ifnormalize=True))\n",
    "#     consensus_ms1.append(so.weighted_average_spectra(data_temp, typeofmsms='ms1', ifnormalize=True))\n",
    "# data_pos_unique['msms']=consensus_msms\n",
    "# data_pos_unique['ms1']=consensus_ms1"
   ],
   "metadata": {
    "collapsed": false,
    "pycharm": {
     "name": "#%%\n"
    }
   }
  },
  {
   "cell_type": "code",
   "execution_count": 8,
   "outputs": [
    {
     "data": {
      "text/plain": "287"
     },
     "execution_count": 8,
     "metadata": {},
     "output_type": "execute_result"
    }
   ],
   "source": [
    "len(data_pos['key'].unique())"
   ],
   "metadata": {
    "collapsed": false,
    "pycharm": {
     "name": "#%%\n"
    }
   }
  },
  {
   "cell_type": "code",
   "execution_count": 21,
   "outputs": [
    {
     "data": {
      "text/plain": "287"
     },
     "execution_count": 21,
     "metadata": {},
     "output_type": "execute_result"
    }
   ],
   "source": [
    "len(data_pos_unique['key'].unique())"
   ],
   "metadata": {
    "collapsed": false,
    "pycharm": {
     "name": "#%%\n"
    }
   }
  },
  {
   "cell_type": "code",
   "execution_count": 14,
   "outputs": [
    {
     "name": "stdout",
     "output_type": "stream",
     "text": [
      "I am precursor matching!\n"
     ]
    },
    {
     "data": {
      "text/plain": "       Name                     InChIKey     Formula  Exact Mass  \\\n0  unknown0  ZUDBDCBPZHGAEL-DCYCNZAJSA-N    C25H38O9  482.251570   \n1  unknown1  ZKCHQVRAXCCTLE-YXHZOQBQSA-N   C46H74O18  914.487490   \n2  unknown2  UYALDZZEAZIEME-MYTBKXFISA-N   C35H42O16  718.247273   \n3  unknown3  IFQVIMQHTPDZQU-UHFFFAOYSA-N  C22H40N2O7  444.283537   \n4  unknown4  XPXRFYSHQGUVFK-UTXMSIPTSA-N    C26H36O8  476.241006   \n\n         Mix label  RT [min]     Adduct Priority/Bonus    [M+H]+  [M+NH4]+  \\\n0  A_M28_negPFP_04      1.67    [M+Cl]-       Priority    0.0000       0.0   \n1   A_M8_negPFP_03      3.70  [M+FA-H]-       Priority    0.0000       0.0   \n2   A_M3_posPFP_01      5.55     [M+H]+       Priority  719.2546       0.0   \n3   A_M6_posPFP_02      5.74    [M+Na]+       Priority    0.0000       0.0   \n4  A_M23_posPFP_02      5.55    [M+Na]+       Priority    0.0000       0.0   \n\n    [M+Na]+  [M-H]-  [M+FA-H]-  [M+Cl]-  \n0    0.0000     0.0     0.0000  517.221  \n1    0.0000     0.0   959.4857    0.000  \n2    0.0000     0.0     0.0000    0.000  \n3  467.2728     0.0     0.0000    0.000  \n4  499.2302     0.0     0.0000    0.000  ",
      "text/html": "<div>\n<style scoped>\n    .dataframe tbody tr th:only-of-type {\n        vertical-align: middle;\n    }\n\n    .dataframe tbody tr th {\n        vertical-align: top;\n    }\n\n    .dataframe thead th {\n        text-align: right;\n    }\n</style>\n<table border=\"1\" class=\"dataframe\">\n  <thead>\n    <tr style=\"text-align: right;\">\n      <th></th>\n      <th>Name</th>\n      <th>InChIKey</th>\n      <th>Formula</th>\n      <th>Exact Mass</th>\n      <th>Mix label</th>\n      <th>RT [min]</th>\n      <th>Adduct</th>\n      <th>Priority/Bonus</th>\n      <th>[M+H]+</th>\n      <th>[M+NH4]+</th>\n      <th>[M+Na]+</th>\n      <th>[M-H]-</th>\n      <th>[M+FA-H]-</th>\n      <th>[M+Cl]-</th>\n    </tr>\n  </thead>\n  <tbody>\n    <tr>\n      <th>0</th>\n      <td>unknown0</td>\n      <td>ZUDBDCBPZHGAEL-DCYCNZAJSA-N</td>\n      <td>C25H38O9</td>\n      <td>482.251570</td>\n      <td>A_M28_negPFP_04</td>\n      <td>1.67</td>\n      <td>[M+Cl]-</td>\n      <td>Priority</td>\n      <td>0.0000</td>\n      <td>0.0</td>\n      <td>0.0000</td>\n      <td>0.0</td>\n      <td>0.0000</td>\n      <td>517.221</td>\n    </tr>\n    <tr>\n      <th>1</th>\n      <td>unknown1</td>\n      <td>ZKCHQVRAXCCTLE-YXHZOQBQSA-N</td>\n      <td>C46H74O18</td>\n      <td>914.487490</td>\n      <td>A_M8_negPFP_03</td>\n      <td>3.70</td>\n      <td>[M+FA-H]-</td>\n      <td>Priority</td>\n      <td>0.0000</td>\n      <td>0.0</td>\n      <td>0.0000</td>\n      <td>0.0</td>\n      <td>959.4857</td>\n      <td>0.000</td>\n    </tr>\n    <tr>\n      <th>2</th>\n      <td>unknown2</td>\n      <td>UYALDZZEAZIEME-MYTBKXFISA-N</td>\n      <td>C35H42O16</td>\n      <td>718.247273</td>\n      <td>A_M3_posPFP_01</td>\n      <td>5.55</td>\n      <td>[M+H]+</td>\n      <td>Priority</td>\n      <td>719.2546</td>\n      <td>0.0</td>\n      <td>0.0000</td>\n      <td>0.0</td>\n      <td>0.0000</td>\n      <td>0.000</td>\n    </tr>\n    <tr>\n      <th>3</th>\n      <td>unknown3</td>\n      <td>IFQVIMQHTPDZQU-UHFFFAOYSA-N</td>\n      <td>C22H40N2O7</td>\n      <td>444.283537</td>\n      <td>A_M6_posPFP_02</td>\n      <td>5.74</td>\n      <td>[M+Na]+</td>\n      <td>Priority</td>\n      <td>0.0000</td>\n      <td>0.0</td>\n      <td>467.2728</td>\n      <td>0.0</td>\n      <td>0.0000</td>\n      <td>0.000</td>\n    </tr>\n    <tr>\n      <th>4</th>\n      <td>unknown4</td>\n      <td>XPXRFYSHQGUVFK-UTXMSIPTSA-N</td>\n      <td>C26H36O8</td>\n      <td>476.241006</td>\n      <td>A_M23_posPFP_02</td>\n      <td>5.55</td>\n      <td>[M+Na]+</td>\n      <td>Priority</td>\n      <td>0.0000</td>\n      <td>0.0</td>\n      <td>499.2302</td>\n      <td>0.0</td>\n      <td>0.0000</td>\n      <td>0.000</td>\n    </tr>\n  </tbody>\n</table>\n</div>"
     },
     "execution_count": 14,
     "metadata": {},
     "output_type": "execute_result"
    }
   ],
   "source": [
    "std_list.head()"
   ],
   "metadata": {
    "collapsed": false,
    "pycharm": {
     "name": "#%%\n"
    }
   }
  },
  {
   "cell_type": "code",
   "execution_count": 22,
   "outputs": [
    {
     "name": "stderr",
     "output_type": "stream",
     "text": [
      "100%|██████████| 287/287 [02:46<00:00,  1.73it/s]\n"
     ]
    }
   ],
   "source": [
    "composite_msms = []\n",
    "composite_ms1 = []\n",
    "for key in tqdm(data_pos_unique['InChIKey']):\n",
    "    data_temp =  data_pos.loc[data_pos['InChIKey']==key]\n",
    "    composite_msms.append(so.make_composite_spectra(data_temp, typeofmsms='msms', ifnormalize=True))\n",
    "    composite_ms1.append(so.make_composite_spectra(data_temp, typeofmsms='ms1', ifnormalize=True))\n",
    "data_pos_unique['msms_com']=composite_msms\n",
    "data_pos_unique['ms1_com']=composite_ms1\n",
    "# so.export_library(data_pos_unique,output_location=\"data/casmi/casmi_pos.txt\",typeofmsms='msms_com')"
   ],
   "metadata": {
    "collapsed": false,
    "pycharm": {
     "name": "#%%\n"
    }
   }
  },
  {
   "cell_type": "code",
   "execution_count": 25,
   "outputs": [
    {
     "data": {
      "text/plain": "         NAME                                  key PRECURSORMZ  \\\n0  unknown254    CNXACDYPVKUDEK-UHFFFAOYSA-N[M+H]+    265.1071   \n1  unknown268    FKDSAXOHMLWBNA-XCBNKYQSSA-N[M+H]+    297.1081   \n2  unknown269    KZIADLALQLRZIQ-DBVHFHOUSA-N[M+H]+    317.2111   \n3  unknown298  GGUPBNDFNVHEBP-PANSSLBXSA-N[M+NH4]+    394.1708   \n4  unknown322  HVQJVSACIKTWQR-RYXVVOBLSA-N[M+NH4]+    554.2748   \n\n                      InChIKey     Formula   ExactMass    Adduct  \\\n0  CNXACDYPVKUDEK-UHFFFAOYSA-N    C14H16O5  264.099769    [M+H]+   \n1  FKDSAXOHMLWBNA-XCBNKYQSSA-N  C13H16N2O6  296.100832    [M+H]+   \n2  KZIADLALQLRZIQ-DBVHFHOUSA-N    C20H28O3  316.203834    [M+H]+   \n3  GGUPBNDFNVHEBP-PANSSLBXSA-N   C16H24O10   376.13694  [M+NH4]+   \n4  HVQJVSACIKTWQR-RYXVVOBLSA-N    C31H36O8  536.241006  [M+NH4]+   \n\n  Spectrum_type RETENTIONTIME Average_mz  \\\n0           MS2          1.73  265.10703   \n1           MS2         1.986  297.10791   \n2           MS2         5.516  317.21082   \n3           MS2         0.483  394.17041   \n4           MS2         6.029  554.27448   \n\n                                 Comment Alignment_ID  \\\n0   26393casmi_pos_35 intensity 11976221        26393   \n1   33665casmi_pos_35 intensity 36177000        33665   \n2  38456casmi_pos_35 intensity 130541400        38456   \n3    55575casmi_pos_35 intensity 7054869        55575   \n4   80536casmi_pos_35 intensity 39240128        80536   \n\n                                                 ms1  \\\n0  265.10703\\t11976221\\n266.11038\\t1917053\\n267.1...   \n1  297.10791\\t36177000\\n298.11126\\t5279648\\n299.1...   \n2  317.21082\\t130541400\\n318.21417\\t30243394\\n319...   \n3  394.17041\\t7054869\\n395.17376\\t1200683\\n396.17...   \n4  554.27448\\t39240128\\n555.27783\\t13108739\\n556....   \n\n                                                msms Collision_energy  \\\n0  54.7735\\t3759\\n57.03384\\t22783\\n57.07016\\t4476...               35   \n1  56.04974\\t163219\\n57.03369\\t7318\\n60.04457\\t99...               35   \n2  50.77495\\t32084\\n50.77723\\t23241\\n55.05456\\t11...               35   \n3  51.67189\\t2178\\n54.91366\\t2477\\n66.14157\\t2198...               35   \n4  59.04934\\t4466\\n83.04922\\t2992\\n87.66821\\t2974...               35   \n\n   intensity       mix_label Ion_mode  \\\n0   11976221  A_M1_posPFP_01        P   \n1   36177000  A_M1_posPFP_01        P   \n2  130541400  A_M1_posPFP_01        P   \n3    7054869  A_M1_posPFP_01        P   \n4   39240128  A_M1_posPFP_01        P   \n\n                                            msms_com  \\\n0  53.03885\\t0.549593\\n54.770195\\t1.536846\\n55.01...   \n1  53.039345\\t0.154068\\n56.04976\\t4.371533\\n57.03...   \n2  50.58128\\t0.412187\\n50.77609\\t0.32527\\n53.0390...   \n3  51.67189\\t0.481694\\n53.03893\\t1.676944\\n53.551...   \n4  53.65599\\t1.079176\\n54.06056\\t0.858117\\n59.049...   \n\n                                             ms1_com  \n0  265.10703\\t100.0\\n266.11038\\t16.007161\\n267.11...  \n1  297.10791\\t100.0\\n298.11126\\t14.593935\\n299.11...  \n2  317.21082\\t100.0\\n318.21417\\t23.167665\\n319.21...  \n3  394.17041\\t100.0\\n395.17376\\t17.01921\\n396.177...  \n4  554.27448\\t100.0\\n555.27783\\t33.406463\\n556.28...  ",
      "text/html": "<div>\n<style scoped>\n    .dataframe tbody tr th:only-of-type {\n        vertical-align: middle;\n    }\n\n    .dataframe tbody tr th {\n        vertical-align: top;\n    }\n\n    .dataframe thead th {\n        text-align: right;\n    }\n</style>\n<table border=\"1\" class=\"dataframe\">\n  <thead>\n    <tr style=\"text-align: right;\">\n      <th></th>\n      <th>NAME</th>\n      <th>key</th>\n      <th>PRECURSORMZ</th>\n      <th>InChIKey</th>\n      <th>Formula</th>\n      <th>ExactMass</th>\n      <th>Adduct</th>\n      <th>Spectrum_type</th>\n      <th>RETENTIONTIME</th>\n      <th>Average_mz</th>\n      <th>Comment</th>\n      <th>Alignment_ID</th>\n      <th>ms1</th>\n      <th>msms</th>\n      <th>Collision_energy</th>\n      <th>intensity</th>\n      <th>mix_label</th>\n      <th>Ion_mode</th>\n      <th>msms_com</th>\n      <th>ms1_com</th>\n    </tr>\n  </thead>\n  <tbody>\n    <tr>\n      <th>0</th>\n      <td>unknown254</td>\n      <td>CNXACDYPVKUDEK-UHFFFAOYSA-N[M+H]+</td>\n      <td>265.1071</td>\n      <td>CNXACDYPVKUDEK-UHFFFAOYSA-N</td>\n      <td>C14H16O5</td>\n      <td>264.099769</td>\n      <td>[M+H]+</td>\n      <td>MS2</td>\n      <td>1.73</td>\n      <td>265.10703</td>\n      <td>26393casmi_pos_35 intensity 11976221</td>\n      <td>26393</td>\n      <td>265.10703\\t11976221\\n266.11038\\t1917053\\n267.1...</td>\n      <td>54.7735\\t3759\\n57.03384\\t22783\\n57.07016\\t4476...</td>\n      <td>35</td>\n      <td>11976221</td>\n      <td>A_M1_posPFP_01</td>\n      <td>P</td>\n      <td>53.03885\\t0.549593\\n54.770195\\t1.536846\\n55.01...</td>\n      <td>265.10703\\t100.0\\n266.11038\\t16.007161\\n267.11...</td>\n    </tr>\n    <tr>\n      <th>1</th>\n      <td>unknown268</td>\n      <td>FKDSAXOHMLWBNA-XCBNKYQSSA-N[M+H]+</td>\n      <td>297.1081</td>\n      <td>FKDSAXOHMLWBNA-XCBNKYQSSA-N</td>\n      <td>C13H16N2O6</td>\n      <td>296.100832</td>\n      <td>[M+H]+</td>\n      <td>MS2</td>\n      <td>1.986</td>\n      <td>297.10791</td>\n      <td>33665casmi_pos_35 intensity 36177000</td>\n      <td>33665</td>\n      <td>297.10791\\t36177000\\n298.11126\\t5279648\\n299.1...</td>\n      <td>56.04974\\t163219\\n57.03369\\t7318\\n60.04457\\t99...</td>\n      <td>35</td>\n      <td>36177000</td>\n      <td>A_M1_posPFP_01</td>\n      <td>P</td>\n      <td>53.039345\\t0.154068\\n56.04976\\t4.371533\\n57.03...</td>\n      <td>297.10791\\t100.0\\n298.11126\\t14.593935\\n299.11...</td>\n    </tr>\n    <tr>\n      <th>2</th>\n      <td>unknown269</td>\n      <td>KZIADLALQLRZIQ-DBVHFHOUSA-N[M+H]+</td>\n      <td>317.2111</td>\n      <td>KZIADLALQLRZIQ-DBVHFHOUSA-N</td>\n      <td>C20H28O3</td>\n      <td>316.203834</td>\n      <td>[M+H]+</td>\n      <td>MS2</td>\n      <td>5.516</td>\n      <td>317.21082</td>\n      <td>38456casmi_pos_35 intensity 130541400</td>\n      <td>38456</td>\n      <td>317.21082\\t130541400\\n318.21417\\t30243394\\n319...</td>\n      <td>50.77495\\t32084\\n50.77723\\t23241\\n55.05456\\t11...</td>\n      <td>35</td>\n      <td>130541400</td>\n      <td>A_M1_posPFP_01</td>\n      <td>P</td>\n      <td>50.58128\\t0.412187\\n50.77609\\t0.32527\\n53.0390...</td>\n      <td>317.21082\\t100.0\\n318.21417\\t23.167665\\n319.21...</td>\n    </tr>\n    <tr>\n      <th>3</th>\n      <td>unknown298</td>\n      <td>GGUPBNDFNVHEBP-PANSSLBXSA-N[M+NH4]+</td>\n      <td>394.1708</td>\n      <td>GGUPBNDFNVHEBP-PANSSLBXSA-N</td>\n      <td>C16H24O10</td>\n      <td>376.13694</td>\n      <td>[M+NH4]+</td>\n      <td>MS2</td>\n      <td>0.483</td>\n      <td>394.17041</td>\n      <td>55575casmi_pos_35 intensity 7054869</td>\n      <td>55575</td>\n      <td>394.17041\\t7054869\\n395.17376\\t1200683\\n396.17...</td>\n      <td>51.67189\\t2178\\n54.91366\\t2477\\n66.14157\\t2198...</td>\n      <td>35</td>\n      <td>7054869</td>\n      <td>A_M1_posPFP_01</td>\n      <td>P</td>\n      <td>51.67189\\t0.481694\\n53.03893\\t1.676944\\n53.551...</td>\n      <td>394.17041\\t100.0\\n395.17376\\t17.01921\\n396.177...</td>\n    </tr>\n    <tr>\n      <th>4</th>\n      <td>unknown322</td>\n      <td>HVQJVSACIKTWQR-RYXVVOBLSA-N[M+NH4]+</td>\n      <td>554.2748</td>\n      <td>HVQJVSACIKTWQR-RYXVVOBLSA-N</td>\n      <td>C31H36O8</td>\n      <td>536.241006</td>\n      <td>[M+NH4]+</td>\n      <td>MS2</td>\n      <td>6.029</td>\n      <td>554.27448</td>\n      <td>80536casmi_pos_35 intensity 39240128</td>\n      <td>80536</td>\n      <td>554.27448\\t39240128\\n555.27783\\t13108739\\n556....</td>\n      <td>59.04934\\t4466\\n83.04922\\t2992\\n87.66821\\t2974...</td>\n      <td>35</td>\n      <td>39240128</td>\n      <td>A_M1_posPFP_01</td>\n      <td>P</td>\n      <td>53.65599\\t1.079176\\n54.06056\\t0.858117\\n59.049...</td>\n      <td>554.27448\\t100.0\\n555.27783\\t33.406463\\n556.28...</td>\n    </tr>\n  </tbody>\n</table>\n</div>"
     },
     "execution_count": 25,
     "metadata": {},
     "output_type": "execute_result"
    }
   ],
   "source": [
    "data_pos_unique.head()"
   ],
   "metadata": {
    "collapsed": false,
    "pycharm": {
     "name": "#%%\n"
    }
   }
  },
  {
   "cell_type": "code",
   "execution_count": 29,
   "outputs": [
    {
     "data": {
      "text/plain": "NAME                                                       unknown254\nkey                                 CNXACDYPVKUDEK-UHFFFAOYSA-N[M+H]+\nPRECURSORMZ                                                  265.1071\nInChIKey                                  CNXACDYPVKUDEK-UHFFFAOYSA-N\nFormula                                                      C14H16O5\nExactMass                                                  264.099769\nAdduct                                                         [M+H]+\nSpectrum_type                                                     MS2\nRETENTIONTIME                                                    1.73\nAverage_mz                                                  265.10703\nComment                          26393casmi_pos_35 intensity 11976221\nAlignment_ID                                                    26393\nms1                 265.10703\\t11976221\\n266.11038\\t1917053\\n267.1...\nmsms                54.7735\\t3759\\n57.03384\\t22783\\n57.07016\\t4476...\nCollision_energy                                                   35\nintensity                                                    11976221\nmix_label                                              A_M1_posPFP_01\nIon_mode                                                            P\nmsms_com            53.03885\\t0.549593\\n54.770195\\t1.536846\\n55.01...\nms1_com             265.10703\\t100.0\\n266.11038\\t16.007161\\n267.11...\nName: 0, dtype: object"
     },
     "execution_count": 29,
     "metadata": {},
     "output_type": "execute_result"
    }
   ],
   "source": [
    "row"
   ],
   "metadata": {
    "collapsed": false,
    "pycharm": {
     "name": "#%%\n"
    }
   }
  },
  {
   "cell_type": "code",
   "execution_count": 40,
   "outputs": [
    {
     "data": {
      "text/plain": "         NAME                                key PRECURSORMZ  \\\n0  unknown254  CNXACDYPVKUDEK-UHFFFAOYSA-N[M+H]+    265.1071   \n1  unknown268  FKDSAXOHMLWBNA-XCBNKYQSSA-N[M+H]+    297.1081   \n\n                      InChIKey     Formula   ExactMass  Adduct Spectrum_type  \\\n0  CNXACDYPVKUDEK-UHFFFAOYSA-N    C14H16O5  264.099769  [M+H]+           MS2   \n1  FKDSAXOHMLWBNA-XCBNKYQSSA-N  C13H16N2O6  296.100832  [M+H]+           MS2   \n\n  RETENTIONTIME Average_mz                               Comment Alignment_ID  \\\n0          1.73  265.10703  26393casmi_pos_35 intensity 11976221        26393   \n1         1.986  297.10791  33665casmi_pos_35 intensity 36177000        33665   \n\n                                                 ms1  \\\n0  265.10703\\t11976221\\n266.11038\\t1917053\\n267.1...   \n1  297.10791\\t36177000\\n298.11126\\t5279648\\n299.1...   \n\n                                                msms Collision_energy  \\\n0  54.7735\\t3759\\n57.03384\\t22783\\n57.07016\\t4476...               35   \n1  56.04974\\t163219\\n57.03369\\t7318\\n60.04457\\t99...               35   \n\n  intensity       mix_label Ion_mode  \\\n0  11976221  A_M1_posPFP_01        P   \n1  36177000  A_M1_posPFP_01        P   \n\n                                            msms_com  \\\n0  53.03885\\t0.549593\\n54.770195\\t1.536846\\n55.01...   \n1  53.039345\\t0.154068\\n56.04976\\t4.371533\\n57.03...   \n\n                                             ms1_com  \n0  265.10703\\t100.0\\n266.11038\\t16.007161\\n267.11...  \n1  297.10791\\t100.0\\n298.11126\\t14.593935\\n299.11...  ",
      "text/html": "<div>\n<style scoped>\n    .dataframe tbody tr th:only-of-type {\n        vertical-align: middle;\n    }\n\n    .dataframe tbody tr th {\n        vertical-align: top;\n    }\n\n    .dataframe thead th {\n        text-align: right;\n    }\n</style>\n<table border=\"1\" class=\"dataframe\">\n  <thead>\n    <tr style=\"text-align: right;\">\n      <th></th>\n      <th>NAME</th>\n      <th>key</th>\n      <th>PRECURSORMZ</th>\n      <th>InChIKey</th>\n      <th>Formula</th>\n      <th>ExactMass</th>\n      <th>Adduct</th>\n      <th>Spectrum_type</th>\n      <th>RETENTIONTIME</th>\n      <th>Average_mz</th>\n      <th>Comment</th>\n      <th>Alignment_ID</th>\n      <th>ms1</th>\n      <th>msms</th>\n      <th>Collision_energy</th>\n      <th>intensity</th>\n      <th>mix_label</th>\n      <th>Ion_mode</th>\n      <th>msms_com</th>\n      <th>ms1_com</th>\n    </tr>\n  </thead>\n  <tbody>\n    <tr>\n      <th>0</th>\n      <td>unknown254</td>\n      <td>CNXACDYPVKUDEK-UHFFFAOYSA-N[M+H]+</td>\n      <td>265.1071</td>\n      <td>CNXACDYPVKUDEK-UHFFFAOYSA-N</td>\n      <td>C14H16O5</td>\n      <td>264.099769</td>\n      <td>[M+H]+</td>\n      <td>MS2</td>\n      <td>1.73</td>\n      <td>265.10703</td>\n      <td>26393casmi_pos_35 intensity 11976221</td>\n      <td>26393</td>\n      <td>265.10703\\t11976221\\n266.11038\\t1917053\\n267.1...</td>\n      <td>54.7735\\t3759\\n57.03384\\t22783\\n57.07016\\t4476...</td>\n      <td>35</td>\n      <td>11976221</td>\n      <td>A_M1_posPFP_01</td>\n      <td>P</td>\n      <td>53.03885\\t0.549593\\n54.770195\\t1.536846\\n55.01...</td>\n      <td>265.10703\\t100.0\\n266.11038\\t16.007161\\n267.11...</td>\n    </tr>\n    <tr>\n      <th>1</th>\n      <td>unknown268</td>\n      <td>FKDSAXOHMLWBNA-XCBNKYQSSA-N[M+H]+</td>\n      <td>297.1081</td>\n      <td>FKDSAXOHMLWBNA-XCBNKYQSSA-N</td>\n      <td>C13H16N2O6</td>\n      <td>296.100832</td>\n      <td>[M+H]+</td>\n      <td>MS2</td>\n      <td>1.986</td>\n      <td>297.10791</td>\n      <td>33665casmi_pos_35 intensity 36177000</td>\n      <td>33665</td>\n      <td>297.10791\\t36177000\\n298.11126\\t5279648\\n299.1...</td>\n      <td>56.04974\\t163219\\n57.03369\\t7318\\n60.04457\\t99...</td>\n      <td>35</td>\n      <td>36177000</td>\n      <td>A_M1_posPFP_01</td>\n      <td>P</td>\n      <td>53.039345\\t0.154068\\n56.04976\\t4.371533\\n57.03...</td>\n      <td>297.10791\\t100.0\\n298.11126\\t14.593935\\n299.11...</td>\n    </tr>\n  </tbody>\n</table>\n</div>"
     },
     "execution_count": 40,
     "metadata": {},
     "output_type": "execute_result"
    }
   ],
   "source": [
    "data_test"
   ],
   "metadata": {
    "collapsed": false,
    "pycharm": {
     "name": "#%%\n"
    }
   }
  },
  {
   "cell_type": "code",
   "execution_count": 44,
   "outputs": [],
   "source": [
    "data_pos_unique.to_csv(\"~/Documents/GitHub/Libgen_data/casmi/data_pos.csv\", index = False)"
   ],
   "metadata": {
    "collapsed": false,
    "pycharm": {
     "name": "#%%\n"
    }
   }
  },
  {
   "cell_type": "code",
   "execution_count": null,
   "outputs": [],
   "source": [
    "inputfile = (os.path.join(folderpath, file))"
   ],
   "metadata": {
    "collapsed": false,
    "pycharm": {
     "name": "#%%\n"
    }
   }
  },
  {
   "cell_type": "code",
   "execution_count": 54,
   "outputs": [],
   "source": [
    "path = \"/Users/fanzhoukong/Documents/GitHub/Libgen_data/casmi/cat/pos/\""
   ],
   "metadata": {
    "collapsed": false,
    "pycharm": {
     "name": "#%%\n"
    }
   }
  },
  {
   "cell_type": "code",
   "execution_count": 62,
   "outputs": [],
   "source": [
    "output = (os.path.join(path, data_temp.iloc[0]['NAME']+\".MAT\"))"
   ],
   "metadata": {
    "collapsed": false,
    "pycharm": {
     "name": "#%%\n"
    }
   }
  },
  {
   "cell_type": "code",
   "execution_count": 58,
   "outputs": [
    {
     "data": {
      "text/plain": "'/Users/fanzhoukong/Documents/GitHub/Libgen_data/casmi/cat/pos/unknown254.cat'"
     },
     "execution_count": 58,
     "metadata": {},
     "output_type": "execute_result"
    }
   ],
   "source": [
    "output"
   ],
   "metadata": {
    "collapsed": false,
    "pycharm": {
     "name": "#%%\n"
    }
   }
  },
  {
   "cell_type": "code",
   "execution_count": 64,
   "outputs": [],
   "source": [
    "for i in data_pos_unique['InChIKey'].unique():\n",
    "    data_temp = data_pos_unique.loc[data_pos_unique['InChIKey']==i]\n",
    "    output = (os.path.join(path, data_temp.iloc[0]['NAME']+\".mat\"))\n",
    "    so.export_cat(data_temp, output, typeofms1='ms1_com',typeofmsms='msms_com')\n"
   ],
   "metadata": {
    "collapsed": false,
    "pycharm": {
     "name": "#%%\n"
    }
   }
  },
  {
   "cell_type": "code",
   "execution_count": 46,
   "outputs": [],
   "source": [
    "export_cat(data_pos_unique, \"data/test.txt\",)"
   ],
   "metadata": {
    "collapsed": false,
    "pycharm": {
     "name": "#%%\n"
    }
   }
  },
  {
   "cell_type": "code",
   "execution_count": 42,
   "outputs": [],
   "source": [],
   "metadata": {
    "collapsed": false,
    "pycharm": {
     "name": "#%%\n"
    }
   }
  },
  {
   "cell_type": "markdown",
   "source": [
    "# end of postive processing"
   ],
   "metadata": {
    "collapsed": false,
    "pycharm": {
     "name": "#%% md\n"
    }
   }
  },
  {
   "cell_type": "code",
   "execution_count": 5,
   "outputs": [
    {
     "data": {
      "text/plain": "[M-H]-       108\n[M+FA-H]-     67\n[M+Cl]-       21\nName: Adduct, dtype: int64"
     },
     "execution_count": 5,
     "metadata": {},
     "output_type": "execute_result"
    }
   ],
   "source": [
    "std_list_neg['Adduct'].value_counts()"
   ],
   "metadata": {
    "collapsed": false,
    "pycharm": {
     "name": "#%%\n"
    }
   }
  },
  {
   "cell_type": "code",
   "execution_count": 6,
   "outputs": [
    {
     "name": "stderr",
     "output_type": "stream",
     "text": [
      "100%|██████████| 54/54 [00:01<00:00, 35.80it/s]\n",
      "100%|██████████| 54/54 [00:01<00:00, 36.17it/s]\n",
      "100%|██████████| 54/54 [00:01<00:00, 34.52it/s]\n"
     ]
    }
   ],
   "source": [
    "# raw = pm.readin_MSDIAL(\"data/casmi/Height_0_20224211426_neg35.txt\")\n",
    "# raw = pm.readin_MSDIAL(\"data/casmi/Height_0_20224212229_neg45.txt\")\n",
    "# raw = pm.readin_MSDIAL(\"data/casmi/Height_0_2022422746_neg65.txt\")\n",
    "raw35neg = pm.readin_MSDIAL(\"~/Documents/GitHub/Libgen_data/casmi/Height_0_20225241450_neg35_FINAL.txt\")\n",
    "raw45neg = pm.readin_MSDIAL(\"~/Documents/GitHub/Libgen_data/casmi/Height_0_20225241632_neg45_FINAL.txt\")\n",
    "raw65neg = pm.readin_MSDIAL(\"~/Documents/GitHub/Libgen_data/casmi/Height_0_20225241733_neg65_FINAL.txt\")\n",
    "# raw = pm.readin_MSDIAL(\"data/casmi/Height_0_2022420235_pos45.txt\")\n",
    "# raw = pm.readin_MSDIAL(\"data/casmi/Height_0_2022421851_pos65.txt\")\n",
    "# raw_addition = pm.readin_MSDIAL(\"data/casmi/missing_compounds/Height_0_202251817_pos35.txt\")\n",
    "# raw_addition = pm.readin_MSDIAL(\"data/casmi/20220520_updated/Height_0_202251817_pos35.txt\")\n",
    "# data65_neg = pm.precursor_matching_ppm(raw, std_list, 0.05, ['[M+H]+', '[M+NH4]+', '[M+Na]+', '[M-H]-', '[M+FA-H]-', '[M+Cl]-'],'casmi_neg_65', ppm = False, threshold=0.7)\n",
    "# data45_neg = pm.precursor_matching_ppm(raw, std_list, 10, ['[M+H]+', '[M+NH4]+', '[M+Na]+', '[M-H]-', '[M+FA-H]-', '[M+Cl]-'],'casmi_neg_45', ppm = True)\n",
    "# data = pm.precursor_matching(raw, std_list, 10, ['[M+H]+', '[M+NH4]+', '[M+Na]+', '[M-H]-', '[M+FA-H]-', '[M+Cl]-'],'casmi_pos65', ppm = True, threshold=0.7)\n",
    "# data_pos = pm.precursor_matching_ppm(raw, std_list, 0.05, ['[M+H]+', '[M+NH4]+', '[M+Na]+', '[M-H]-', '[M+FA-H]-', '[M+Cl]-'],'casmi_pos_45', ppm = False, threshold=0.7)\n",
    "data_neg35 = pm.precursor_matching_rt(raw35neg, std_list, 0.05, ['[M-H]-', '[M+FA-H]-', '[M+Cl]-'],'casmi_neg_35',CE=35, ppm = False, threshold=0.7)\n",
    "# data_pos_addition = pm.precursor_matching(raw_addition, std_list, 0.05, ['[M+H]+', '[M+NH4]+', '[M+Na]+', '[M-H]-', '[M+FA-H]-', '[M+Cl]-'],'casmi_pos_35', ppm = False, threshold=0.7)\n",
    "data_neg45 = pm.precursor_matching_rt(raw45neg, std_list, 0.05, ['[M-H]-', '[M+FA-H]-', '[M+Cl]-'],'casmi_neg_45',CE=45, ppm = False, threshold=0.7)\n",
    "data_neg65 = pm.precursor_matching_rt(raw65neg, std_list, 0.05, ['[M-H]-', '[M+FA-H]-', '[M+Cl]-'],'casmi_neg_65', CE=65,ppm = False, threshold=0.7)"
   ],
   "metadata": {
    "collapsed": false,
    "pycharm": {
     "name": "#%%\n"
    }
   }
  },
  {
   "cell_type": "code",
   "execution_count": 7,
   "outputs": [],
   "source": [
    "data_neg=pd.concat([data_neg35,data_neg45,data_neg65], axis = 0)"
   ],
   "metadata": {
    "collapsed": false,
    "pycharm": {
     "name": "#%%\n"
    }
   }
  },
  {
   "cell_type": "code",
   "execution_count": 8,
   "outputs": [],
   "source": [
    "data_neg_unique = data_neg.drop_duplicates(subset=['InChIKey'])"
   ],
   "metadata": {
    "collapsed": false,
    "pycharm": {
     "name": "#%%\n"
    }
   }
  },
  {
   "cell_type": "code",
   "execution_count": 9,
   "outputs": [
    {
     "name": "stderr",
     "output_type": "stream",
     "text": [
      "100%|██████████| 187/187 [01:22<00:00,  2.27it/s]\n"
     ]
    }
   ],
   "source": [
    "composite_msms = []\n",
    "composite_ms1 = []\n",
    "for key in tqdm(data_neg_unique['InChIKey']):\n",
    "    data_temp =  data_neg.loc[data_neg['InChIKey']==key]\n",
    "    composite_msms.append(so.make_composite_spectra(data_temp, typeofmsms='msms', ifnormalize=True))\n",
    "    composite_ms1.append(so.make_composite_spectra(data_temp, typeofmsms='ms1', ifnormalize=True))\n",
    "data_neg_unique['msms_com']=composite_msms\n",
    "data_neg_unique['ms1_com']=composite_ms1\n",
    "# so.export_library(data_neg_unique,output_location=\"data/casmi/casmi_neg.txt\",typeofmsms='msms_com')"
   ],
   "metadata": {
    "collapsed": false,
    "pycharm": {
     "name": "#%%\n"
    }
   }
  },
  {
   "cell_type": "code",
   "execution_count": 10,
   "outputs": [],
   "source": [
    "data_neg_unique.to_csv(\"/Users/fanzhoukong/Documents/GitHub/Libgen_data/casmi/data_neg.csv\", index = False)"
   ],
   "metadata": {
    "collapsed": false,
    "pycharm": {
     "name": "#%%\n"
    }
   }
  },
  {
   "cell_type": "code",
   "execution_count": 73,
   "outputs": [],
   "source": [
    "path = \"/Users/fanzhoukong/Documents/GitHub/Libgen_data/casmi/cat/neg/\""
   ],
   "metadata": {
    "collapsed": false,
    "pycharm": {
     "name": "#%%\n"
    }
   }
  },
  {
   "cell_type": "code",
   "execution_count": 74,
   "outputs": [
    {
     "data": {
      "text/plain": "'/Users/fanzhoukong/Documents/GitHub/Libgen_data/casmi/cat/neg/unknown86.mat'"
     },
     "execution_count": 74,
     "metadata": {},
     "output_type": "execute_result"
    }
   ],
   "source": [
    "os.path.join(path, data_temp.iloc[0]['NAME']+\".mat\")"
   ],
   "metadata": {
    "collapsed": false,
    "pycharm": {
     "name": "#%%\n"
    }
   }
  },
  {
   "cell_type": "code",
   "execution_count": 75,
   "outputs": [],
   "source": [
    "for i in data_neg_unique['InChIKey'].unique():\n",
    "    data_temp = data_neg_unique.loc[data_neg_unique['InChIKey']==i]\n",
    "    output = (os.path.join(path, data_temp.iloc[0]['NAME']+\".mat\"))\n",
    "    so.export_cat(data_temp, output, typeofms1='ms1_com',typeofmsms='msms_com')\n"
   ],
   "metadata": {
    "collapsed": false,
    "pycharm": {
     "name": "#%%\n"
    }
   }
  },
  {
   "cell_type": "code",
   "execution_count": 155,
   "outputs": [
    {
     "data": {
      "text/plain": "196"
     },
     "execution_count": 155,
     "metadata": {},
     "output_type": "execute_result"
    }
   ],
   "source": [
    "len(std_list_neg)"
   ],
   "metadata": {
    "collapsed": false,
    "pycharm": {
     "name": "#%%\n"
    }
   }
  },
  {
   "cell_type": "code",
   "execution_count": 156,
   "outputs": [
    {
     "data": {
      "text/plain": "9"
     },
     "execution_count": 156,
     "metadata": {},
     "output_type": "execute_result"
    }
   ],
   "source": [
    "196-187"
   ],
   "metadata": {
    "collapsed": false,
    "pycharm": {
     "name": "#%%\n"
    }
   }
  },
  {
   "cell_type": "code",
   "execution_count": 158,
   "outputs": [
    {
     "data": {
      "text/plain": "17"
     },
     "execution_count": 158,
     "metadata": {},
     "output_type": "execute_result"
    }
   ],
   "source": [
    "len(std_list_pos)-data_pos_unique.shape[0]"
   ],
   "metadata": {
    "collapsed": false,
    "pycharm": {
     "name": "#%%\n"
    }
   }
  },
  {
   "cell_type": "code",
   "execution_count": 153,
   "outputs": [
    {
     "ename": "IndexError",
     "evalue": "single positional indexer is out-of-bounds",
     "output_type": "error",
     "traceback": [
      "\u001B[0;31m---------------------------------------------------------------------------\u001B[0m",
      "\u001B[0;31mIndexError\u001B[0m                                Traceback (most recent call last)",
      "Input \u001B[0;32mIn [153]\u001B[0m, in \u001B[0;36m<cell line: 1>\u001B[0;34m()\u001B[0m\n\u001B[0;32m----> 1\u001B[0m so\u001B[38;5;241m.\u001B[39mconvert_string_to_nist(\u001B[43mdata_neg\u001B[49m\u001B[38;5;241;43m.\u001B[39;49m\u001B[43mloc\u001B[49m\u001B[43m[\u001B[49m\u001B[43mdata_neg\u001B[49m\u001B[43m[\u001B[49m\u001B[38;5;124;43m'\u001B[39;49m\u001B[38;5;124;43mNAME\u001B[39;49m\u001B[38;5;124;43m'\u001B[39;49m\u001B[43m]\u001B[49m\u001B[38;5;241;43m==\u001B[39;49m\u001B[38;5;124;43m'\u001B[39;49m\u001B[38;5;124;43munknown417\u001B[39;49m\u001B[38;5;124;43m'\u001B[39;49m\u001B[43m]\u001B[49m\u001B[38;5;241;43m.\u001B[39;49m\u001B[43miloc\u001B[49m\u001B[43m[\u001B[49m\u001B[38;5;241;43m3\u001B[39;49m\u001B[43m]\u001B[49m[\u001B[38;5;124m'\u001B[39m\u001B[38;5;124mmsms\u001B[39m\u001B[38;5;124m'\u001B[39m])\n",
      "File \u001B[0;32m/opt/homebrew/Caskroom/miniforge/base/envs/tensorflow/lib/python3.9/site-packages/pandas/core/indexing.py:967\u001B[0m, in \u001B[0;36m_LocationIndexer.__getitem__\u001B[0;34m(self, key)\u001B[0m\n\u001B[1;32m    964\u001B[0m axis \u001B[38;5;241m=\u001B[39m \u001B[38;5;28mself\u001B[39m\u001B[38;5;241m.\u001B[39maxis \u001B[38;5;129;01mor\u001B[39;00m \u001B[38;5;241m0\u001B[39m\n\u001B[1;32m    966\u001B[0m maybe_callable \u001B[38;5;241m=\u001B[39m com\u001B[38;5;241m.\u001B[39mapply_if_callable(key, \u001B[38;5;28mself\u001B[39m\u001B[38;5;241m.\u001B[39mobj)\n\u001B[0;32m--> 967\u001B[0m \u001B[38;5;28;01mreturn\u001B[39;00m \u001B[38;5;28;43mself\u001B[39;49m\u001B[38;5;241;43m.\u001B[39;49m\u001B[43m_getitem_axis\u001B[49m\u001B[43m(\u001B[49m\u001B[43mmaybe_callable\u001B[49m\u001B[43m,\u001B[49m\u001B[43m \u001B[49m\u001B[43maxis\u001B[49m\u001B[38;5;241;43m=\u001B[39;49m\u001B[43maxis\u001B[49m\u001B[43m)\u001B[49m\n",
      "File \u001B[0;32m/opt/homebrew/Caskroom/miniforge/base/envs/tensorflow/lib/python3.9/site-packages/pandas/core/indexing.py:1520\u001B[0m, in \u001B[0;36m_iLocIndexer._getitem_axis\u001B[0;34m(self, key, axis)\u001B[0m\n\u001B[1;32m   1517\u001B[0m     \u001B[38;5;28;01mraise\u001B[39;00m \u001B[38;5;167;01mTypeError\u001B[39;00m(\u001B[38;5;124m\"\u001B[39m\u001B[38;5;124mCannot index by location index with a non-integer key\u001B[39m\u001B[38;5;124m\"\u001B[39m)\n\u001B[1;32m   1519\u001B[0m \u001B[38;5;66;03m# validate the location\u001B[39;00m\n\u001B[0;32m-> 1520\u001B[0m \u001B[38;5;28;43mself\u001B[39;49m\u001B[38;5;241;43m.\u001B[39;49m\u001B[43m_validate_integer\u001B[49m\u001B[43m(\u001B[49m\u001B[43mkey\u001B[49m\u001B[43m,\u001B[49m\u001B[43m \u001B[49m\u001B[43maxis\u001B[49m\u001B[43m)\u001B[49m\n\u001B[1;32m   1522\u001B[0m \u001B[38;5;28;01mreturn\u001B[39;00m \u001B[38;5;28mself\u001B[39m\u001B[38;5;241m.\u001B[39mobj\u001B[38;5;241m.\u001B[39m_ixs(key, axis\u001B[38;5;241m=\u001B[39maxis)\n",
      "File \u001B[0;32m/opt/homebrew/Caskroom/miniforge/base/envs/tensorflow/lib/python3.9/site-packages/pandas/core/indexing.py:1452\u001B[0m, in \u001B[0;36m_iLocIndexer._validate_integer\u001B[0;34m(self, key, axis)\u001B[0m\n\u001B[1;32m   1450\u001B[0m len_axis \u001B[38;5;241m=\u001B[39m \u001B[38;5;28mlen\u001B[39m(\u001B[38;5;28mself\u001B[39m\u001B[38;5;241m.\u001B[39mobj\u001B[38;5;241m.\u001B[39m_get_axis(axis))\n\u001B[1;32m   1451\u001B[0m \u001B[38;5;28;01mif\u001B[39;00m key \u001B[38;5;241m>\u001B[39m\u001B[38;5;241m=\u001B[39m len_axis \u001B[38;5;129;01mor\u001B[39;00m key \u001B[38;5;241m<\u001B[39m \u001B[38;5;241m-\u001B[39mlen_axis:\n\u001B[0;32m-> 1452\u001B[0m     \u001B[38;5;28;01mraise\u001B[39;00m \u001B[38;5;167;01mIndexError\u001B[39;00m(\u001B[38;5;124m\"\u001B[39m\u001B[38;5;124msingle positional indexer is out-of-bounds\u001B[39m\u001B[38;5;124m\"\u001B[39m)\n",
      "\u001B[0;31mIndexError\u001B[0m: single positional indexer is out-of-bounds"
     ]
    }
   ],
   "source": [
    "so.convert_string_to_nist(data_neg.loc[data_neg['NAME']=='unknown417'].iloc[3]['msms'])"
   ],
   "metadata": {
    "collapsed": false,
    "pycharm": {
     "name": "#%%\n"
    }
   }
  },
  {
   "cell_type": "code",
   "execution_count": 129,
   "outputs": [],
   "source": [
    "import toolsets.ms2_spectra_plotter as ms2plt"
   ],
   "metadata": {
    "collapsed": false,
    "pycharm": {
     "name": "#%%\n"
    }
   }
  },
  {
   "cell_type": "code",
   "execution_count": 48,
   "outputs": [
    {
     "data": {
      "text/plain": "<module 'matplotlib.pyplot' from '/opt/homebrew/Caskroom/miniforge/base/envs/tensorflow/lib/python3.9/site-packages/matplotlib/pyplot.py'>"
     },
     "execution_count": 48,
     "metadata": {},
     "output_type": "execute_result"
    },
    {
     "data": {
      "text/plain": "<Figure size 504x360 with 1 Axes>",
      "image/png": "[encoded data removed]"
     },
     "metadata": {},
     "output_type": "display_data"
    }
   ],
   "source": [
    "msplt.head_to_tail_plot(data_pos_unique.iloc[3]['msms'], data_pos_unique.iloc[3]['msms_com'])"
   ],
   "metadata": {
    "collapsed": false,
    "pycharm": {
     "name": "#%%\n"
    }
   }
  }
 ],
 "metadata": {
  "kernelspec": {
   "display_name": "Python 3.9 (tensorflow)",
   "language": "python",
   "name": "tensorflow"
  },
  "language_info": {
   "codemirror_mode": {
    "name": "ipython",
    "version": 3
   },
   "file_extension": ".py",
   "mimetype": "text/x-python",
   "name": "python",
   "nbconvert_exporter": "python",
   "pygments_lexer": "ipython3",
   "version": "3.9.10"
  }
 },
 "nbformat": 4,
 "nbformat_minor": 5
}