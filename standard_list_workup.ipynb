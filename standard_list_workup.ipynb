{
 "cells": [
  {
   "cell_type": "code",
   "execution_count": 1,
   "metadata": {
    "collapsed": true
   },
   "outputs": [],
   "source": [
    "import pandas as pd\n",
    "import numpy as np"
   ]
  },
  {
   "cell_type": "code",
   "execution_count": 5,
   "outputs": [],
   "source": [
    "# path_with_name = \"data/data_need_workup/PFP pos mix list.csv\"\n",
    "# path_with_inchi = \"data/data_need_workup/PFP_sample_list_corrected.csv\"\n",
    "path_with_name = \"data/data_need_workup/HILIC mixes list.csv\"\n",
    "path_with_inchi = \"data/data_need_workup/HILIC_sample_list_corrected.csv\"\n",
    "\n",
    "data_names = pd.read_csv(path_with_name)\n",
    "data_inchi = pd.read_csv(path_with_inchi)\n",
    "names = []\n",
    "for i in range(0, len(data_inchi)):\n",
    "    names.append((data_names.loc[data_names['InChiKey'] == data_inchi.iloc[i]['InChiKey']]['Name']).iloc[0])\n",
    "data_inchi.insert (0, \"Name\", names)"
   ],
   "metadata": {
    "collapsed": false,
    "pycharm": {
     "name": "#%%\n"
    }
   }
  },
  {
   "cell_type": "code",
   "execution_count": null,
   "outputs": [],
   "source": [],
   "metadata": {
    "collapsed": false,
    "pycharm": {
     "name": "#%%\n"
    }
   }
  },
  {
   "cell_type": "code",
   "execution_count": 3,
   "outputs": [
    {
     "data": {
      "text/plain": "                                 Name                     InChiKey  \\\n0                  PYROCATECHUIC ACID  GLDQAMYCGOIJDV-UHFFFAOYSA-N   \n1         (-)-12-hydroxyjasmonic acid  RZGFUGXQKMEMOO-BSANDHCLSA-N   \n2                    norlichexanthone  AQZHBCDRWFMXIN-UHFFFAOYSA-N   \n3                            Apigenin  KZNIFHPLKGYRTM-UHFFFAOYSA-N   \n4  2-decyl-3-hydroxypentanedioic acid  KOLGVIJQEZBWIQ-UHFFFAOYSA-N   \n\n          Mix label  Exact Mass   Formula      [M+H]+    [M+NH4]+     [M+Na]+  \n0  PFPpos_POS 1_EAD   154.02661    C7H6O4  155.033890  172.060430  177.015830  \n1  PFPpos_POS 1_EAD   226.12051  C12H18O4  227.127790  244.154330  249.109730  \n2  PFPpos_POS 1_EAD   258.05282  C14H10O5  259.060104  276.086644  281.042044  \n3  PFPpos_POS 1_EAD   270.05282  C15H10O5  271.060104  288.086644  293.042044  \n4  PFPpos_POS 1_EAD   288.19367  C15H28O5  289.200955  306.227495  311.182895  ",
      "text/html": "<div>\n<style scoped>\n    .dataframe tbody tr th:only-of-type {\n        vertical-align: middle;\n    }\n\n    .dataframe tbody tr th {\n        vertical-align: top;\n    }\n\n    .dataframe thead th {\n        text-align: right;\n    }\n</style>\n<table border=\"1\" class=\"dataframe\">\n  <thead>\n    <tr style=\"text-align: right;\">\n      <th></th>\n      <th>Name</th>\n      <th>InChiKey</th>\n      <th>Mix label</th>\n      <th>Exact Mass</th>\n      <th>Formula</th>\n      <th>[M+H]+</th>\n      <th>[M+NH4]+</th>\n      <th>[M+Na]+</th>\n    </tr>\n  </thead>\n  <tbody>\n    <tr>\n      <th>0</th>\n      <td>PYROCATECHUIC ACID</td>\n      <td>GLDQAMYCGOIJDV-UHFFFAOYSA-N</td>\n      <td>PFPpos_POS 1_EAD</td>\n      <td>154.02661</td>\n      <td>C7H6O4</td>\n      <td>155.033890</td>\n      <td>172.060430</td>\n      <td>177.015830</td>\n    </tr>\n    <tr>\n      <th>1</th>\n      <td>(-)-12-hydroxyjasmonic acid</td>\n      <td>RZGFUGXQKMEMOO-BSANDHCLSA-N</td>\n      <td>PFPpos_POS 1_EAD</td>\n      <td>226.12051</td>\n      <td>C12H18O4</td>\n      <td>227.127790</td>\n      <td>244.154330</td>\n      <td>249.109730</td>\n    </tr>\n    <tr>\n      <th>2</th>\n      <td>norlichexanthone</td>\n      <td>AQZHBCDRWFMXIN-UHFFFAOYSA-N</td>\n      <td>PFPpos_POS 1_EAD</td>\n      <td>258.05282</td>\n      <td>C14H10O5</td>\n      <td>259.060104</td>\n      <td>276.086644</td>\n      <td>281.042044</td>\n    </tr>\n    <tr>\n      <th>3</th>\n      <td>Apigenin</td>\n      <td>KZNIFHPLKGYRTM-UHFFFAOYSA-N</td>\n      <td>PFPpos_POS 1_EAD</td>\n      <td>270.05282</td>\n      <td>C15H10O5</td>\n      <td>271.060104</td>\n      <td>288.086644</td>\n      <td>293.042044</td>\n    </tr>\n    <tr>\n      <th>4</th>\n      <td>2-decyl-3-hydroxypentanedioic acid</td>\n      <td>KOLGVIJQEZBWIQ-UHFFFAOYSA-N</td>\n      <td>PFPpos_POS 1_EAD</td>\n      <td>288.19367</td>\n      <td>C15H28O5</td>\n      <td>289.200955</td>\n      <td>306.227495</td>\n      <td>311.182895</td>\n    </tr>\n  </tbody>\n</table>\n</div>"
     },
     "execution_count": 3,
     "metadata": {},
     "output_type": "execute_result"
    }
   ],
   "source": [
    "data_inchi.head()"
   ],
   "metadata": {
    "collapsed": false,
    "pycharm": {
     "name": "#%%\n"
    }
   }
  },
  {
   "cell_type": "code",
   "execution_count": 4,
   "outputs": [],
   "source": [
    "data_inchi.to_csv(\"data/EAD_PFP/standard_list.csv\", index = False)"
   ],
   "metadata": {
    "collapsed": false,
    "pycharm": {
     "name": "#%%\n"
    }
   }
  },
  {
   "cell_type": "code",
   "execution_count": 6,
   "outputs": [],
   "source": [
    "data_inchi.to_csv(\"data/EAD_HILIC/standard_list.csv\", index = False)"
   ],
   "metadata": {
    "collapsed": false,
    "pycharm": {
     "name": "#%%\n"
    }
   }
  }
 ],
 "metadata": {
  "kernelspec": {
   "name": "tensorflow",
   "language": "python",
   "display_name": "Python 3.9 (tensorflow)"
  },
  "language_info": {
   "codemirror_mode": {
    "name": "ipython",
    "version": 2
   },
   "file_extension": ".py",
   "mimetype": "text/x-python",
   "name": "python",
   "nbconvert_exporter": "python",
   "pygments_lexer": "ipython2",
   "version": "2.7.6"
  }
 },
 "nbformat": 4,
 "nbformat_minor": 0
}