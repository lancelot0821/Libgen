{
 "cells": [
  {
   "cell_type": "code",
   "execution_count": 242,
   "metadata": {
    "collapsed": true,
    "pycharm": {
     "name": "#%%\n"
    }
   },
   "outputs": [
    {
     "name": "stdout",
     "output_type": "stream",
     "text": [
      "The autoreload extension is already loaded. To reload it, use:\n",
      "  %reload_ext autoreload\n"
     ]
    }
   ],
   "source": [
    "import os\n",
    "import sys\n",
    "\n",
    "import spectral_entropy as se\n",
    "\n",
    "import numpy as np\n",
    "\n",
    "import spectra_operations as so\n",
    "\n",
    "# sys.path.append('yuanyue_code')\n",
    "\n",
    "import mgf_converter as mgfc\n",
    "\n",
    "import pandas as pd\n",
    "%load_ext autoreload\n",
    "%autoreload 2"
   ]
  },
  {
   "cell_type": "code",
   "execution_count": 231,
   "outputs": [],
   "source": [],
   "metadata": {
    "collapsed": false,
    "pycharm": {
     "name": "#%%\n"
    }
   }
  },
  {
   "cell_type": "code",
   "execution_count": 240,
   "outputs": [],
   "source": [
    "folderpath = \"data/casmi/mgfs/Priority/neg\" #this is where your mgf file locates\n",
    "\n",
    "for file in os.listdir(folderpath):\n",
    "    if file.endswith(\".mgf\"):\n",
    "        inputfile = (os.path.join(folderpath, file))\n",
    "        outputfile =(os.path.join(\"data/casmi/msp/Prio/neg\", file[:-3]+\"msp\"))\n",
    "        convert_mgf_to_msp(open(inputfile), outputfile)\n",
    "        # print(outputfile)"
   ],
   "metadata": {
    "collapsed": false,
    "pycharm": {
     "name": "#%%\n"
    }
   }
  }
 ],
 "metadata": {
  "kernelspec": {
   "name": "tensorflow",
   "language": "python",
   "display_name": "Python 3.9 (tensorflow)"
  },
  "language_info": {
   "codemirror_mode": {
    "name": "ipython",
    "version": 2
   },
   "file_extension": ".py",
   "mimetype": "text/x-python",
   "name": "python",
   "nbconvert_exporter": "python",
   "pygments_lexer": "ipython2",
   "version": "2.7.6"
  }
 },
 "nbformat": 4,
 "nbformat_minor": 0
}