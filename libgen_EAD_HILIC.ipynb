{
 "cells": [
  {
   "cell_type": "code",
   "execution_count": 1,
   "outputs": [
    {
     "name": "stdout",
     "output_type": "stream",
     "text": [
      "i am setup functions!!\n",
      "Compile the cython code is highly recommended!\n",
      "i am spectra operation\n",
      "i am ms2 spectra plotter, and I have been sideloaded successfully\n",
      "I have 2 functions, head to tail plot and ms2 plot\n",
      "I am precursor matching!\n",
      "I am mass recalibration, usage: mass_recalibrate(measured MZ(list), PRECURSORMZ (list), msms (single_msms)!\n"
     ]
    }
   ],
   "source": [
    "import subprocess\n",
    "import os\n",
    "import shutil\n",
    "import warnings\n",
    "\n",
    "import setup\n",
    "\n",
    "warnings.filterwarnings(\"ignore\")\n",
    "from ast import literal_eval\n",
    "import itertools\n",
    "import matplotlib.pyplot as plt\n",
    "import spectra_operations as so\n",
    "import itertools\n",
    "import seaborn as sns\n",
    "from tqdm import tqdm\n",
    "\n",
    "import time\n",
    "import numpy as np\n",
    "import sys\n",
    "sys.path.append('yuanyue_code')\n",
    "\n",
    "import re\n",
    "import pandas as pd\n",
    "\n",
    "import spectral_entropy as se\n",
    "\n",
    "import glob\n",
    "import tree_denoising as td\n",
    "import pandas as pd\n",
    "import ms2_spectra_plotter as mp\n",
    "%load_ext autoreload\n",
    "%autoreload 2\n",
    "\n",
    "import precursor_matching as pm\n",
    "import mass_recalibration as mr\n",
    "# import requests\n",
    "import seaborn as sns\n",
    "# import numpy as np\n",
    "from multiprocess import Pool\n",
    "\n",
    "import multiprocessing as mp\n",
    "import setup\n",
    "import tree_denoising as td"
   ],
   "metadata": {
    "collapsed": false,
    "pycharm": {
     "name": "#%%\n"
    }
   }
  },
  {
   "cell_type": "code",
   "execution_count": 2,
   "outputs": [
    {
     "name": "stdout",
     "output_type": "stream",
     "text": [
      "the workspace exists!\n"
     ]
    }
   ],
   "source": [
    "workspace = \"data/EAD_HILIC\"\n",
    "setup.set_workspace(workspace)"
   ],
   "metadata": {
    "collapsed": false,
    "pycharm": {
     "name": "#%%\n"
    }
   }
  },
  {
   "cell_type": "code",
   "execution_count": null,
   "outputs": [],
   "source": [
    "# this is for hilic data!!!\n",
    "data_height = pm.readin_MSDIAL(\"data/EAD_lib/Height_2_2021619144.txt\")\n",
    "sample_list_cor = pd.read_csv(\"/Users/fanzhoukong/Documents/Fiehnlab/library_generator/data/EAD_lib/HILIC_sample_list_corrected.csv\")\n",
    "\n",
    "data_hilic = pm.precursor_matching(data_height, sample_list_cor, 10, ['[M+H]+', '[M+NH4]+','[M+Na]+'], \"EAD_HILIC\")"
   ],
   "metadata": {
    "collapsed": false,
    "pycharm": {
     "name": "#%%\n"
    }
   }
  }
 ],
 "metadata": {
  "kernelspec": {
   "display_name": "Python 3",
   "language": "python",
   "name": "python3"
  },
  "language_info": {
   "codemirror_mode": {
    "name": "ipython",
    "version": 2
   },
   "file_extension": ".py",
   "mimetype": "text/x-python",
   "name": "python",
   "nbconvert_exporter": "python",
   "pygments_lexer": "ipython2",
   "version": "2.7.6"
  }
 },
 "nbformat": 4,
 "nbformat_minor": 0
}