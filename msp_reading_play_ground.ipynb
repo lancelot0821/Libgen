{
 "cells": [
  {
   "cell_type": "code",
   "execution_count": 3,
   "id": "1e53c6b5",
   "metadata": {},
   "outputs": [
    {
     "name": "stdout",
     "output_type": "stream",
     "text": [
      "The autoreload extension is already loaded. To reload it, use:\n",
      "  %reload_ext autoreload\n"
     ]
    }
   ],
   "source": [
    "import sys\n",
    "\n",
    "import spectral_entropy as se\n",
    "\n",
    "from numpy import NaN\n",
    "\n",
    "import numpy as np\n",
    "\n",
    "import spectra_operations as so\n",
    "\n",
    "sys.path.append('/Users/fanzhoukong/Documents/Fiehnlab/library_generator/yuanyue_code')\n",
    "\n",
    "import msp_file\n",
    "import filename\n",
    "\n",
    "import pandas as pd\n",
    "%load_ext autoreload\n",
    "%autoreload 2"
   ]
  },
  {
   "cell_type": "code",
   "execution_count": 9,
   "id": "488ee722",
   "metadata": {},
   "outputs": [],
   "source": [
    "Name = []\n",
    "Inchkey = []\n",
    "Adduct = []\n",
    "Key = []\n",
    "PRECURSORMZ =[]\n",
    "Formula = []\n",
    "ExactMass = []\n",
    "Instrument = []\n",
    "Collision_energy = []\n",
    "Num_Peaks = []\n",
    "msms = []\n",
    "instrument = []\n",
    "count = []\n",
    "source = []\n",
    "comment = []\n",
    "spectrum_type = []\n"
   ]
  },
  {
   "cell_type": "code",
   "execution_count": 5,
   "id": "cdf2598c",
   "metadata": {
    "scrolled": true
   },
   "outputs": [],
   "source": [
    "# f = open(\"/Users/fanzhoukong/Documents/Fiehnlab/library_generator/demo-data/NIST_demo.msp\", 'rt')\n",
    "# f = open(\"/Users/fanzhoukong/Documents/Fiehnlab/library_generator/demo-data/NIST_no_inchkey.msp\", 'rt')\n",
    "f = open(\"/Users/fanzhoukong/Documents/GitHub/data/NIST/hr_msms_nist.MSP\", 'rt')\n",
    "# f = open(\"/Users/fanzhoukong/Documents/Fiehnlab/library_generator/data/replib.msp\", 'rt')\n",
    "# f = open(\"data/MoNA-export-VF-NPL_QTOF.msp\", 'rt')\n",
    "for spec in msp_file.read_one_spectrum(f, include_raw=1):\n",
    "    if 'Spectrum_type' in spec:\n",
    "        if spec['Spectrum_type'] != 'MS1':\n",
    "            if 'InChIKey' in spec:\n",
    "                if 'Precursor_type' in spec:\n",
    "#         print(\"i am in cycle\", i)\n",
    "                    Name.append(spec['Name'])\n",
    "    #         print(spec['Name'])\n",
    "                    Inchkey.append(spec['InChIKey'])\n",
    "                    Adduct.append(spec['Precursor_type'])\n",
    "                    Key.append(spec['InChIKey']+spec['Precursor_type'])\n",
    "                    if 'PrecursorMZ' in spec:\n",
    "                        PRECURSORMZ.append(spec['PrecursorMZ'])\n",
    "                    else:\n",
    "                        PRECURSORMZ.append(NaN)\n",
    "                    if 'Formula' in spec:\n",
    "                        Formula.append(spec['Formula'])\n",
    "                    else:\n",
    "                        Formula.append(NaN)\n",
    "                        \n",
    "                    if 'ExactMass' in spec:\n",
    "                        ExactMass.append(spec['ExactMass'])\n",
    "                    else:\n",
    "                        ExactMass.append(NaN)\n",
    "                    if 'Instrument_type' in spec:\n",
    "                        instrument.append(spec['Instrument_type'])\n",
    "                    else:\n",
    "                        instrument.append(NaN)\n",
    "                    if 'Spectrum_type' in spec:\n",
    "                        Spectrum_type.append(spec['Spectrum_type'])\n",
    "                    if 'Collision_energy' in spec:\n",
    "                        Collision_energy.append(spec['Collision_energy'])\n",
    "                    else:\n",
    "                        Collision_energy.append(NaN)\n",
    "                        \n",
    "                    if 'Num peaks' in spec:\n",
    "                        Num_Peaks.append(spec['Num peaks'])\n",
    "                    else:\n",
    "                        Num_Peaks.append(spec['Num Peaks'])\n",
    "                #     mass, intensity = break_spectra_from_list(spec['spectrum'])\n",
    "                #     msms.append(so.pack_spectra(mass, intensity))\n",
    "                    msms.append(spec['spectrum'])\n",
    "                    if 'Comment' in spec:\n",
    "                        comment.append(spec['Comment'])\n",
    "                        if spec['Comment'][0:4]=='NIST':\n",
    "                            source.append('NIST')\n",
    "                        else:\n",
    "                            source.append('Mona')\n",
    "                    else:\n",
    "                        comment.append(spec['Comments'])\n",
    "                        if spec['Comments'][0:4]=='NIST':\n",
    "                            source.append('NIST')\n",
    "                        else:\n",
    "                            source.append('Mona')\n",
    "    \n",
    "        \n",
    "\n",
    "#         i = i+1\n",
    "        \n"
   ]
  },
  {
   "cell_type": "code",
   "execution_count": 7,
   "id": "3a87bf5c",
   "metadata": {},
   "outputs": [],
   "source": [
    "output = pd.DataFrame({'NAME':Name,\n",
    "                       'key': Key,\n",
    "                       'PRECURSORMZ':PRECURSORMZ,\n",
    "                       'InChIKey':Inchkey,\n",
    "                       'Formula':Formula,\n",
    "                       'ExactMass':ExactMass,\n",
    "                       'Adduct':Adduct,\n",
    "                       'Num_Peaks':Num_Peaks,\n",
    "                       'msms':msms,\n",
    "                       'Collision_energy': Collision_energy,\n",
    "                       'Comment':comment,\n",
    "                       'Instrument_type':instrument,\n",
    "                       'source':source\n",
    "#                        'count':count\n",
    "                      })"
   ]
  },
  {
   "cell_type": "code",
   "execution_count": 8,
   "id": "e1adce70",
   "metadata": {},
   "outputs": [],
   "source": [
    "output.to_csv('/Users/fanzhoukong/Documents/GitHub/data/NIST/hr_msms_nist.csv',encoding='utf-8', index=False)"
   ]
  },
  {
   "cell_type": "code",
   "execution_count": 9,
   "id": "c5756f14",
   "metadata": {},
   "outputs": [],
   "source": [
    "# # this is for nist ei librarys only\n",
    "# output = pd.DataFrame({'NAME':Name,\n",
    "#                        'key': Key,\n",
    "#                        'PRECURSORMZ':PRECURSORMZ,\n",
    "#                        'InChIKey':Inchkey,\n",
    "#                        'Formula':Formula,\n",
    "#                        'ExactMass':ExactMass,\n",
    "#                        'adduct':Adduct,\n",
    "#                        'Num_Peaks':Num_Peaks,\n",
    "#                        'msms':msms,\n",
    "#                        'Collision_energy': Collision_energy,\n",
    "#                        'source':source,\n",
    "#                        'count':count})"
   ]
  },
  {
   "cell_type": "code",
   "execution_count": 14,
   "id": "329bbc16",
   "metadata": {},
   "outputs": [
    {
     "data": {
      "text/plain": [
       "15"
      ]
     },
     "execution_count": 14,
     "metadata": {},
     "output_type": "execute_result"
    }
   ],
   "source": [
    "len(output['msms'][0])"
   ]
  },
  {
   "cell_type": "code",
   "execution_count": 12,
   "id": "38f94e58",
   "metadata": {},
   "outputs": [],
   "source": [
    "# output.to_csv('/Users/fanzhoukong/Documents/Fiehnlab/library_generator/data/replib.csv',encoding='utf-8', index=False)"
   ]
  },
  {
   "cell_type": "code",
   "execution_count": 248,
   "id": "bd457b5f",
   "metadata": {},
   "outputs": [
    {
     "data": {
      "text/html": [
       "<div>\n",
       "<style scoped>\n",
       "    .dataframe tbody tr th:only-of-type {\n",
       "        vertical-align: middle;\n",
       "    }\n",
       "\n",
       "    .dataframe tbody tr th {\n",
       "        vertical-align: top;\n",
       "    }\n",
       "\n",
       "    .dataframe thead th {\n",
       "        text-align: right;\n",
       "    }\n",
       "</style>\n",
       "<table border=\"1\" class=\"dataframe\">\n",
       "  <thead>\n",
       "    <tr style=\"text-align: right;\">\n",
       "      <th></th>\n",
       "      <th>NAME</th>\n",
       "      <th>key</th>\n",
       "      <th>PRECURSORMZ</th>\n",
       "      <th>InChIKey</th>\n",
       "      <th>Formula</th>\n",
       "      <th>ExactMass</th>\n",
       "      <th>adduct</th>\n",
       "      <th>Num_Peaks</th>\n",
       "      <th>msms</th>\n",
       "      <th>Collision_energy</th>\n",
       "      <th>source</th>\n",
       "      <th>count</th>\n",
       "    </tr>\n",
       "  </thead>\n",
       "  <tbody>\n",
       "    <tr>\n",
       "      <th>0</th>\n",
       "      <td>1',3'-Bis[1,2-dilinoleoyl-sn-glycero-3-phospho...</td>\n",
       "      <td>LSHJMDWWJIYXEM-XGJIDDIWSA-N[M-2H]2-</td>\n",
       "      <td>723.4788</td>\n",
       "      <td>LSHJMDWWJIYXEM-XGJIDDIWSA-N</td>\n",
       "      <td>C81H142O17P2</td>\n",
       "      <td>1448.97223</td>\n",
       "      <td>[M-2H]2-</td>\n",
       "      <td>5</td>\n",
       "      <td>[[279.24, 75.12], [722.47, 46.95], [722.98, 87...</td>\n",
       "      <td>2</td>\n",
       "      <td>NIST</td>\n",
       "      <td>na</td>\n",
       "    </tr>\n",
       "    <tr>\n",
       "      <th>1</th>\n",
       "      <td>1',3'-Bis[1,2-dilinoleoyl-sn-glycero-3-phospho...</td>\n",
       "      <td>LSHJMDWWJIYXEM-XGJIDDIWSA-N[M-2H]2-</td>\n",
       "      <td>723.4788</td>\n",
       "      <td>LSHJMDWWJIYXEM-XGJIDDIWSA-N</td>\n",
       "      <td>C81H142O17P2</td>\n",
       "      <td>1448.97223</td>\n",
       "      <td>[M-2H]2-</td>\n",
       "      <td>17</td>\n",
       "      <td>[[279.24, 185.11], [279.26, 38.06], [294.81, 2...</td>\n",
       "      <td>8</td>\n",
       "      <td>NIST</td>\n",
       "      <td>na</td>\n",
       "    </tr>\n",
       "    <tr>\n",
       "      <th>2</th>\n",
       "      <td>1',3'-Bis[1,2-dilinoleoyl-sn-glycero-3-phospho...</td>\n",
       "      <td>LSHJMDWWJIYXEM-XGJIDDIWSA-N[M-2H]2-</td>\n",
       "      <td>723.4788</td>\n",
       "      <td>LSHJMDWWJIYXEM-XGJIDDIWSA-N</td>\n",
       "      <td>C81H142O17P2</td>\n",
       "      <td>1448.97223</td>\n",
       "      <td>[M-2H]2-</td>\n",
       "      <td>23</td>\n",
       "      <td>[[152.99, 211.89], [237.18, 30.67], [277.22, 3...</td>\n",
       "      <td>30</td>\n",
       "      <td>NIST</td>\n",
       "      <td>na</td>\n",
       "    </tr>\n",
       "    <tr>\n",
       "      <th>3</th>\n",
       "      <td>1',3'-Bis[1,2-dilinoleoyl-sn-glycero-3-phospho...</td>\n",
       "      <td>LSHJMDWWJIYXEM-XGJIDDIWSA-N[M-2H]2-</td>\n",
       "      <td>723.4788</td>\n",
       "      <td>LSHJMDWWJIYXEM-XGJIDDIWSA-N</td>\n",
       "      <td>C81H142O17P2</td>\n",
       "      <td>1448.97223</td>\n",
       "      <td>[M-2H]2-</td>\n",
       "      <td>8</td>\n",
       "      <td>[[142.51, 24.88], [153.0, 107.29], [279.24, 99...</td>\n",
       "      <td>35</td>\n",
       "      <td>NIST</td>\n",
       "      <td>na</td>\n",
       "    </tr>\n",
       "    <tr>\n",
       "      <th>4</th>\n",
       "      <td>1',3'-Bis[1,2-dilinoleoyl-sn-glycero-3-phospho...</td>\n",
       "      <td>LSHJMDWWJIYXEM-XGJIDDIWSA-N[M-H]-</td>\n",
       "      <td>1447.9649</td>\n",
       "      <td>LSHJMDWWJIYXEM-XGJIDDIWSA-N</td>\n",
       "      <td>C81H142O17P2</td>\n",
       "      <td>1448.97223</td>\n",
       "      <td>[M-H]-</td>\n",
       "      <td>7</td>\n",
       "      <td>[[29.69, 24.38], [279.24, 44.56], [415.23, 34....</td>\n",
       "      <td>20</td>\n",
       "      <td>NIST</td>\n",
       "      <td>na</td>\n",
       "    </tr>\n",
       "  </tbody>\n",
       "</table>\n",
       "</div>"
      ],
      "text/plain": [
       "                                                NAME  \\\n",
       "0  1',3'-Bis[1,2-dilinoleoyl-sn-glycero-3-phospho...   \n",
       "1  1',3'-Bis[1,2-dilinoleoyl-sn-glycero-3-phospho...   \n",
       "2  1',3'-Bis[1,2-dilinoleoyl-sn-glycero-3-phospho...   \n",
       "3  1',3'-Bis[1,2-dilinoleoyl-sn-glycero-3-phospho...   \n",
       "4  1',3'-Bis[1,2-dilinoleoyl-sn-glycero-3-phospho...   \n",
       "\n",
       "                                   key PRECURSORMZ  \\\n",
       "0  LSHJMDWWJIYXEM-XGJIDDIWSA-N[M-2H]2-    723.4788   \n",
       "1  LSHJMDWWJIYXEM-XGJIDDIWSA-N[M-2H]2-    723.4788   \n",
       "2  LSHJMDWWJIYXEM-XGJIDDIWSA-N[M-2H]2-    723.4788   \n",
       "3  LSHJMDWWJIYXEM-XGJIDDIWSA-N[M-2H]2-    723.4788   \n",
       "4    LSHJMDWWJIYXEM-XGJIDDIWSA-N[M-H]-   1447.9649   \n",
       "\n",
       "                      InChIKey       Formula   ExactMass    adduct  Num_Peaks  \\\n",
       "0  LSHJMDWWJIYXEM-XGJIDDIWSA-N  C81H142O17P2  1448.97223  [M-2H]2-          5   \n",
       "1  LSHJMDWWJIYXEM-XGJIDDIWSA-N  C81H142O17P2  1448.97223  [M-2H]2-         17   \n",
       "2  LSHJMDWWJIYXEM-XGJIDDIWSA-N  C81H142O17P2  1448.97223  [M-2H]2-         23   \n",
       "3  LSHJMDWWJIYXEM-XGJIDDIWSA-N  C81H142O17P2  1448.97223  [M-2H]2-          8   \n",
       "4  LSHJMDWWJIYXEM-XGJIDDIWSA-N  C81H142O17P2  1448.97223    [M-H]-          7   \n",
       "\n",
       "                                                msms Collision_energy source  \\\n",
       "0  [[279.24, 75.12], [722.47, 46.95], [722.98, 87...                2   NIST   \n",
       "1  [[279.24, 185.11], [279.26, 38.06], [294.81, 2...                8   NIST   \n",
       "2  [[152.99, 211.89], [237.18, 30.67], [277.22, 3...               30   NIST   \n",
       "3  [[142.51, 24.88], [153.0, 107.29], [279.24, 99...               35   NIST   \n",
       "4  [[29.69, 24.38], [279.24, 44.56], [415.23, 34....               20   NIST   \n",
       "\n",
       "  count  \n",
       "0    na  \n",
       "1    na  \n",
       "2    na  \n",
       "3    na  \n",
       "4    na  "
      ]
     },
     "execution_count": 248,
     "metadata": {},
     "output_type": "execute_result"
    }
   ],
   "source": [
    "output.head()"
   ]
  },
  {
   "cell_type": "code",
   "execution_count": 17,
   "id": "f67ad14d",
   "metadata": {},
   "outputs": [],
   "source": [
    "occ = output.key.value_counts(normalize=False, sort = False)\n",
    "\n"
   ]
  },
  {
   "cell_type": "code",
   "execution_count": 20,
   "id": "5145d663",
   "metadata": {},
   "outputs": [
    {
     "data": {
      "text/plain": [
       "1000351"
      ]
     },
     "execution_count": 20,
     "metadata": {},
     "output_type": "execute_result"
    }
   ],
   "source": [
    "len(output)"
   ]
  },
  {
   "cell_type": "code",
   "execution_count": 19,
   "id": "8e612294",
   "metadata": {},
   "outputs": [
    {
     "data": {
      "text/plain": [
       "1      157558\n",
       "13       6428\n",
       "12       6219\n",
       "14       6165\n",
       "3        5578\n",
       "        ...  \n",
       "98          1\n",
       "84          1\n",
       "96          1\n",
       "69          1\n",
       "112         1\n",
       "Name: key, Length: 105, dtype: int64"
      ]
     },
     "execution_count": 19,
     "metadata": {},
     "output_type": "execute_result"
    }
   ],
   "source": [
    "occ.value_counts()"
   ]
  },
  {
   "cell_type": "code",
   "execution_count": null,
   "id": "8188c7f0",
   "metadata": {},
   "outputs": [],
   "source": [
    "occ = output.key.value_counts(normalize=False, sort = False)\n",
    "\n",
    "\n",
    "output_count = pd.DataFrame()\n",
    "for i in range(len(occ)):\n",
    "    temp_df = output.loc[data_raw.key == occ.index[i],:]\n",
    "    temp_df['count'] = temp_df['count'].replace(['na'], int(occ[i]))\n",
    "    output_count=pd.concat([data_raw_count, temp_df], ignore_index = True, axis = 0)\n",
    "\n",
    "\n",
    "\n",
    "# I am subsetting all unique instances\n",
    "data_c1= data_raw_count.loc[data_raw_count['count'] == 1,:]\n",
    "\n",
    "# data_temp= data_c1[data_c1['mix_label'] == mix]\n",
    "# x_temp = (data_temp['PRECURSORMZ'].values).reshape(-1,1)\n",
    "# y_temp = (data_temp['Average_mz'].values)\n",
    "# lm_temp = LinearRegression().fit(x_temp, y_temp)\n",
    "\n",
    "data_dup= data_raw_count.loc[data_raw_count['count'] != 1,:]"
   ]
  },
  {
   "cell_type": "code",
   "execution_count": 265,
   "id": "47765a40",
   "metadata": {},
   "outputs": [
    {
     "data": {
      "text/plain": [
       "list"
      ]
     },
     "execution_count": 265,
     "metadata": {},
     "output_type": "execute_result"
    }
   ],
   "source": [
    "type(output['msms'][0])"
   ]
  },
  {
   "cell_type": "code",
   "execution_count": 253,
   "id": "45ef3bbc",
   "metadata": {},
   "outputs": [
    {
     "data": {
      "text/plain": [
       "[[279.24, 185.11],\n",
       " [279.26, 38.06],\n",
       " [294.81, 25.97],\n",
       " [346.41, 32.37],\n",
       " [395.4, 27.77],\n",
       " [415.23, 60.84],\n",
       " [592.4, 20.48],\n",
       " [722.95, 23.98],\n",
       " [722.98, 125.27],\n",
       " [723.49, 999.0],\n",
       " [723.96, 50.85],\n",
       " [723.98, 22.48],\n",
       " [739.8, 20.48],\n",
       " [867.03, 77.62],\n",
       " [904.51, 23.98],\n",
       " [1167.72, 23.28],\n",
       " [1167.75, 43.86]]"
      ]
     },
     "execution_count": 253,
     "metadata": {},
     "output_type": "execute_result"
    }
   ],
   "source": [
    "output['msms'][1]"
   ]
  },
  {
   "cell_type": "code",
   "execution_count": 258,
   "id": "2794cd95",
   "metadata": {},
   "outputs": [
    {
     "data": {
      "text/plain": [
       "True"
      ]
     },
     "execution_count": 258,
     "metadata": {},
     "output_type": "execute_result"
    }
   ],
   "source": [
    "output.key[0]==output.key[3]"
   ]
  },
  {
   "cell_type": "code",
   "execution_count": 274,
   "id": "6dcf5150",
   "metadata": {},
   "outputs": [
    {
     "data": {
      "text/plain": [
       "list"
      ]
     },
     "execution_count": 274,
     "metadata": {},
     "output_type": "execute_result"
    }
   ],
   "source": [
    "type(output['msms'][0])"
   ]
  },
  {
   "cell_type": "code",
   "execution_count": 262,
   "id": "548e05ca",
   "metadata": {},
   "outputs": [
    {
     "data": {
      "text/plain": [
       "0.21623955003721995"
      ]
     },
     "execution_count": 262,
     "metadata": {},
     "output_type": "execute_result"
    }
   ],
   "source": [
    "se.similarity(output['msms'][1], output['msms'][3], 'dot_product', ms2_da = 0.05, need_clean_spectra = True, need_normalize_result = True)"
   ]
  }
 ],
 "metadata": {
  "kernelspec": {
   "display_name": "Python 3.9 (tensorflow)",
   "language": "python",
   "name": "tensorflow"
  },
  "language_info": {
   "codemirror_mode": {
    "name": "ipython",
    "version": 3
   },
   "file_extension": ".py",
   "mimetype": "text/x-python",
   "name": "python",
   "nbconvert_exporter": "python",
   "pygments_lexer": "ipython3",
   "version": "3.9.10"
  }
 },
 "nbformat": 4,
 "nbformat_minor": 5
}